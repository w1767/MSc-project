{
  "nbformat": 4,
  "nbformat_minor": 5,
  "metadata": {
    "kernelspec": {
      "display_name": "Python 3 (ipykernel)",
      "language": "python",
      "name": "python3"
    },
    "language_info": {
      "codemirror_mode": {
        "name": "ipython",
        "version": 3
      },
      "file_extension": ".py",
      "mimetype": "text/x-python",
      "name": "python",
      "nbconvert_exporter": "python",
      "pygments_lexer": "ipython3",
      "version": "3.8.12"
    },
    "colab": {
      "name": "Final_VIX_Volatility_GARCH_MC_LSTM_SVM_RF_15_jan_2022.ipynb",
      "provenance": [],
      "collapsed_sections": [],
      "include_colab_link": true
    }
  },
  "cells": [
    {
      "cell_type": "markdown",
      "metadata": {
        "id": "view-in-github",
        "colab_type": "text"
      },
      "source": [
        "<a href=\"https://colab.research.google.com/github/w1767/MSc-project/blob/main/Final_VIX_Volatility_GARCH_MC_LSTM_SVM_RF_16_jan_2022.ipynb\" target=\"_parent\"><img src=\"https://colab.research.google.com/assets/colab-badge.svg\" alt=\"Open In Colab\"/></a>"
      ]
    },
    {
      "cell_type": "markdown",
      "metadata": {
        "id": "311504fd"
      },
      "source": [
        "# Stock Volatility Prediction Using GARCH, Monte Carlo, LSTM, SVM and Random Forest"
      ],
      "id": "311504fd"
    },
    {
      "cell_type": "code",
      "metadata": {
        "colab": {
          "base_uri": "https://localhost:8080/",
          "height": 418
        },
        "id": "vMTYX2xVnyFn",
        "outputId": "dff6b7d7-d47e-48ec-e92c-8fec84d50673"
      },
      "source": [
        "\n",
        "!pip install matplotlib==3.1.3\n"
      ],
      "id": "vMTYX2xVnyFn",
      "execution_count": 1,
      "outputs": [
        {
          "output_type": "stream",
          "name": "stdout",
          "text": [
            "Collecting matplotlib==3.1.3\n",
            "  Downloading matplotlib-3.1.3-cp37-cp37m-manylinux1_x86_64.whl (13.1 MB)\n",
            "\u001b[K     |████████████████████████████████| 13.1 MB 7.3 MB/s \n",
            "\u001b[?25hRequirement already satisfied: kiwisolver>=1.0.1 in /usr/local/lib/python3.7/dist-packages (from matplotlib==3.1.3) (1.3.2)\n",
            "Requirement already satisfied: numpy>=1.11 in /usr/local/lib/python3.7/dist-packages (from matplotlib==3.1.3) (1.19.5)\n",
            "Requirement already satisfied: python-dateutil>=2.1 in /usr/local/lib/python3.7/dist-packages (from matplotlib==3.1.3) (2.8.2)\n",
            "Requirement already satisfied: pyparsing!=2.0.4,!=2.1.2,!=2.1.6,>=2.0.1 in /usr/local/lib/python3.7/dist-packages (from matplotlib==3.1.3) (3.0.6)\n",
            "Requirement already satisfied: cycler>=0.10 in /usr/local/lib/python3.7/dist-packages (from matplotlib==3.1.3) (0.11.0)\n",
            "Requirement already satisfied: six>=1.5 in /usr/local/lib/python3.7/dist-packages (from python-dateutil>=2.1->matplotlib==3.1.3) (1.15.0)\n",
            "Installing collected packages: matplotlib\n",
            "  Attempting uninstall: matplotlib\n",
            "    Found existing installation: matplotlib 3.2.2\n",
            "    Uninstalling matplotlib-3.2.2:\n",
            "      Successfully uninstalled matplotlib-3.2.2\n",
            "\u001b[31mERROR: pip's dependency resolver does not currently take into account all the packages that are installed. This behaviour is the source of the following dependency conflicts.\n",
            "albumentations 0.1.12 requires imgaug<0.2.7,>=0.2.5, but you have imgaug 0.2.9 which is incompatible.\u001b[0m\n",
            "Successfully installed matplotlib-3.1.3\n"
          ]
        },
        {
          "output_type": "display_data",
          "data": {
            "application/vnd.colab-display-data+json": {
              "pip_warning": {
                "packages": [
                  "matplotlib",
                  "mpl_toolkits"
                ]
              }
            }
          },
          "metadata": {}
        }
      ]
    },
    {
      "cell_type": "code",
      "metadata": {
        "colab": {
          "base_uri": "https://localhost:8080/",
          "height": 17
        },
        "id": "yMZTgmXYnx2n",
        "outputId": "3075170d-12ca-42c3-ba76-34bccc6af57f"
      },
      "source": [
        "%%HTML\n",
        "<style type=\"text/css\">\n",
        "table.dataframe td, table.dataframe th {\n",
        "    border: 1px  black solid !important;\n",
        "  color: black !important;\n",
        "}\n",
        "</style>"
      ],
      "id": "yMZTgmXYnx2n",
      "execution_count": 2,
      "outputs": [
        {
          "output_type": "display_data",
          "data": {
            "text/html": [
              "<style type=\"text/css\">\n",
              "table.dataframe td, table.dataframe th {\n",
              "    border: 1px  black solid !important;\n",
              "  color: black !important;\n",
              "}\n",
              "</style>"
            ],
            "text/plain": [
              "<IPython.core.display.HTML object>"
            ]
          },
          "metadata": {}
        }
      ]
    },
    {
      "cell_type": "code",
      "metadata": {
        "colab": {
          "base_uri": "https://localhost:8080/"
        },
        "id": "5cf71acb",
        "outputId": "b69bb0cf-b489-4204-88c0-1f0499ee1ca6"
      },
      "source": [
        "!pip install arch\n",
        "!pip install tensor\n",
        "!pip install tensorflow\n",
        "!pip install statsmodels\n",
        "!pip install keras\n",
        "!pip install sklearn\n",
        "import tensorflow\n",
        "import keras\n",
        "import sklearn\n",
        "from pathlib import Path\n",
        "from datetime import datetime, timedelta\n",
        "import datetime as dt\n",
        "import pandas as pd\n",
        "import matplotlib.pyplot as plt\n",
        "%matplotlib inline\n",
        "from matplotlib import style\n",
        "from arch import arch_model\n",
        "from sklearn.svm import SVR\n",
        "from sklearn.model_selection import GridSearchCV\n",
        "from sklearn import metrics\n",
        "from statsmodels.graphics.tsaplots import plot_acf, plot_pacf\n",
        "import numpy as np\n",
        "import os\n",
        "import glob\n",
        "import csv\n",
        "from statsmodels.tsa.stattools import adfuller\n",
        "import warnings\n",
        "warnings.filterwarnings(\"ignore\")\n",
        "from keras.models import Sequential\n",
        "from keras.layers import Dense\n",
        "from keras.layers import LSTM\n",
        "from keras.layers import Dropout\n",
        "from sklearn.ensemble import RandomForestRegressor\n",
        "from keras.wrappers.scikit_learn import KerasRegressor\n",
        "from keras.models import load_model\n",
        "from sklearn import metrics\n",
        "from sklearn.metrics import mean_absolute_error as MAE\n",
        "from sklearn.metrics import mean_absolute_percentage_error"
      ],
      "id": "5cf71acb",
      "execution_count": 3,
      "outputs": [
        {
          "output_type": "stream",
          "name": "stdout",
          "text": [
            "Collecting arch\n",
            "  Downloading arch-5.1.0-cp37-cp37m-manylinux_2_17_x86_64.manylinux2014_x86_64.whl (902 kB)\n",
            "\u001b[?25l\r\u001b[K     |▍                               | 10 kB 32.2 MB/s eta 0:00:01\r\u001b[K     |▊                               | 20 kB 34.9 MB/s eta 0:00:01\r\u001b[K     |█                               | 30 kB 21.6 MB/s eta 0:00:01\r\u001b[K     |█▌                              | 40 kB 17.3 MB/s eta 0:00:01\r\u001b[K     |█▉                              | 51 kB 8.2 MB/s eta 0:00:01\r\u001b[K     |██▏                             | 61 kB 9.2 MB/s eta 0:00:01\r\u001b[K     |██▌                             | 71 kB 7.9 MB/s eta 0:00:01\r\u001b[K     |███                             | 81 kB 8.8 MB/s eta 0:00:01\r\u001b[K     |███▎                            | 92 kB 8.4 MB/s eta 0:00:01\r\u001b[K     |███▋                            | 102 kB 7.4 MB/s eta 0:00:01\r\u001b[K     |████                            | 112 kB 7.4 MB/s eta 0:00:01\r\u001b[K     |████▍                           | 122 kB 7.4 MB/s eta 0:00:01\r\u001b[K     |████▊                           | 133 kB 7.4 MB/s eta 0:00:01\r\u001b[K     |█████                           | 143 kB 7.4 MB/s eta 0:00:01\r\u001b[K     |█████▌                          | 153 kB 7.4 MB/s eta 0:00:01\r\u001b[K     |█████▉                          | 163 kB 7.4 MB/s eta 0:00:01\r\u001b[K     |██████▏                         | 174 kB 7.4 MB/s eta 0:00:01\r\u001b[K     |██████▌                         | 184 kB 7.4 MB/s eta 0:00:01\r\u001b[K     |███████                         | 194 kB 7.4 MB/s eta 0:00:01\r\u001b[K     |███████▎                        | 204 kB 7.4 MB/s eta 0:00:01\r\u001b[K     |███████▋                        | 215 kB 7.4 MB/s eta 0:00:01\r\u001b[K     |████████                        | 225 kB 7.4 MB/s eta 0:00:01\r\u001b[K     |████████▍                       | 235 kB 7.4 MB/s eta 0:00:01\r\u001b[K     |████████▊                       | 245 kB 7.4 MB/s eta 0:00:01\r\u001b[K     |█████████                       | 256 kB 7.4 MB/s eta 0:00:01\r\u001b[K     |█████████▍                      | 266 kB 7.4 MB/s eta 0:00:01\r\u001b[K     |█████████▉                      | 276 kB 7.4 MB/s eta 0:00:01\r\u001b[K     |██████████▏                     | 286 kB 7.4 MB/s eta 0:00:01\r\u001b[K     |██████████▌                     | 296 kB 7.4 MB/s eta 0:00:01\r\u001b[K     |███████████                     | 307 kB 7.4 MB/s eta 0:00:01\r\u001b[K     |███████████▎                    | 317 kB 7.4 MB/s eta 0:00:01\r\u001b[K     |███████████▋                    | 327 kB 7.4 MB/s eta 0:00:01\r\u001b[K     |████████████                    | 337 kB 7.4 MB/s eta 0:00:01\r\u001b[K     |████████████▍                   | 348 kB 7.4 MB/s eta 0:00:01\r\u001b[K     |████████████▊                   | 358 kB 7.4 MB/s eta 0:00:01\r\u001b[K     |█████████████                   | 368 kB 7.4 MB/s eta 0:00:01\r\u001b[K     |█████████████▍                  | 378 kB 7.4 MB/s eta 0:00:01\r\u001b[K     |█████████████▉                  | 389 kB 7.4 MB/s eta 0:00:01\r\u001b[K     |██████████████▏                 | 399 kB 7.4 MB/s eta 0:00:01\r\u001b[K     |██████████████▌                 | 409 kB 7.4 MB/s eta 0:00:01\r\u001b[K     |██████████████▉                 | 419 kB 7.4 MB/s eta 0:00:01\r\u001b[K     |███████████████▎                | 430 kB 7.4 MB/s eta 0:00:01\r\u001b[K     |███████████████▋                | 440 kB 7.4 MB/s eta 0:00:01\r\u001b[K     |████████████████                | 450 kB 7.4 MB/s eta 0:00:01\r\u001b[K     |████████████████▍               | 460 kB 7.4 MB/s eta 0:00:01\r\u001b[K     |████████████████▊               | 471 kB 7.4 MB/s eta 0:00:01\r\u001b[K     |█████████████████               | 481 kB 7.4 MB/s eta 0:00:01\r\u001b[K     |█████████████████▍              | 491 kB 7.4 MB/s eta 0:00:01\r\u001b[K     |█████████████████▉              | 501 kB 7.4 MB/s eta 0:00:01\r\u001b[K     |██████████████████▏             | 512 kB 7.4 MB/s eta 0:00:01\r\u001b[K     |██████████████████▌             | 522 kB 7.4 MB/s eta 0:00:01\r\u001b[K     |██████████████████▉             | 532 kB 7.4 MB/s eta 0:00:01\r\u001b[K     |███████████████████▎            | 542 kB 7.4 MB/s eta 0:00:01\r\u001b[K     |███████████████████▋            | 552 kB 7.4 MB/s eta 0:00:01\r\u001b[K     |████████████████████            | 563 kB 7.4 MB/s eta 0:00:01\r\u001b[K     |████████████████████▎           | 573 kB 7.4 MB/s eta 0:00:01\r\u001b[K     |████████████████████▊           | 583 kB 7.4 MB/s eta 0:00:01\r\u001b[K     |█████████████████████           | 593 kB 7.4 MB/s eta 0:00:01\r\u001b[K     |█████████████████████▍          | 604 kB 7.4 MB/s eta 0:00:01\r\u001b[K     |█████████████████████▉          | 614 kB 7.4 MB/s eta 0:00:01\r\u001b[K     |██████████████████████▏         | 624 kB 7.4 MB/s eta 0:00:01\r\u001b[K     |██████████████████████▌         | 634 kB 7.4 MB/s eta 0:00:01\r\u001b[K     |██████████████████████▉         | 645 kB 7.4 MB/s eta 0:00:01\r\u001b[K     |███████████████████████▎        | 655 kB 7.4 MB/s eta 0:00:01\r\u001b[K     |███████████████████████▋        | 665 kB 7.4 MB/s eta 0:00:01\r\u001b[K     |████████████████████████        | 675 kB 7.4 MB/s eta 0:00:01\r\u001b[K     |████████████████████████▎       | 686 kB 7.4 MB/s eta 0:00:01\r\u001b[K     |████████████████████████▊       | 696 kB 7.4 MB/s eta 0:00:01\r\u001b[K     |█████████████████████████       | 706 kB 7.4 MB/s eta 0:00:01\r\u001b[K     |█████████████████████████▍      | 716 kB 7.4 MB/s eta 0:00:01\r\u001b[K     |█████████████████████████▉      | 727 kB 7.4 MB/s eta 0:00:01\r\u001b[K     |██████████████████████████▏     | 737 kB 7.4 MB/s eta 0:00:01\r\u001b[K     |██████████████████████████▌     | 747 kB 7.4 MB/s eta 0:00:01\r\u001b[K     |██████████████████████████▉     | 757 kB 7.4 MB/s eta 0:00:01\r\u001b[K     |███████████████████████████▎    | 768 kB 7.4 MB/s eta 0:00:01\r\u001b[K     |███████████████████████████▋    | 778 kB 7.4 MB/s eta 0:00:01\r\u001b[K     |████████████████████████████    | 788 kB 7.4 MB/s eta 0:00:01\r\u001b[K     |████████████████████████████▎   | 798 kB 7.4 MB/s eta 0:00:01\r\u001b[K     |████████████████████████████▊   | 808 kB 7.4 MB/s eta 0:00:01\r\u001b[K     |█████████████████████████████   | 819 kB 7.4 MB/s eta 0:00:01\r\u001b[K     |█████████████████████████████▍  | 829 kB 7.4 MB/s eta 0:00:01\r\u001b[K     |█████████████████████████████▊  | 839 kB 7.4 MB/s eta 0:00:01\r\u001b[K     |██████████████████████████████▏ | 849 kB 7.4 MB/s eta 0:00:01\r\u001b[K     |██████████████████████████████▌ | 860 kB 7.4 MB/s eta 0:00:01\r\u001b[K     |██████████████████████████████▉ | 870 kB 7.4 MB/s eta 0:00:01\r\u001b[K     |███████████████████████████████▎| 880 kB 7.4 MB/s eta 0:00:01\r\u001b[K     |███████████████████████████████▋| 890 kB 7.4 MB/s eta 0:00:01\r\u001b[K     |████████████████████████████████| 901 kB 7.4 MB/s eta 0:00:01\r\u001b[K     |████████████████████████████████| 902 kB 7.4 MB/s \n",
            "\u001b[?25hCollecting statsmodels>=0.11\n",
            "  Downloading statsmodels-0.13.1-cp37-cp37m-manylinux_2_17_x86_64.manylinux2014_x86_64.whl (9.8 MB)\n",
            "\u001b[K     |████████████████████████████████| 9.8 MB 49.8 MB/s \n",
            "\u001b[?25hRequirement already satisfied: pandas>=1.0 in /usr/local/lib/python3.7/dist-packages (from arch) (1.1.5)\n",
            "Requirement already satisfied: numpy>=1.17 in /usr/local/lib/python3.7/dist-packages (from arch) (1.19.5)\n",
            "Requirement already satisfied: scipy>=1.3 in /usr/local/lib/python3.7/dist-packages (from arch) (1.4.1)\n",
            "Collecting property-cached>=1.6.4\n",
            "  Downloading property_cached-1.6.4-py2.py3-none-any.whl (7.8 kB)\n",
            "Requirement already satisfied: pytz>=2017.2 in /usr/local/lib/python3.7/dist-packages (from pandas>=1.0->arch) (2018.9)\n",
            "Requirement already satisfied: python-dateutil>=2.7.3 in /usr/local/lib/python3.7/dist-packages (from pandas>=1.0->arch) (2.8.2)\n",
            "Requirement already satisfied: six>=1.5 in /usr/local/lib/python3.7/dist-packages (from python-dateutil>=2.7.3->pandas>=1.0->arch) (1.15.0)\n",
            "Requirement already satisfied: patsy>=0.5.2 in /usr/local/lib/python3.7/dist-packages (from statsmodels>=0.11->arch) (0.5.2)\n",
            "Installing collected packages: statsmodels, property-cached, arch\n",
            "  Attempting uninstall: statsmodels\n",
            "    Found existing installation: statsmodels 0.10.2\n",
            "    Uninstalling statsmodels-0.10.2:\n",
            "      Successfully uninstalled statsmodels-0.10.2\n",
            "Successfully installed arch-5.1.0 property-cached-1.6.4 statsmodels-0.13.1\n",
            "Collecting tensor\n",
            "  Downloading tensor-0.3.6.tar.gz (50 kB)\n",
            "\u001b[K     |████████████████████████████████| 50 kB 4.0 MB/s \n",
            "\u001b[?25hCollecting Twisted\n",
            "  Downloading Twisted-21.7.0-py3-none-any.whl (3.1 MB)\n",
            "\u001b[K     |████████████████████████████████| 3.1 MB 14.9 MB/s \n",
            "\u001b[?25hRequirement already satisfied: PyYaml in /usr/local/lib/python3.7/dist-packages (from tensor) (3.13)\n",
            "Requirement already satisfied: protobuf in /usr/local/lib/python3.7/dist-packages (from tensor) (3.17.3)\n",
            "Collecting construct\n",
            "  Downloading construct-2.10.67.tar.gz (57 kB)\n",
            "\u001b[K     |████████████████████████████████| 57 kB 6.9 MB/s \n",
            "\u001b[?25hCollecting pysnmp\n",
            "  Downloading pysnmp-4.4.12-py2.py3-none-any.whl (296 kB)\n",
            "\u001b[K     |████████████████████████████████| 296 kB 77.9 MB/s \n",
            "\u001b[?25hRequirement already satisfied: six>=1.9 in /usr/local/lib/python3.7/dist-packages (from protobuf->tensor) (1.15.0)\n",
            "Collecting pysmi\n",
            "  Downloading pysmi-0.3.4-py2.py3-none-any.whl (80 kB)\n",
            "\u001b[K     |████████████████████████████████| 80 kB 10.3 MB/s \n",
            "\u001b[?25hRequirement already satisfied: pyasn1>=0.2.3 in /usr/local/lib/python3.7/dist-packages (from pysnmp->tensor) (0.4.8)\n",
            "Collecting pycryptodomex\n",
            "  Downloading pycryptodomex-3.12.0-cp35-abi3-manylinux2010_x86_64.whl (2.0 MB)\n",
            "\u001b[K     |████████████████████████████████| 2.0 MB 43.5 MB/s \n",
            "\u001b[?25hCollecting ply\n",
            "  Downloading ply-3.11-py2.py3-none-any.whl (49 kB)\n",
            "\u001b[K     |████████████████████████████████| 49 kB 7.1 MB/s \n",
            "\u001b[?25hRequirement already satisfied: attrs>=19.2.0 in /usr/local/lib/python3.7/dist-packages (from Twisted->tensor) (21.2.0)\n",
            "Collecting incremental>=21.3.0\n",
            "  Downloading incremental-21.3.0-py2.py3-none-any.whl (15 kB)\n",
            "Requirement already satisfied: typing-extensions>=3.6.5 in /usr/local/lib/python3.7/dist-packages (from Twisted->tensor) (3.10.0.2)\n",
            "Collecting hyperlink>=17.1.1\n",
            "  Downloading hyperlink-21.0.0-py2.py3-none-any.whl (74 kB)\n",
            "\u001b[K     |████████████████████████████████| 74 kB 4.6 MB/s \n",
            "\u001b[?25hCollecting constantly>=15.1\n",
            "  Downloading constantly-15.1.0-py2.py3-none-any.whl (7.9 kB)\n",
            "Collecting zope.interface>=4.4.2\n",
            "  Downloading zope.interface-5.4.0-cp37-cp37m-manylinux2010_x86_64.whl (251 kB)\n",
            "\u001b[K     |████████████████████████████████| 251 kB 65.0 MB/s \n",
            "\u001b[?25hCollecting Automat>=0.8.0\n",
            "  Downloading Automat-20.2.0-py2.py3-none-any.whl (31 kB)\n",
            "Requirement already satisfied: idna>=2.5 in /usr/local/lib/python3.7/dist-packages (from hyperlink>=17.1.1->Twisted->tensor) (2.10)\n",
            "Requirement already satisfied: setuptools in /usr/local/lib/python3.7/dist-packages (from zope.interface>=4.4.2->Twisted->tensor) (57.4.0)\n",
            "Building wheels for collected packages: tensor, construct\n",
            "  Building wheel for tensor (setup.py) ... \u001b[?25l\u001b[?25hdone\n",
            "  Created wheel for tensor: filename=tensor-0.3.6-py3-none-any.whl size=71568 sha256=cc3edda070b00b1dd835a9abe4faaa5aa0a12057ba4940182028795db0885963\n",
            "  Stored in directory: /root/.cache/pip/wheels/66/49/9d/4c43e89065768fec7ab631d87d9ac21d619b6b0b3d45de1714\n",
            "  Building wheel for construct (setup.py) ... \u001b[?25l\u001b[?25hdone\n",
            "  Created wheel for construct: filename=construct-2.10.67-py3-none-any.whl size=59053 sha256=03dce8cac2ff230ae6b73fd8d20b5794b8b59bdd391ec6757144b179f019925c\n",
            "  Stored in directory: /root/.cache/pip/wheels/d1/06/5d/727e9a49d1f306661bbaa5b1b9aa91a8207e53e4c5e5b7f361\n",
            "Successfully built tensor construct\n",
            "Installing collected packages: ply, zope.interface, pysmi, pycryptodomex, incremental, hyperlink, constantly, Automat, Twisted, pysnmp, construct, tensor\n",
            "Successfully installed Automat-20.2.0 Twisted-21.7.0 constantly-15.1.0 construct-2.10.67 hyperlink-21.0.0 incremental-21.3.0 ply-3.11 pycryptodomex-3.12.0 pysmi-0.3.4 pysnmp-4.4.12 tensor-0.3.6 zope.interface-5.4.0\n",
            "Requirement already satisfied: tensorflow in /usr/local/lib/python3.7/dist-packages (2.7.0)\n",
            "Requirement already satisfied: tensorflow-io-gcs-filesystem>=0.21.0 in /usr/local/lib/python3.7/dist-packages (from tensorflow) (0.22.0)\n",
            "Requirement already satisfied: flatbuffers<3.0,>=1.12 in /usr/local/lib/python3.7/dist-packages (from tensorflow) (2.0)\n",
            "Requirement already satisfied: tensorflow-estimator<2.8,~=2.7.0rc0 in /usr/local/lib/python3.7/dist-packages (from tensorflow) (2.7.0)\n",
            "Requirement already satisfied: keras<2.8,>=2.7.0rc0 in /usr/local/lib/python3.7/dist-packages (from tensorflow) (2.7.0)\n",
            "Requirement already satisfied: google-pasta>=0.1.1 in /usr/local/lib/python3.7/dist-packages (from tensorflow) (0.2.0)\n",
            "Requirement already satisfied: tensorboard~=2.6 in /usr/local/lib/python3.7/dist-packages (from tensorflow) (2.7.0)\n",
            "Requirement already satisfied: absl-py>=0.4.0 in /usr/local/lib/python3.7/dist-packages (from tensorflow) (0.12.0)\n",
            "Requirement already satisfied: wheel<1.0,>=0.32.0 in /usr/local/lib/python3.7/dist-packages (from tensorflow) (0.37.0)\n",
            "Requirement already satisfied: numpy>=1.14.5 in /usr/local/lib/python3.7/dist-packages (from tensorflow) (1.19.5)\n",
            "Requirement already satisfied: astunparse>=1.6.0 in /usr/local/lib/python3.7/dist-packages (from tensorflow) (1.6.3)\n",
            "Requirement already satisfied: grpcio<2.0,>=1.24.3 in /usr/local/lib/python3.7/dist-packages (from tensorflow) (1.42.0)\n",
            "Requirement already satisfied: protobuf>=3.9.2 in /usr/local/lib/python3.7/dist-packages (from tensorflow) (3.17.3)\n",
            "Requirement already satisfied: opt-einsum>=2.3.2 in /usr/local/lib/python3.7/dist-packages (from tensorflow) (3.3.0)\n",
            "Requirement already satisfied: termcolor>=1.1.0 in /usr/local/lib/python3.7/dist-packages (from tensorflow) (1.1.0)\n",
            "Requirement already satisfied: typing-extensions>=3.6.6 in /usr/local/lib/python3.7/dist-packages (from tensorflow) (3.10.0.2)\n",
            "Requirement already satisfied: six>=1.12.0 in /usr/local/lib/python3.7/dist-packages (from tensorflow) (1.15.0)\n",
            "Requirement already satisfied: libclang>=9.0.1 in /usr/local/lib/python3.7/dist-packages (from tensorflow) (12.0.0)\n",
            "Requirement already satisfied: keras-preprocessing>=1.1.1 in /usr/local/lib/python3.7/dist-packages (from tensorflow) (1.1.2)\n",
            "Requirement already satisfied: gast<0.5.0,>=0.2.1 in /usr/local/lib/python3.7/dist-packages (from tensorflow) (0.4.0)\n",
            "Requirement already satisfied: h5py>=2.9.0 in /usr/local/lib/python3.7/dist-packages (from tensorflow) (3.1.0)\n",
            "Requirement already satisfied: wrapt>=1.11.0 in /usr/local/lib/python3.7/dist-packages (from tensorflow) (1.13.3)\n",
            "Requirement already satisfied: cached-property in /usr/local/lib/python3.7/dist-packages (from h5py>=2.9.0->tensorflow) (1.5.2)\n",
            "Requirement already satisfied: requests<3,>=2.21.0 in /usr/local/lib/python3.7/dist-packages (from tensorboard~=2.6->tensorflow) (2.23.0)\n",
            "Requirement already satisfied: tensorboard-data-server<0.7.0,>=0.6.0 in /usr/local/lib/python3.7/dist-packages (from tensorboard~=2.6->tensorflow) (0.6.1)\n",
            "Requirement already satisfied: werkzeug>=0.11.15 in /usr/local/lib/python3.7/dist-packages (from tensorboard~=2.6->tensorflow) (1.0.1)\n",
            "Requirement already satisfied: tensorboard-plugin-wit>=1.6.0 in /usr/local/lib/python3.7/dist-packages (from tensorboard~=2.6->tensorflow) (1.8.0)\n",
            "Requirement already satisfied: markdown>=2.6.8 in /usr/local/lib/python3.7/dist-packages (from tensorboard~=2.6->tensorflow) (3.3.6)\n",
            "Requirement already satisfied: setuptools>=41.0.0 in /usr/local/lib/python3.7/dist-packages (from tensorboard~=2.6->tensorflow) (57.4.0)\n",
            "Requirement already satisfied: google-auth-oauthlib<0.5,>=0.4.1 in /usr/local/lib/python3.7/dist-packages (from tensorboard~=2.6->tensorflow) (0.4.6)\n",
            "Requirement already satisfied: google-auth<3,>=1.6.3 in /usr/local/lib/python3.7/dist-packages (from tensorboard~=2.6->tensorflow) (1.35.0)\n",
            "Requirement already satisfied: pyasn1-modules>=0.2.1 in /usr/local/lib/python3.7/dist-packages (from google-auth<3,>=1.6.3->tensorboard~=2.6->tensorflow) (0.2.8)\n",
            "Requirement already satisfied: rsa<5,>=3.1.4 in /usr/local/lib/python3.7/dist-packages (from google-auth<3,>=1.6.3->tensorboard~=2.6->tensorflow) (4.8)\n",
            "Requirement already satisfied: cachetools<5.0,>=2.0.0 in /usr/local/lib/python3.7/dist-packages (from google-auth<3,>=1.6.3->tensorboard~=2.6->tensorflow) (4.2.4)\n",
            "Requirement already satisfied: requests-oauthlib>=0.7.0 in /usr/local/lib/python3.7/dist-packages (from google-auth-oauthlib<0.5,>=0.4.1->tensorboard~=2.6->tensorflow) (1.3.0)\n",
            "Requirement already satisfied: importlib-metadata>=4.4 in /usr/local/lib/python3.7/dist-packages (from markdown>=2.6.8->tensorboard~=2.6->tensorflow) (4.8.2)\n",
            "Requirement already satisfied: zipp>=0.5 in /usr/local/lib/python3.7/dist-packages (from importlib-metadata>=4.4->markdown>=2.6.8->tensorboard~=2.6->tensorflow) (3.6.0)\n",
            "Requirement already satisfied: pyasn1<0.5.0,>=0.4.6 in /usr/local/lib/python3.7/dist-packages (from pyasn1-modules>=0.2.1->google-auth<3,>=1.6.3->tensorboard~=2.6->tensorflow) (0.4.8)\n",
            "Requirement already satisfied: urllib3!=1.25.0,!=1.25.1,<1.26,>=1.21.1 in /usr/local/lib/python3.7/dist-packages (from requests<3,>=2.21.0->tensorboard~=2.6->tensorflow) (1.24.3)\n",
            "Requirement already satisfied: idna<3,>=2.5 in /usr/local/lib/python3.7/dist-packages (from requests<3,>=2.21.0->tensorboard~=2.6->tensorflow) (2.10)\n",
            "Requirement already satisfied: chardet<4,>=3.0.2 in /usr/local/lib/python3.7/dist-packages (from requests<3,>=2.21.0->tensorboard~=2.6->tensorflow) (3.0.4)\n",
            "Requirement already satisfied: certifi>=2017.4.17 in /usr/local/lib/python3.7/dist-packages (from requests<3,>=2.21.0->tensorboard~=2.6->tensorflow) (2021.10.8)\n",
            "Requirement already satisfied: oauthlib>=3.0.0 in /usr/local/lib/python3.7/dist-packages (from requests-oauthlib>=0.7.0->google-auth-oauthlib<0.5,>=0.4.1->tensorboard~=2.6->tensorflow) (3.1.1)\n",
            "Requirement already satisfied: statsmodels in /usr/local/lib/python3.7/dist-packages (0.13.1)\n",
            "Requirement already satisfied: scipy>=1.3 in /usr/local/lib/python3.7/dist-packages (from statsmodels) (1.4.1)\n",
            "Requirement already satisfied: numpy>=1.17 in /usr/local/lib/python3.7/dist-packages (from statsmodels) (1.19.5)\n",
            "Requirement already satisfied: patsy>=0.5.2 in /usr/local/lib/python3.7/dist-packages (from statsmodels) (0.5.2)\n",
            "Requirement already satisfied: pandas>=0.25 in /usr/local/lib/python3.7/dist-packages (from statsmodels) (1.1.5)\n",
            "Requirement already satisfied: pytz>=2017.2 in /usr/local/lib/python3.7/dist-packages (from pandas>=0.25->statsmodels) (2018.9)\n",
            "Requirement already satisfied: python-dateutil>=2.7.3 in /usr/local/lib/python3.7/dist-packages (from pandas>=0.25->statsmodels) (2.8.2)\n",
            "Requirement already satisfied: six in /usr/local/lib/python3.7/dist-packages (from patsy>=0.5.2->statsmodels) (1.15.0)\n",
            "Requirement already satisfied: keras in /usr/local/lib/python3.7/dist-packages (2.7.0)\n",
            "Requirement already satisfied: sklearn in /usr/local/lib/python3.7/dist-packages (0.0)\n",
            "Requirement already satisfied: scikit-learn in /usr/local/lib/python3.7/dist-packages (from sklearn) (1.0.1)\n",
            "Requirement already satisfied: threadpoolctl>=2.0.0 in /usr/local/lib/python3.7/dist-packages (from scikit-learn->sklearn) (3.0.0)\n",
            "Requirement already satisfied: numpy>=1.14.6 in /usr/local/lib/python3.7/dist-packages (from scikit-learn->sklearn) (1.19.5)\n",
            "Requirement already satisfied: joblib>=0.11 in /usr/local/lib/python3.7/dist-packages (from scikit-learn->sklearn) (1.1.0)\n",
            "Requirement already satisfied: scipy>=1.1.0 in /usr/local/lib/python3.7/dist-packages (from scikit-learn->sklearn) (1.4.1)\n"
          ]
        }
      ]
    },
    {
      "cell_type": "markdown",
      "metadata": {
        "id": "7db737b2"
      },
      "source": [
        "### Reading the dataset from your local directory"
      ],
      "id": "7db737b2"
    },
    {
      "cell_type": "code",
      "metadata": {
        "id": "eb503279"
      },
      "source": [
        "#os.chdir('D:\\GU_Project') "
      ],
      "id": "eb503279",
      "execution_count": 4,
      "outputs": []
    },
    {
      "cell_type": "code",
      "metadata": {
        "colab": {
          "base_uri": "https://localhost:8080/"
        },
        "id": "rcavily1_u1I",
        "outputId": "b570c218-5416-44da-9a92-9624d25cb3e7"
      },
      "source": [
        "from google.colab import drive\n",
        "drive.mount('/content/drive')"
      ],
      "id": "rcavily1_u1I",
      "execution_count": 5,
      "outputs": [
        {
          "output_type": "stream",
          "name": "stdout",
          "text": [
            "Mounted at /content/drive\n"
          ]
        }
      ]
    },
    {
      "cell_type": "code",
      "metadata": {
        "id": "fYoQloo5Ao4I"
      },
      "source": [
        "path = \"/content/drive/MyDrive/Master thesis/VIX.csv\""
      ],
      "id": "fYoQloo5Ao4I",
      "execution_count": 6,
      "outputs": []
    },
    {
      "cell_type": "code",
      "metadata": {
        "id": "5bd973fe"
      },
      "source": [
        "VI_db=pd.read_csv(\"/content/drive/MyDrive/Master thesis/VIX.csv\")"
      ],
      "id": "5bd973fe",
      "execution_count": 7,
      "outputs": []
    },
    {
      "cell_type": "code",
      "metadata": {
        "colab": {
          "base_uri": "https://localhost:8080/",
          "height": 424
        },
        "id": "af250f0a",
        "outputId": "768e31ad-fcf7-4afe-b52b-09611f741505"
      },
      "source": [
        "VI_db"
      ],
      "id": "af250f0a",
      "execution_count": 8,
      "outputs": [
        {
          "output_type": "execute_result",
          "data": {
            "text/html": [
              "\n",
              "  <div id=\"df-c5df1b7a-78bc-4214-959f-ba8e567d2a91\">\n",
              "    <div class=\"colab-df-container\">\n",
              "      <div>\n",
              "<style scoped>\n",
              "    .dataframe tbody tr th:only-of-type {\n",
              "        vertical-align: middle;\n",
              "    }\n",
              "\n",
              "    .dataframe tbody tr th {\n",
              "        vertical-align: top;\n",
              "    }\n",
              "\n",
              "    .dataframe thead th {\n",
              "        text-align: right;\n",
              "    }\n",
              "</style>\n",
              "<table border=\"1\" class=\"dataframe\">\n",
              "  <thead>\n",
              "    <tr style=\"text-align: right;\">\n",
              "      <th></th>\n",
              "      <th>Date</th>\n",
              "      <th>Open</th>\n",
              "      <th>High</th>\n",
              "      <th>Low</th>\n",
              "      <th>Close</th>\n",
              "      <th>Adj Close</th>\n",
              "      <th>Volume</th>\n",
              "    </tr>\n",
              "  </thead>\n",
              "  <tbody>\n",
              "    <tr>\n",
              "      <th>0</th>\n",
              "      <td>02/01/1990</td>\n",
              "      <td>17.240000</td>\n",
              "      <td>17.240000</td>\n",
              "      <td>17.240000</td>\n",
              "      <td>17.240000</td>\n",
              "      <td>17.240000</td>\n",
              "      <td>0</td>\n",
              "    </tr>\n",
              "    <tr>\n",
              "      <th>1</th>\n",
              "      <td>03/01/1990</td>\n",
              "      <td>18.190001</td>\n",
              "      <td>18.190001</td>\n",
              "      <td>18.190001</td>\n",
              "      <td>18.190001</td>\n",
              "      <td>18.190001</td>\n",
              "      <td>0</td>\n",
              "    </tr>\n",
              "    <tr>\n",
              "      <th>2</th>\n",
              "      <td>04/01/1990</td>\n",
              "      <td>19.219999</td>\n",
              "      <td>19.219999</td>\n",
              "      <td>19.219999</td>\n",
              "      <td>19.219999</td>\n",
              "      <td>19.219999</td>\n",
              "      <td>0</td>\n",
              "    </tr>\n",
              "    <tr>\n",
              "      <th>3</th>\n",
              "      <td>05/01/1990</td>\n",
              "      <td>20.110001</td>\n",
              "      <td>20.110001</td>\n",
              "      <td>20.110001</td>\n",
              "      <td>20.110001</td>\n",
              "      <td>20.110001</td>\n",
              "      <td>0</td>\n",
              "    </tr>\n",
              "    <tr>\n",
              "      <th>4</th>\n",
              "      <td>08/01/1990</td>\n",
              "      <td>20.260000</td>\n",
              "      <td>20.260000</td>\n",
              "      <td>20.260000</td>\n",
              "      <td>20.260000</td>\n",
              "      <td>20.260000</td>\n",
              "      <td>0</td>\n",
              "    </tr>\n",
              "    <tr>\n",
              "      <th>...</th>\n",
              "      <td>...</td>\n",
              "      <td>...</td>\n",
              "      <td>...</td>\n",
              "      <td>...</td>\n",
              "      <td>...</td>\n",
              "      <td>...</td>\n",
              "      <td>...</td>\n",
              "    </tr>\n",
              "    <tr>\n",
              "      <th>7929</th>\n",
              "      <td>22/06/2021</td>\n",
              "      <td>17.910000</td>\n",
              "      <td>18.320000</td>\n",
              "      <td>15.760000</td>\n",
              "      <td>16.660000</td>\n",
              "      <td>16.660000</td>\n",
              "      <td>0</td>\n",
              "    </tr>\n",
              "    <tr>\n",
              "      <th>7930</th>\n",
              "      <td>23/06/2021</td>\n",
              "      <td>16.250000</td>\n",
              "      <td>16.840000</td>\n",
              "      <td>14.860000</td>\n",
              "      <td>16.320000</td>\n",
              "      <td>16.320000</td>\n",
              "      <td>0</td>\n",
              "    </tr>\n",
              "    <tr>\n",
              "      <th>7931</th>\n",
              "      <td>24/06/2021</td>\n",
              "      <td>15.990000</td>\n",
              "      <td>16.049999</td>\n",
              "      <td>14.190000</td>\n",
              "      <td>15.970000</td>\n",
              "      <td>15.970000</td>\n",
              "      <td>0</td>\n",
              "    </tr>\n",
              "    <tr>\n",
              "      <th>7932</th>\n",
              "      <td>25/06/2021</td>\n",
              "      <td>16.040001</td>\n",
              "      <td>16.170000</td>\n",
              "      <td>15.210000</td>\n",
              "      <td>15.620000</td>\n",
              "      <td>15.620000</td>\n",
              "      <td>0</td>\n",
              "    </tr>\n",
              "    <tr>\n",
              "      <th>7933</th>\n",
              "      <td>28/06/2021</td>\n",
              "      <td>16.070000</td>\n",
              "      <td>16.459999</td>\n",
              "      <td>15.390000</td>\n",
              "      <td>15.760000</td>\n",
              "      <td>15.760000</td>\n",
              "      <td>0</td>\n",
              "    </tr>\n",
              "  </tbody>\n",
              "</table>\n",
              "<p>7934 rows × 7 columns</p>\n",
              "</div>\n",
              "      <button class=\"colab-df-convert\" onclick=\"convertToInteractive('df-c5df1b7a-78bc-4214-959f-ba8e567d2a91')\"\n",
              "              title=\"Convert this dataframe to an interactive table.\"\n",
              "              style=\"display:none;\">\n",
              "        \n",
              "  <svg xmlns=\"http://www.w3.org/2000/svg\" height=\"24px\"viewBox=\"0 0 24 24\"\n",
              "       width=\"24px\">\n",
              "    <path d=\"M0 0h24v24H0V0z\" fill=\"none\"/>\n",
              "    <path d=\"M18.56 5.44l.94 2.06.94-2.06 2.06-.94-2.06-.94-.94-2.06-.94 2.06-2.06.94zm-11 1L8.5 8.5l.94-2.06 2.06-.94-2.06-.94L8.5 2.5l-.94 2.06-2.06.94zm10 10l.94 2.06.94-2.06 2.06-.94-2.06-.94-.94-2.06-.94 2.06-2.06.94z\"/><path d=\"M17.41 7.96l-1.37-1.37c-.4-.4-.92-.59-1.43-.59-.52 0-1.04.2-1.43.59L10.3 9.45l-7.72 7.72c-.78.78-.78 2.05 0 2.83L4 21.41c.39.39.9.59 1.41.59.51 0 1.02-.2 1.41-.59l7.78-7.78 2.81-2.81c.8-.78.8-2.07 0-2.86zM5.41 20L4 18.59l7.72-7.72 1.47 1.35L5.41 20z\"/>\n",
              "  </svg>\n",
              "      </button>\n",
              "      \n",
              "  <style>\n",
              "    .colab-df-container {\n",
              "      display:flex;\n",
              "      flex-wrap:wrap;\n",
              "      gap: 12px;\n",
              "    }\n",
              "\n",
              "    .colab-df-convert {\n",
              "      background-color: #E8F0FE;\n",
              "      border: none;\n",
              "      border-radius: 50%;\n",
              "      cursor: pointer;\n",
              "      display: none;\n",
              "      fill: #1967D2;\n",
              "      height: 32px;\n",
              "      padding: 0 0 0 0;\n",
              "      width: 32px;\n",
              "    }\n",
              "\n",
              "    .colab-df-convert:hover {\n",
              "      background-color: #E2EBFA;\n",
              "      box-shadow: 0px 1px 2px rgba(60, 64, 67, 0.3), 0px 1px 3px 1px rgba(60, 64, 67, 0.15);\n",
              "      fill: #174EA6;\n",
              "    }\n",
              "\n",
              "    [theme=dark] .colab-df-convert {\n",
              "      background-color: #3B4455;\n",
              "      fill: #D2E3FC;\n",
              "    }\n",
              "\n",
              "    [theme=dark] .colab-df-convert:hover {\n",
              "      background-color: #434B5C;\n",
              "      box-shadow: 0px 1px 3px 1px rgba(0, 0, 0, 0.15);\n",
              "      filter: drop-shadow(0px 1px 2px rgba(0, 0, 0, 0.3));\n",
              "      fill: #FFFFFF;\n",
              "    }\n",
              "  </style>\n",
              "\n",
              "      <script>\n",
              "        const buttonEl =\n",
              "          document.querySelector('#df-c5df1b7a-78bc-4214-959f-ba8e567d2a91 button.colab-df-convert');\n",
              "        buttonEl.style.display =\n",
              "          google.colab.kernel.accessAllowed ? 'block' : 'none';\n",
              "\n",
              "        async function convertToInteractive(key) {\n",
              "          const element = document.querySelector('#df-c5df1b7a-78bc-4214-959f-ba8e567d2a91');\n",
              "          const dataTable =\n",
              "            await google.colab.kernel.invokeFunction('convertToInteractive',\n",
              "                                                     [key], {});\n",
              "          if (!dataTable) return;\n",
              "\n",
              "          const docLinkHtml = 'Like what you see? Visit the ' +\n",
              "            '<a target=\"_blank\" href=https://colab.research.google.com/notebooks/data_table.ipynb>data table notebook</a>'\n",
              "            + ' to learn more about interactive tables.';\n",
              "          element.innerHTML = '';\n",
              "          dataTable['output_type'] = 'display_data';\n",
              "          await google.colab.output.renderOutput(dataTable, element);\n",
              "          const docLink = document.createElement('div');\n",
              "          docLink.innerHTML = docLinkHtml;\n",
              "          element.appendChild(docLink);\n",
              "        }\n",
              "      </script>\n",
              "    </div>\n",
              "  </div>\n",
              "  "
            ],
            "text/plain": [
              "            Date       Open       High        Low      Close  Adj Close  Volume\n",
              "0     02/01/1990  17.240000  17.240000  17.240000  17.240000  17.240000       0\n",
              "1     03/01/1990  18.190001  18.190001  18.190001  18.190001  18.190001       0\n",
              "2     04/01/1990  19.219999  19.219999  19.219999  19.219999  19.219999       0\n",
              "3     05/01/1990  20.110001  20.110001  20.110001  20.110001  20.110001       0\n",
              "4     08/01/1990  20.260000  20.260000  20.260000  20.260000  20.260000       0\n",
              "...          ...        ...        ...        ...        ...        ...     ...\n",
              "7929  22/06/2021  17.910000  18.320000  15.760000  16.660000  16.660000       0\n",
              "7930  23/06/2021  16.250000  16.840000  14.860000  16.320000  16.320000       0\n",
              "7931  24/06/2021  15.990000  16.049999  14.190000  15.970000  15.970000       0\n",
              "7932  25/06/2021  16.040001  16.170000  15.210000  15.620000  15.620000       0\n",
              "7933  28/06/2021  16.070000  16.459999  15.390000  15.760000  15.760000       0\n",
              "\n",
              "[7934 rows x 7 columns]"
            ]
          },
          "metadata": {},
          "execution_count": 8
        }
      ]
    },
    {
      "cell_type": "code",
      "source": [
        "import seaborn as sns\n",
        "# Checking the Missing Values\n",
        "sns.heatmap(VI_db.isnull(), yticklabels=False, cmap= \"viridis\")"
      ],
      "metadata": {
        "colab": {
          "base_uri": "https://localhost:8080/",
          "height": 323
        },
        "id": "eXD4IJ3nApQ-",
        "outputId": "6d90e80b-a642-4ad0-b894-860bf23189cc"
      },
      "id": "eXD4IJ3nApQ-",
      "execution_count": 9,
      "outputs": [
        {
          "output_type": "execute_result",
          "data": {
            "text/plain": [
              "<matplotlib.axes._subplots.AxesSubplot at 0x7f42387007d0>"
            ]
          },
          "metadata": {},
          "execution_count": 9
        },
        {
          "output_type": "display_data",
          "data": {
            "image/png": "[encoded data removed]",
            "text/plain": [
              "<Figure size 432x288 with 2 Axes>"
            ]
          },
          "metadata": {
            "needs_background": "light"
          }
        }
      ]
    },
    {
      "cell_type": "markdown",
      "metadata": {
        "id": "cdfd2e0a"
      },
      "source": [
        "### Data type formating of the required features "
      ],
      "id": "cdfd2e0a"
    },
    {
      "cell_type": "code",
      "metadata": {
        "id": "066aa0f1"
      },
      "source": [
        "VI_db['Date']= pd.to_datetime(VI_db['Date'])"
      ],
      "id": "066aa0f1",
      "execution_count": 10,
      "outputs": []
    },
    {
      "cell_type": "markdown",
      "metadata": {
        "id": "10e16074"
      },
      "source": [
        "### Features preparations"
      ],
      "id": "10e16074"
    },
    {
      "cell_type": "code",
      "metadata": {
        "id": "96be3745"
      },
      "source": [
        "VI_db['log_price'] = np.log(VI_db['Close'])"
      ],
      "id": "96be3745",
      "execution_count": 11,
      "outputs": []
    },
    {
      "cell_type": "code",
      "metadata": {
        "id": "6a103f4d"
      },
      "source": [
        "VI_db['pct_change'] = VI_db['log_price'].diff()"
      ],
      "id": "6a103f4d",
      "execution_count": 12,
      "outputs": []
    },
    {
      "cell_type": "code",
      "metadata": {
        "id": "3bb132f7"
      },
      "source": [
        "VI_db['stdev'] = VI_db['pct_change'].rolling(window=30, center=False).std()"
      ],
      "id": "3bb132f7",
      "execution_count": 13,
      "outputs": []
    },
    {
      "cell_type": "code",
      "metadata": {
        "id": "e30fc6b9"
      },
      "source": [
        "VI_db['Volatility'] = VI_db['stdev']*(252**0.5)"
      ],
      "id": "e30fc6b9",
      "execution_count": 14,
      "outputs": []
    },
    {
      "cell_type": "markdown",
      "metadata": {
        "id": "5a361a7c"
      },
      "source": [
        "### Display top 100 records"
      ],
      "id": "5a361a7c"
    },
    {
      "cell_type": "code",
      "metadata": {
        "colab": {
          "base_uri": "https://localhost:8080/",
          "height": 679
        },
        "id": "2c532ac4",
        "outputId": "fc3c4657-3945-4844-ef0f-82138c60ff5f"
      },
      "source": [
        "VI_db.head(100)"
      ],
      "id": "2c532ac4",
      "execution_count": 15,
      "outputs": [
        {
          "output_type": "execute_result",
          "data": {
            "text/html": [
              "\n",
              "  <div id=\"df-fa39f5b5-6248-4b41-921d-5ac710b13846\">\n",
              "    <div class=\"colab-df-container\">\n",
              "      <div>\n",
              "<style scoped>\n",
              "    .dataframe tbody tr th:only-of-type {\n",
              "        vertical-align: middle;\n",
              "    }\n",
              "\n",
              "    .dataframe tbody tr th {\n",
              "        vertical-align: top;\n",
              "    }\n",
              "\n",
              "    .dataframe thead th {\n",
              "        text-align: right;\n",
              "    }\n",
              "</style>\n",
              "<table border=\"1\" class=\"dataframe\">\n",
              "  <thead>\n",
              "    <tr style=\"text-align: right;\">\n",
              "      <th></th>\n",
              "      <th>Date</th>\n",
              "      <th>Open</th>\n",
              "      <th>High</th>\n",
              "      <th>Low</th>\n",
              "      <th>Close</th>\n",
              "      <th>Adj Close</th>\n",
              "      <th>Volume</th>\n",
              "      <th>log_price</th>\n",
              "      <th>pct_change</th>\n",
              "      <th>stdev</th>\n",
              "      <th>Volatility</th>\n",
              "    </tr>\n",
              "  </thead>\n",
              "  <tbody>\n",
              "    <tr>\n",
              "      <th>0</th>\n",
              "      <td>1990-02-01</td>\n",
              "      <td>17.240000</td>\n",
              "      <td>17.240000</td>\n",
              "      <td>17.240000</td>\n",
              "      <td>17.240000</td>\n",
              "      <td>17.240000</td>\n",
              "      <td>0</td>\n",
              "      <td>2.847232</td>\n",
              "      <td>NaN</td>\n",
              "      <td>NaN</td>\n",
              "      <td>NaN</td>\n",
              "    </tr>\n",
              "    <tr>\n",
              "      <th>1</th>\n",
              "      <td>1990-03-01</td>\n",
              "      <td>18.190001</td>\n",
              "      <td>18.190001</td>\n",
              "      <td>18.190001</td>\n",
              "      <td>18.190001</td>\n",
              "      <td>18.190001</td>\n",
              "      <td>0</td>\n",
              "      <td>2.900872</td>\n",
              "      <td>0.053640</td>\n",
              "      <td>NaN</td>\n",
              "      <td>NaN</td>\n",
              "    </tr>\n",
              "    <tr>\n",
              "      <th>2</th>\n",
              "      <td>1990-04-01</td>\n",
              "      <td>19.219999</td>\n",
              "      <td>19.219999</td>\n",
              "      <td>19.219999</td>\n",
              "      <td>19.219999</td>\n",
              "      <td>19.219999</td>\n",
              "      <td>0</td>\n",
              "      <td>2.955951</td>\n",
              "      <td>0.055079</td>\n",
              "      <td>NaN</td>\n",
              "      <td>NaN</td>\n",
              "    </tr>\n",
              "    <tr>\n",
              "      <th>3</th>\n",
              "      <td>1990-05-01</td>\n",
              "      <td>20.110001</td>\n",
              "      <td>20.110001</td>\n",
              "      <td>20.110001</td>\n",
              "      <td>20.110001</td>\n",
              "      <td>20.110001</td>\n",
              "      <td>0</td>\n",
              "      <td>3.001217</td>\n",
              "      <td>0.045266</td>\n",
              "      <td>NaN</td>\n",
              "      <td>NaN</td>\n",
              "    </tr>\n",
              "    <tr>\n",
              "      <th>4</th>\n",
              "      <td>1990-08-01</td>\n",
              "      <td>20.260000</td>\n",
              "      <td>20.260000</td>\n",
              "      <td>20.260000</td>\n",
              "      <td>20.260000</td>\n",
              "      <td>20.260000</td>\n",
              "      <td>0</td>\n",
              "      <td>3.008648</td>\n",
              "      <td>0.007431</td>\n",
              "      <td>NaN</td>\n",
              "      <td>NaN</td>\n",
              "    </tr>\n",
              "    <tr>\n",
              "      <th>...</th>\n",
              "      <td>...</td>\n",
              "      <td>...</td>\n",
              "      <td>...</td>\n",
              "      <td>...</td>\n",
              "      <td>...</td>\n",
              "      <td>...</td>\n",
              "      <td>...</td>\n",
              "      <td>...</td>\n",
              "      <td>...</td>\n",
              "      <td>...</td>\n",
              "      <td>...</td>\n",
              "    </tr>\n",
              "    <tr>\n",
              "      <th>95</th>\n",
              "      <td>1990-05-17</td>\n",
              "      <td>17.270000</td>\n",
              "      <td>17.270000</td>\n",
              "      <td>17.270000</td>\n",
              "      <td>17.270000</td>\n",
              "      <td>17.270000</td>\n",
              "      <td>0</td>\n",
              "      <td>2.848971</td>\n",
              "      <td>-0.025159</td>\n",
              "      <td>0.069642</td>\n",
              "      <td>1.105535</td>\n",
              "    </tr>\n",
              "    <tr>\n",
              "      <th>96</th>\n",
              "      <td>1990-05-18</td>\n",
              "      <td>17.200001</td>\n",
              "      <td>17.200001</td>\n",
              "      <td>17.200001</td>\n",
              "      <td>17.200001</td>\n",
              "      <td>17.200001</td>\n",
              "      <td>0</td>\n",
              "      <td>2.844909</td>\n",
              "      <td>-0.004061</td>\n",
              "      <td>0.069416</td>\n",
              "      <td>1.101950</td>\n",
              "    </tr>\n",
              "    <tr>\n",
              "      <th>97</th>\n",
              "      <td>1990-05-21</td>\n",
              "      <td>16.719999</td>\n",
              "      <td>16.719999</td>\n",
              "      <td>16.719999</td>\n",
              "      <td>16.719999</td>\n",
              "      <td>16.719999</td>\n",
              "      <td>0</td>\n",
              "      <td>2.816606</td>\n",
              "      <td>-0.028304</td>\n",
              "      <td>0.069241</td>\n",
              "      <td>1.099169</td>\n",
              "    </tr>\n",
              "    <tr>\n",
              "      <th>98</th>\n",
              "      <td>1990-05-22</td>\n",
              "      <td>17.840000</td>\n",
              "      <td>17.840000</td>\n",
              "      <td>17.840000</td>\n",
              "      <td>17.840000</td>\n",
              "      <td>17.840000</td>\n",
              "      <td>0</td>\n",
              "      <td>2.881443</td>\n",
              "      <td>0.064838</td>\n",
              "      <td>0.070293</td>\n",
              "      <td>1.115870</td>\n",
              "    </tr>\n",
              "    <tr>\n",
              "      <th>99</th>\n",
              "      <td>1990-05-23</td>\n",
              "      <td>17.180000</td>\n",
              "      <td>17.180000</td>\n",
              "      <td>17.180000</td>\n",
              "      <td>17.180000</td>\n",
              "      <td>17.180000</td>\n",
              "      <td>0</td>\n",
              "      <td>2.843746</td>\n",
              "      <td>-0.037697</td>\n",
              "      <td>0.070416</td>\n",
              "      <td>1.117817</td>\n",
              "    </tr>\n",
              "  </tbody>\n",
              "</table>\n",
              "<p>100 rows × 11 columns</p>\n",
              "</div>\n",
              "      <button class=\"colab-df-convert\" onclick=\"convertToInteractive('df-fa39f5b5-6248-4b41-921d-5ac710b13846')\"\n",
              "              title=\"Convert this dataframe to an interactive table.\"\n",
              "              style=\"display:none;\">\n",
              "        \n",
              "  <svg xmlns=\"http://www.w3.org/2000/svg\" height=\"24px\"viewBox=\"0 0 24 24\"\n",
              "       width=\"24px\">\n",
              "    <path d=\"M0 0h24v24H0V0z\" fill=\"none\"/>\n",
              "    <path d=\"M18.56 5.44l.94 2.06.94-2.06 2.06-.94-2.06-.94-.94-2.06-.94 2.06-2.06.94zm-11 1L8.5 8.5l.94-2.06 2.06-.94-2.06-.94L8.5 2.5l-.94 2.06-2.06.94zm10 10l.94 2.06.94-2.06 2.06-.94-2.06-.94-.94-2.06-.94 2.06-2.06.94z\"/><path d=\"M17.41 7.96l-1.37-1.37c-.4-.4-.92-.59-1.43-.59-.52 0-1.04.2-1.43.59L10.3 9.45l-7.72 7.72c-.78.78-.78 2.05 0 2.83L4 21.41c.39.39.9.59 1.41.59.51 0 1.02-.2 1.41-.59l7.78-7.78 2.81-2.81c.8-.78.8-2.07 0-2.86zM5.41 20L4 18.59l7.72-7.72 1.47 1.35L5.41 20z\"/>\n",
              "  </svg>\n",
              "      </button>\n",
              "      \n",
              "  <style>\n",
              "    .colab-df-container {\n",
              "      display:flex;\n",
              "      flex-wrap:wrap;\n",
              "      gap: 12px;\n",
              "    }\n",
              "\n",
              "    .colab-df-convert {\n",
              "      background-color: #E8F0FE;\n",
              "      border: none;\n",
              "      border-radius: 50%;\n",
              "      cursor: pointer;\n",
              "      display: none;\n",
              "      fill: #1967D2;\n",
              "      height: 32px;\n",
              "      padding: 0 0 0 0;\n",
              "      width: 32px;\n",
              "    }\n",
              "\n",
              "    .colab-df-convert:hover {\n",
              "      background-color: #E2EBFA;\n",
              "      box-shadow: 0px 1px 2px rgba(60, 64, 67, 0.3), 0px 1px 3px 1px rgba(60, 64, 67, 0.15);\n",
              "      fill: #174EA6;\n",
              "    }\n",
              "\n",
              "    [theme=dark] .colab-df-convert {\n",
              "      background-color: #3B4455;\n",
              "      fill: #D2E3FC;\n",
              "    }\n",
              "\n",
              "    [theme=dark] .colab-df-convert:hover {\n",
              "      background-color: #434B5C;\n",
              "      box-shadow: 0px 1px 3px 1px rgba(0, 0, 0, 0.15);\n",
              "      filter: drop-shadow(0px 1px 2px rgba(0, 0, 0, 0.3));\n",
              "      fill: #FFFFFF;\n",
              "    }\n",
              "  </style>\n",
              "\n",
              "      <script>\n",
              "        const buttonEl =\n",
              "          document.querySelector('#df-fa39f5b5-6248-4b41-921d-5ac710b13846 button.colab-df-convert');\n",
              "        buttonEl.style.display =\n",
              "          google.colab.kernel.accessAllowed ? 'block' : 'none';\n",
              "\n",
              "        async function convertToInteractive(key) {\n",
              "          const element = document.querySelector('#df-fa39f5b5-6248-4b41-921d-5ac710b13846');\n",
              "          const dataTable =\n",
              "            await google.colab.kernel.invokeFunction('convertToInteractive',\n",
              "                                                     [key], {});\n",
              "          if (!dataTable) return;\n",
              "\n",
              "          const docLinkHtml = 'Like what you see? Visit the ' +\n",
              "            '<a target=\"_blank\" href=https://colab.research.google.com/notebooks/data_table.ipynb>data table notebook</a>'\n",
              "            + ' to learn more about interactive tables.';\n",
              "          element.innerHTML = '';\n",
              "          dataTable['output_type'] = 'display_data';\n",
              "          await google.colab.output.renderOutput(dataTable, element);\n",
              "          const docLink = document.createElement('div');\n",
              "          docLink.innerHTML = docLinkHtml;\n",
              "          element.appendChild(docLink);\n",
              "        }\n",
              "      </script>\n",
              "    </div>\n",
              "  </div>\n",
              "  "
            ],
            "text/plain": [
              "         Date       Open       High  ...  pct_change     stdev  Volatility\n",
              "0  1990-02-01  17.240000  17.240000  ...         NaN       NaN         NaN\n",
              "1  1990-03-01  18.190001  18.190001  ...    0.053640       NaN         NaN\n",
              "2  1990-04-01  19.219999  19.219999  ...    0.055079       NaN         NaN\n",
              "3  1990-05-01  20.110001  20.110001  ...    0.045266       NaN         NaN\n",
              "4  1990-08-01  20.260000  20.260000  ...    0.007431       NaN         NaN\n",
              "..        ...        ...        ...  ...         ...       ...         ...\n",
              "95 1990-05-17  17.270000  17.270000  ...   -0.025159  0.069642    1.105535\n",
              "96 1990-05-18  17.200001  17.200001  ...   -0.004061  0.069416    1.101950\n",
              "97 1990-05-21  16.719999  16.719999  ...   -0.028304  0.069241    1.099169\n",
              "98 1990-05-22  17.840000  17.840000  ...    0.064838  0.070293    1.115870\n",
              "99 1990-05-23  17.180000  17.180000  ...   -0.037697  0.070416    1.117817\n",
              "\n",
              "[100 rows x 11 columns]"
            ]
          },
          "metadata": {},
          "execution_count": 15
        }
      ]
    },
    {
      "cell_type": "markdown",
      "metadata": {
        "id": "de56f142"
      },
      "source": [
        "### Set 'Date' as index"
      ],
      "id": "de56f142"
    },
    {
      "cell_type": "code",
      "metadata": {
        "id": "7bbc376a"
      },
      "source": [
        "to_plt = VI_db.sort_values(by = 'Date').set_index('Date')"
      ],
      "id": "7bbc376a",
      "execution_count": 16,
      "outputs": []
    },
    {
      "cell_type": "markdown",
      "metadata": {
        "id": "cf0e41ee"
      },
      "source": [
        "### Plot Volatility feature from the DataFrame"
      ],
      "id": "cf0e41ee"
    },
    {
      "cell_type": "code",
      "metadata": {
        "colab": {
          "base_uri": "https://localhost:8080/",
          "height": 377
        },
        "id": "6680e954",
        "outputId": "b31fa8f7-2048-495d-dc9b-e0f57d75aa2e"
      },
      "source": [
        "plt.figure(figsize=(16,6))\n",
        "plt.plot(to_plt['Volatility'])\n",
        "plt.ylabel('Pct Return', fontsize=16)\n",
        "plt.title('VIX Rolling Volatility considering 30 Time Periods with Standard Deviation Annualized', fontsize=20)"
      ],
      "id": "6680e954",
      "execution_count": 17,
      "outputs": [
        {
          "output_type": "execute_result",
          "data": {
            "text/plain": [
              "Text(0.5, 1.0, 'VIX Rolling Volatility considering 30 Time Periods with Standard Deviation Annualized')"
            ]
          },
          "metadata": {},
          "execution_count": 17
        },
        {
          "output_type": "display_data",
          "data": {
            "image/png": "[encoded data removed]",
            "text/plain": [
              "<Figure size 1152x432 with 1 Axes>"
            ]
          },
          "metadata": {
            "needs_background": "light"
          }
        }
      ]
    },
    {
      "cell_type": "code",
      "metadata": {
        "id": "788da488"
      },
      "source": [
        "df=to_plt.dropna()"
      ],
      "id": "788da488",
      "execution_count": 18,
      "outputs": []
    },
    {
      "cell_type": "code",
      "metadata": {
        "id": "351dade2"
      },
      "source": [
        "vol = df['Volatility'] * 100"
      ],
      "id": "351dade2",
      "execution_count": 19,
      "outputs": []
    },
    {
      "cell_type": "code",
      "metadata": {
        "colab": {
          "base_uri": "https://localhost:8080/"
        },
        "id": "blWCK_BdPF2j",
        "outputId": "b88f036b-ae0f-4051-f900-aa31347a11f8"
      },
      "source": [
        "df.info()"
      ],
      "id": "blWCK_BdPF2j",
      "execution_count": 20,
      "outputs": [
        {
          "output_type": "stream",
          "name": "stdout",
          "text": [
            "<class 'pandas.core.frame.DataFrame'>\n",
            "DatetimeIndex: 7904 entries, 1990-01-03 to 2021-12-05\n",
            "Data columns (total 10 columns):\n",
            " #   Column      Non-Null Count  Dtype  \n",
            "---  ------      --------------  -----  \n",
            " 0   Open        7904 non-null   float64\n",
            " 1   High        7904 non-null   float64\n",
            " 2   Low         7904 non-null   float64\n",
            " 3   Close       7904 non-null   float64\n",
            " 4   Adj Close   7904 non-null   float64\n",
            " 5   Volume      7904 non-null   int64  \n",
            " 6   log_price   7904 non-null   float64\n",
            " 7   pct_change  7904 non-null   float64\n",
            " 8   stdev       7904 non-null   float64\n",
            " 9   Volatility  7904 non-null   float64\n",
            "dtypes: float64(9), int64(1)\n",
            "memory usage: 679.2 KB\n"
          ]
        }
      ]
    },
    {
      "cell_type": "markdown",
      "metadata": {
        "id": "7ca40c8d"
      },
      "source": [
        "### To Check if there is null value in any of the column"
      ],
      "id": "7ca40c8d"
    },
    {
      "cell_type": "code",
      "metadata": {
        "colab": {
          "base_uri": "https://localhost:8080/"
        },
        "id": "90fa999c",
        "outputId": "f0890b8a-2ff5-4c62-e34c-93fb33463b93"
      },
      "source": [
        "df.isnull().any() "
      ],
      "id": "90fa999c",
      "execution_count": 21,
      "outputs": [
        {
          "output_type": "execute_result",
          "data": {
            "text/plain": [
              "Open          False\n",
              "High          False\n",
              "Low           False\n",
              "Close         False\n",
              "Adj Close     False\n",
              "Volume        False\n",
              "log_price     False\n",
              "pct_change    False\n",
              "stdev         False\n",
              "Volatility    False\n",
              "dtype: bool"
            ]
          },
          "metadata": {},
          "execution_count": 21
        }
      ]
    },
    {
      "cell_type": "code",
      "source": [
        "## Replacing the missing values with df.mean()\n",
        "VI_db.replace([np.inf, -np.inf], np.nan, inplace=True)\n",
        "VI_db.fillna(df.mean(), inplace=True)"
      ],
      "metadata": {
        "id": "ljDBQr5GDBp1"
      },
      "id": "ljDBQr5GDBp1",
      "execution_count": 22,
      "outputs": []
    },
    {
      "cell_type": "markdown",
      "metadata": {
        "id": "22396a74"
      },
      "source": [
        "### Performing the ADF test to identify if the return series is stationary or non-stationary"
      ],
      "id": "22396a74"
    },
    {
      "cell_type": "code",
      "metadata": {
        "colab": {
          "base_uri": "https://localhost:8080/"
        },
        "id": "dbfd65ad",
        "outputId": "c1be07f0-a294-44c2-a2fa-d20e93a08c08"
      },
      "source": [
        "result = adfuller(df.Volatility)\n",
        "print('ADF Statistic: %f' % result[0])\n",
        "print('p-value: %f' % result[1])\n",
        "print('Critical Values:')\n",
        "for key, value in result[4].items():\n",
        "    print('\\t%s: %.3f' % (key, value))"
      ],
      "id": "dbfd65ad",
      "execution_count": 23,
      "outputs": [
        {
          "output_type": "stream",
          "name": "stdout",
          "text": [
            "ADF Statistic: -8.631603\n",
            "p-value: 0.000000\n",
            "Critical Values:\n",
            "\t1%: -3.431\n",
            "\t5%: -2.862\n",
            "\t10%: -2.567\n"
          ]
        }
      ]
    },
    {
      "cell_type": "markdown",
      "metadata": {
        "id": "8de048e6"
      },
      "source": [
        "## Volatility Prediction using GARCH(3,1)"
      ],
      "id": "8de048e6"
    },
    {
      "cell_type": "code",
      "metadata": {
        "id": "01041496"
      },
      "source": [
        "GARCH_Mod = arch_model(vol, vol='Garch', p=3, o=0, q=1, dist='Normal')"
      ],
      "id": "01041496",
      "execution_count": 24,
      "outputs": []
    },
    {
      "cell_type": "markdown",
      "metadata": {
        "id": "95120b06"
      },
      "source": [
        "### GARCH Summary"
      ],
      "id": "95120b06"
    },
    {
      "cell_type": "code",
      "metadata": {
        "colab": {
          "base_uri": "https://localhost:8080/",
          "height": 469
        },
        "id": "5ccc6c81",
        "outputId": "796ead7b-1e98-4182-c066-831a31c14282"
      },
      "source": [
        "res = GARCH_Mod.fit(disp='off')\n",
        "display(res.summary())"
      ],
      "id": "5ccc6c81",
      "execution_count": 25,
      "outputs": [
        {
          "output_type": "display_data",
          "data": {
            "text/html": [
              "<table class=\"simpletable\">\n",
              "<caption>Constant Mean - GARCH Model Results</caption>\n",
              "<tr>\n",
              "  <th>Dep. Variable:</th>     <td>Volatility</td>     <th>  R-squared:         </th>  <td>   0.000</td> \n",
              "</tr>\n",
              "<tr>\n",
              "  <th>Mean Model:</th>       <td>Constant Mean</td>   <th>  Adj. R-squared:    </th>  <td>   0.000</td> \n",
              "</tr>\n",
              "<tr>\n",
              "  <th>Vol Model:</th>            <td>GARCH</td>       <th>  Log-Likelihood:    </th> <td>  -38027.9</td>\n",
              "</tr>\n",
              "<tr>\n",
              "  <th>Distribution:</th>        <td>Normal</td>       <th>  AIC:               </th> <td>   76067.8</td>\n",
              "</tr>\n",
              "<tr>\n",
              "  <th>Method:</th>        <td>Maximum Likelihood</td> <th>  BIC:               </th> <td>   76109.7</td>\n",
              "</tr>\n",
              "<tr>\n",
              "  <th></th>                        <td></td>          <th>  No. Observations:  </th>    <td>7904</td>   \n",
              "</tr>\n",
              "<tr>\n",
              "  <th>Date:</th>           <td>Tue, Jan 11 2022</td>  <th>  Df Residuals:      </th>    <td>7903</td>   \n",
              "</tr>\n",
              "<tr>\n",
              "  <th>Time:</th>               <td>09:43:26</td>      <th>  Df Model:          </th>      <td>1</td>    \n",
              "</tr>\n",
              "</table>\n",
              "<table class=\"simpletable\">\n",
              "<caption>Mean Model</caption>\n",
              "<tr>\n",
              "   <td></td>     <th>coef</th>     <th>std err</th>      <th>t</th>     <th>P>|t|</th> <th>95.0% Conf. Int.</th> \n",
              "</tr>\n",
              "<tr>\n",
              "  <th>mu</th> <td>   88.8885</td> <td>    0.975</td> <td>   91.129</td> <td>0.000</td> <td>[ 86.977, 90.800]</td>\n",
              "</tr>\n",
              "</table>\n",
              "<table class=\"simpletable\">\n",
              "<caption>Volatility Model</caption>\n",
              "<tr>\n",
              "      <td></td>        <th>coef</th>     <th>std err</th>      <th>t</th>       <th>P>|t|</th>    <th>95.0% Conf. Int.</th>  \n",
              "</tr>\n",
              "<tr>\n",
              "  <th>omega</th>    <td>  110.8320</td> <td>   42.483</td> <td>    2.609</td> <td>9.084e-03</td> <td>[ 27.567,1.941e+02]</td>\n",
              "</tr>\n",
              "<tr>\n",
              "  <th>alpha[1]</th> <td>    0.4793</td> <td>5.057e-02</td> <td>    9.476</td> <td>2.638e-21</td>  <td>[  0.380,  0.578]</td> \n",
              "</tr>\n",
              "<tr>\n",
              "  <th>alpha[2]</th> <td>1.0561e-09</td> <td>    0.101</td> <td>1.049e-08</td> <td>    1.000</td>  <td>[ -0.197,  0.197]</td> \n",
              "</tr>\n",
              "<tr>\n",
              "  <th>alpha[3]</th> <td>2.7648e-10</td> <td>8.964e-02</td> <td>3.084e-09</td> <td>    1.000</td>  <td>[ -0.176,  0.176]</td> \n",
              "</tr>\n",
              "<tr>\n",
              "  <th>beta[1]</th>  <td>    0.5048</td> <td>    0.175</td> <td>    2.890</td> <td>3.856e-03</td>  <td>[  0.162,  0.847]</td> \n",
              "</tr>\n",
              "</table><br/><br/>Covariance estimator: robust"
            ],
            "text/plain": [
              "<class 'statsmodels.iolib.summary.Summary'>\n",
              "\"\"\"\n",
              "                     Constant Mean - GARCH Model Results                      \n",
              "==============================================================================\n",
              "Dep. Variable:             Volatility   R-squared:                       0.000\n",
              "Mean Model:             Constant Mean   Adj. R-squared:                  0.000\n",
              "Vol Model:                      GARCH   Log-Likelihood:               -38027.9\n",
              "Distribution:                  Normal   AIC:                           76067.8\n",
              "Method:            Maximum Likelihood   BIC:                           76109.7\n",
              "                                        No. Observations:                 7904\n",
              "Date:                Tue, Jan 11 2022   Df Residuals:                     7903\n",
              "Time:                        09:43:26   Df Model:                            1\n",
              "                               Mean Model                               \n",
              "========================================================================\n",
              "                 coef    std err          t      P>|t|  95.0% Conf. Int.\n",
              "------------------------------------------------------------------------\n",
              "mu            88.8885      0.975     91.129      0.000 [ 86.977, 90.800]\n",
              "                             Volatility Model                             \n",
              "==========================================================================\n",
              "                 coef    std err          t      P>|t|    95.0% Conf. Int.\n",
              "--------------------------------------------------------------------------\n",
              "omega        110.8320     42.483      2.609  9.084e-03 [ 27.567,1.941e+02]\n",
              "alpha[1]       0.4793  5.057e-02      9.476  2.638e-21   [  0.380,  0.578]\n",
              "alpha[2]   1.0561e-09      0.101  1.049e-08      1.000   [ -0.197,  0.197]\n",
              "alpha[3]   2.7648e-10  8.964e-02  3.084e-09      1.000   [ -0.176,  0.176]\n",
              "beta[1]        0.5048      0.175      2.890  3.856e-03   [  0.162,  0.847]\n",
              "==========================================================================\n",
              "\n",
              "Covariance estimator: robust\n",
              "\"\"\""
            ]
          },
          "metadata": {}
        }
      ]
    },
    {
      "cell_type": "markdown",
      "metadata": {
        "id": "0f2b287b"
      },
      "source": [
        "### Creating Forecasted Volatility feature"
      ],
      "id": "0f2b287b"
    },
    {
      "cell_type": "code",
      "metadata": {
        "id": "c901ae25"
      },
      "source": [
        "df['forecast_vol'] = 0.1 * np.sqrt(res.params['omega'] + res.params['alpha[1]'] * res.resid**2 + res.conditional_volatility**2 * res.params['beta[1]'])"
      ],
      "id": "c901ae25",
      "execution_count": 26,
      "outputs": []
    },
    {
      "cell_type": "code",
      "metadata": {
        "colab": {
          "base_uri": "https://localhost:8080/"
        },
        "id": "j-dPMkKWpCKo",
        "outputId": "9177d5e6-9462-4113-bbb3-03a6e29a9bfd"
      },
      "source": [
        "df['Volatility'].head(20)"
      ],
      "id": "j-dPMkKWpCKo",
      "execution_count": 27,
      "outputs": [
        {
          "output_type": "execute_result",
          "data": {
            "text/plain": [
              "Date\n",
              "1990-01-03    0.893589\n",
              "1990-01-05    1.334283\n",
              "1990-01-06    0.881965\n",
              "1990-01-08    1.712147\n",
              "1990-01-10    0.947622\n",
              "1990-01-11    0.618401\n",
              "1990-02-03    0.895341\n",
              "1990-02-04    1.017414\n",
              "1990-02-05    1.335973\n",
              "1990-02-07    1.268275\n",
              "1990-02-08    1.723761\n",
              "1990-02-10    0.943967\n",
              "1990-02-11    0.603746\n",
              "1990-02-13    1.072026\n",
              "1990-02-14    1.091692\n",
              "1990-02-15    1.133728\n",
              "1990-02-16    1.136526\n",
              "1990-02-20    1.166584\n",
              "1990-02-21    1.144704\n",
              "1990-02-22    1.157712\n",
              "Name: Volatility, dtype: float64"
            ]
          },
          "metadata": {},
          "execution_count": 27
        }
      ]
    },
    {
      "cell_type": "code",
      "metadata": {
        "colab": {
          "base_uri": "https://localhost:8080/"
        },
        "id": "bBcPCNFGpFnI",
        "outputId": "8ae5e1e8-69d1-4a08-cbfc-86e226f2bfb7"
      },
      "source": [
        "pip install openpyxl"
      ],
      "id": "bBcPCNFGpFnI",
      "execution_count": 28,
      "outputs": [
        {
          "output_type": "stream",
          "name": "stdout",
          "text": [
            "Requirement already satisfied: openpyxl in /usr/local/lib/python3.7/dist-packages (2.5.9)\n",
            "Requirement already satisfied: jdcal in /usr/local/lib/python3.7/dist-packages (from openpyxl) (1.4.1)\n",
            "Requirement already satisfied: et-xmlfile in /usr/local/lib/python3.7/dist-packages (from openpyxl) (1.1.0)\n"
          ]
        }
      ]
    },
    {
      "cell_type": "code",
      "metadata": {
        "id": "AMoQy-BPpI7o"
      },
      "source": [
        "df['Volatility'].to_excel('g_a.xlsx')# to export actual value of GARCH MODEL"
      ],
      "id": "AMoQy-BPpI7o",
      "execution_count": 29,
      "outputs": []
    },
    {
      "cell_type": "code",
      "metadata": {
        "id": "sjMSxQ7dpLpg"
      },
      "source": [
        "df['forecast_vol'].to_excel('g_p.xlsx')# to export predicted value of GARCH MODEL"
      ],
      "id": "sjMSxQ7dpLpg",
      "execution_count": 30,
      "outputs": []
    },
    {
      "cell_type": "markdown",
      "metadata": {
        "id": "4c405ee4"
      },
      "source": [
        "### Ploting Actual Volatility Vs Forecasted Volatility"
      ],
      "id": "4c405ee4"
    },
    {
      "cell_type": "code",
      "metadata": {
        "colab": {
          "base_uri": "https://localhost:8080/",
          "height": 353
        },
        "id": "eb45e486",
        "outputId": "bf04d5fc-14e3-4488-b1fb-37825590fd76"
      },
      "source": [
        "plt.figure(figsize=(16,6))\n",
        "df[\"Volatility\"].plot()\n",
        "df[\"forecast_vol\"].plot()\n",
        "plt.title(\"Real Rolling Volatility vs Forecast by GARCH(3,1)\")\n",
        "plt.legend()\n",
        "plt.show()"
      ],
      "id": "eb45e486",
      "execution_count": 31,
      "outputs": [
        {
          "output_type": "display_data",
          "data": {
            "image/png": "[encoded data removed]",
            "text/plain": [
              "<Figure size 1152x432 with 1 Axes>"
            ]
          },
          "metadata": {
            "needs_background": "light"
          }
        }
      ]
    },
    {
      "cell_type": "markdown",
      "metadata": {
        "id": "0513c766"
      },
      "source": [
        "### Calculating RMSE value for GARCH Model"
      ],
      "id": "0513c766"
    },
    {
      "cell_type": "code",
      "metadata": {
        "colab": {
          "base_uri": "https://localhost:8080/"
        },
        "id": "b313993a",
        "outputId": "1b02f69b-879a-4dd8-c121-2723f9ee744d"
      },
      "source": [
        "print('RMSE calculated for GARCH(3,1) model:', np.sqrt(metrics.mean_squared_error(df.loc[df.index[1000:], 'Volatility'], df.loc[df.index[1000:], 'forecast_vol'])))"
      ],
      "id": "b313993a",
      "execution_count": 32,
      "outputs": [
        {
          "output_type": "stream",
          "name": "stdout",
          "text": [
            "RMSE calculated for GARCH(3,1) model: 3.235846319536613\n"
          ]
        }
      ]
    },
    {
      "cell_type": "code",
      "metadata": {
        "id": "W2vQRGp4EvI6",
        "colab": {
          "base_uri": "https://localhost:8080/"
        },
        "outputId": "c8558ca1-b56e-4538-df4f-c80c35bdfb38"
      },
      "source": [
        "print('MAE calculated for GARCH(3,1) model:', MAE(df.loc[df.index[1000:], 'Volatility'], df.loc[df.index[1000:], 'forecast_vol']))"
      ],
      "id": "W2vQRGp4EvI6",
      "execution_count": 33,
      "outputs": [
        {
          "output_type": "stream",
          "name": "stdout",
          "text": [
            "MAE calculated for GARCH(3,1) model: 2.4903838837070387\n"
          ]
        }
      ]
    },
    {
      "cell_type": "code",
      "source": [
        "print('MAPE calculated for GARCH:',mean_absolute_percentage_error(df.loc[df.index[1000:], 'Volatility'], df.loc[df.index[1000:], 'forecast_vol']))"
      ],
      "metadata": {
        "colab": {
          "base_uri": "https://localhost:8080/"
        },
        "id": "MvsscQ14Dcm0",
        "outputId": "8e74116c-9ccd-4eb7-a57b-130fccbbdaf0"
      },
      "id": "MvsscQ14Dcm0",
      "execution_count": 34,
      "outputs": [
        {
          "output_type": "stream",
          "name": "stdout",
          "text": [
            "MAPE calculated for GARCH: 2.4254284138806548\n"
          ]
        }
      ]
    },
    {
      "cell_type": "markdown",
      "metadata": {
        "id": "87acefcc"
      },
      "source": [
        "## Volatility Prediction using LSTM"
      ],
      "id": "87acefcc"
    },
    {
      "cell_type": "code",
      "metadata": {
        "id": "b95b6636"
      },
      "source": [
        "training_set = df.iloc[:, 9:10].values\n",
        "X_train = []\n",
        "y_train = []\n",
        "for i in range(100, df.shape[0]):\n",
        "    X_train.append(training_set[i-100:i,0])\n",
        "    y_train.append(training_set[i,0])\n",
        "X_train, y_train = np.array(X_train), np.array(y_train)"
      ],
      "id": "b95b6636",
      "execution_count": 35,
      "outputs": []
    },
    {
      "cell_type": "code",
      "source": [
        "df.shape"
      ],
      "metadata": {
        "colab": {
          "base_uri": "https://localhost:8080/"
        },
        "id": "qXIm2m25YANK",
        "outputId": "2f02a19a-aac0-4c64-ffd5-5af5b4bed067"
      },
      "id": "qXIm2m25YANK",
      "execution_count": 36,
      "outputs": [
        {
          "output_type": "execute_result",
          "data": {
            "text/plain": [
              "(7904, 11)"
            ]
          },
          "metadata": {},
          "execution_count": 36
        }
      ]
    },
    {
      "cell_type": "markdown",
      "metadata": {
        "id": "923354ab"
      },
      "source": [
        "### Preparing X_train for RNN using LSTM"
      ],
      "id": "923354ab"
    },
    {
      "cell_type": "code",
      "metadata": {
        "id": "6a944264"
      },
      "source": [
        "X_train = np.reshape(X_train, (X_train.shape[0], X_train.shape[1], 1))"
      ],
      "id": "6a944264",
      "execution_count": 37,
      "outputs": []
    },
    {
      "cell_type": "markdown",
      "metadata": {
        "id": "17313479"
      },
      "source": [
        "### Creating RNN with LSTM"
      ],
      "id": "17313479"
    },
    {
      "cell_type": "code",
      "metadata": {
        "scrolled": true,
        "colab": {
          "base_uri": "https://localhost:8080/"
        },
        "id": "a6430276",
        "outputId": "4bce2d07-3ebd-43fd-8a20-2c0853e67d85"
      },
      "source": [
        "from keras.wrappers.scikit_learn import KerasRegressor\n",
        "from sklearn.datasets import make_classification\n",
        "#Initialising the RNN\n",
        "def model():\n",
        "    regressor = Sequential()\n",
        "    regressor.add(LSTM(units=10, return_sequences=True, input_shape=(X_train.shape[1], 1)))\n",
        "    regressor.add(Dropout(0.2))\n",
        "    regressor.add(LSTM(units=10, return_sequences=True))\n",
        "    regressor.add(Dropout(0.2))\n",
        "    regressor.add(LSTM(units=10))\n",
        "    regressor.add(Dropout(0.2))\n",
        "    regressor.add(Dense(units=1))\n",
        "    regressor.compile(optimizer='adam', loss='mean_squared_error')\n",
        "    return regressor\n",
        "\n",
        "estimator = KerasRegressor(build_fn=model, epochs=50, batch_size=32)\n",
        "\n",
        "estimator.fit(X_train, y_train, epochs = 50, batch_size = 32)\n",
        "\n",
        "# Initialising the RNN\n",
        "#def lstm_model():\n",
        " # regressor = Sequential()\n",
        "#regressor = KerasRegressor(build_fn=lstm_model, epochs=50, batch_size=32, verbose=0)\n",
        "# Adding the first LSTM layer and some Dropout regularisation\n",
        "#regressor.add(LSTM(units = 10, return_sequences = True, input_shape = (X_train.shape[1], 1)))\n",
        "#regressor.add(Dropout(0.1))\n",
        "\n",
        "# Adding a second LSTM layer and some Dropout regularisation\n",
        "#regressor.add(LSTM(units = 10, return_sequences = True))\n",
        "#regressor.add(Dropout(0.1))\n",
        "\n",
        "# Adding a third LSTM layer and some Dropout regularisation\n",
        "#regressor.add(LSTM(units = 10, return_sequences = True))\n",
        "#regressor.add(Dropout(0.1))\n",
        "\n",
        "# Adding a fourth LSTM layer and some Dropout regularisation\n",
        "#regressor.add(LSTM(units = 10))\n",
        "#regressor.add(Dropout(0.1))\n",
        "\n",
        "# Adding the output layer\n",
        "#regressor.add(Dense(units = 1))\n",
        "\n",
        "# Compiling the RNN\n",
        "#opt = df.keras.optimizers.Adam(lr=0.01, decay=1e-6)\n",
        "\n",
        "#regressor.compile(optimizer = 'adam', loss = 'mean_squared_error')\n",
        "#return regressor\n",
        "\n",
        "\n",
        "\n",
        "# Fitting the RNN to the Training set\n",
        "#regressor.fit(X_train, y_train, epochs = 50, batch_size = 32)"
      ],
      "id": "a6430276",
      "execution_count": 255,
      "outputs": [
        {
          "output_type": "stream",
          "name": "stdout",
          "text": [
            "Epoch 1/50\n",
            "244/244 [==============================] - 27s 90ms/step - loss: 0.2344\n",
            "Epoch 2/50\n",
            "244/244 [==============================] - 22s 90ms/step - loss: 0.1202\n",
            "Epoch 3/50\n",
            "244/244 [==============================] - 22s 89ms/step - loss: 0.1100\n",
            "Epoch 4/50\n",
            "244/244 [==============================] - 22s 89ms/step - loss: 0.1068\n",
            "Epoch 5/50\n",
            "244/244 [==============================] - 22s 90ms/step - loss: 0.1016\n",
            "Epoch 6/50\n",
            "244/244 [==============================] - 22s 90ms/step - loss: 0.0940\n",
            "Epoch 7/50\n",
            "244/244 [==============================] - 22s 91ms/step - loss: 0.0911\n",
            "Epoch 8/50\n",
            "244/244 [==============================] - 22s 90ms/step - loss: 0.0866\n",
            "Epoch 9/50\n",
            "244/244 [==============================] - 22s 90ms/step - loss: 0.0814\n",
            "Epoch 10/50\n",
            "244/244 [==============================] - 22s 89ms/step - loss: 0.0787\n",
            "Epoch 11/50\n",
            "244/244 [==============================] - 22s 90ms/step - loss: 0.0766\n",
            "Epoch 12/50\n",
            "244/244 [==============================] - 22s 91ms/step - loss: 0.0760\n",
            "Epoch 13/50\n",
            "244/244 [==============================] - 22s 90ms/step - loss: 0.0750\n",
            "Epoch 14/50\n",
            "244/244 [==============================] - 22s 90ms/step - loss: 0.0734\n",
            "Epoch 15/50\n",
            "244/244 [==============================] - 22s 91ms/step - loss: 0.0710\n",
            "Epoch 16/50\n",
            "244/244 [==============================] - 22s 90ms/step - loss: 0.0703\n",
            "Epoch 17/50\n",
            "244/244 [==============================] - 22s 89ms/step - loss: 0.0680\n",
            "Epoch 18/50\n",
            "244/244 [==============================] - 22s 90ms/step - loss: 0.0704\n",
            "Epoch 19/50\n",
            "244/244 [==============================] - 22s 91ms/step - loss: 0.0682\n",
            "Epoch 20/50\n",
            "244/244 [==============================] - 23s 94ms/step - loss: 0.0678\n",
            "Epoch 21/50\n",
            "244/244 [==============================] - 23s 93ms/step - loss: 0.0681\n",
            "Epoch 22/50\n",
            "244/244 [==============================] - 23s 93ms/step - loss: 0.0669\n",
            "Epoch 23/50\n",
            "244/244 [==============================] - 23s 94ms/step - loss: 0.0677\n",
            "Epoch 24/50\n",
            "244/244 [==============================] - 23s 93ms/step - loss: 0.0660\n",
            "Epoch 25/50\n",
            "244/244 [==============================] - 22s 92ms/step - loss: 0.0671\n",
            "Epoch 26/50\n",
            "244/244 [==============================] - 23s 93ms/step - loss: 0.0664\n",
            "Epoch 27/50\n",
            "244/244 [==============================] - 22s 92ms/step - loss: 0.0665\n",
            "Epoch 28/50\n",
            "244/244 [==============================] - 23s 92ms/step - loss: 0.0652\n",
            "Epoch 29/50\n",
            "244/244 [==============================] - 23s 92ms/step - loss: 0.0659\n",
            "Epoch 30/50\n",
            "244/244 [==============================] - 22s 92ms/step - loss: 0.0645\n",
            "Epoch 31/50\n",
            "244/244 [==============================] - 22s 92ms/step - loss: 0.0656\n",
            "Epoch 32/50\n",
            "244/244 [==============================] - 22s 91ms/step - loss: 0.0649\n",
            "Epoch 33/50\n",
            "244/244 [==============================] - 22s 92ms/step - loss: 0.0639\n",
            "Epoch 34/50\n",
            "244/244 [==============================] - 22s 92ms/step - loss: 0.0650\n",
            "Epoch 35/50\n",
            "244/244 [==============================] - 22s 90ms/step - loss: 0.0650\n",
            "Epoch 36/50\n",
            "244/244 [==============================] - 22s 91ms/step - loss: 0.0648\n",
            "Epoch 37/50\n",
            "244/244 [==============================] - 22s 90ms/step - loss: 0.0647\n",
            "Epoch 38/50\n",
            "244/244 [==============================] - 22s 90ms/step - loss: 0.0639\n",
            "Epoch 39/50\n",
            "244/244 [==============================] - 22s 92ms/step - loss: 0.0648\n",
            "Epoch 40/50\n",
            "244/244 [==============================] - 22s 90ms/step - loss: 0.0638\n",
            "Epoch 41/50\n",
            "244/244 [==============================] - 22s 91ms/step - loss: 0.0646\n",
            "Epoch 42/50\n",
            "244/244 [==============================] - 22s 92ms/step - loss: 0.0637\n",
            "Epoch 43/50\n",
            "244/244 [==============================] - 22s 91ms/step - loss: 0.0649\n",
            "Epoch 44/50\n",
            "244/244 [==============================] - 22s 91ms/step - loss: 0.0641\n",
            "Epoch 45/50\n",
            "244/244 [==============================] - 22s 92ms/step - loss: 0.0633\n",
            "Epoch 46/50\n",
            "244/244 [==============================] - 22s 90ms/step - loss: 0.0633\n",
            "Epoch 47/50\n",
            "244/244 [==============================] - 22s 90ms/step - loss: 0.0636\n",
            "Epoch 48/50\n",
            "244/244 [==============================] - 22s 91ms/step - loss: 0.0638\n",
            "Epoch 49/50\n",
            "244/244 [==============================] - 22s 91ms/step - loss: 0.0634\n",
            "Epoch 50/50\n",
            "244/244 [==============================] - 22s 91ms/step - loss: 0.0644\n"
          ]
        },
        {
          "output_type": "execute_result",
          "data": {
            "text/plain": [
              "<keras.callbacks.History at 0x7f4222936c90>"
            ]
          },
          "metadata": {},
          "execution_count": 255
        }
      ]
    },
    {
      "cell_type": "code",
      "source": [
        "estimator.model.summary()"
      ],
      "metadata": {
        "colab": {
          "base_uri": "https://localhost:8080/"
        },
        "id": "AWREVBiSGsbH",
        "outputId": "8c8971db-64f2-42ac-e5ce-8ba3ff9ba9ce"
      },
      "id": "AWREVBiSGsbH",
      "execution_count": 233,
      "outputs": [
        {
          "output_type": "stream",
          "name": "stdout",
          "text": [
            "Model: \"sequential_64\"\n",
            "_________________________________________________________________\n",
            " Layer (type)                Output Shape              Param #   \n",
            "=================================================================\n",
            " lstm_192 (LSTM)             (None, 100, 10)           480       \n",
            "                                                                 \n",
            " dropout_192 (Dropout)       (None, 100, 10)           0         \n",
            "                                                                 \n",
            " lstm_193 (LSTM)             (None, 100, 10)           840       \n",
            "                                                                 \n",
            " dropout_193 (Dropout)       (None, 100, 10)           0         \n",
            "                                                                 \n",
            " lstm_194 (LSTM)             (None, 10)                840       \n",
            "                                                                 \n",
            " dropout_194 (Dropout)       (None, 10)                0         \n",
            "                                                                 \n",
            " dense_64 (Dense)            (None, 10)                110       \n",
            "                                                                 \n",
            "=================================================================\n",
            "Total params: 2,270\n",
            "Trainable params: 2,270\n",
            "Non-trainable params: 0\n",
            "_________________________________________________________________\n"
          ]
        }
      ]
    },
    {
      "cell_type": "code",
      "source": [
        "#Grid Search\n",
        "from sklearn.model_selection import GridSearchCV\n",
        "batch_size = [8, 16, 32, 48]\n",
        "epochs = [1,5]\n",
        "param_grid = dict(\n",
        "                  batch_size=batch_size,  epochs=epochs)"
      ],
      "metadata": {
        "id": "q8po21JBtXSL"
      },
      "id": "q8po21JBtXSL",
      "execution_count": 234,
      "outputs": []
    },
    {
      "cell_type": "code",
      "source": [
        "clf1 = GridSearchCV(estimator, param_grid)"
      ],
      "metadata": {
        "id": "XLRvWlj5tdna"
      },
      "id": "XLRvWlj5tdna",
      "execution_count": 235,
      "outputs": []
    },
    {
      "cell_type": "code",
      "source": [
        "gs = clf1.fit(X_train, y_train)"
      ],
      "metadata": {
        "id": "2nlyV84btgwZ",
        "colab": {
          "base_uri": "https://localhost:8080/"
        },
        "outputId": "3b6545d6-e582-4b23-bf63-ee7a096e5c52"
      },
      "id": "2nlyV84btgwZ",
      "execution_count": 236,
      "outputs": [
        {
          "output_type": "stream",
          "name": "stdout",
          "text": [
            "781/781 [==============================] - 70s 84ms/step - loss: 0.2177\n",
            "196/196 [==============================] - 4s 15ms/step - loss: 0.0529\n",
            "781/781 [==============================] - 72s 86ms/step - loss: 0.2474\n",
            "196/196 [==============================] - 4s 15ms/step - loss: 0.0344\n",
            "781/781 [==============================] - 70s 85ms/step - loss: 0.2404\n",
            "196/196 [==============================] - 4s 15ms/step - loss: 0.0764\n",
            "781/781 [==============================] - 69s 83ms/step - loss: 0.2226\n",
            "196/196 [==============================] - 5s 15ms/step - loss: 0.1008\n",
            "781/781 [==============================] - 71s 85ms/step - loss: 0.1547\n",
            "195/195 [==============================] - 4s 15ms/step - loss: 0.1850\n",
            "Epoch 1/5\n",
            "781/781 [==============================] - 70s 84ms/step - loss: 0.2411\n",
            "Epoch 2/5\n",
            "781/781 [==============================] - 66s 85ms/step - loss: 0.1238\n",
            "Epoch 3/5\n",
            "781/781 [==============================] - 66s 85ms/step - loss: 0.1060\n",
            "Epoch 4/5\n",
            "781/781 [==============================] - 66s 84ms/step - loss: 0.0945\n",
            "Epoch 5/5\n",
            "781/781 [==============================] - 66s 84ms/step - loss: 0.0859\n",
            "196/196 [==============================] - 4s 15ms/step - loss: 0.0441\n",
            "Epoch 1/5\n",
            "781/781 [==============================] - 72s 85ms/step - loss: 0.2261\n",
            "Epoch 2/5\n",
            "781/781 [==============================] - 67s 86ms/step - loss: 0.1259\n",
            "Epoch 3/5\n",
            "781/781 [==============================] - 67s 86ms/step - loss: 0.1056\n",
            "Epoch 4/5\n",
            "781/781 [==============================] - 67s 86ms/step - loss: 0.0961\n",
            "Epoch 5/5\n",
            "781/781 [==============================] - 67s 86ms/step - loss: 0.0880\n",
            "196/196 [==============================] - 4s 16ms/step - loss: 0.0288\n",
            "Epoch 1/5\n",
            "781/781 [==============================] - 71s 85ms/step - loss: 0.2067\n",
            "Epoch 2/5\n",
            "781/781 [==============================] - 67s 86ms/step - loss: 0.1157\n",
            "Epoch 3/5\n",
            "781/781 [==============================] - 66s 85ms/step - loss: 0.0981\n",
            "Epoch 4/5\n",
            "781/781 [==============================] - 67s 86ms/step - loss: 0.0846\n",
            "Epoch 5/5\n",
            "781/781 [==============================] - 66s 85ms/step - loss: 0.0809\n",
            "196/196 [==============================] - 4s 15ms/step - loss: 0.0577\n",
            "Epoch 1/5\n",
            "781/781 [==============================] - 73s 86ms/step - loss: 0.2108\n",
            "Epoch 2/5\n",
            "781/781 [==============================] - 67s 86ms/step - loss: 0.1115\n",
            "Epoch 3/5\n",
            "781/781 [==============================] - 67s 86ms/step - loss: 0.0903\n",
            "Epoch 4/5\n",
            "781/781 [==============================] - 67s 86ms/step - loss: 0.0827\n",
            "Epoch 5/5\n",
            "781/781 [==============================] - 68s 87ms/step - loss: 0.0756\n",
            "196/196 [==============================] - 4s 15ms/step - loss: 0.0780\n",
            "Epoch 1/5\n",
            "781/781 [==============================] - 71s 85ms/step - loss: 0.1707\n",
            "Epoch 2/5\n",
            "781/781 [==============================] - 68s 87ms/step - loss: 0.0874\n",
            "Epoch 3/5\n",
            "781/781 [==============================] - 69s 88ms/step - loss: 0.0719\n",
            "Epoch 4/5\n",
            "781/781 [==============================] - 69s 89ms/step - loss: 0.0642\n",
            "Epoch 5/5\n",
            "781/781 [==============================] - 69s 88ms/step - loss: 0.0601\n",
            "195/195 [==============================] - 4s 16ms/step - loss: 0.1394\n",
            "391/391 [==============================] - 41s 92ms/step - loss: 0.3003\n",
            "98/98 [==============================] - 3s 16ms/step - loss: 0.0554\n",
            "391/391 [==============================] - 40s 90ms/step - loss: 0.2835\n",
            "98/98 [==============================] - 3s 16ms/step - loss: 0.0354\n",
            "391/391 [==============================] - 40s 91ms/step - loss: 0.2738\n",
            "98/98 [==============================] - 3s 16ms/step - loss: 0.0772\n",
            "391/391 [==============================] - 40s 92ms/step - loss: 0.2942\n",
            "98/98 [==============================] - 3s 16ms/step - loss: 0.1045\n",
            "391/391 [==============================] - 40s 91ms/step - loss: 0.2214\n",
            "98/98 [==============================] - 3s 16ms/step - loss: 0.1864\n",
            "Epoch 1/5\n",
            "391/391 [==============================] - 41s 91ms/step - loss: 0.3013\n",
            "Epoch 2/5\n",
            "391/391 [==============================] - 36s 91ms/step - loss: 0.1458\n",
            "Epoch 3/5\n",
            "391/391 [==============================] - 35s 90ms/step - loss: 0.1239\n",
            "Epoch 4/5\n",
            "391/391 [==============================] - 36s 91ms/step - loss: 0.1115\n",
            "Epoch 5/5\n",
            "391/391 [==============================] - 35s 91ms/step - loss: 0.1015\n",
            "98/98 [==============================] - 3s 16ms/step - loss: 0.0434\n",
            "Epoch 1/5\n",
            "391/391 [==============================] - 40s 91ms/step - loss: 0.2951\n",
            "Epoch 2/5\n",
            "391/391 [==============================] - 36s 91ms/step - loss: 0.1474\n",
            "Epoch 3/5\n",
            "391/391 [==============================] - 36s 91ms/step - loss: 0.1300\n",
            "Epoch 4/5\n",
            "391/391 [==============================] - 35s 91ms/step - loss: 0.1158\n",
            "Epoch 5/5\n",
            "391/391 [==============================] - 35s 91ms/step - loss: 0.1037\n",
            "98/98 [==============================] - 3s 16ms/step - loss: 0.0280\n",
            "Epoch 1/5\n",
            "391/391 [==============================] - 41s 91ms/step - loss: 0.3345\n",
            "Epoch 2/5\n",
            "391/391 [==============================] - 35s 91ms/step - loss: 0.1411\n",
            "Epoch 3/5\n",
            "391/391 [==============================] - 36s 92ms/step - loss: 0.1200\n",
            "Epoch 4/5\n",
            "391/391 [==============================] - 35s 90ms/step - loss: 0.1078\n",
            "Epoch 5/5\n",
            "391/391 [==============================] - 35s 90ms/step - loss: 0.0971\n",
            "98/98 [==============================] - 3s 16ms/step - loss: 0.0620\n",
            "Epoch 1/5\n",
            "391/391 [==============================] - 40s 90ms/step - loss: 0.3088\n",
            "Epoch 2/5\n",
            "391/391 [==============================] - 36s 91ms/step - loss: 0.1293\n",
            "Epoch 3/5\n",
            "391/391 [==============================] - 35s 90ms/step - loss: 0.1100\n",
            "Epoch 4/5\n",
            "391/391 [==============================] - 35s 89ms/step - loss: 0.0945\n",
            "Epoch 5/5\n",
            "391/391 [==============================] - 35s 90ms/step - loss: 0.0858\n",
            "98/98 [==============================] - 3s 16ms/step - loss: 0.0763\n",
            "Epoch 1/5\n",
            "391/391 [==============================] - 41s 91ms/step - loss: 0.2091\n",
            "Epoch 2/5\n",
            "391/391 [==============================] - 35s 90ms/step - loss: 0.1053\n",
            "Epoch 3/5\n",
            "391/391 [==============================] - 35s 91ms/step - loss: 0.0916\n",
            "Epoch 4/5\n",
            "391/391 [==============================] - 35s 90ms/step - loss: 0.0824\n",
            "Epoch 5/5\n",
            "391/391 [==============================] - 35s 90ms/step - loss: 0.0729\n",
            "98/98 [==============================] - 3s 16ms/step - loss: 0.1446\n",
            "196/196 [==============================] - 23s 93ms/step - loss: 0.4118\n",
            "49/49 [==============================] - 2s 18ms/step - loss: 0.0575\n",
            "196/196 [==============================] - 23s 93ms/step - loss: 0.4759\n",
            "49/49 [==============================] - 2s 17ms/step - loss: 0.0387\n",
            "196/196 [==============================] - 23s 93ms/step - loss: 0.4245\n",
            "49/49 [==============================] - 2s 17ms/step - loss: 0.1006\n",
            "196/196 [==============================] - 23s 94ms/step - loss: 0.3619\n",
            "49/49 [==============================] - 2s 18ms/step - loss: 0.1406\n",
            "196/196 [==============================] - 23s 90ms/step - loss: 0.3182\n",
            "49/49 [==============================] - 2s 17ms/step - loss: 0.2735\n",
            "Epoch 1/5\n",
            "196/196 [==============================] - 22s 90ms/step - loss: 0.4295\n",
            "Epoch 2/5\n",
            "196/196 [==============================] - 18s 89ms/step - loss: 0.1746\n",
            "Epoch 3/5\n",
            "196/196 [==============================] - 18s 89ms/step - loss: 0.1456\n",
            "Epoch 4/5\n",
            "196/196 [==============================] - 18s 90ms/step - loss: 0.1305\n",
            "Epoch 5/5\n",
            "196/196 [==============================] - 18s 90ms/step - loss: 0.1215\n",
            "49/49 [==============================] - 2s 17ms/step - loss: 0.0479\n",
            "Epoch 1/5\n",
            "196/196 [==============================] - 23s 90ms/step - loss: 0.4507\n",
            "Epoch 2/5\n",
            "196/196 [==============================] - 18s 91ms/step - loss: 0.1772\n",
            "Epoch 3/5\n",
            "196/196 [==============================] - 18s 90ms/step - loss: 0.1498\n",
            "Epoch 4/5\n",
            "196/196 [==============================] - 18s 89ms/step - loss: 0.1369\n",
            "Epoch 5/5\n",
            "196/196 [==============================] - 18s 90ms/step - loss: 0.1293\n",
            "49/49 [==============================] - 2s 17ms/step - loss: 0.0383\n",
            "Epoch 1/5\n",
            "196/196 [==============================] - 22s 90ms/step - loss: 0.5314\n",
            "Epoch 2/5\n",
            "196/196 [==============================] - 18s 90ms/step - loss: 0.1695\n",
            "Epoch 3/5\n",
            "196/196 [==============================] - 18s 91ms/step - loss: 0.1462\n",
            "Epoch 4/5\n",
            "196/196 [==============================] - 18s 90ms/step - loss: 0.1307\n",
            "Epoch 5/5\n",
            "196/196 [==============================] - 17s 89ms/step - loss: 0.1243\n",
            "49/49 [==============================] - 2s 16ms/step - loss: 0.0745\n",
            "Epoch 1/5\n",
            "196/196 [==============================] - 23s 92ms/step - loss: 0.3610\n",
            "Epoch 2/5\n",
            "196/196 [==============================] - 18s 92ms/step - loss: 0.1542\n",
            "Epoch 3/5\n",
            "196/196 [==============================] - 18s 90ms/step - loss: 0.1296\n",
            "Epoch 4/5\n",
            "196/196 [==============================] - 18s 90ms/step - loss: 0.1154\n",
            "Epoch 5/5\n",
            "196/196 [==============================] - 18s 92ms/step - loss: 0.1059\n",
            "49/49 [==============================] - 2s 17ms/step - loss: 0.0927\n",
            "Epoch 1/5\n",
            "196/196 [==============================] - 22s 90ms/step - loss: 0.3305\n",
            "Epoch 2/5\n",
            "196/196 [==============================] - 18s 90ms/step - loss: 0.1250\n",
            "Epoch 3/5\n",
            "196/196 [==============================] - 18s 90ms/step - loss: 0.1036\n",
            "Epoch 4/5\n",
            "196/196 [==============================] - 18s 90ms/step - loss: 0.0927\n",
            "Epoch 5/5\n",
            "196/196 [==============================] - 18s 91ms/step - loss: 0.0876\n",
            "49/49 [==============================] - 2s 17ms/step - loss: 0.1556\n",
            "131/131 [==============================] - 18s 94ms/step - loss: 0.4826\n",
            "33/33 [==============================] - 2s 19ms/step - loss: 0.0863\n",
            "131/131 [==============================] - 17s 92ms/step - loss: 0.5111\n",
            "33/33 [==============================] - 2s 18ms/step - loss: 0.0480\n",
            "131/131 [==============================] - 18s 94ms/step - loss: 0.4476\n",
            "33/33 [==============================] - 2s 18ms/step - loss: 0.1131\n",
            "131/131 [==============================] - 17s 94ms/step - loss: 0.5737\n",
            "33/33 [==============================] - 2s 18ms/step - loss: 0.1786\n",
            "131/131 [==============================] - 16s 91ms/step - loss: 0.4639\n",
            "33/33 [==============================] - 2s 19ms/step - loss: 0.3932\n",
            "Epoch 1/5\n",
            "131/131 [==============================] - 17s 94ms/step - loss: 0.4586\n",
            "Epoch 2/5\n",
            "131/131 [==============================] - 12s 93ms/step - loss: 0.1918\n",
            "Epoch 3/5\n",
            "131/131 [==============================] - 12s 93ms/step - loss: 0.1585\n",
            "Epoch 4/5\n",
            "131/131 [==============================] - 12s 92ms/step - loss: 0.1421\n",
            "Epoch 5/5\n",
            "131/131 [==============================] - 12s 92ms/step - loss: 0.1372\n",
            "33/33 [==============================] - 2s 18ms/step - loss: 0.0530\n",
            "Epoch 1/5\n",
            "131/131 [==============================] - 17s 94ms/step - loss: 0.6296\n",
            "Epoch 2/5\n",
            "131/131 [==============================] - 12s 94ms/step - loss: 0.2110\n",
            "Epoch 3/5\n",
            "131/131 [==============================] - 12s 94ms/step - loss: 0.1727\n",
            "Epoch 4/5\n",
            "131/131 [==============================] - 12s 93ms/step - loss: 0.1543\n",
            "Epoch 5/5\n",
            "131/131 [==============================] - 12s 93ms/step - loss: 0.1433\n",
            "33/33 [==============================] - 2s 18ms/step - loss: 0.0339\n",
            "Epoch 1/5\n",
            "131/131 [==============================] - 17s 93ms/step - loss: 0.5284\n",
            "Epoch 2/5\n",
            "131/131 [==============================] - 12s 93ms/step - loss: 0.1823\n",
            "Epoch 3/5\n",
            "131/131 [==============================] - 12s 94ms/step - loss: 0.1529\n",
            "Epoch 4/5\n",
            "131/131 [==============================] - 12s 94ms/step - loss: 0.1376\n",
            "Epoch 5/5\n",
            "131/131 [==============================] - 12s 95ms/step - loss: 0.1301\n",
            "33/33 [==============================] - 2s 19ms/step - loss: 0.0731\n",
            "Epoch 1/5\n",
            "131/131 [==============================] - 17s 95ms/step - loss: 0.4122\n",
            "Epoch 2/5\n",
            "131/131 [==============================] - 12s 95ms/step - loss: 0.1828\n",
            "Epoch 3/5\n",
            "131/131 [==============================] - 12s 93ms/step - loss: 0.1466\n",
            "Epoch 4/5\n",
            "131/131 [==============================] - 13s 96ms/step - loss: 0.1297\n",
            "Epoch 5/5\n",
            "131/131 [==============================] - 12s 94ms/step - loss: 0.1196\n",
            "33/33 [==============================] - 2s 18ms/step - loss: 0.0984\n",
            "Epoch 1/5\n",
            "131/131 [==============================] - 17s 93ms/step - loss: 0.4392\n",
            "Epoch 2/5\n",
            "131/131 [==============================] - 12s 92ms/step - loss: 0.1590\n",
            "Epoch 3/5\n",
            "131/131 [==============================] - 12s 93ms/step - loss: 0.1219\n",
            "Epoch 4/5\n",
            "131/131 [==============================] - 12s 94ms/step - loss: 0.1081\n",
            "Epoch 5/5\n",
            "131/131 [==============================] - 12s 94ms/step - loss: 0.1010\n",
            "33/33 [==============================] - 2s 19ms/step - loss: 0.1931\n",
            "Epoch 1/5\n",
            "976/976 [==============================] - 88s 86ms/step - loss: 0.1814\n",
            "Epoch 2/5\n",
            "976/976 [==============================] - 84s 86ms/step - loss: 0.1040\n",
            "Epoch 3/5\n",
            "976/976 [==============================] - 84s 86ms/step - loss: 0.0858\n",
            "Epoch 4/5\n",
            "976/976 [==============================] - 84s 86ms/step - loss: 0.0782\n",
            "Epoch 5/5\n",
            "976/976 [==============================] - 84s 86ms/step - loss: 0.0753\n"
          ]
        }
      ]
    },
    {
      "cell_type": "code",
      "source": [
        "gs.get_params()"
      ],
      "metadata": {
        "id": "eYjkpe3Dtkqp",
        "colab": {
          "base_uri": "https://localhost:8080/"
        },
        "outputId": "27371700-2c5b-40d5-a354-48e6bad93cb8"
      },
      "id": "eYjkpe3Dtkqp",
      "execution_count": 237,
      "outputs": [
        {
          "output_type": "execute_result",
          "data": {
            "text/plain": [
              "{'cv': None,\n",
              " 'error_score': nan,\n",
              " 'estimator': <keras.wrappers.scikit_learn.KerasRegressor at 0x7f422666b950>,\n",
              " 'estimator__batch_size': 32,\n",
              " 'estimator__build_fn': <function __main__.model>,\n",
              " 'estimator__epochs': 50,\n",
              " 'n_jobs': None,\n",
              " 'param_grid': {'batch_size': [8, 16, 32, 48], 'epochs': [1, 5]},\n",
              " 'pre_dispatch': '2*n_jobs',\n",
              " 'refit': True,\n",
              " 'return_train_score': False,\n",
              " 'scoring': None,\n",
              " 'verbose': 0}"
            ]
          },
          "metadata": {},
          "execution_count": 237
        }
      ]
    },
    {
      "cell_type": "code",
      "source": [
        "#regressor.evaluate(X_train, y_train, verbose=0, batch_size = 32)\n",
        "estimator.score(X_train, y_train, verbose=0, batch_size = 32)"
      ],
      "metadata": {
        "colab": {
          "base_uri": "https://localhost:8080/"
        },
        "id": "9osoF7LsL8b0",
        "outputId": "13611941-83f8-497f-a982-46f30b425869"
      },
      "id": "9osoF7LsL8b0",
      "execution_count": 256,
      "outputs": [
        {
          "output_type": "execute_result",
          "data": {
            "text/plain": [
              "-0.05992860719561577"
            ]
          },
          "metadata": {},
          "execution_count": 256
        }
      ]
    },
    {
      "cell_type": "markdown",
      "metadata": {
        "id": "c6158a00"
      },
      "source": [
        "### Store the result of LSTM"
      ],
      "id": "c6158a00"
    },
    {
      "cell_type": "code",
      "metadata": {
        "id": "fbe4abe1"
      },
      "source": [
        "#regressor.save('Volatility_VI.h5')"
      ],
      "id": "fbe4abe1",
      "execution_count": 257,
      "outputs": []
    },
    {
      "cell_type": "code",
      "metadata": {
        "id": "bc2788be"
      },
      "source": [
        "#regressor = load_model('Volatility_VI.h5')"
      ],
      "id": "bc2788be",
      "execution_count": 258,
      "outputs": []
    },
    {
      "cell_type": "markdown",
      "metadata": {
        "id": "e834732a"
      },
      "source": [
        "### Creating Predicted Volatility feature"
      ],
      "id": "e834732a"
    },
    {
      "cell_type": "code",
      "metadata": {
        "id": "146da11b"
      },
      "source": [
        "#predicted_vol = regressor.predict(X_train)\n",
        "predicted_vol = gs.predict(X_train)"
      ],
      "id": "146da11b",
      "execution_count": 259,
      "outputs": []
    },
    {
      "cell_type": "code",
      "metadata": {
        "id": "_BPRUnChq-ZM"
      },
      "source": [
        "p_d = pd.DataFrame(df.iloc[100:, 9:10].values)"
      ],
      "id": "_BPRUnChq-ZM",
      "execution_count": 260,
      "outputs": []
    },
    {
      "cell_type": "code",
      "metadata": {
        "colab": {
          "base_uri": "https://localhost:8080/",
          "height": 677
        },
        "id": "OATZrOk1q_pk",
        "outputId": "03295728-bfcf-488d-a8b5-63db0ba52753"
      },
      "source": [
        "p_d.head(20)"
      ],
      "id": "OATZrOk1q_pk",
      "execution_count": 261,
      "outputs": [
        {
          "output_type": "execute_result",
          "data": {
            "text/html": [
              "\n",
              "  <div id=\"df-cef2abf1-8a57-4a73-bc3c-b1326dcc9732\">\n",
              "    <div class=\"colab-df-container\">\n",
              "      <div>\n",
              "<style scoped>\n",
              "    .dataframe tbody tr th:only-of-type {\n",
              "        vertical-align: middle;\n",
              "    }\n",
              "\n",
              "    .dataframe tbody tr th {\n",
              "        vertical-align: top;\n",
              "    }\n",
              "\n",
              "    .dataframe thead th {\n",
              "        text-align: right;\n",
              "    }\n",
              "</style>\n",
              "<table border=\"1\" class=\"dataframe\">\n",
              "  <thead>\n",
              "    <tr style=\"text-align: right;\">\n",
              "      <th></th>\n",
              "      <th>0</th>\n",
              "    </tr>\n",
              "  </thead>\n",
              "  <tbody>\n",
              "    <tr>\n",
              "      <th>0</th>\n",
              "      <td>1.283156</td>\n",
              "    </tr>\n",
              "    <tr>\n",
              "      <th>1</th>\n",
              "      <td>1.255701</td>\n",
              "    </tr>\n",
              "    <tr>\n",
              "      <th>2</th>\n",
              "      <td>1.259477</td>\n",
              "    </tr>\n",
              "    <tr>\n",
              "      <th>3</th>\n",
              "      <td>0.724509</td>\n",
              "    </tr>\n",
              "    <tr>\n",
              "      <th>4</th>\n",
              "      <td>1.262567</td>\n",
              "    </tr>\n",
              "    <tr>\n",
              "      <th>5</th>\n",
              "      <td>0.881149</td>\n",
              "    </tr>\n",
              "    <tr>\n",
              "      <th>6</th>\n",
              "      <td>1.893820</td>\n",
              "    </tr>\n",
              "    <tr>\n",
              "      <th>7</th>\n",
              "      <td>1.712935</td>\n",
              "    </tr>\n",
              "    <tr>\n",
              "      <th>8</th>\n",
              "      <td>0.600804</td>\n",
              "    </tr>\n",
              "    <tr>\n",
              "      <th>9</th>\n",
              "      <td>0.751765</td>\n",
              "    </tr>\n",
              "    <tr>\n",
              "      <th>10</th>\n",
              "      <td>1.230687</td>\n",
              "    </tr>\n",
              "    <tr>\n",
              "      <th>11</th>\n",
              "      <td>1.231164</td>\n",
              "    </tr>\n",
              "    <tr>\n",
              "      <th>12</th>\n",
              "      <td>1.211033</td>\n",
              "    </tr>\n",
              "    <tr>\n",
              "      <th>13</th>\n",
              "      <td>1.264648</td>\n",
              "    </tr>\n",
              "    <tr>\n",
              "      <th>14</th>\n",
              "      <td>1.240121</td>\n",
              "    </tr>\n",
              "    <tr>\n",
              "      <th>15</th>\n",
              "      <td>1.336136</td>\n",
              "    </tr>\n",
              "    <tr>\n",
              "      <th>16</th>\n",
              "      <td>1.801851</td>\n",
              "    </tr>\n",
              "    <tr>\n",
              "      <th>17</th>\n",
              "      <td>1.806101</td>\n",
              "    </tr>\n",
              "    <tr>\n",
              "      <th>18</th>\n",
              "      <td>1.822984</td>\n",
              "    </tr>\n",
              "    <tr>\n",
              "      <th>19</th>\n",
              "      <td>1.819161</td>\n",
              "    </tr>\n",
              "  </tbody>\n",
              "</table>\n",
              "</div>\n",
              "      <button class=\"colab-df-convert\" onclick=\"convertToInteractive('df-cef2abf1-8a57-4a73-bc3c-b1326dcc9732')\"\n",
              "              title=\"Convert this dataframe to an interactive table.\"\n",
              "              style=\"display:none;\">\n",
              "        \n",
              "  <svg xmlns=\"http://www.w3.org/2000/svg\" height=\"24px\"viewBox=\"0 0 24 24\"\n",
              "       width=\"24px\">\n",
              "    <path d=\"M0 0h24v24H0V0z\" fill=\"none\"/>\n",
              "    <path d=\"M18.56 5.44l.94 2.06.94-2.06 2.06-.94-2.06-.94-.94-2.06-.94 2.06-2.06.94zm-11 1L8.5 8.5l.94-2.06 2.06-.94-2.06-.94L8.5 2.5l-.94 2.06-2.06.94zm10 10l.94 2.06.94-2.06 2.06-.94-2.06-.94-.94-2.06-.94 2.06-2.06.94z\"/><path d=\"M17.41 7.96l-1.37-1.37c-.4-.4-.92-.59-1.43-.59-.52 0-1.04.2-1.43.59L10.3 9.45l-7.72 7.72c-.78.78-.78 2.05 0 2.83L4 21.41c.39.39.9.59 1.41.59.51 0 1.02-.2 1.41-.59l7.78-7.78 2.81-2.81c.8-.78.8-2.07 0-2.86zM5.41 20L4 18.59l7.72-7.72 1.47 1.35L5.41 20z\"/>\n",
              "  </svg>\n",
              "      </button>\n",
              "      \n",
              "  <style>\n",
              "    .colab-df-container {\n",
              "      display:flex;\n",
              "      flex-wrap:wrap;\n",
              "      gap: 12px;\n",
              "    }\n",
              "\n",
              "    .colab-df-convert {\n",
              "      background-color: #E8F0FE;\n",
              "      border: none;\n",
              "      border-radius: 50%;\n",
              "      cursor: pointer;\n",
              "      display: none;\n",
              "      fill: #1967D2;\n",
              "      height: 32px;\n",
              "      padding: 0 0 0 0;\n",
              "      width: 32px;\n",
              "    }\n",
              "\n",
              "    .colab-df-convert:hover {\n",
              "      background-color: #E2EBFA;\n",
              "      box-shadow: 0px 1px 2px rgba(60, 64, 67, 0.3), 0px 1px 3px 1px rgba(60, 64, 67, 0.15);\n",
              "      fill: #174EA6;\n",
              "    }\n",
              "\n",
              "    [theme=dark] .colab-df-convert {\n",
              "      background-color: #3B4455;\n",
              "      fill: #D2E3FC;\n",
              "    }\n",
              "\n",
              "    [theme=dark] .colab-df-convert:hover {\n",
              "      background-color: #434B5C;\n",
              "      box-shadow: 0px 1px 3px 1px rgba(0, 0, 0, 0.15);\n",
              "      filter: drop-shadow(0px 1px 2px rgba(0, 0, 0, 0.3));\n",
              "      fill: #FFFFFF;\n",
              "    }\n",
              "  </style>\n",
              "\n",
              "      <script>\n",
              "        const buttonEl =\n",
              "          document.querySelector('#df-cef2abf1-8a57-4a73-bc3c-b1326dcc9732 button.colab-df-convert');\n",
              "        buttonEl.style.display =\n",
              "          google.colab.kernel.accessAllowed ? 'block' : 'none';\n",
              "\n",
              "        async function convertToInteractive(key) {\n",
              "          const element = document.querySelector('#df-cef2abf1-8a57-4a73-bc3c-b1326dcc9732');\n",
              "          const dataTable =\n",
              "            await google.colab.kernel.invokeFunction('convertToInteractive',\n",
              "                                                     [key], {});\n",
              "          if (!dataTable) return;\n",
              "\n",
              "          const docLinkHtml = 'Like what you see? Visit the ' +\n",
              "            '<a target=\"_blank\" href=https://colab.research.google.com/notebooks/data_table.ipynb>data table notebook</a>'\n",
              "            + ' to learn more about interactive tables.';\n",
              "          element.innerHTML = '';\n",
              "          dataTable['output_type'] = 'display_data';\n",
              "          await google.colab.output.renderOutput(dataTable, element);\n",
              "          const docLink = document.createElement('div');\n",
              "          docLink.innerHTML = docLinkHtml;\n",
              "          element.appendChild(docLink);\n",
              "        }\n",
              "      </script>\n",
              "    </div>\n",
              "  </div>\n",
              "  "
            ],
            "text/plain": [
              "           0\n",
              "0   1.283156\n",
              "1   1.255701\n",
              "2   1.259477\n",
              "3   0.724509\n",
              "4   1.262567\n",
              "5   0.881149\n",
              "6   1.893820\n",
              "7   1.712935\n",
              "8   0.600804\n",
              "9   0.751765\n",
              "10  1.230687\n",
              "11  1.231164\n",
              "12  1.211033\n",
              "13  1.264648\n",
              "14  1.240121\n",
              "15  1.336136\n",
              "16  1.801851\n",
              "17  1.806101\n",
              "18  1.822984\n",
              "19  1.819161"
            ]
          },
          "metadata": {},
          "execution_count": 261
        }
      ]
    },
    {
      "cell_type": "code",
      "metadata": {
        "id": "TrjHhy-ArIYN"
      },
      "source": [
        "p_d.to_excel('lst_a.xlsx') #PRINT ACTUAL VALUE"
      ],
      "id": "TrjHhy-ArIYN",
      "execution_count": 262,
      "outputs": []
    },
    {
      "cell_type": "code",
      "metadata": {
        "id": "xXVzfbiwrJes"
      },
      "source": [
        "p_d_2=pd.DataFrame(predicted_vol)"
      ],
      "id": "xXVzfbiwrJes",
      "execution_count": 263,
      "outputs": []
    },
    {
      "cell_type": "code",
      "metadata": {
        "id": "rsNjF8jqrJF8"
      },
      "source": [
        "p_d_2.to_excel('lst_p.xlsx') #PRINT PREDICTED VALUE"
      ],
      "id": "rsNjF8jqrJF8",
      "execution_count": 264,
      "outputs": []
    },
    {
      "cell_type": "code",
      "metadata": {
        "id": "QQkd3tqDrH0O"
      },
      "source": [
        "#p_d_2.head(20)"
      ],
      "id": "QQkd3tqDrH0O",
      "execution_count": 265,
      "outputs": []
    },
    {
      "cell_type": "code",
      "metadata": {
        "colab": {
          "base_uri": "https://localhost:8080/",
          "height": 597
        },
        "id": "nwg_0UQBrSN-",
        "outputId": "0525fbe2-f1fa-4988-c294-8a72f8aa260f"
      },
      "source": [
        "plt.scatter(p_d, p_d_2)\n",
        "plt.show()"
      ],
      "id": "nwg_0UQBrSN-",
      "execution_count": 267,
      "outputs": [
        {
          "output_type": "error",
          "ename": "ValueError",
          "evalue": "ignored",
          "traceback": [
            "\u001b[0;31m---------------------------------------------------------------------------\u001b[0m",
            "\u001b[0;31mValueError\u001b[0m                                Traceback (most recent call last)",
            "\u001b[0;32m<ipython-input-267-51e1fcf0cb16>\u001b[0m in \u001b[0;36m<module>\u001b[0;34m()\u001b[0m\n\u001b[0;32m----> 1\u001b[0;31m \u001b[0mplt\u001b[0m\u001b[0;34m.\u001b[0m\u001b[0mscatter\u001b[0m\u001b[0;34m(\u001b[0m\u001b[0mp_d\u001b[0m\u001b[0;34m,\u001b[0m \u001b[0mp_d_2\u001b[0m\u001b[0;34m)\u001b[0m\u001b[0;34m\u001b[0m\u001b[0;34m\u001b[0m\u001b[0m\n\u001b[0m\u001b[1;32m      2\u001b[0m \u001b[0mplt\u001b[0m\u001b[0;34m.\u001b[0m\u001b[0mshow\u001b[0m\u001b[0;34m(\u001b[0m\u001b[0;34m)\u001b[0m\u001b[0;34m\u001b[0m\u001b[0;34m\u001b[0m\u001b[0m\n",
            "\u001b[0;32m/usr/local/lib/python3.7/dist-packages/matplotlib/pyplot.py\u001b[0m in \u001b[0;36mscatter\u001b[0;34m(x, y, s, c, marker, cmap, norm, vmin, vmax, alpha, linewidths, verts, edgecolors, plotnonfinite, data, **kwargs)\u001b[0m\n\u001b[1;32m   2814\u001b[0m         return_line=None, *, data=None, **kwargs):\n\u001b[1;32m   2815\u001b[0m     return gca().psd(\n\u001b[0;32m-> 2816\u001b[0;31m         \u001b[0mx\u001b[0m\u001b[0;34m,\u001b[0m \u001b[0mNFFT\u001b[0m\u001b[0;34m=\u001b[0m\u001b[0mNFFT\u001b[0m\u001b[0;34m,\u001b[0m \u001b[0mFs\u001b[0m\u001b[0;34m=\u001b[0m\u001b[0mFs\u001b[0m\u001b[0;34m,\u001b[0m \u001b[0mFc\u001b[0m\u001b[0;34m=\u001b[0m\u001b[0mFc\u001b[0m\u001b[0;34m,\u001b[0m \u001b[0mdetrend\u001b[0m\u001b[0;34m=\u001b[0m\u001b[0mdetrend\u001b[0m\u001b[0;34m,\u001b[0m \u001b[0mwindow\u001b[0m\u001b[0;34m=\u001b[0m\u001b[0mwindow\u001b[0m\u001b[0;34m,\u001b[0m\u001b[0;34m\u001b[0m\u001b[0;34m\u001b[0m\u001b[0m\n\u001b[0m\u001b[1;32m   2817\u001b[0m         \u001b[0mnoverlap\u001b[0m\u001b[0;34m=\u001b[0m\u001b[0mnoverlap\u001b[0m\u001b[0;34m,\u001b[0m \u001b[0mpad_to\u001b[0m\u001b[0;34m=\u001b[0m\u001b[0mpad_to\u001b[0m\u001b[0;34m,\u001b[0m \u001b[0msides\u001b[0m\u001b[0;34m=\u001b[0m\u001b[0msides\u001b[0m\u001b[0;34m,\u001b[0m\u001b[0;34m\u001b[0m\u001b[0;34m\u001b[0m\u001b[0m\n\u001b[1;32m   2818\u001b[0m         \u001b[0mscale_by_freq\u001b[0m\u001b[0;34m=\u001b[0m\u001b[0mscale_by_freq\u001b[0m\u001b[0;34m,\u001b[0m \u001b[0mreturn_line\u001b[0m\u001b[0;34m=\u001b[0m\u001b[0mreturn_line\u001b[0m\u001b[0;34m,\u001b[0m\u001b[0;34m\u001b[0m\u001b[0;34m\u001b[0m\u001b[0m\n",
            "\u001b[0;32m/usr/local/lib/python3.7/dist-packages/matplotlib/__init__.py\u001b[0m in \u001b[0;36minner\u001b[0;34m(ax, data, *args, **kwargs)\u001b[0m\n\u001b[1;32m   1563\u001b[0m             \u001b[0m_preprocess_data\u001b[0m\u001b[0;34m,\u001b[0m\u001b[0;34m\u001b[0m\u001b[0;34m\u001b[0m\u001b[0m\n\u001b[1;32m   1564\u001b[0m             replace_names=replace_names, label_namer=label_namer)\n\u001b[0;32m-> 1565\u001b[0;31m \u001b[0;34m\u001b[0m\u001b[0m\n\u001b[0m\u001b[1;32m   1566\u001b[0m     \u001b[0msig\u001b[0m \u001b[0;34m=\u001b[0m \u001b[0minspect\u001b[0m\u001b[0;34m.\u001b[0m\u001b[0msignature\u001b[0m\u001b[0;34m(\u001b[0m\u001b[0mfunc\u001b[0m\u001b[0;34m)\u001b[0m\u001b[0;34m\u001b[0m\u001b[0;34m\u001b[0m\u001b[0m\n\u001b[1;32m   1567\u001b[0m     \u001b[0mvarargs_name\u001b[0m \u001b[0;34m=\u001b[0m \u001b[0;32mNone\u001b[0m\u001b[0;34m\u001b[0m\u001b[0;34m\u001b[0m\u001b[0m\n",
            "\u001b[0;32m/usr/local/lib/python3.7/dist-packages/matplotlib/cbook/deprecation.py\u001b[0m in \u001b[0;36mwrapper\u001b[0;34m(*args, **kwargs)\u001b[0m\n\u001b[1;32m    356\u001b[0m         for param in signature.parameters.values()])\n\u001b[1;32m    357\u001b[0m \u001b[0;34m\u001b[0m\u001b[0m\n\u001b[0;32m--> 358\u001b[0;31m     \u001b[0;34m@\u001b[0m\u001b[0mfunctools\u001b[0m\u001b[0;34m.\u001b[0m\u001b[0mwraps\u001b[0m\u001b[0;34m(\u001b[0m\u001b[0mfunc\u001b[0m\u001b[0;34m)\u001b[0m\u001b[0;34m\u001b[0m\u001b[0;34m\u001b[0m\u001b[0m\n\u001b[0m\u001b[1;32m    359\u001b[0m     \u001b[0;32mdef\u001b[0m \u001b[0mwrapper\u001b[0m\u001b[0;34m(\u001b[0m\u001b[0;34m*\u001b[0m\u001b[0margs\u001b[0m\u001b[0;34m,\u001b[0m \u001b[0;34m**\u001b[0m\u001b[0mkwargs\u001b[0m\u001b[0;34m)\u001b[0m\u001b[0;34m:\u001b[0m\u001b[0;34m\u001b[0m\u001b[0;34m\u001b[0m\u001b[0m\n\u001b[1;32m    360\u001b[0m         \u001b[0marguments\u001b[0m \u001b[0;34m=\u001b[0m \u001b[0mfunc\u001b[0m\u001b[0;34m.\u001b[0m\u001b[0m__signature__\u001b[0m\u001b[0;34m.\u001b[0m\u001b[0mbind\u001b[0m\u001b[0;34m(\u001b[0m\u001b[0;34m*\u001b[0m\u001b[0margs\u001b[0m\u001b[0;34m,\u001b[0m \u001b[0;34m**\u001b[0m\u001b[0mkwargs\u001b[0m\u001b[0;34m)\u001b[0m\u001b[0;34m.\u001b[0m\u001b[0marguments\u001b[0m\u001b[0;34m\u001b[0m\u001b[0;34m\u001b[0m\u001b[0m\n",
            "\u001b[0;32m/usr/local/lib/python3.7/dist-packages/matplotlib/axes/_axes.py\u001b[0m in \u001b[0;36mscatter\u001b[0;34m(self, x, y, s, c, marker, cmap, norm, vmin, vmax, alpha, linewidths, verts, edgecolors, plotnonfinite, **kwargs)\u001b[0m\n\u001b[1;32m   4389\u001b[0m             \u001b[0;34m-\u001b[0m \u001b[0;34m'none'\u001b[0m\u001b[0;34m:\u001b[0m \u001b[0mNo\u001b[0m \u001b[0mpatch\u001b[0m \u001b[0mboundary\u001b[0m \u001b[0mwill\u001b[0m \u001b[0mbe\u001b[0m \u001b[0mdrawn\u001b[0m\u001b[0;34m.\u001b[0m\u001b[0;34m\u001b[0m\u001b[0;34m\u001b[0m\u001b[0m\n\u001b[1;32m   4390\u001b[0m             \u001b[0;34m-\u001b[0m \u001b[0mA\u001b[0m \u001b[0mMatplotlib\u001b[0m \u001b[0mcolor\u001b[0m \u001b[0;32mor\u001b[0m \u001b[0msequence\u001b[0m \u001b[0mof\u001b[0m \u001b[0mcolor\u001b[0m\u001b[0;34m.\u001b[0m\u001b[0;34m\u001b[0m\u001b[0;34m\u001b[0m\u001b[0m\n\u001b[0;32m-> 4391\u001b[0;31m \u001b[0;34m\u001b[0m\u001b[0m\n\u001b[0m\u001b[1;32m   4392\u001b[0m             \u001b[0mDefaults\u001b[0m \u001b[0mto\u001b[0m\u001b[0;31m \u001b[0m\u001b[0;31m`\u001b[0m\u001b[0;31m`\u001b[0m\u001b[0;32mNone\u001b[0m\u001b[0;31m`\u001b[0m\u001b[0;31m`\u001b[0m\u001b[0;34m,\u001b[0m \u001b[0;32min\u001b[0m \u001b[0mwhich\u001b[0m \u001b[0mcase\u001b[0m \u001b[0mit\u001b[0m \u001b[0mtakes\u001b[0m \u001b[0mthe\u001b[0m \u001b[0mvalue\u001b[0m \u001b[0mof\u001b[0m\u001b[0;34m\u001b[0m\u001b[0;34m\u001b[0m\u001b[0m\n\u001b[1;32m   4393\u001b[0m             \u001b[0;34m:\u001b[0m\u001b[0mrc\u001b[0m\u001b[0;34m:\u001b[0m\u001b[0;31m`\u001b[0m\u001b[0mscatter\u001b[0m\u001b[0;34m.\u001b[0m\u001b[0medgecolors\u001b[0m\u001b[0;31m`\u001b[0m \u001b[0;34m=\u001b[0m \u001b[0;34m'face'\u001b[0m\u001b[0;34m.\u001b[0m\u001b[0;34m\u001b[0m\u001b[0;34m\u001b[0m\u001b[0m\n",
            "\u001b[0;31mValueError\u001b[0m: x and y must be the same size"
          ]
        },
        {
          "output_type": "display_data",
          "data": {
            "image/png": "[encoded data removed]",
            "text/plain": [
              "<Figure size 432x288 with 1 Axes>"
            ]
          },
          "metadata": {
            "needs_background": "light"
          }
        }
      ]
    },
    {
      "cell_type": "markdown",
      "metadata": {
        "id": "ea435b9e"
      },
      "source": [
        "### Ploting Volatility Real Rolling  vs LSTM Forecasted"
      ],
      "id": "ea435b9e"
    },
    {
      "cell_type": "code",
      "metadata": {
        "colab": {
          "base_uri": "https://localhost:8080/",
          "height": 370
        },
        "id": "c17ce731",
        "outputId": "672a0642-b625-4915-b1b5-7ac9a65b59a9"
      },
      "source": [
        "# Visualising the results\n",
        "plt.figure(figsize=(16,6))\n",
        "plt.plot(df.iloc[100:, 9:10].values, color = 'red', label = 'Volatility Observed')\n",
        "plt.plot(predicted_vol, color = 'green', label = 'LSTM Predicted Volatility')\n",
        "plt.title('Volatility Real Rolling  vs LSTM Forecast ')\n",
        "plt.xlabel('Time')\n",
        "plt.ylabel('Volatility')\n",
        "plt.legend()\n",
        "plt.show()"
      ],
      "id": "c17ce731",
      "execution_count": 268,
      "outputs": [
        {
          "output_type": "display_data",
          "data": {
            "image/png": "[encoded data removed]",
            "text/plain": [
              "<Figure size 1152x432 with 1 Axes>"
            ]
          },
          "metadata": {
            "needs_background": "light"
          }
        }
      ]
    },
    {
      "cell_type": "code",
      "source": [
        "from sklearn.metrics import accuracy_score\n",
        "clf1.score(df.iloc[100:, 9:10].values, predicted_vol)"
      ],
      "metadata": {
        "colab": {
          "base_uri": "https://localhost:8080/"
        },
        "id": "TyQyRGI3BXlv",
        "outputId": "db18ad1d-4a81-4cb7-b473-558db91a8dc9"
      },
      "id": "TyQyRGI3BXlv",
      "execution_count": 269,
      "outputs": [
        {
          "output_type": "stream",
          "name": "stdout",
          "text": [
            "976/976 [==============================] - 2s 2ms/step - loss: 0.0898\n"
          ]
        },
        {
          "output_type": "execute_result",
          "data": {
            "text/plain": [
              "-0.0897662416100502"
            ]
          },
          "metadata": {},
          "execution_count": 269
        }
      ]
    },
    {
      "cell_type": "code",
      "source": [
        "clf1.score(X_train, y_train)"
      ],
      "metadata": {
        "colab": {
          "base_uri": "https://localhost:8080/"
        },
        "id": "motQ18JvPR_e",
        "outputId": "09af1818-0e60-46a9-dc15-35d30b2529b0"
      },
      "id": "motQ18JvPR_e",
      "execution_count": 270,
      "outputs": [
        {
          "output_type": "stream",
          "name": "stdout",
          "text": [
            "976/976 [==============================] - 15s 15ms/step - loss: 0.0640\n"
          ]
        },
        {
          "output_type": "execute_result",
          "data": {
            "text/plain": [
              "-0.06403809040784836"
            ]
          },
          "metadata": {},
          "execution_count": 270
        }
      ]
    },
    {
      "cell_type": "markdown",
      "metadata": {
        "id": "1e6f2422"
      },
      "source": [
        "### Calculating RMSE value for LSTM Model"
      ],
      "id": "1e6f2422"
    },
    {
      "cell_type": "code",
      "metadata": {
        "colab": {
          "base_uri": "https://localhost:8080/",
          "height": 345
        },
        "id": "c3996c6b",
        "outputId": "47eaa199-b67d-49f6-ebeb-b3bd6f600890"
      },
      "source": [
        " print('RMSE calculated for LSTM model:', np.sqrt(metrics.mean_squared_error(df.iloc[100:, 9:10].values, predicted_vol)))\n"
      ],
      "id": "c3996c6b",
      "execution_count": 272,
      "outputs": [
        {
          "output_type": "error",
          "ename": "ValueError",
          "evalue": "ignored",
          "traceback": [
            "\u001b[0;31m---------------------------------------------------------------------------\u001b[0m",
            "\u001b[0;31mValueError\u001b[0m                                Traceback (most recent call last)",
            "\u001b[0;32m<ipython-input-272-6f1c7242c0e6>\u001b[0m in \u001b[0;36m<module>\u001b[0;34m()\u001b[0m\n\u001b[0;32m----> 1\u001b[0;31m \u001b[0mprint\u001b[0m\u001b[0;34m(\u001b[0m\u001b[0;34m'RMSE calculated for LSTM model:'\u001b[0m\u001b[0;34m,\u001b[0m \u001b[0mnp\u001b[0m\u001b[0;34m.\u001b[0m\u001b[0msqrt\u001b[0m\u001b[0;34m(\u001b[0m\u001b[0mmetrics\u001b[0m\u001b[0;34m.\u001b[0m\u001b[0mmean_squared_error\u001b[0m\u001b[0;34m(\u001b[0m\u001b[0mdf\u001b[0m\u001b[0;34m.\u001b[0m\u001b[0miloc\u001b[0m\u001b[0;34m[\u001b[0m\u001b[0;36m100\u001b[0m\u001b[0;34m:\u001b[0m\u001b[0;34m,\u001b[0m \u001b[0;36m9\u001b[0m\u001b[0;34m:\u001b[0m\u001b[0;36m10\u001b[0m\u001b[0;34m]\u001b[0m\u001b[0;34m.\u001b[0m\u001b[0mvalues\u001b[0m\u001b[0;34m,\u001b[0m \u001b[0mpredicted_vol\u001b[0m\u001b[0;34m)\u001b[0m\u001b[0;34m)\u001b[0m\u001b[0;34m)\u001b[0m\u001b[0;34m\u001b[0m\u001b[0;34m\u001b[0m\u001b[0m\n\u001b[0m",
            "\u001b[0;32m/usr/local/lib/python3.7/dist-packages/sklearn/metrics/_regression.py\u001b[0m in \u001b[0;36mmean_squared_error\u001b[0;34m(y_true, y_pred, sample_weight, multioutput, squared)\u001b[0m\n\u001b[1;32m    422\u001b[0m     \"\"\"\n\u001b[1;32m    423\u001b[0m     y_type, y_true, y_pred, multioutput = _check_reg_targets(\n\u001b[0;32m--> 424\u001b[0;31m         \u001b[0my_true\u001b[0m\u001b[0;34m,\u001b[0m \u001b[0my_pred\u001b[0m\u001b[0;34m,\u001b[0m \u001b[0mmultioutput\u001b[0m\u001b[0;34m\u001b[0m\u001b[0;34m\u001b[0m\u001b[0m\n\u001b[0m\u001b[1;32m    425\u001b[0m     )\n\u001b[1;32m    426\u001b[0m     \u001b[0mcheck_consistent_length\u001b[0m\u001b[0;34m(\u001b[0m\u001b[0my_true\u001b[0m\u001b[0;34m,\u001b[0m \u001b[0my_pred\u001b[0m\u001b[0;34m,\u001b[0m \u001b[0msample_weight\u001b[0m\u001b[0;34m)\u001b[0m\u001b[0;34m\u001b[0m\u001b[0;34m\u001b[0m\u001b[0m\n",
            "\u001b[0;32m/usr/local/lib/python3.7/dist-packages/sklearn/metrics/_regression.py\u001b[0m in \u001b[0;36m_check_reg_targets\u001b[0;34m(y_true, y_pred, multioutput, dtype)\u001b[0m\n\u001b[1;32m    100\u001b[0m         raise ValueError(\n\u001b[1;32m    101\u001b[0m             \"y_true and y_pred have different number of output ({0}!={1})\".format(\n\u001b[0;32m--> 102\u001b[0;31m                 \u001b[0my_true\u001b[0m\u001b[0;34m.\u001b[0m\u001b[0mshape\u001b[0m\u001b[0;34m[\u001b[0m\u001b[0;36m1\u001b[0m\u001b[0;34m]\u001b[0m\u001b[0;34m,\u001b[0m \u001b[0my_pred\u001b[0m\u001b[0;34m.\u001b[0m\u001b[0mshape\u001b[0m\u001b[0;34m[\u001b[0m\u001b[0;36m1\u001b[0m\u001b[0;34m]\u001b[0m\u001b[0;34m\u001b[0m\u001b[0;34m\u001b[0m\u001b[0m\n\u001b[0m\u001b[1;32m    103\u001b[0m             )\n\u001b[1;32m    104\u001b[0m         )\n",
            "\u001b[0;31mValueError\u001b[0m: y_true and y_pred have different number of output (1!=10)"
          ]
        }
      ]
    },
    {
      "cell_type": "code",
      "source": [
        "print('MAE calculated for LSTM model:', MAE(df.iloc[100:, 9:10].values, predicted_vol))"
      ],
      "metadata": {
        "id": "ZiBDGqvhae-q",
        "colab": {
          "base_uri": "https://localhost:8080/",
          "height": 328
        },
        "outputId": "690d9b2d-1954-4344-b212-19e2f01229fc"
      },
      "id": "ZiBDGqvhae-q",
      "execution_count": 253,
      "outputs": [
        {
          "output_type": "error",
          "ename": "ValueError",
          "evalue": "ignored",
          "traceback": [
            "\u001b[0;31m---------------------------------------------------------------------------\u001b[0m",
            "\u001b[0;31mValueError\u001b[0m                                Traceback (most recent call last)",
            "\u001b[0;32m<ipython-input-253-57ea590b9289>\u001b[0m in \u001b[0;36m<module>\u001b[0;34m()\u001b[0m\n\u001b[0;32m----> 1\u001b[0;31m \u001b[0mprint\u001b[0m\u001b[0;34m(\u001b[0m\u001b[0;34m'MAE calculated for LSTM model:'\u001b[0m\u001b[0;34m,\u001b[0m \u001b[0mMAE\u001b[0m\u001b[0;34m(\u001b[0m\u001b[0mdf\u001b[0m\u001b[0;34m.\u001b[0m\u001b[0miloc\u001b[0m\u001b[0;34m[\u001b[0m\u001b[0;36m100\u001b[0m\u001b[0;34m:\u001b[0m\u001b[0;34m,\u001b[0m \u001b[0;36m9\u001b[0m\u001b[0;34m:\u001b[0m\u001b[0;36m10\u001b[0m\u001b[0;34m]\u001b[0m\u001b[0;34m.\u001b[0m\u001b[0mvalues\u001b[0m\u001b[0;34m,\u001b[0m \u001b[0mpredicted_vol\u001b[0m\u001b[0;34m)\u001b[0m\u001b[0;34m)\u001b[0m\u001b[0;34m\u001b[0m\u001b[0;34m\u001b[0m\u001b[0m\n\u001b[0m",
            "\u001b[0;32m/usr/local/lib/python3.7/dist-packages/sklearn/metrics/_regression.py\u001b[0m in \u001b[0;36mmean_absolute_error\u001b[0;34m(y_true, y_pred, sample_weight, multioutput)\u001b[0m\n\u001b[1;32m    185\u001b[0m     \"\"\"\n\u001b[1;32m    186\u001b[0m     y_type, y_true, y_pred, multioutput = _check_reg_targets(\n\u001b[0;32m--> 187\u001b[0;31m         \u001b[0my_true\u001b[0m\u001b[0;34m,\u001b[0m \u001b[0my_pred\u001b[0m\u001b[0;34m,\u001b[0m \u001b[0mmultioutput\u001b[0m\u001b[0;34m\u001b[0m\u001b[0;34m\u001b[0m\u001b[0m\n\u001b[0m\u001b[1;32m    188\u001b[0m     )\n\u001b[1;32m    189\u001b[0m     \u001b[0mcheck_consistent_length\u001b[0m\u001b[0;34m(\u001b[0m\u001b[0my_true\u001b[0m\u001b[0;34m,\u001b[0m \u001b[0my_pred\u001b[0m\u001b[0;34m,\u001b[0m \u001b[0msample_weight\u001b[0m\u001b[0;34m)\u001b[0m\u001b[0;34m\u001b[0m\u001b[0;34m\u001b[0m\u001b[0m\n",
            "\u001b[0;32m/usr/local/lib/python3.7/dist-packages/sklearn/metrics/_regression.py\u001b[0m in \u001b[0;36m_check_reg_targets\u001b[0;34m(y_true, y_pred, multioutput, dtype)\u001b[0m\n\u001b[1;32m    100\u001b[0m         raise ValueError(\n\u001b[1;32m    101\u001b[0m             \"y_true and y_pred have different number of output ({0}!={1})\".format(\n\u001b[0;32m--> 102\u001b[0;31m                 \u001b[0my_true\u001b[0m\u001b[0;34m.\u001b[0m\u001b[0mshape\u001b[0m\u001b[0;34m[\u001b[0m\u001b[0;36m1\u001b[0m\u001b[0;34m]\u001b[0m\u001b[0;34m,\u001b[0m \u001b[0my_pred\u001b[0m\u001b[0;34m.\u001b[0m\u001b[0mshape\u001b[0m\u001b[0;34m[\u001b[0m\u001b[0;36m1\u001b[0m\u001b[0;34m]\u001b[0m\u001b[0;34m\u001b[0m\u001b[0;34m\u001b[0m\u001b[0m\n\u001b[0m\u001b[1;32m    103\u001b[0m             )\n\u001b[1;32m    104\u001b[0m         )\n",
            "\u001b[0;31mValueError\u001b[0m: y_true and y_pred have different number of output (1!=10)"
          ]
        }
      ]
    },
    {
      "cell_type": "code",
      "source": [
        "print('MAPE calculated for LSTM model:',mean_absolute_percentage_error(df.iloc[100:, 9:10], predicted_vol))"
      ],
      "metadata": {
        "colab": {
          "base_uri": "https://localhost:8080/"
        },
        "id": "Uzb7sHTvF8Kp",
        "outputId": "977dd68d-9a0f-4e00-b2eb-500056b6a894"
      },
      "id": "Uzb7sHTvF8Kp",
      "execution_count": 127,
      "outputs": [
        {
          "output_type": "stream",
          "name": "stdout",
          "text": [
            "MAPE calculated for LSTM model: 0.20451732640625137\n"
          ]
        }
      ]
    },
    {
      "cell_type": "markdown",
      "metadata": {
        "id": "dbaf1d39"
      },
      "source": [
        "## Volatility Prediction using Monte Carlo Simulation"
      ],
      "id": "dbaf1d39"
    },
    {
      "cell_type": "code",
      "metadata": {
        "id": "1c69687b"
      },
      "source": [
        "returns_M = df['Volatility']"
      ],
      "id": "1c69687b",
      "execution_count": 59,
      "outputs": []
    },
    {
      "cell_type": "code",
      "metadata": {
        "id": "cd1285d0"
      },
      "source": [
        "last_Close = df.Volatility[-1]"
      ],
      "id": "cd1285d0",
      "execution_count": 60,
      "outputs": []
    },
    {
      "cell_type": "markdown",
      "metadata": {
        "id": "19f6168f"
      },
      "source": [
        "### Number of Simulations"
      ],
      "id": "19f6168f"
    },
    {
      "cell_type": "code",
      "metadata": {
        "id": "d13f2afe"
      },
      "source": [
        "num_simulations = 10\n",
        "num_days = 252"
      ],
      "id": "d13f2afe",
      "execution_count": 61,
      "outputs": []
    },
    {
      "cell_type": "code",
      "metadata": {
        "id": "1d97a5ee"
      },
      "source": [
        "simulation_df = pd.DataFrame()\n",
        "for x in range(num_simulations):\n",
        "    count = 0\n",
        "    daily_vol = returns_M.std()\n",
        "    \n",
        "    price_series = []\n",
        "    \n",
        "    price = last_Close * (1 + np.random.normal(0, daily_vol))\n",
        "    price_series.append(price)\n",
        "    \n",
        "    for y in range(num_days):\n",
        "        if count == 251:\n",
        "            break\n",
        "        price = price_series[count] * (1 + np.random.normal(0, daily_vol))\n",
        "        price_series.append(price)\n",
        "        count += 1\n",
        "    \n",
        "    simulation_df[x] = price_series"
      ],
      "id": "1d97a5ee",
      "execution_count": 62,
      "outputs": []
    },
    {
      "cell_type": "code",
      "metadata": {
        "id": "clNAf-8orweQ"
      },
      "source": [
        "MC_a=df['Volatility'].head(252)"
      ],
      "id": "clNAf-8orweQ",
      "execution_count": 63,
      "outputs": []
    },
    {
      "cell_type": "code",
      "metadata": {
        "id": "kxuwlo7YrwS1"
      },
      "source": [
        "MC_a.to_excel('MC_a.xlsx') # to export actual values of MC MODEL"
      ],
      "id": "kxuwlo7YrwS1",
      "execution_count": 64,
      "outputs": []
    },
    {
      "cell_type": "code",
      "metadata": {
        "id": "h9kl-nD4rv_2"
      },
      "source": [
        "simulation_df.to_excel('MC.xlsx') # FOR TOP 252 DAYS PREDICTED VALUE USING MC"
      ],
      "id": "h9kl-nD4rv_2",
      "execution_count": 65,
      "outputs": []
    },
    {
      "cell_type": "markdown",
      "metadata": {
        "id": "63b5f280"
      },
      "source": [
        "### Ploting Monte Carlo Volatility"
      ],
      "id": "63b5f280"
    },
    {
      "cell_type": "code",
      "metadata": {
        "colab": {
          "base_uri": "https://localhost:8080/",
          "height": 315
        },
        "id": "b8388f1b",
        "outputId": "70e38ff0-3523-480a-f572-505eed481f19"
      },
      "source": [
        "fig = plt.figure(figsize=(30,9))\n",
        "fig.suptitle('Monte Carlo Simulation')\n",
        "plt.plot(simulation_df)\n",
        "plt.axhline(y = last_Close, color = 'r', linestyle = '-')\n",
        "plt.xlabel('Day')\n",
        "plt.ylabel('Price')\n",
        "plt.show()"
      ],
      "id": "b8388f1b",
      "execution_count": 66,
      "outputs": [
        {
          "output_type": "display_data",
          "data": {
            "image/png": "[encoded data removed]",
            "text/plain": [
              "<Figure size 2160x648 with 1 Axes>"
            ]
          },
          "metadata": {
            "needs_background": "light"
          }
        }
      ]
    },
    {
      "cell_type": "code",
      "metadata": {
        "colab": {
          "base_uri": "https://localhost:8080/"
        },
        "id": "F9Jc0ZFiWNRR",
        "outputId": "f287690f-0f4b-4d87-aeb5-b107513b9cac"
      },
      "source": [
        "print('RMSE calculated for MC model:', np.sqrt(metrics.mean_squared_error(df.iloc[0:252:, 9:10].values,  simulation_df[0])))"
      ],
      "id": "F9Jc0ZFiWNRR",
      "execution_count": 67,
      "outputs": [
        {
          "output_type": "stream",
          "name": "stdout",
          "text": [
            "RMSE calculated for MC model: 1.121675238959691\n"
          ]
        }
      ]
    },
    {
      "cell_type": "code",
      "source": [
        "print('MAE calculated for MC model:',MAE(df.iloc[0:252, 9:10].values, simulation_df[0]))"
      ],
      "metadata": {
        "id": "GM1GVojdbCoy",
        "colab": {
          "base_uri": "https://localhost:8080/"
        },
        "outputId": "5a21aa3e-0125-4ba4-ab55-1356105f55e5"
      },
      "id": "GM1GVojdbCoy",
      "execution_count": 68,
      "outputs": [
        {
          "output_type": "stream",
          "name": "stdout",
          "text": [
            "MAE calculated for MC model: 1.0318227429539697\n"
          ]
        }
      ]
    },
    {
      "cell_type": "code",
      "source": [
        "print('MAPE calculated for MC model:',mean_absolute_percentage_error(df.iloc[0:252, 9:10].values, simulation_df[0]))"
      ],
      "metadata": {
        "colab": {
          "base_uri": "https://localhost:8080/"
        },
        "id": "mzvpbx8nF4EL",
        "outputId": "8789b792-4602-48da-df68-c8cdb8cbe878"
      },
      "id": "mzvpbx8nF4EL",
      "execution_count": 69,
      "outputs": [
        {
          "output_type": "stream",
          "name": "stdout",
          "text": [
            "MAPE calculated for MC model: 0.9410732648562554\n"
          ]
        }
      ]
    },
    {
      "cell_type": "markdown",
      "metadata": {
        "id": "077fae72"
      },
      "source": [
        "## Volatility Prediction Using SVM"
      ],
      "id": "077fae72"
    },
    {
      "cell_type": "markdown",
      "metadata": {
        "id": "8be554ed"
      },
      "source": [
        "### Preparing testing and training dataset"
      ],
      "id": "8be554ed"
    },
    {
      "cell_type": "code",
      "metadata": {
        "id": "b2afa0e6"
      },
      "source": [
        "training_set = df.iloc[:, 9:10].values\n",
        "X_tr = []\n",
        "y_tr = []\n",
        "for i in range(10, df.shape[0]):\n",
        "    X_tr.append(training_set[i-10:i,0])\n",
        "    y_tr.append(training_set[i,0])\n",
        "X_tr, y_tr = np.array(X_tr), np.array(y_tr)"
      ],
      "id": "b2afa0e6",
      "execution_count": 157,
      "outputs": []
    },
    {
      "cell_type": "markdown",
      "metadata": {
        "id": "a7a69091"
      },
      "source": [
        "#### RBF model"
      ],
      "id": "a7a69091"
    },
    {
      "cell_type": "code",
      "metadata": {
        "id": "ea8abccb"
      },
      "source": [
        "svr_rbf = SVR(kernel='rbf',C=1,gamma=5, epsilon=0.01)\n",
        "#svr_rbf = SVR(kernel='rbf', C=1000, gamma=8)"
      ],
      "id": "ea8abccb",
      "execution_count": 205,
      "outputs": []
    },
    {
      "cell_type": "code",
      "source": [
        "parameters = {'kernel':('linear', 'rbf'), 'C':[1, 10]}\n",
        "clf = GridSearchCV(svr_rbf, parameters)"
      ],
      "metadata": {
        "id": "cfpSksssGMhI"
      },
      "id": "cfpSksssGMhI",
      "execution_count": 206,
      "outputs": []
    },
    {
      "cell_type": "code",
      "source": [
        "y_rbf = clf.fit(X_tr,y_tr).predict(X_tr)"
      ],
      "metadata": {
        "id": "6XWQKyG3GPFJ"
      },
      "id": "6XWQKyG3GPFJ",
      "execution_count": 207,
      "outputs": []
    },
    {
      "cell_type": "code",
      "metadata": {
        "id": "7f70e93b"
      },
      "source": [
        "#y_rbf = svr_rbf.fit(X_tr,y_tr).predict(X_tr)"
      ],
      "id": "7f70e93b",
      "execution_count": 208,
      "outputs": []
    },
    {
      "cell_type": "code",
      "source": [
        "clf.get_params()"
      ],
      "metadata": {
        "colab": {
          "base_uri": "https://localhost:8080/"
        },
        "id": "i88whfmzGUo4",
        "outputId": "ed5be7fe-154e-49bb-be43-617e5ea515d6"
      },
      "id": "i88whfmzGUo4",
      "execution_count": 209,
      "outputs": [
        {
          "output_type": "execute_result",
          "data": {
            "text/plain": [
              "{'cv': None,\n",
              " 'error_score': nan,\n",
              " 'estimator': SVR(C=1, epsilon=0.01, gamma=5),\n",
              " 'estimator__C': 1,\n",
              " 'estimator__cache_size': 200,\n",
              " 'estimator__coef0': 0.0,\n",
              " 'estimator__degree': 3,\n",
              " 'estimator__epsilon': 0.01,\n",
              " 'estimator__gamma': 5,\n",
              " 'estimator__kernel': 'rbf',\n",
              " 'estimator__max_iter': -1,\n",
              " 'estimator__shrinking': True,\n",
              " 'estimator__tol': 0.001,\n",
              " 'estimator__verbose': False,\n",
              " 'n_jobs': None,\n",
              " 'param_grid': {'C': [1, 10], 'kernel': ('linear', 'rbf')},\n",
              " 'pre_dispatch': '2*n_jobs',\n",
              " 'refit': True,\n",
              " 'return_train_score': False,\n",
              " 'scoring': None,\n",
              " 'verbose': 0}"
            ]
          },
          "metadata": {},
          "execution_count": 209
        }
      ]
    },
    {
      "cell_type": "code",
      "metadata": {
        "id": "d29b097e"
      },
      "source": [
        "predicted_vol_rbf = np.exp(y_rbf)"
      ],
      "id": "d29b097e",
      "execution_count": 210,
      "outputs": []
    },
    {
      "cell_type": "code",
      "source": [
        "print(metrics.r2_score(y_tr, y_rbf))"
      ],
      "metadata": {
        "colab": {
          "base_uri": "https://localhost:8080/"
        },
        "id": "tLyhRYDARRns",
        "outputId": "7bbabb61-d894-4fde-c692-df720d670633"
      },
      "id": "tLyhRYDARRns",
      "execution_count": 211,
      "outputs": [
        {
          "output_type": "stream",
          "name": "stdout",
          "text": [
            "0.5125068597200597\n"
          ]
        }
      ]
    },
    {
      "cell_type": "markdown",
      "metadata": {
        "id": "5b678b06"
      },
      "source": [
        "#### Linear model"
      ],
      "id": "5b678b06"
    },
    {
      "cell_type": "code",
      "metadata": {
        "id": "06210f94"
      },
      "source": [
        "svr_linear = SVR(kernel='linear',C=5, gamma=5, epsilon=0.01)"
      ],
      "id": "06210f94",
      "execution_count": 212,
      "outputs": []
    },
    {
      "cell_type": "code",
      "source": [
        "parameters = {'kernel':('linear', 'rbf'), 'C':[1, 10]}\n",
        "clf1 = GridSearchCV(svr_linear, parameters)"
      ],
      "metadata": {
        "id": "zzQ6tJspGY_d"
      },
      "id": "zzQ6tJspGY_d",
      "execution_count": 213,
      "outputs": []
    },
    {
      "cell_type": "code",
      "source": [
        "clf1.get_params()"
      ],
      "metadata": {
        "colab": {
          "base_uri": "https://localhost:8080/"
        },
        "id": "dX1j4qKzGbLk",
        "outputId": "38579cd5-6f01-4de4-8b7d-dc3a478f097b"
      },
      "id": "dX1j4qKzGbLk",
      "execution_count": 214,
      "outputs": [
        {
          "output_type": "execute_result",
          "data": {
            "text/plain": [
              "{'cv': None,\n",
              " 'error_score': nan,\n",
              " 'estimator': SVR(C=5, epsilon=0.01, gamma=5, kernel='linear'),\n",
              " 'estimator__C': 5,\n",
              " 'estimator__cache_size': 200,\n",
              " 'estimator__coef0': 0.0,\n",
              " 'estimator__degree': 3,\n",
              " 'estimator__epsilon': 0.01,\n",
              " 'estimator__gamma': 5,\n",
              " 'estimator__kernel': 'linear',\n",
              " 'estimator__max_iter': -1,\n",
              " 'estimator__shrinking': True,\n",
              " 'estimator__tol': 0.001,\n",
              " 'estimator__verbose': False,\n",
              " 'n_jobs': None,\n",
              " 'param_grid': {'C': [1, 10], 'kernel': ('linear', 'rbf')},\n",
              " 'pre_dispatch': '2*n_jobs',\n",
              " 'refit': True,\n",
              " 'return_train_score': False,\n",
              " 'scoring': None,\n",
              " 'verbose': 0}"
            ]
          },
          "metadata": {},
          "execution_count": 214
        }
      ]
    },
    {
      "cell_type": "code",
      "metadata": {
        "id": "0a91ce59"
      },
      "source": [
        "#y_linear = svr_linear.fit(X_tr,y_tr).predict(X_tr)\n",
        "y_linear = clf1.fit(X_tr, y_tr).predict(X_tr)"
      ],
      "id": "0a91ce59",
      "execution_count": 215,
      "outputs": []
    },
    {
      "cell_type": "code",
      "source": [
        "clf1.score(X_tr, y_tr)"
      ],
      "metadata": {
        "colab": {
          "base_uri": "https://localhost:8080/"
        },
        "id": "5swlcfnWGm7Q",
        "outputId": "494976b4-1266-422d-f326-6ea1f587dde2"
      },
      "id": "5swlcfnWGm7Q",
      "execution_count": 216,
      "outputs": [
        {
          "output_type": "execute_result",
          "data": {
            "text/plain": [
              "0.5125068597200597"
            ]
          },
          "metadata": {},
          "execution_count": 216
        }
      ]
    },
    {
      "cell_type": "code",
      "metadata": {
        "id": "741d8555"
      },
      "source": [
        "predicted_vol_linear = np.exp(y_linear)"
      ],
      "id": "741d8555",
      "execution_count": 217,
      "outputs": []
    },
    {
      "cell_type": "code",
      "metadata": {
        "id": "zxpPU4mosKXn"
      },
      "source": [
        "p_d_s_o = pd.DataFrame(df.iloc[10:, 9:10].values)"
      ],
      "id": "zxpPU4mosKXn",
      "execution_count": 218,
      "outputs": []
    },
    {
      "cell_type": "code",
      "metadata": {
        "id": "Ofd8-DpKsOJm"
      },
      "source": [
        "p_d_s_R = pd.DataFrame(predicted_vol_rbf)"
      ],
      "id": "Ofd8-DpKsOJm",
      "execution_count": 219,
      "outputs": []
    },
    {
      "cell_type": "code",
      "metadata": {
        "id": "-6aIY0CEsN9y"
      },
      "source": [
        "p_d_s_l = pd.DataFrame(predicted_vol_linear)"
      ],
      "id": "-6aIY0CEsN9y",
      "execution_count": 220,
      "outputs": []
    },
    {
      "cell_type": "code",
      "metadata": {
        "id": "UfOq3A0lsNfD"
      },
      "source": [
        "p_d_s_o = pd.DataFrame(df.iloc[10:, 9:10].values) # ACTUAL VALUES"
      ],
      "id": "UfOq3A0lsNfD",
      "execution_count": 221,
      "outputs": []
    },
    {
      "cell_type": "code",
      "metadata": {
        "id": "_JMe3yyqsXmG"
      },
      "source": [
        "p_d_s_o.to_excel('SVR_A.xlsx') # prints actual values"
      ],
      "id": "_JMe3yyqsXmG",
      "execution_count": 222,
      "outputs": []
    },
    {
      "cell_type": "code",
      "metadata": {
        "id": "y6b9ZpGOsZg2"
      },
      "source": [
        "p_d_s_R.to_excel('SVR_r_p.xlsx') #PRINT RBF SVR VALUE FORECAST"
      ],
      "id": "y6b9ZpGOsZg2",
      "execution_count": 223,
      "outputs": []
    },
    {
      "cell_type": "code",
      "metadata": {
        "id": "BPh5dXIjscQl"
      },
      "source": [
        "p_d_s_l.to_excel('SVR_l_p.xlsx')#pRINT LINEAR SVR VALUE FORECAST"
      ],
      "id": "BPh5dXIjscQl",
      "execution_count": 224,
      "outputs": []
    },
    {
      "cell_type": "code",
      "metadata": {
        "colab": {
          "base_uri": "https://localhost:8080/",
          "height": 677
        },
        "id": "h_wmklzesecW",
        "outputId": "ec6b176c-3a81-4d02-cbfe-96dee0d96fe7"
      },
      "source": [
        "p_d_s_l.head(20)"
      ],
      "id": "h_wmklzesecW",
      "execution_count": 225,
      "outputs": [
        {
          "output_type": "execute_result",
          "data": {
            "text/html": [
              "\n",
              "  <div id=\"df-1ee7198f-e447-4eb0-9490-55daee5b9e4e\">\n",
              "    <div class=\"colab-df-container\">\n",
              "      <div>\n",
              "<style scoped>\n",
              "    .dataframe tbody tr th:only-of-type {\n",
              "        vertical-align: middle;\n",
              "    }\n",
              "\n",
              "    .dataframe tbody tr th {\n",
              "        vertical-align: top;\n",
              "    }\n",
              "\n",
              "    .dataframe thead th {\n",
              "        text-align: right;\n",
              "    }\n",
              "</style>\n",
              "<table border=\"1\" class=\"dataframe\">\n",
              "  <thead>\n",
              "    <tr style=\"text-align: right;\">\n",
              "      <th></th>\n",
              "      <th>0</th>\n",
              "    </tr>\n",
              "  </thead>\n",
              "  <tbody>\n",
              "    <tr>\n",
              "      <th>0</th>\n",
              "      <td>3.448034</td>\n",
              "    </tr>\n",
              "    <tr>\n",
              "      <th>1</th>\n",
              "      <td>4.962158</td>\n",
              "    </tr>\n",
              "    <tr>\n",
              "      <th>2</th>\n",
              "      <td>2.886322</td>\n",
              "    </tr>\n",
              "    <tr>\n",
              "      <th>3</th>\n",
              "      <td>2.087080</td>\n",
              "    </tr>\n",
              "    <tr>\n",
              "      <th>4</th>\n",
              "      <td>2.786824</td>\n",
              "    </tr>\n",
              "    <tr>\n",
              "      <th>5</th>\n",
              "      <td>2.915699</td>\n",
              "    </tr>\n",
              "    <tr>\n",
              "      <th>6</th>\n",
              "      <td>3.028009</td>\n",
              "    </tr>\n",
              "    <tr>\n",
              "      <th>7</th>\n",
              "      <td>3.057767</td>\n",
              "    </tr>\n",
              "    <tr>\n",
              "      <th>8</th>\n",
              "      <td>3.158767</td>\n",
              "    </tr>\n",
              "    <tr>\n",
              "      <th>9</th>\n",
              "      <td>3.136201</td>\n",
              "    </tr>\n",
              "    <tr>\n",
              "      <th>10</th>\n",
              "      <td>3.176751</td>\n",
              "    </tr>\n",
              "    <tr>\n",
              "      <th>11</th>\n",
              "      <td>3.059698</td>\n",
              "    </tr>\n",
              "    <tr>\n",
              "      <th>12</th>\n",
              "      <td>2.655395</td>\n",
              "    </tr>\n",
              "    <tr>\n",
              "      <th>13</th>\n",
              "      <td>2.565940</td>\n",
              "    </tr>\n",
              "    <tr>\n",
              "      <th>14</th>\n",
              "      <td>2.482914</td>\n",
              "    </tr>\n",
              "    <tr>\n",
              "      <th>15</th>\n",
              "      <td>2.743803</td>\n",
              "    </tr>\n",
              "    <tr>\n",
              "      <th>16</th>\n",
              "      <td>3.537709</td>\n",
              "    </tr>\n",
              "    <tr>\n",
              "      <th>17</th>\n",
              "      <td>3.466806</td>\n",
              "    </tr>\n",
              "    <tr>\n",
              "      <th>18</th>\n",
              "      <td>6.008738</td>\n",
              "    </tr>\n",
              "    <tr>\n",
              "      <th>19</th>\n",
              "      <td>2.896522</td>\n",
              "    </tr>\n",
              "  </tbody>\n",
              "</table>\n",
              "</div>\n",
              "      <button class=\"colab-df-convert\" onclick=\"convertToInteractive('df-1ee7198f-e447-4eb0-9490-55daee5b9e4e')\"\n",
              "              title=\"Convert this dataframe to an interactive table.\"\n",
              "              style=\"display:none;\">\n",
              "        \n",
              "  <svg xmlns=\"http://www.w3.org/2000/svg\" height=\"24px\"viewBox=\"0 0 24 24\"\n",
              "       width=\"24px\">\n",
              "    <path d=\"M0 0h24v24H0V0z\" fill=\"none\"/>\n",
              "    <path d=\"M18.56 5.44l.94 2.06.94-2.06 2.06-.94-2.06-.94-.94-2.06-.94 2.06-2.06.94zm-11 1L8.5 8.5l.94-2.06 2.06-.94-2.06-.94L8.5 2.5l-.94 2.06-2.06.94zm10 10l.94 2.06.94-2.06 2.06-.94-2.06-.94-.94-2.06-.94 2.06-2.06.94z\"/><path d=\"M17.41 7.96l-1.37-1.37c-.4-.4-.92-.59-1.43-.59-.52 0-1.04.2-1.43.59L10.3 9.45l-7.72 7.72c-.78.78-.78 2.05 0 2.83L4 21.41c.39.39.9.59 1.41.59.51 0 1.02-.2 1.41-.59l7.78-7.78 2.81-2.81c.8-.78.8-2.07 0-2.86zM5.41 20L4 18.59l7.72-7.72 1.47 1.35L5.41 20z\"/>\n",
              "  </svg>\n",
              "      </button>\n",
              "      \n",
              "  <style>\n",
              "    .colab-df-container {\n",
              "      display:flex;\n",
              "      flex-wrap:wrap;\n",
              "      gap: 12px;\n",
              "    }\n",
              "\n",
              "    .colab-df-convert {\n",
              "      background-color: #E8F0FE;\n",
              "      border: none;\n",
              "      border-radius: 50%;\n",
              "      cursor: pointer;\n",
              "      display: none;\n",
              "      fill: #1967D2;\n",
              "      height: 32px;\n",
              "      padding: 0 0 0 0;\n",
              "      width: 32px;\n",
              "    }\n",
              "\n",
              "    .colab-df-convert:hover {\n",
              "      background-color: #E2EBFA;\n",
              "      box-shadow: 0px 1px 2px rgba(60, 64, 67, 0.3), 0px 1px 3px 1px rgba(60, 64, 67, 0.15);\n",
              "      fill: #174EA6;\n",
              "    }\n",
              "\n",
              "    [theme=dark] .colab-df-convert {\n",
              "      background-color: #3B4455;\n",
              "      fill: #D2E3FC;\n",
              "    }\n",
              "\n",
              "    [theme=dark] .colab-df-convert:hover {\n",
              "      background-color: #434B5C;\n",
              "      box-shadow: 0px 1px 3px 1px rgba(0, 0, 0, 0.15);\n",
              "      filter: drop-shadow(0px 1px 2px rgba(0, 0, 0, 0.3));\n",
              "      fill: #FFFFFF;\n",
              "    }\n",
              "  </style>\n",
              "\n",
              "      <script>\n",
              "        const buttonEl =\n",
              "          document.querySelector('#df-1ee7198f-e447-4eb0-9490-55daee5b9e4e button.colab-df-convert');\n",
              "        buttonEl.style.display =\n",
              "          google.colab.kernel.accessAllowed ? 'block' : 'none';\n",
              "\n",
              "        async function convertToInteractive(key) {\n",
              "          const element = document.querySelector('#df-1ee7198f-e447-4eb0-9490-55daee5b9e4e');\n",
              "          const dataTable =\n",
              "            await google.colab.kernel.invokeFunction('convertToInteractive',\n",
              "                                                     [key], {});\n",
              "          if (!dataTable) return;\n",
              "\n",
              "          const docLinkHtml = 'Like what you see? Visit the ' +\n",
              "            '<a target=\"_blank\" href=https://colab.research.google.com/notebooks/data_table.ipynb>data table notebook</a>'\n",
              "            + ' to learn more about interactive tables.';\n",
              "          element.innerHTML = '';\n",
              "          dataTable['output_type'] = 'display_data';\n",
              "          await google.colab.output.renderOutput(dataTable, element);\n",
              "          const docLink = document.createElement('div');\n",
              "          docLink.innerHTML = docLinkHtml;\n",
              "          element.appendChild(docLink);\n",
              "        }\n",
              "      </script>\n",
              "    </div>\n",
              "  </div>\n",
              "  "
            ],
            "text/plain": [
              "           0\n",
              "0   3.448034\n",
              "1   4.962158\n",
              "2   2.886322\n",
              "3   2.087080\n",
              "4   2.786824\n",
              "5   2.915699\n",
              "6   3.028009\n",
              "7   3.057767\n",
              "8   3.158767\n",
              "9   3.136201\n",
              "10  3.176751\n",
              "11  3.059698\n",
              "12  2.655395\n",
              "13  2.565940\n",
              "14  2.482914\n",
              "15  2.743803\n",
              "16  3.537709\n",
              "17  3.466806\n",
              "18  6.008738\n",
              "19  2.896522"
            ]
          },
          "metadata": {},
          "execution_count": 225
        }
      ]
    },
    {
      "cell_type": "markdown",
      "metadata": {
        "id": "4c355e63"
      },
      "source": [
        "#### Polynomial Model"
      ],
      "id": "4c355e63"
    },
    {
      "cell_type": "code",
      "metadata": {
        "id": "d73bf279"
      },
      "source": [
        "#svr_poly = SVR(kernel = 'poly',C=10)"
      ],
      "id": "d73bf279",
      "execution_count": 226,
      "outputs": []
    },
    {
      "cell_type": "code",
      "metadata": {
        "id": "0a1c2a98"
      },
      "source": [
        "#y_poly = svr_poly.fit(X_tr,y_tr).predict(X_tr)"
      ],
      "id": "0a1c2a98",
      "execution_count": 227,
      "outputs": []
    },
    {
      "cell_type": "code",
      "metadata": {
        "id": "1bd3c3c6"
      },
      "source": [
        "#predicted_vol_poly = np.exp(y_poly)"
      ],
      "id": "1bd3c3c6",
      "execution_count": 228,
      "outputs": []
    },
    {
      "cell_type": "markdown",
      "metadata": {
        "id": "cc33d756"
      },
      "source": [
        "### Ploting Volatility Observed, predicted Volatility using RBF,predicted Volatility using Linear SVR"
      ],
      "id": "cc33d756"
    },
    {
      "cell_type": "code",
      "metadata": {
        "colab": {
          "base_uri": "https://localhost:8080/",
          "height": 367
        },
        "id": "49b36129",
        "outputId": "2876f7b9-d2da-45c3-b03d-011f29002406"
      },
      "source": [
        "# Visualising the results\n",
        "plt.figure(figsize=(16,6))\n",
        "plt.plot(df.iloc[10:, 9:10].values, color = 'red', label = 'Volatility Observed')\n",
        "plt.plot(predicted_vol_rbf, color = 'green', label = 'Predicted Volatility using RBF')\n",
        "plt.plot(predicted_vol_linear, color = 'yellow', label = 'Predicted Volatility using Linear SVR')\n",
        "#plt.plot(predicted_vol, color = 'green', label = 'LSTM Predicted Volatility')\n",
        "plt.title('Actual Volatility vs predicted Volatility')\n",
        "plt.xlabel('Duration')\n",
        "plt.ylabel('Volatility')\n",
        "plt.legend()\n",
        "plt.show()"
      ],
      "id": "49b36129",
      "execution_count": 229,
      "outputs": [
        {
          "output_type": "display_data",
          "data": {
            "image/png": "[encoded data removed]",
            "text/plain": [
              "<Figure size 1152x432 with 1 Axes>"
            ]
          },
          "metadata": {
            "needs_background": "light"
          }
        }
      ]
    },
    {
      "cell_type": "markdown",
      "metadata": {
        "id": "cb33a681"
      },
      "source": [
        "### Calculating RMSE value for SVM Model"
      ],
      "id": "cb33a681"
    },
    {
      "cell_type": "code",
      "source": [
        "clf1.score(df.iloc[10:, 9:10].values, predicted_vol_rbf)"
      ],
      "metadata": {
        "colab": {
          "base_uri": "https://localhost:8080/",
          "height": 311
        },
        "id": "NBuX0h9cQVTl",
        "outputId": "448832f0-ad54-4744-b1b2-910d59f4ca6d"
      },
      "id": "NBuX0h9cQVTl",
      "execution_count": 230,
      "outputs": [
        {
          "output_type": "error",
          "ename": "ValueError",
          "evalue": "ignored",
          "traceback": [
            "\u001b[0;31m---------------------------------------------------------------------------\u001b[0m",
            "\u001b[0;31mValueError\u001b[0m                                Traceback (most recent call last)",
            "\u001b[0;32m<ipython-input-230-1f18f414458c>\u001b[0m in \u001b[0;36m<module>\u001b[0;34m()\u001b[0m\n\u001b[0;32m----> 1\u001b[0;31m \u001b[0mclf1\u001b[0m\u001b[0;34m.\u001b[0m\u001b[0mscore\u001b[0m\u001b[0;34m(\u001b[0m\u001b[0mdf\u001b[0m\u001b[0;34m.\u001b[0m\u001b[0miloc\u001b[0m\u001b[0;34m[\u001b[0m\u001b[0;36m10\u001b[0m\u001b[0;34m:\u001b[0m\u001b[0;34m,\u001b[0m \u001b[0;36m9\u001b[0m\u001b[0;34m:\u001b[0m\u001b[0;36m10\u001b[0m\u001b[0;34m]\u001b[0m\u001b[0;34m.\u001b[0m\u001b[0mvalues\u001b[0m\u001b[0;34m,\u001b[0m \u001b[0mpredicted_vol_rbf\u001b[0m\u001b[0;34m)\u001b[0m\u001b[0;34m\u001b[0m\u001b[0;34m\u001b[0m\u001b[0m\n\u001b[0m",
            "\u001b[0;32m/usr/local/lib/python3.7/dist-packages/sklearn/model_selection/_search.py\u001b[0m in \u001b[0;36mscore\u001b[0;34m(self, X, y)\u001b[0m\n\u001b[1;32m    471\u001b[0m \u001b[0;34m\u001b[0m\u001b[0m\n\u001b[1;32m    472\u001b[0m         \u001b[0;31m# callable\u001b[0m\u001b[0;34m\u001b[0m\u001b[0;34m\u001b[0m\u001b[0;34m\u001b[0m\u001b[0m\n\u001b[0;32m--> 473\u001b[0;31m         \u001b[0mscore\u001b[0m \u001b[0;34m=\u001b[0m \u001b[0mself\u001b[0m\u001b[0;34m.\u001b[0m\u001b[0mscorer_\u001b[0m\u001b[0;34m(\u001b[0m\u001b[0mself\u001b[0m\u001b[0;34m.\u001b[0m\u001b[0mbest_estimator_\u001b[0m\u001b[0;34m,\u001b[0m \u001b[0mX\u001b[0m\u001b[0;34m,\u001b[0m \u001b[0my\u001b[0m\u001b[0;34m)\u001b[0m\u001b[0;34m\u001b[0m\u001b[0;34m\u001b[0m\u001b[0m\n\u001b[0m\u001b[1;32m    474\u001b[0m         \u001b[0;32mif\u001b[0m \u001b[0mself\u001b[0m\u001b[0;34m.\u001b[0m\u001b[0mmultimetric_\u001b[0m\u001b[0;34m:\u001b[0m\u001b[0;34m\u001b[0m\u001b[0;34m\u001b[0m\u001b[0m\n\u001b[1;32m    475\u001b[0m             \u001b[0mscore\u001b[0m \u001b[0;34m=\u001b[0m \u001b[0mscore\u001b[0m\u001b[0;34m[\u001b[0m\u001b[0mself\u001b[0m\u001b[0;34m.\u001b[0m\u001b[0mrefit\u001b[0m\u001b[0;34m]\u001b[0m\u001b[0;34m\u001b[0m\u001b[0;34m\u001b[0m\u001b[0m\n",
            "\u001b[0;32m/usr/local/lib/python3.7/dist-packages/sklearn/metrics/_scorer.py\u001b[0m in \u001b[0;36m_passthrough_scorer\u001b[0;34m(estimator, *args, **kwargs)\u001b[0m\n\u001b[1;32m    416\u001b[0m \u001b[0;32mdef\u001b[0m \u001b[0m_passthrough_scorer\u001b[0m\u001b[0;34m(\u001b[0m\u001b[0mestimator\u001b[0m\u001b[0;34m,\u001b[0m \u001b[0;34m*\u001b[0m\u001b[0margs\u001b[0m\u001b[0;34m,\u001b[0m \u001b[0;34m**\u001b[0m\u001b[0mkwargs\u001b[0m\u001b[0;34m)\u001b[0m\u001b[0;34m:\u001b[0m\u001b[0;34m\u001b[0m\u001b[0;34m\u001b[0m\u001b[0m\n\u001b[1;32m    417\u001b[0m     \u001b[0;34m\"\"\"Function that wraps estimator.score\"\"\"\u001b[0m\u001b[0;34m\u001b[0m\u001b[0;34m\u001b[0m\u001b[0m\n\u001b[0;32m--> 418\u001b[0;31m     \u001b[0;32mreturn\u001b[0m \u001b[0mestimator\u001b[0m\u001b[0;34m.\u001b[0m\u001b[0mscore\u001b[0m\u001b[0;34m(\u001b[0m\u001b[0;34m*\u001b[0m\u001b[0margs\u001b[0m\u001b[0;34m,\u001b[0m \u001b[0;34m**\u001b[0m\u001b[0mkwargs\u001b[0m\u001b[0;34m)\u001b[0m\u001b[0;34m\u001b[0m\u001b[0;34m\u001b[0m\u001b[0m\n\u001b[0m\u001b[1;32m    419\u001b[0m \u001b[0;34m\u001b[0m\u001b[0m\n\u001b[1;32m    420\u001b[0m \u001b[0;34m\u001b[0m\u001b[0m\n",
            "\u001b[0;32m/usr/local/lib/python3.7/dist-packages/sklearn/base.py\u001b[0m in \u001b[0;36mscore\u001b[0;34m(self, X, y, sample_weight)\u001b[0m\n\u001b[1;32m    698\u001b[0m         \u001b[0;32mfrom\u001b[0m \u001b[0;34m.\u001b[0m\u001b[0mmetrics\u001b[0m \u001b[0;32mimport\u001b[0m \u001b[0mr2_score\u001b[0m\u001b[0;34m\u001b[0m\u001b[0;34m\u001b[0m\u001b[0m\n\u001b[1;32m    699\u001b[0m \u001b[0;34m\u001b[0m\u001b[0m\n\u001b[0;32m--> 700\u001b[0;31m         \u001b[0my_pred\u001b[0m \u001b[0;34m=\u001b[0m \u001b[0mself\u001b[0m\u001b[0;34m.\u001b[0m\u001b[0mpredict\u001b[0m\u001b[0;34m(\u001b[0m\u001b[0mX\u001b[0m\u001b[0;34m)\u001b[0m\u001b[0;34m\u001b[0m\u001b[0;34m\u001b[0m\u001b[0m\n\u001b[0m\u001b[1;32m    701\u001b[0m         \u001b[0;32mreturn\u001b[0m \u001b[0mr2_score\u001b[0m\u001b[0;34m(\u001b[0m\u001b[0my\u001b[0m\u001b[0;34m,\u001b[0m \u001b[0my_pred\u001b[0m\u001b[0;34m,\u001b[0m \u001b[0msample_weight\u001b[0m\u001b[0;34m=\u001b[0m\u001b[0msample_weight\u001b[0m\u001b[0;34m)\u001b[0m\u001b[0;34m\u001b[0m\u001b[0;34m\u001b[0m\u001b[0m\n\u001b[1;32m    702\u001b[0m \u001b[0;34m\u001b[0m\u001b[0m\n",
            "\u001b[0;32m/usr/local/lib/python3.7/dist-packages/sklearn/svm/_base.py\u001b[0m in \u001b[0;36mpredict\u001b[0;34m(self, X)\u001b[0m\n\u001b[1;32m    412\u001b[0m             \u001b[0mThe\u001b[0m \u001b[0mpredicted\u001b[0m \u001b[0mvalues\u001b[0m\u001b[0;34m.\u001b[0m\u001b[0;34m\u001b[0m\u001b[0;34m\u001b[0m\u001b[0m\n\u001b[1;32m    413\u001b[0m         \"\"\"\n\u001b[0;32m--> 414\u001b[0;31m         \u001b[0mX\u001b[0m \u001b[0;34m=\u001b[0m \u001b[0mself\u001b[0m\u001b[0;34m.\u001b[0m\u001b[0m_validate_for_predict\u001b[0m\u001b[0;34m(\u001b[0m\u001b[0mX\u001b[0m\u001b[0;34m)\u001b[0m\u001b[0;34m\u001b[0m\u001b[0;34m\u001b[0m\u001b[0m\n\u001b[0m\u001b[1;32m    415\u001b[0m         \u001b[0mpredict\u001b[0m \u001b[0;34m=\u001b[0m \u001b[0mself\u001b[0m\u001b[0;34m.\u001b[0m\u001b[0m_sparse_predict\u001b[0m \u001b[0;32mif\u001b[0m \u001b[0mself\u001b[0m\u001b[0;34m.\u001b[0m\u001b[0m_sparse\u001b[0m \u001b[0;32melse\u001b[0m \u001b[0mself\u001b[0m\u001b[0;34m.\u001b[0m\u001b[0m_dense_predict\u001b[0m\u001b[0;34m\u001b[0m\u001b[0;34m\u001b[0m\u001b[0m\n\u001b[1;32m    416\u001b[0m         \u001b[0;32mreturn\u001b[0m \u001b[0mpredict\u001b[0m\u001b[0;34m(\u001b[0m\u001b[0mX\u001b[0m\u001b[0;34m)\u001b[0m\u001b[0;34m\u001b[0m\u001b[0;34m\u001b[0m\u001b[0m\n",
            "\u001b[0;32m/usr/local/lib/python3.7/dist-packages/sklearn/svm/_base.py\u001b[0m in \u001b[0;36m_validate_for_predict\u001b[0;34m(self, X)\u001b[0m\n\u001b[1;32m    596\u001b[0m                 \u001b[0morder\u001b[0m\u001b[0;34m=\u001b[0m\u001b[0;34m\"C\"\u001b[0m\u001b[0;34m,\u001b[0m\u001b[0;34m\u001b[0m\u001b[0;34m\u001b[0m\u001b[0m\n\u001b[1;32m    597\u001b[0m                 \u001b[0maccept_large_sparse\u001b[0m\u001b[0;34m=\u001b[0m\u001b[0;32mFalse\u001b[0m\u001b[0;34m,\u001b[0m\u001b[0;34m\u001b[0m\u001b[0;34m\u001b[0m\u001b[0m\n\u001b[0;32m--> 598\u001b[0;31m                 \u001b[0mreset\u001b[0m\u001b[0;34m=\u001b[0m\u001b[0;32mFalse\u001b[0m\u001b[0;34m,\u001b[0m\u001b[0;34m\u001b[0m\u001b[0;34m\u001b[0m\u001b[0m\n\u001b[0m\u001b[1;32m    599\u001b[0m             )\n\u001b[1;32m    600\u001b[0m \u001b[0;34m\u001b[0m\u001b[0m\n",
            "\u001b[0;32m/usr/local/lib/python3.7/dist-packages/sklearn/base.py\u001b[0m in \u001b[0;36m_validate_data\u001b[0;34m(self, X, y, reset, validate_separately, **check_params)\u001b[0m\n\u001b[1;32m    578\u001b[0m \u001b[0;34m\u001b[0m\u001b[0m\n\u001b[1;32m    579\u001b[0m         \u001b[0;32mif\u001b[0m \u001b[0;32mnot\u001b[0m \u001b[0mno_val_X\u001b[0m \u001b[0;32mand\u001b[0m \u001b[0mcheck_params\u001b[0m\u001b[0;34m.\u001b[0m\u001b[0mget\u001b[0m\u001b[0;34m(\u001b[0m\u001b[0;34m\"ensure_2d\"\u001b[0m\u001b[0;34m,\u001b[0m \u001b[0;32mTrue\u001b[0m\u001b[0;34m)\u001b[0m\u001b[0;34m:\u001b[0m\u001b[0;34m\u001b[0m\u001b[0;34m\u001b[0m\u001b[0m\n\u001b[0;32m--> 580\u001b[0;31m             \u001b[0mself\u001b[0m\u001b[0;34m.\u001b[0m\u001b[0m_check_n_features\u001b[0m\u001b[0;34m(\u001b[0m\u001b[0mX\u001b[0m\u001b[0;34m,\u001b[0m \u001b[0mreset\u001b[0m\u001b[0;34m=\u001b[0m\u001b[0mreset\u001b[0m\u001b[0;34m)\u001b[0m\u001b[0;34m\u001b[0m\u001b[0;34m\u001b[0m\u001b[0m\n\u001b[0m\u001b[1;32m    581\u001b[0m \u001b[0;34m\u001b[0m\u001b[0m\n\u001b[1;32m    582\u001b[0m         \u001b[0;32mreturn\u001b[0m \u001b[0mout\u001b[0m\u001b[0;34m\u001b[0m\u001b[0;34m\u001b[0m\u001b[0m\n",
            "\u001b[0;32m/usr/local/lib/python3.7/dist-packages/sklearn/base.py\u001b[0m in \u001b[0;36m_check_n_features\u001b[0;34m(self, X, reset)\u001b[0m\n\u001b[1;32m    394\u001b[0m         \u001b[0;32mif\u001b[0m \u001b[0mn_features\u001b[0m \u001b[0;34m!=\u001b[0m \u001b[0mself\u001b[0m\u001b[0;34m.\u001b[0m\u001b[0mn_features_in_\u001b[0m\u001b[0;34m:\u001b[0m\u001b[0;34m\u001b[0m\u001b[0;34m\u001b[0m\u001b[0m\n\u001b[1;32m    395\u001b[0m             raise ValueError(\n\u001b[0;32m--> 396\u001b[0;31m                 \u001b[0;34mf\"X has {n_features} features, but {self.__class__.__name__} \"\u001b[0m\u001b[0;34m\u001b[0m\u001b[0;34m\u001b[0m\u001b[0m\n\u001b[0m\u001b[1;32m    397\u001b[0m                 \u001b[0;34mf\"is expecting {self.n_features_in_} features as input.\"\u001b[0m\u001b[0;34m\u001b[0m\u001b[0;34m\u001b[0m\u001b[0m\n\u001b[1;32m    398\u001b[0m             )\n",
            "\u001b[0;31mValueError\u001b[0m: X has 1 features, but SVR is expecting 10 features as input."
          ]
        }
      ]
    },
    {
      "cell_type": "code",
      "metadata": {
        "colab": {
          "base_uri": "https://localhost:8080/"
        },
        "id": "ca50d79f",
        "outputId": "d4297c0b-1047-4df0-d9d4-434a4df3bd9c"
      },
      "source": [
        "print('RMSE calculated for SVM:', np.sqrt(metrics.mean_squared_error(df.iloc[10:, 9:10].values, predicted_vol_linear)))"
      ],
      "id": "ca50d79f",
      "execution_count": 96,
      "outputs": [
        {
          "output_type": "stream",
          "name": "stdout",
          "text": [
            "RMSE calculated for SVM: 2.2672755289997966\n"
          ]
        }
      ]
    },
    {
      "cell_type": "code",
      "source": [
        "print('RMSE calculated for SVM:', np.sqrt(metrics.mean_squared_error(df.iloc[10:, 9:10].values, y_rbf)))"
      ],
      "metadata": {
        "colab": {
          "base_uri": "https://localhost:8080/"
        },
        "id": "xnnVJAjTk2t1",
        "outputId": "45ee3b9d-ac0e-4740-aa26-05d583bde8e3"
      },
      "id": "xnnVJAjTk2t1",
      "execution_count": 97,
      "outputs": [
        {
          "output_type": "stream",
          "name": "stdout",
          "text": [
            "RMSE calculated for SVM: 0.26141590921390484\n"
          ]
        }
      ]
    },
    {
      "cell_type": "code",
      "source": [
        "print('MAE calculated for SVM model:', MAE(df.iloc[10:, 9:10].values, predicted_vol_linear))"
      ],
      "metadata": {
        "colab": {
          "base_uri": "https://localhost:8080/"
        },
        "id": "hhEB1vAkk8-c",
        "outputId": "b58840ba-f2ad-473c-c642-1b77adbf1496"
      },
      "id": "hhEB1vAkk8-c",
      "execution_count": 98,
      "outputs": [
        {
          "output_type": "stream",
          "name": "stdout",
          "text": [
            "MAE calculated for SVM model: 1.921990522338133\n"
          ]
        }
      ]
    },
    {
      "cell_type": "code",
      "source": [
        "print('MAE calculated for SVM model:',MAE(df.iloc[10:, 9:10].values, y_rbf))"
      ],
      "metadata": {
        "id": "dR6eB6UAb-AD",
        "colab": {
          "base_uri": "https://localhost:8080/"
        },
        "outputId": "1c823b0a-be03-41fd-816a-6f132d4f6938"
      },
      "id": "dR6eB6UAb-AD",
      "execution_count": 99,
      "outputs": [
        {
          "output_type": "stream",
          "name": "stdout",
          "text": [
            "MAE calculated for SVM model: 0.1411609940960886\n"
          ]
        }
      ]
    },
    {
      "cell_type": "code",
      "source": [
        "print('MAPE calculated for SVM model:',mean_absolute_percentage_error(df.iloc[10:, 9:10].values, predicted_vol_linear))"
      ],
      "metadata": {
        "colab": {
          "base_uri": "https://localhost:8080/"
        },
        "id": "m_h6gvegJe4T",
        "outputId": "8a9e3698-6ae9-4d34-eec4-2a64777f6bd1"
      },
      "id": "m_h6gvegJe4T",
      "execution_count": 100,
      "outputs": [
        {
          "output_type": "stream",
          "name": "stdout",
          "text": [
            "MAPE calculated for SVM model: 1.979317432589008\n"
          ]
        }
      ]
    },
    {
      "cell_type": "code",
      "source": [
        "print('MAPE calculated for SVM model:',mean_absolute_percentage_error(df.iloc[10:, 9:10].values,y_rbf))"
      ],
      "metadata": {
        "colab": {
          "base_uri": "https://localhost:8080/"
        },
        "id": "Hc7c4WfyJhAB",
        "outputId": "2c94336a-56f4-447d-eb11-8752eb7b3ec6"
      },
      "id": "Hc7c4WfyJhAB",
      "execution_count": 101,
      "outputs": [
        {
          "output_type": "stream",
          "name": "stdout",
          "text": [
            "MAPE calculated for SVM model: 0.1420415745779379\n"
          ]
        }
      ]
    },
    {
      "cell_type": "markdown",
      "metadata": {
        "id": "18c111e9"
      },
      "source": [
        "## Volatility Prediction using Random Forest"
      ],
      "id": "18c111e9"
    },
    {
      "cell_type": "markdown",
      "metadata": {
        "id": "904c5230"
      },
      "source": [
        "#### Create Random Forest Regressor Model"
      ],
      "id": "904c5230"
    },
    {
      "cell_type": "code",
      "metadata": {
        "id": "211de7d8"
      },
      "source": [
        "ran_mod = RandomForestRegressor(n_estimators=30, verbose=2, random_state=42, n_jobs = -1)"
      ],
      "id": "211de7d8",
      "execution_count": 102,
      "outputs": []
    },
    {
      "cell_type": "code",
      "metadata": {
        "id": "2d8b71e1",
        "colab": {
          "base_uri": "https://localhost:8080/"
        },
        "outputId": "b2bb02da-080b-420f-fd3c-0406a18c9e76"
      },
      "source": [
        "rand_mod = ran_mod.fit(X_tr, y_tr)"
      ],
      "id": "2d8b71e1",
      "execution_count": 103,
      "outputs": [
        {
          "output_type": "stream",
          "name": "stdout",
          "text": [
            "building tree 1 of 30\n",
            "building tree 2 of 30\n",
            "building tree 3 of 30\n",
            "building tree 4 of 30\n"
          ]
        },
        {
          "output_type": "stream",
          "name": "stderr",
          "text": [
            "[Parallel(n_jobs=-1)]: Using backend ThreadingBackend with 2 concurrent workers.\n"
          ]
        },
        {
          "output_type": "stream",
          "name": "stdout",
          "text": [
            "building tree 5 of 30\n",
            "building tree 6 of 30\n",
            "building tree 7 of 30\n",
            "building tree 8 of 30\n",
            "building tree 9 of 30\n",
            "building tree 10 of 30\n",
            "building tree 11 of 30\n",
            "building tree 12 of 30\n",
            "building tree 13 of 30\n",
            "building tree 14 of 30\n",
            "building tree 15 of 30\n",
            "building tree 16 of 30\n",
            "building tree 17 of 30\n",
            "building tree 18 of 30\n",
            "building tree 19 of 30\n",
            "building tree 20 of 30\n",
            "building tree 21 of 30\n",
            "building tree 22 of 30\n",
            "building tree 23 of 30\n",
            "building tree 24 of 30\n",
            "building tree 25 of 30\n",
            "building tree 26 of 30\n",
            "building tree 27 of 30\n",
            "building tree 28 of 30\n",
            "building tree 29 of 30\n",
            "building tree 30 of 30\n"
          ]
        },
        {
          "output_type": "stream",
          "name": "stderr",
          "text": [
            "[Parallel(n_jobs=-1)]: Done  30 out of  30 | elapsed:    1.9s finished\n"
          ]
        }
      ]
    },
    {
      "cell_type": "code",
      "source": [
        "rand_mod.get_params()"
      ],
      "metadata": {
        "colab": {
          "base_uri": "https://localhost:8080/"
        },
        "id": "Aau-wbweU4xD",
        "outputId": "d6b830b0-0df2-40a8-edb7-d3639afad74f"
      },
      "id": "Aau-wbweU4xD",
      "execution_count": 104,
      "outputs": [
        {
          "output_type": "execute_result",
          "data": {
            "text/plain": [
              "{'bootstrap': True,\n",
              " 'ccp_alpha': 0.0,\n",
              " 'criterion': 'squared_error',\n",
              " 'max_depth': None,\n",
              " 'max_features': 'auto',\n",
              " 'max_leaf_nodes': None,\n",
              " 'max_samples': None,\n",
              " 'min_impurity_decrease': 0.0,\n",
              " 'min_samples_leaf': 1,\n",
              " 'min_samples_split': 2,\n",
              " 'min_weight_fraction_leaf': 0.0,\n",
              " 'n_estimators': 30,\n",
              " 'n_jobs': -1,\n",
              " 'oob_score': False,\n",
              " 'random_state': 42,\n",
              " 'verbose': 2,\n",
              " 'warm_start': False}"
            ]
          },
          "metadata": {},
          "execution_count": 104
        }
      ]
    },
    {
      "cell_type": "code",
      "source": [
        "rand_mod.score(X_tr, y_tr)"
      ],
      "metadata": {
        "colab": {
          "base_uri": "https://localhost:8080/"
        },
        "id": "AJ0gCD2QLE7b",
        "outputId": "9b345a4e-0ba8-4ae5-9994-a7b8110c51a3"
      },
      "id": "AJ0gCD2QLE7b",
      "execution_count": 105,
      "outputs": [
        {
          "output_type": "stream",
          "name": "stderr",
          "text": [
            "[Parallel(n_jobs=2)]: Using backend ThreadingBackend with 2 concurrent workers.\n",
            "[Parallel(n_jobs=2)]: Done  30 out of  30 | elapsed:    0.0s finished\n"
          ]
        },
        {
          "output_type": "execute_result",
          "data": {
            "text/plain": [
              "0.9365544551795635"
            ]
          },
          "metadata": {},
          "execution_count": 105
        }
      ]
    },
    {
      "cell_type": "markdown",
      "metadata": {
        "id": "c17ce171"
      },
      "source": [
        "### Predicted Volatility"
      ],
      "id": "c17ce171"
    },
    {
      "cell_type": "code",
      "metadata": {
        "id": "2d598de3",
        "colab": {
          "base_uri": "https://localhost:8080/"
        },
        "outputId": "38a2b3ed-2475-487c-ab13-bd7aa1b46ffd"
      },
      "source": [
        "predicted_vol_rand = rand_mod.predict(X_tr)\n",
        "predicted_vol_rand"
      ],
      "id": "2d598de3",
      "execution_count": 106,
      "outputs": [
        {
          "output_type": "stream",
          "name": "stderr",
          "text": [
            "[Parallel(n_jobs=2)]: Using backend ThreadingBackend with 2 concurrent workers.\n",
            "[Parallel(n_jobs=2)]: Done  30 out of  30 | elapsed:    0.0s finished\n"
          ]
        },
        {
          "output_type": "execute_result",
          "data": {
            "text/plain": [
              "array([1.59919833, 1.02159806, 0.71887465, ..., 1.58082544, 1.25429872,\n",
              "       1.13257875])"
            ]
          },
          "metadata": {},
          "execution_count": 106
        }
      ]
    },
    {
      "cell_type": "code",
      "metadata": {
        "id": "ec50gXi1suLl"
      },
      "source": [
        "p_d_For = pd.DataFrame(predicted_vol_rand)"
      ],
      "id": "ec50gXi1suLl",
      "execution_count": 107,
      "outputs": []
    },
    {
      "cell_type": "code",
      "metadata": {
        "id": "uc5vSoQ5st2F"
      },
      "source": [
        "p_d_For.to_excel('rand_For_p.xlsx')#PRINT PREDICTED VALUE"
      ],
      "id": "uc5vSoQ5st2F",
      "execution_count": 108,
      "outputs": []
    },
    {
      "cell_type": "code",
      "metadata": {
        "id": "Az_dNVcFsti2"
      },
      "source": [
        "p_d_s_o.to_excel('rand_For_a.xlsx')#PRINT ACTUAL VALUE"
      ],
      "id": "Az_dNVcFsti2",
      "execution_count": 109,
      "outputs": []
    },
    {
      "cell_type": "code",
      "metadata": {
        "colab": {
          "base_uri": "https://localhost:8080/",
          "height": 424
        },
        "id": "9zymx6SWstVe",
        "outputId": "6de826fd-b04a-4c35-ec6c-5dfa638fef5e"
      },
      "source": [
        "p_d_For"
      ],
      "id": "9zymx6SWstVe",
      "execution_count": 110,
      "outputs": [
        {
          "output_type": "execute_result",
          "data": {
            "text/html": [
              "\n",
              "  <div id=\"df-d9c299d5-bb11-4a67-bc65-542f188feb8a\">\n",
              "    <div class=\"colab-df-container\">\n",
              "      <div>\n",
              "<style scoped>\n",
              "    .dataframe tbody tr th:only-of-type {\n",
              "        vertical-align: middle;\n",
              "    }\n",
              "\n",
              "    .dataframe tbody tr th {\n",
              "        vertical-align: top;\n",
              "    }\n",
              "\n",
              "    .dataframe thead th {\n",
              "        text-align: right;\n",
              "    }\n",
              "</style>\n",
              "<table border=\"1\" class=\"dataframe\">\n",
              "  <thead>\n",
              "    <tr style=\"text-align: right;\">\n",
              "      <th></th>\n",
              "      <th>0</th>\n",
              "    </tr>\n",
              "  </thead>\n",
              "  <tbody>\n",
              "    <tr>\n",
              "      <th>0</th>\n",
              "      <td>1.599198</td>\n",
              "    </tr>\n",
              "    <tr>\n",
              "      <th>1</th>\n",
              "      <td>1.021598</td>\n",
              "    </tr>\n",
              "    <tr>\n",
              "      <th>2</th>\n",
              "      <td>0.718875</td>\n",
              "    </tr>\n",
              "    <tr>\n",
              "      <th>3</th>\n",
              "      <td>1.012547</td>\n",
              "    </tr>\n",
              "    <tr>\n",
              "      <th>4</th>\n",
              "      <td>1.006295</td>\n",
              "    </tr>\n",
              "    <tr>\n",
              "      <th>...</th>\n",
              "      <td>...</td>\n",
              "    </tr>\n",
              "    <tr>\n",
              "      <th>7889</th>\n",
              "      <td>1.140511</td>\n",
              "    </tr>\n",
              "    <tr>\n",
              "      <th>7890</th>\n",
              "      <td>1.638066</td>\n",
              "    </tr>\n",
              "    <tr>\n",
              "      <th>7891</th>\n",
              "      <td>1.580825</td>\n",
              "    </tr>\n",
              "    <tr>\n",
              "      <th>7892</th>\n",
              "      <td>1.254299</td>\n",
              "    </tr>\n",
              "    <tr>\n",
              "      <th>7893</th>\n",
              "      <td>1.132579</td>\n",
              "    </tr>\n",
              "  </tbody>\n",
              "</table>\n",
              "<p>7894 rows × 1 columns</p>\n",
              "</div>\n",
              "      <button class=\"colab-df-convert\" onclick=\"convertToInteractive('df-d9c299d5-bb11-4a67-bc65-542f188feb8a')\"\n",
              "              title=\"Convert this dataframe to an interactive table.\"\n",
              "              style=\"display:none;\">\n",
              "        \n",
              "  <svg xmlns=\"http://www.w3.org/2000/svg\" height=\"24px\"viewBox=\"0 0 24 24\"\n",
              "       width=\"24px\">\n",
              "    <path d=\"M0 0h24v24H0V0z\" fill=\"none\"/>\n",
              "    <path d=\"M18.56 5.44l.94 2.06.94-2.06 2.06-.94-2.06-.94-.94-2.06-.94 2.06-2.06.94zm-11 1L8.5 8.5l.94-2.06 2.06-.94-2.06-.94L8.5 2.5l-.94 2.06-2.06.94zm10 10l.94 2.06.94-2.06 2.06-.94-2.06-.94-.94-2.06-.94 2.06-2.06.94z\"/><path d=\"M17.41 7.96l-1.37-1.37c-.4-.4-.92-.59-1.43-.59-.52 0-1.04.2-1.43.59L10.3 9.45l-7.72 7.72c-.78.78-.78 2.05 0 2.83L4 21.41c.39.39.9.59 1.41.59.51 0 1.02-.2 1.41-.59l7.78-7.78 2.81-2.81c.8-.78.8-2.07 0-2.86zM5.41 20L4 18.59l7.72-7.72 1.47 1.35L5.41 20z\"/>\n",
              "  </svg>\n",
              "      </button>\n",
              "      \n",
              "  <style>\n",
              "    .colab-df-container {\n",
              "      display:flex;\n",
              "      flex-wrap:wrap;\n",
              "      gap: 12px;\n",
              "    }\n",
              "\n",
              "    .colab-df-convert {\n",
              "      background-color: #E8F0FE;\n",
              "      border: none;\n",
              "      border-radius: 50%;\n",
              "      cursor: pointer;\n",
              "      display: none;\n",
              "      fill: #1967D2;\n",
              "      height: 32px;\n",
              "      padding: 0 0 0 0;\n",
              "      width: 32px;\n",
              "    }\n",
              "\n",
              "    .colab-df-convert:hover {\n",
              "      background-color: #E2EBFA;\n",
              "      box-shadow: 0px 1px 2px rgba(60, 64, 67, 0.3), 0px 1px 3px 1px rgba(60, 64, 67, 0.15);\n",
              "      fill: #174EA6;\n",
              "    }\n",
              "\n",
              "    [theme=dark] .colab-df-convert {\n",
              "      background-color: #3B4455;\n",
              "      fill: #D2E3FC;\n",
              "    }\n",
              "\n",
              "    [theme=dark] .colab-df-convert:hover {\n",
              "      background-color: #434B5C;\n",
              "      box-shadow: 0px 1px 3px 1px rgba(0, 0, 0, 0.15);\n",
              "      filter: drop-shadow(0px 1px 2px rgba(0, 0, 0, 0.3));\n",
              "      fill: #FFFFFF;\n",
              "    }\n",
              "  </style>\n",
              "\n",
              "      <script>\n",
              "        const buttonEl =\n",
              "          document.querySelector('#df-d9c299d5-bb11-4a67-bc65-542f188feb8a button.colab-df-convert');\n",
              "        buttonEl.style.display =\n",
              "          google.colab.kernel.accessAllowed ? 'block' : 'none';\n",
              "\n",
              "        async function convertToInteractive(key) {\n",
              "          const element = document.querySelector('#df-d9c299d5-bb11-4a67-bc65-542f188feb8a');\n",
              "          const dataTable =\n",
              "            await google.colab.kernel.invokeFunction('convertToInteractive',\n",
              "                                                     [key], {});\n",
              "          if (!dataTable) return;\n",
              "\n",
              "          const docLinkHtml = 'Like what you see? Visit the ' +\n",
              "            '<a target=\"_blank\" href=https://colab.research.google.com/notebooks/data_table.ipynb>data table notebook</a>'\n",
              "            + ' to learn more about interactive tables.';\n",
              "          element.innerHTML = '';\n",
              "          dataTable['output_type'] = 'display_data';\n",
              "          await google.colab.output.renderOutput(dataTable, element);\n",
              "          const docLink = document.createElement('div');\n",
              "          docLink.innerHTML = docLinkHtml;\n",
              "          element.appendChild(docLink);\n",
              "        }\n",
              "      </script>\n",
              "    </div>\n",
              "  </div>\n",
              "  "
            ],
            "text/plain": [
              "             0\n",
              "0     1.599198\n",
              "1     1.021598\n",
              "2     0.718875\n",
              "3     1.012547\n",
              "4     1.006295\n",
              "...        ...\n",
              "7889  1.140511\n",
              "7890  1.638066\n",
              "7891  1.580825\n",
              "7892  1.254299\n",
              "7893  1.132579\n",
              "\n",
              "[7894 rows x 1 columns]"
            ]
          },
          "metadata": {},
          "execution_count": 110
        }
      ]
    },
    {
      "cell_type": "markdown",
      "metadata": {
        "id": "da302b50"
      },
      "source": [
        "### Ploting Volatility Observed, predicted Volatility using Random Forest"
      ],
      "id": "da302b50"
    },
    {
      "cell_type": "code",
      "metadata": {
        "colab": {
          "base_uri": "https://localhost:8080/",
          "height": 370
        },
        "id": "df7c21ad",
        "outputId": "8119179e-282f-4e9d-aba5-c14f3b17f624"
      },
      "source": [
        "# Visualising the results\n",
        "plt.figure(figsize=(16,6))\n",
        "plt.plot(df.iloc[10:, 9:10].values, color = 'red', label = 'Volatility Observed')\n",
        "plt.plot(predicted_vol_rand, color = 'green', label = 'predicted Volatility')\n",
        "plt.title('Volatility  vs predicted Volatility using Random Forest ')\n",
        "plt.xlabel('Duration')\n",
        "plt.ylabel('Volatility')\n",
        "plt.legend()\n",
        "plt.show()"
      ],
      "id": "df7c21ad",
      "execution_count": 111,
      "outputs": [
        {
          "output_type": "display_data",
          "data": {
            "image/png": "[encoded data removed]",
            "text/plain": [
              "<Figure size 1152x432 with 1 Axes>"
            ]
          },
          "metadata": {
            "needs_background": "light"
          }
        }
      ]
    },
    {
      "cell_type": "markdown",
      "metadata": {
        "id": "01ce6315"
      },
      "source": [
        "### Calculating RMSE value for Random Forest Model"
      ],
      "id": "01ce6315"
    },
    {
      "cell_type": "code",
      "metadata": {
        "colab": {
          "base_uri": "https://localhost:8080/"
        },
        "id": "31fa21ce",
        "outputId": "90ee75c2-bc7d-4cf1-b0a8-5047efce31dd"
      },
      "source": [
        "print('RMSE calculated for Random Forest:', np.sqrt(metrics.mean_squared_error(df.iloc[10:, 9:10].values, predicted_vol_rand)))"
      ],
      "id": "31fa21ce",
      "execution_count": 112,
      "outputs": [
        {
          "output_type": "stream",
          "name": "stdout",
          "text": [
            "RMSE calculated for Random Forest: 0.09430795451758997\n"
          ]
        }
      ]
    },
    {
      "cell_type": "code",
      "source": [
        "print('MAE calculated for  Random Forest:',MAE(df.iloc[10:, 9:10].values, predicted_vol_rand))"
      ],
      "metadata": {
        "colab": {
          "base_uri": "https://localhost:8080/"
        },
        "id": "eE7rQrJncez0",
        "outputId": "0f32cebb-4ac9-412a-9469-831439912de5"
      },
      "id": "eE7rQrJncez0",
      "execution_count": 113,
      "outputs": [
        {
          "output_type": "stream",
          "name": "stdout",
          "text": [
            "MAE calculated for  Random Forest: 0.056734295066326317\n"
          ]
        }
      ]
    },
    {
      "cell_type": "code",
      "source": [
        "print('MAPE calculated for Random Forest:',mean_absolute_percentage_error(y_rbf,  predicted_vol_rand))"
      ],
      "metadata": {
        "colab": {
          "base_uri": "https://localhost:8080/"
        },
        "id": "Beq8D7IvLWcE",
        "outputId": "5d857f56-3f4d-4d94-9281-4653e07f7906"
      },
      "id": "Beq8D7IvLWcE",
      "execution_count": 114,
      "outputs": [
        {
          "output_type": "stream",
          "name": "stdout",
          "text": [
            "MAPE calculated for Random Forest: 0.10553549849857646\n"
          ]
        }
      ]
    }
  ]
}