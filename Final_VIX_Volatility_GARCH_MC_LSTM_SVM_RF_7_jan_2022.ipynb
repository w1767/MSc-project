{
  "nbformat": 4,
  "nbformat_minor": 5,
  "metadata": {
    "kernelspec": {
      "display_name": "Python 3 (ipykernel)",
      "language": "python",
      "name": "python3"
    },
    "language_info": {
      "codemirror_mode": {
        "name": "ipython",
        "version": 3
      },
      "file_extension": ".py",
      "mimetype": "text/x-python",
      "name": "python",
      "nbconvert_exporter": "python",
      "pygments_lexer": "ipython3",
      "version": "3.8.12"
    },
    "colab": {
      "name": "Final_VIX_Volatility_GARCH_MC_LSTM_SVM_RF_7_jan_2022.ipynb",
      "provenance": [],
      "collapsed_sections": [],
      "include_colab_link": true
    }
  },
  "cells": [
    {
      "cell_type": "markdown",
      "metadata": {
        "id": "view-in-github",
        "colab_type": "text"
      },
      "source": [
        "<a href=\"https://colab.research.google.com/github/w1767/MSc-project/blob/main/Final_VIX_Volatility_GARCH_MC_LSTM_SVM_RF_7_jan_2022.ipynb\" target=\"_parent\"><img src=\"https://colab.research.google.com/assets/colab-badge.svg\" alt=\"Open In Colab\"/></a>"
      ]
    },
    {
      "cell_type": "markdown",
      "metadata": {
        "id": "311504fd"
      },
      "source": [
        "# Stock Volatility Prediction Using GARCH, Monte Carlo, LSTM, SVM and Random Forest"
      ],
      "id": "311504fd"
    },
    {
      "cell_type": "code",
      "metadata": {
        "colab": {
          "base_uri": "https://localhost:8080/"
        },
        "id": "vMTYX2xVnyFn",
        "outputId": "cf9b517f-41ca-461e-8391-d00d22dbbb93"
      },
      "source": [
        "\n",
        "!pip install matplotlib==3.1.3\n"
      ],
      "id": "vMTYX2xVnyFn",
      "execution_count": 221,
      "outputs": [
        {
          "output_type": "stream",
          "name": "stdout",
          "text": [
            "Requirement already satisfied: matplotlib==3.1.3 in /usr/local/lib/python3.7/dist-packages (3.1.3)\n",
            "Requirement already satisfied: kiwisolver>=1.0.1 in /usr/local/lib/python3.7/dist-packages (from matplotlib==3.1.3) (1.3.2)\n",
            "Requirement already satisfied: numpy>=1.11 in /usr/local/lib/python3.7/dist-packages (from matplotlib==3.1.3) (1.19.5)\n",
            "Requirement already satisfied: pyparsing!=2.0.4,!=2.1.2,!=2.1.6,>=2.0.1 in /usr/local/lib/python3.7/dist-packages (from matplotlib==3.1.3) (3.0.6)\n",
            "Requirement already satisfied: python-dateutil>=2.1 in /usr/local/lib/python3.7/dist-packages (from matplotlib==3.1.3) (2.8.2)\n",
            "Requirement already satisfied: cycler>=0.10 in /usr/local/lib/python3.7/dist-packages (from matplotlib==3.1.3) (0.11.0)\n",
            "Requirement already satisfied: six>=1.5 in /usr/local/lib/python3.7/dist-packages (from python-dateutil>=2.1->matplotlib==3.1.3) (1.15.0)\n"
          ]
        }
      ]
    },
    {
      "cell_type": "code",
      "metadata": {
        "colab": {
          "base_uri": "https://localhost:8080/",
          "height": 16
        },
        "id": "yMZTgmXYnx2n",
        "outputId": "080df39d-49ca-4709-ebd2-857909a197fe"
      },
      "source": [
        "%%HTML\n",
        "<style type=\"text/css\">\n",
        "table.dataframe td, table.dataframe th {\n",
        "    border: 1px  black solid !important;\n",
        "  color: black !important;\n",
        "}\n",
        "</style>"
      ],
      "id": "yMZTgmXYnx2n",
      "execution_count": 222,
      "outputs": [
        {
          "output_type": "display_data",
          "data": {
            "text/html": [
              "<style type=\"text/css\">\n",
              "table.dataframe td, table.dataframe th {\n",
              "    border: 1px  black solid !important;\n",
              "  color: black !important;\n",
              "}\n",
              "</style>"
            ],
            "text/plain": [
              "<IPython.core.display.HTML object>"
            ]
          },
          "metadata": {}
        }
      ]
    },
    {
      "cell_type": "code",
      "metadata": {
        "colab": {
          "base_uri": "https://localhost:8080/"
        },
        "id": "5cf71acb",
        "outputId": "cf3e63ac-49dc-4e13-da22-1a3208d1aba8"
      },
      "source": [
        "!pip install arch\n",
        "!pip install tensor\n",
        "!pip install tensorflow\n",
        "!pip install statsmodels\n",
        "!pip install keras\n",
        "!pip install sklearn\n",
        "import tensorflow\n",
        "import keras\n",
        "import sklearn\n",
        "from pathlib import Path\n",
        "from datetime import datetime, timedelta\n",
        "import datetime as dt\n",
        "import pandas as pd\n",
        "import matplotlib.pyplot as plt\n",
        "%matplotlib inline\n",
        "from matplotlib import style\n",
        "from arch import arch_model\n",
        "from sklearn.svm import SVR\n",
        "from sklearn.model_selection import GridSearchCV\n",
        "from sklearn import metrics\n",
        "from statsmodels.graphics.tsaplots import plot_acf, plot_pacf\n",
        "import numpy as np\n",
        "import os\n",
        "import glob\n",
        "import csv\n",
        "from statsmodels.tsa.stattools import adfuller\n",
        "import warnings\n",
        "warnings.filterwarnings(\"ignore\")\n",
        "from keras.models import Sequential\n",
        "from keras.layers import Dense\n",
        "from keras.layers import LSTM\n",
        "from keras.layers import Dropout\n",
        "from sklearn.ensemble import RandomForestRegressor\n",
        "from keras.wrappers.scikit_learn import KerasRegressor\n",
        "from keras.models import load_model\n",
        "from sklearn import metrics\n",
        "from sklearn.metrics import mean_absolute_error as MAE\n",
        "from sklearn.metrics import mean_absolute_percentage_error"
      ],
      "id": "5cf71acb",
      "execution_count": 223,
      "outputs": [
        {
          "output_type": "stream",
          "name": "stdout",
          "text": [
            "Requirement already satisfied: arch in /usr/local/lib/python3.7/dist-packages (5.1.0)\n",
            "Requirement already satisfied: scipy>=1.3 in /usr/local/lib/python3.7/dist-packages (from arch) (1.4.1)\n",
            "Requirement already satisfied: statsmodels>=0.11 in /usr/local/lib/python3.7/dist-packages (from arch) (0.13.1)\n",
            "Requirement already satisfied: pandas>=1.0 in /usr/local/lib/python3.7/dist-packages (from arch) (1.1.5)\n",
            "Requirement already satisfied: property-cached>=1.6.4 in /usr/local/lib/python3.7/dist-packages (from arch) (1.6.4)\n",
            "Requirement already satisfied: numpy>=1.17 in /usr/local/lib/python3.7/dist-packages (from arch) (1.19.5)\n",
            "Requirement already satisfied: pytz>=2017.2 in /usr/local/lib/python3.7/dist-packages (from pandas>=1.0->arch) (2018.9)\n",
            "Requirement already satisfied: python-dateutil>=2.7.3 in /usr/local/lib/python3.7/dist-packages (from pandas>=1.0->arch) (2.8.2)\n",
            "Requirement already satisfied: six>=1.5 in /usr/local/lib/python3.7/dist-packages (from python-dateutil>=2.7.3->pandas>=1.0->arch) (1.15.0)\n",
            "Requirement already satisfied: patsy>=0.5.2 in /usr/local/lib/python3.7/dist-packages (from statsmodels>=0.11->arch) (0.5.2)\n",
            "Requirement already satisfied: tensor in /usr/local/lib/python3.7/dist-packages (0.3.6)\n",
            "Requirement already satisfied: pysnmp in /usr/local/lib/python3.7/dist-packages (from tensor) (4.4.12)\n",
            "Requirement already satisfied: PyYaml in /usr/local/lib/python3.7/dist-packages (from tensor) (3.13)\n",
            "Requirement already satisfied: protobuf in /usr/local/lib/python3.7/dist-packages (from tensor) (3.17.3)\n",
            "Requirement already satisfied: Twisted in /usr/local/lib/python3.7/dist-packages (from tensor) (21.7.0)\n",
            "Requirement already satisfied: construct in /usr/local/lib/python3.7/dist-packages (from tensor) (2.10.67)\n",
            "Requirement already satisfied: six>=1.9 in /usr/local/lib/python3.7/dist-packages (from protobuf->tensor) (1.15.0)\n",
            "Requirement already satisfied: pysmi in /usr/local/lib/python3.7/dist-packages (from pysnmp->tensor) (0.3.4)\n",
            "Requirement already satisfied: pyasn1>=0.2.3 in /usr/local/lib/python3.7/dist-packages (from pysnmp->tensor) (0.4.8)\n",
            "Requirement already satisfied: pycryptodomex in /usr/local/lib/python3.7/dist-packages (from pysnmp->tensor) (3.12.0)\n",
            "Requirement already satisfied: ply in /usr/local/lib/python3.7/dist-packages (from pysmi->pysnmp->tensor) (3.11)\n",
            "Requirement already satisfied: attrs>=19.2.0 in /usr/local/lib/python3.7/dist-packages (from Twisted->tensor) (21.2.0)\n",
            "Requirement already satisfied: incremental>=21.3.0 in /usr/local/lib/python3.7/dist-packages (from Twisted->tensor) (21.3.0)\n",
            "Requirement already satisfied: hyperlink>=17.1.1 in /usr/local/lib/python3.7/dist-packages (from Twisted->tensor) (21.0.0)\n",
            "Requirement already satisfied: zope.interface>=4.4.2 in /usr/local/lib/python3.7/dist-packages (from Twisted->tensor) (5.4.0)\n",
            "Requirement already satisfied: constantly>=15.1 in /usr/local/lib/python3.7/dist-packages (from Twisted->tensor) (15.1.0)\n",
            "Requirement already satisfied: Automat>=0.8.0 in /usr/local/lib/python3.7/dist-packages (from Twisted->tensor) (20.2.0)\n",
            "Requirement already satisfied: typing-extensions>=3.6.5 in /usr/local/lib/python3.7/dist-packages (from Twisted->tensor) (3.10.0.2)\n",
            "Requirement already satisfied: idna>=2.5 in /usr/local/lib/python3.7/dist-packages (from hyperlink>=17.1.1->Twisted->tensor) (2.10)\n",
            "Requirement already satisfied: setuptools in /usr/local/lib/python3.7/dist-packages (from zope.interface>=4.4.2->Twisted->tensor) (57.4.0)\n",
            "Requirement already satisfied: tensorflow in /usr/local/lib/python3.7/dist-packages (2.7.0)\n",
            "Requirement already satisfied: termcolor>=1.1.0 in /usr/local/lib/python3.7/dist-packages (from tensorflow) (1.1.0)\n",
            "Requirement already satisfied: numpy>=1.14.5 in /usr/local/lib/python3.7/dist-packages (from tensorflow) (1.19.5)\n",
            "Requirement already satisfied: gast<0.5.0,>=0.2.1 in /usr/local/lib/python3.7/dist-packages (from tensorflow) (0.4.0)\n",
            "Requirement already satisfied: opt-einsum>=2.3.2 in /usr/local/lib/python3.7/dist-packages (from tensorflow) (3.3.0)\n",
            "Requirement already satisfied: tensorflow-estimator<2.8,~=2.7.0rc0 in /usr/local/lib/python3.7/dist-packages (from tensorflow) (2.7.0)\n",
            "Requirement already satisfied: wheel<1.0,>=0.32.0 in /usr/local/lib/python3.7/dist-packages (from tensorflow) (0.37.0)\n",
            "Requirement already satisfied: tensorflow-io-gcs-filesystem>=0.21.0 in /usr/local/lib/python3.7/dist-packages (from tensorflow) (0.22.0)\n",
            "Requirement already satisfied: typing-extensions>=3.6.6 in /usr/local/lib/python3.7/dist-packages (from tensorflow) (3.10.0.2)\n",
            "Requirement already satisfied: grpcio<2.0,>=1.24.3 in /usr/local/lib/python3.7/dist-packages (from tensorflow) (1.42.0)\n",
            "Requirement already satisfied: protobuf>=3.9.2 in /usr/local/lib/python3.7/dist-packages (from tensorflow) (3.17.3)\n",
            "Requirement already satisfied: libclang>=9.0.1 in /usr/local/lib/python3.7/dist-packages (from tensorflow) (12.0.0)\n",
            "Requirement already satisfied: astunparse>=1.6.0 in /usr/local/lib/python3.7/dist-packages (from tensorflow) (1.6.3)\n",
            "Requirement already satisfied: flatbuffers<3.0,>=1.12 in /usr/local/lib/python3.7/dist-packages (from tensorflow) (2.0)\n",
            "Requirement already satisfied: keras-preprocessing>=1.1.1 in /usr/local/lib/python3.7/dist-packages (from tensorflow) (1.1.2)\n",
            "Requirement already satisfied: tensorboard~=2.6 in /usr/local/lib/python3.7/dist-packages (from tensorflow) (2.7.0)\n",
            "Requirement already satisfied: h5py>=2.9.0 in /usr/local/lib/python3.7/dist-packages (from tensorflow) (3.1.0)\n",
            "Requirement already satisfied: google-pasta>=0.1.1 in /usr/local/lib/python3.7/dist-packages (from tensorflow) (0.2.0)\n",
            "Requirement already satisfied: absl-py>=0.4.0 in /usr/local/lib/python3.7/dist-packages (from tensorflow) (0.12.0)\n",
            "Requirement already satisfied: wrapt>=1.11.0 in /usr/local/lib/python3.7/dist-packages (from tensorflow) (1.13.3)\n",
            "Requirement already satisfied: six>=1.12.0 in /usr/local/lib/python3.7/dist-packages (from tensorflow) (1.15.0)\n",
            "Requirement already satisfied: keras<2.8,>=2.7.0rc0 in /usr/local/lib/python3.7/dist-packages (from tensorflow) (2.7.0)\n",
            "Requirement already satisfied: cached-property in /usr/local/lib/python3.7/dist-packages (from h5py>=2.9.0->tensorflow) (1.5.2)\n",
            "Requirement already satisfied: google-auth<3,>=1.6.3 in /usr/local/lib/python3.7/dist-packages (from tensorboard~=2.6->tensorflow) (1.35.0)\n",
            "Requirement already satisfied: requests<3,>=2.21.0 in /usr/local/lib/python3.7/dist-packages (from tensorboard~=2.6->tensorflow) (2.23.0)\n",
            "Requirement already satisfied: setuptools>=41.0.0 in /usr/local/lib/python3.7/dist-packages (from tensorboard~=2.6->tensorflow) (57.4.0)\n",
            "Requirement already satisfied: werkzeug>=0.11.15 in /usr/local/lib/python3.7/dist-packages (from tensorboard~=2.6->tensorflow) (1.0.1)\n",
            "Requirement already satisfied: google-auth-oauthlib<0.5,>=0.4.1 in /usr/local/lib/python3.7/dist-packages (from tensorboard~=2.6->tensorflow) (0.4.6)\n",
            "Requirement already satisfied: markdown>=2.6.8 in /usr/local/lib/python3.7/dist-packages (from tensorboard~=2.6->tensorflow) (3.3.6)\n",
            "Requirement already satisfied: tensorboard-plugin-wit>=1.6.0 in /usr/local/lib/python3.7/dist-packages (from tensorboard~=2.6->tensorflow) (1.8.0)\n",
            "Requirement already satisfied: tensorboard-data-server<0.7.0,>=0.6.0 in /usr/local/lib/python3.7/dist-packages (from tensorboard~=2.6->tensorflow) (0.6.1)\n",
            "Requirement already satisfied: cachetools<5.0,>=2.0.0 in /usr/local/lib/python3.7/dist-packages (from google-auth<3,>=1.6.3->tensorboard~=2.6->tensorflow) (4.2.4)\n",
            "Requirement already satisfied: rsa<5,>=3.1.4 in /usr/local/lib/python3.7/dist-packages (from google-auth<3,>=1.6.3->tensorboard~=2.6->tensorflow) (4.8)\n",
            "Requirement already satisfied: pyasn1-modules>=0.2.1 in /usr/local/lib/python3.7/dist-packages (from google-auth<3,>=1.6.3->tensorboard~=2.6->tensorflow) (0.2.8)\n",
            "Requirement already satisfied: requests-oauthlib>=0.7.0 in /usr/local/lib/python3.7/dist-packages (from google-auth-oauthlib<0.5,>=0.4.1->tensorboard~=2.6->tensorflow) (1.3.0)\n",
            "Requirement already satisfied: importlib-metadata>=4.4 in /usr/local/lib/python3.7/dist-packages (from markdown>=2.6.8->tensorboard~=2.6->tensorflow) (4.8.2)\n",
            "Requirement already satisfied: zipp>=0.5 in /usr/local/lib/python3.7/dist-packages (from importlib-metadata>=4.4->markdown>=2.6.8->tensorboard~=2.6->tensorflow) (3.6.0)\n",
            "Requirement already satisfied: pyasn1<0.5.0,>=0.4.6 in /usr/local/lib/python3.7/dist-packages (from pyasn1-modules>=0.2.1->google-auth<3,>=1.6.3->tensorboard~=2.6->tensorflow) (0.4.8)\n",
            "Requirement already satisfied: idna<3,>=2.5 in /usr/local/lib/python3.7/dist-packages (from requests<3,>=2.21.0->tensorboard~=2.6->tensorflow) (2.10)\n",
            "Requirement already satisfied: chardet<4,>=3.0.2 in /usr/local/lib/python3.7/dist-packages (from requests<3,>=2.21.0->tensorboard~=2.6->tensorflow) (3.0.4)\n",
            "Requirement already satisfied: certifi>=2017.4.17 in /usr/local/lib/python3.7/dist-packages (from requests<3,>=2.21.0->tensorboard~=2.6->tensorflow) (2021.10.8)\n",
            "Requirement already satisfied: urllib3!=1.25.0,!=1.25.1,<1.26,>=1.21.1 in /usr/local/lib/python3.7/dist-packages (from requests<3,>=2.21.0->tensorboard~=2.6->tensorflow) (1.24.3)\n",
            "Requirement already satisfied: oauthlib>=3.0.0 in /usr/local/lib/python3.7/dist-packages (from requests-oauthlib>=0.7.0->google-auth-oauthlib<0.5,>=0.4.1->tensorboard~=2.6->tensorflow) (3.1.1)\n",
            "Requirement already satisfied: statsmodels in /usr/local/lib/python3.7/dist-packages (0.13.1)\n",
            "Requirement already satisfied: patsy>=0.5.2 in /usr/local/lib/python3.7/dist-packages (from statsmodels) (0.5.2)\n",
            "Requirement already satisfied: pandas>=0.25 in /usr/local/lib/python3.7/dist-packages (from statsmodels) (1.1.5)\n",
            "Requirement already satisfied: scipy>=1.3 in /usr/local/lib/python3.7/dist-packages (from statsmodels) (1.4.1)\n",
            "Requirement already satisfied: numpy>=1.17 in /usr/local/lib/python3.7/dist-packages (from statsmodels) (1.19.5)\n",
            "Requirement already satisfied: pytz>=2017.2 in /usr/local/lib/python3.7/dist-packages (from pandas>=0.25->statsmodels) (2018.9)\n",
            "Requirement already satisfied: python-dateutil>=2.7.3 in /usr/local/lib/python3.7/dist-packages (from pandas>=0.25->statsmodels) (2.8.2)\n",
            "Requirement already satisfied: six in /usr/local/lib/python3.7/dist-packages (from patsy>=0.5.2->statsmodels) (1.15.0)\n",
            "Requirement already satisfied: keras in /usr/local/lib/python3.7/dist-packages (2.7.0)\n",
            "Requirement already satisfied: sklearn in /usr/local/lib/python3.7/dist-packages (0.0)\n",
            "Requirement already satisfied: scikit-learn in /usr/local/lib/python3.7/dist-packages (from sklearn) (1.0.1)\n",
            "Requirement already satisfied: joblib>=0.11 in /usr/local/lib/python3.7/dist-packages (from scikit-learn->sklearn) (1.1.0)\n",
            "Requirement already satisfied: scipy>=1.1.0 in /usr/local/lib/python3.7/dist-packages (from scikit-learn->sklearn) (1.4.1)\n",
            "Requirement already satisfied: numpy>=1.14.6 in /usr/local/lib/python3.7/dist-packages (from scikit-learn->sklearn) (1.19.5)\n",
            "Requirement already satisfied: threadpoolctl>=2.0.0 in /usr/local/lib/python3.7/dist-packages (from scikit-learn->sklearn) (3.0.0)\n"
          ]
        }
      ]
    },
    {
      "cell_type": "code",
      "metadata": {
        "id": "SmE9qk5Xnv66"
      },
      "source": [
        ""
      ],
      "id": "SmE9qk5Xnv66",
      "execution_count": 223,
      "outputs": []
    },
    {
      "cell_type": "markdown",
      "metadata": {
        "id": "7db737b2"
      },
      "source": [
        "### Reading the dataset from your local directory"
      ],
      "id": "7db737b2"
    },
    {
      "cell_type": "code",
      "metadata": {
        "id": "eb503279"
      },
      "source": [
        "#os.chdir('D:\\GU_Project') "
      ],
      "id": "eb503279",
      "execution_count": 224,
      "outputs": []
    },
    {
      "cell_type": "code",
      "metadata": {
        "colab": {
          "base_uri": "https://localhost:8080/"
        },
        "id": "rcavily1_u1I",
        "outputId": "5be271f3-05a0-4911-cc79-40550cb37579"
      },
      "source": [
        "from google.colab import drive\n",
        "drive.mount('/content/drive')"
      ],
      "id": "rcavily1_u1I",
      "execution_count": 225,
      "outputs": [
        {
          "output_type": "stream",
          "name": "stdout",
          "text": [
            "Drive already mounted at /content/drive; to attempt to forcibly remount, call drive.mount(\"/content/drive\", force_remount=True).\n"
          ]
        }
      ]
    },
    {
      "cell_type": "code",
      "metadata": {
        "id": "fYoQloo5Ao4I"
      },
      "source": [
        "path = \"/content/drive/MyDrive/Master thesis/VIX.csv\""
      ],
      "id": "fYoQloo5Ao4I",
      "execution_count": 226,
      "outputs": []
    },
    {
      "cell_type": "code",
      "metadata": {
        "id": "5bd973fe"
      },
      "source": [
        "VI_db=pd.read_csv(\"/content/drive/MyDrive/Master thesis/VIX.csv\")"
      ],
      "id": "5bd973fe",
      "execution_count": 227,
      "outputs": []
    },
    {
      "cell_type": "code",
      "metadata": {
        "colab": {
          "base_uri": "https://localhost:8080/",
          "height": 423
        },
        "id": "af250f0a",
        "outputId": "f8ac3642-d3dd-4b9d-f2d0-da31d8653e33"
      },
      "source": [
        "VI_db"
      ],
      "id": "af250f0a",
      "execution_count": 228,
      "outputs": [
        {
          "output_type": "execute_result",
          "data": {
            "text/html": [
              "\n",
              "  <div id=\"df-d3ea842b-7423-4fc8-bdee-32fb51da56e8\">\n",
              "    <div class=\"colab-df-container\">\n",
              "      <div>\n",
              "<style scoped>\n",
              "    .dataframe tbody tr th:only-of-type {\n",
              "        vertical-align: middle;\n",
              "    }\n",
              "\n",
              "    .dataframe tbody tr th {\n",
              "        vertical-align: top;\n",
              "    }\n",
              "\n",
              "    .dataframe thead th {\n",
              "        text-align: right;\n",
              "    }\n",
              "</style>\n",
              "<table border=\"1\" class=\"dataframe\">\n",
              "  <thead>\n",
              "    <tr style=\"text-align: right;\">\n",
              "      <th></th>\n",
              "      <th>Date</th>\n",
              "      <th>Open</th>\n",
              "      <th>High</th>\n",
              "      <th>Low</th>\n",
              "      <th>Close</th>\n",
              "      <th>Adj Close</th>\n",
              "      <th>Volume</th>\n",
              "    </tr>\n",
              "  </thead>\n",
              "  <tbody>\n",
              "    <tr>\n",
              "      <th>0</th>\n",
              "      <td>02/01/1990</td>\n",
              "      <td>17.240000</td>\n",
              "      <td>17.240000</td>\n",
              "      <td>17.240000</td>\n",
              "      <td>17.240000</td>\n",
              "      <td>17.240000</td>\n",
              "      <td>0</td>\n",
              "    </tr>\n",
              "    <tr>\n",
              "      <th>1</th>\n",
              "      <td>03/01/1990</td>\n",
              "      <td>18.190001</td>\n",
              "      <td>18.190001</td>\n",
              "      <td>18.190001</td>\n",
              "      <td>18.190001</td>\n",
              "      <td>18.190001</td>\n",
              "      <td>0</td>\n",
              "    </tr>\n",
              "    <tr>\n",
              "      <th>2</th>\n",
              "      <td>04/01/1990</td>\n",
              "      <td>19.219999</td>\n",
              "      <td>19.219999</td>\n",
              "      <td>19.219999</td>\n",
              "      <td>19.219999</td>\n",
              "      <td>19.219999</td>\n",
              "      <td>0</td>\n",
              "    </tr>\n",
              "    <tr>\n",
              "      <th>3</th>\n",
              "      <td>05/01/1990</td>\n",
              "      <td>20.110001</td>\n",
              "      <td>20.110001</td>\n",
              "      <td>20.110001</td>\n",
              "      <td>20.110001</td>\n",
              "      <td>20.110001</td>\n",
              "      <td>0</td>\n",
              "    </tr>\n",
              "    <tr>\n",
              "      <th>4</th>\n",
              "      <td>08/01/1990</td>\n",
              "      <td>20.260000</td>\n",
              "      <td>20.260000</td>\n",
              "      <td>20.260000</td>\n",
              "      <td>20.260000</td>\n",
              "      <td>20.260000</td>\n",
              "      <td>0</td>\n",
              "    </tr>\n",
              "    <tr>\n",
              "      <th>...</th>\n",
              "      <td>...</td>\n",
              "      <td>...</td>\n",
              "      <td>...</td>\n",
              "      <td>...</td>\n",
              "      <td>...</td>\n",
              "      <td>...</td>\n",
              "      <td>...</td>\n",
              "    </tr>\n",
              "    <tr>\n",
              "      <th>7929</th>\n",
              "      <td>22/06/2021</td>\n",
              "      <td>17.910000</td>\n",
              "      <td>18.320000</td>\n",
              "      <td>15.760000</td>\n",
              "      <td>16.660000</td>\n",
              "      <td>16.660000</td>\n",
              "      <td>0</td>\n",
              "    </tr>\n",
              "    <tr>\n",
              "      <th>7930</th>\n",
              "      <td>23/06/2021</td>\n",
              "      <td>16.250000</td>\n",
              "      <td>16.840000</td>\n",
              "      <td>14.860000</td>\n",
              "      <td>16.320000</td>\n",
              "      <td>16.320000</td>\n",
              "      <td>0</td>\n",
              "    </tr>\n",
              "    <tr>\n",
              "      <th>7931</th>\n",
              "      <td>24/06/2021</td>\n",
              "      <td>15.990000</td>\n",
              "      <td>16.049999</td>\n",
              "      <td>14.190000</td>\n",
              "      <td>15.970000</td>\n",
              "      <td>15.970000</td>\n",
              "      <td>0</td>\n",
              "    </tr>\n",
              "    <tr>\n",
              "      <th>7932</th>\n",
              "      <td>25/06/2021</td>\n",
              "      <td>16.040001</td>\n",
              "      <td>16.170000</td>\n",
              "      <td>15.210000</td>\n",
              "      <td>15.620000</td>\n",
              "      <td>15.620000</td>\n",
              "      <td>0</td>\n",
              "    </tr>\n",
              "    <tr>\n",
              "      <th>7933</th>\n",
              "      <td>28/06/2021</td>\n",
              "      <td>16.070000</td>\n",
              "      <td>16.459999</td>\n",
              "      <td>15.390000</td>\n",
              "      <td>15.760000</td>\n",
              "      <td>15.760000</td>\n",
              "      <td>0</td>\n",
              "    </tr>\n",
              "  </tbody>\n",
              "</table>\n",
              "<p>7934 rows × 7 columns</p>\n",
              "</div>\n",
              "      <button class=\"colab-df-convert\" onclick=\"convertToInteractive('df-d3ea842b-7423-4fc8-bdee-32fb51da56e8')\"\n",
              "              title=\"Convert this dataframe to an interactive table.\"\n",
              "              style=\"display:none;\">\n",
              "        \n",
              "  <svg xmlns=\"http://www.w3.org/2000/svg\" height=\"24px\"viewBox=\"0 0 24 24\"\n",
              "       width=\"24px\">\n",
              "    <path d=\"M0 0h24v24H0V0z\" fill=\"none\"/>\n",
              "    <path d=\"M18.56 5.44l.94 2.06.94-2.06 2.06-.94-2.06-.94-.94-2.06-.94 2.06-2.06.94zm-11 1L8.5 8.5l.94-2.06 2.06-.94-2.06-.94L8.5 2.5l-.94 2.06-2.06.94zm10 10l.94 2.06.94-2.06 2.06-.94-2.06-.94-.94-2.06-.94 2.06-2.06.94z\"/><path d=\"M17.41 7.96l-1.37-1.37c-.4-.4-.92-.59-1.43-.59-.52 0-1.04.2-1.43.59L10.3 9.45l-7.72 7.72c-.78.78-.78 2.05 0 2.83L4 21.41c.39.39.9.59 1.41.59.51 0 1.02-.2 1.41-.59l7.78-7.78 2.81-2.81c.8-.78.8-2.07 0-2.86zM5.41 20L4 18.59l7.72-7.72 1.47 1.35L5.41 20z\"/>\n",
              "  </svg>\n",
              "      </button>\n",
              "      \n",
              "  <style>\n",
              "    .colab-df-container {\n",
              "      display:flex;\n",
              "      flex-wrap:wrap;\n",
              "      gap: 12px;\n",
              "    }\n",
              "\n",
              "    .colab-df-convert {\n",
              "      background-color: #E8F0FE;\n",
              "      border: none;\n",
              "      border-radius: 50%;\n",
              "      cursor: pointer;\n",
              "      display: none;\n",
              "      fill: #1967D2;\n",
              "      height: 32px;\n",
              "      padding: 0 0 0 0;\n",
              "      width: 32px;\n",
              "    }\n",
              "\n",
              "    .colab-df-convert:hover {\n",
              "      background-color: #E2EBFA;\n",
              "      box-shadow: 0px 1px 2px rgba(60, 64, 67, 0.3), 0px 1px 3px 1px rgba(60, 64, 67, 0.15);\n",
              "      fill: #174EA6;\n",
              "    }\n",
              "\n",
              "    [theme=dark] .colab-df-convert {\n",
              "      background-color: #3B4455;\n",
              "      fill: #D2E3FC;\n",
              "    }\n",
              "\n",
              "    [theme=dark] .colab-df-convert:hover {\n",
              "      background-color: #434B5C;\n",
              "      box-shadow: 0px 1px 3px 1px rgba(0, 0, 0, 0.15);\n",
              "      filter: drop-shadow(0px 1px 2px rgba(0, 0, 0, 0.3));\n",
              "      fill: #FFFFFF;\n",
              "    }\n",
              "  </style>\n",
              "\n",
              "      <script>\n",
              "        const buttonEl =\n",
              "          document.querySelector('#df-d3ea842b-7423-4fc8-bdee-32fb51da56e8 button.colab-df-convert');\n",
              "        buttonEl.style.display =\n",
              "          google.colab.kernel.accessAllowed ? 'block' : 'none';\n",
              "\n",
              "        async function convertToInteractive(key) {\n",
              "          const element = document.querySelector('#df-d3ea842b-7423-4fc8-bdee-32fb51da56e8');\n",
              "          const dataTable =\n",
              "            await google.colab.kernel.invokeFunction('convertToInteractive',\n",
              "                                                     [key], {});\n",
              "          if (!dataTable) return;\n",
              "\n",
              "          const docLinkHtml = 'Like what you see? Visit the ' +\n",
              "            '<a target=\"_blank\" href=https://colab.research.google.com/notebooks/data_table.ipynb>data table notebook</a>'\n",
              "            + ' to learn more about interactive tables.';\n",
              "          element.innerHTML = '';\n",
              "          dataTable['output_type'] = 'display_data';\n",
              "          await google.colab.output.renderOutput(dataTable, element);\n",
              "          const docLink = document.createElement('div');\n",
              "          docLink.innerHTML = docLinkHtml;\n",
              "          element.appendChild(docLink);\n",
              "        }\n",
              "      </script>\n",
              "    </div>\n",
              "  </div>\n",
              "  "
            ],
            "text/plain": [
              "            Date       Open       High        Low      Close  Adj Close  Volume\n",
              "0     02/01/1990  17.240000  17.240000  17.240000  17.240000  17.240000       0\n",
              "1     03/01/1990  18.190001  18.190001  18.190001  18.190001  18.190001       0\n",
              "2     04/01/1990  19.219999  19.219999  19.219999  19.219999  19.219999       0\n",
              "3     05/01/1990  20.110001  20.110001  20.110001  20.110001  20.110001       0\n",
              "4     08/01/1990  20.260000  20.260000  20.260000  20.260000  20.260000       0\n",
              "...          ...        ...        ...        ...        ...        ...     ...\n",
              "7929  22/06/2021  17.910000  18.320000  15.760000  16.660000  16.660000       0\n",
              "7930  23/06/2021  16.250000  16.840000  14.860000  16.320000  16.320000       0\n",
              "7931  24/06/2021  15.990000  16.049999  14.190000  15.970000  15.970000       0\n",
              "7932  25/06/2021  16.040001  16.170000  15.210000  15.620000  15.620000       0\n",
              "7933  28/06/2021  16.070000  16.459999  15.390000  15.760000  15.760000       0\n",
              "\n",
              "[7934 rows x 7 columns]"
            ]
          },
          "metadata": {},
          "execution_count": 228
        }
      ]
    },
    {
      "cell_type": "code",
      "source": [
        "import seaborn as sns\n",
        "# Checking the Missing Values\n",
        "sns.heatmap(VI_db.isnull(), yticklabels=False, cmap= \"viridis\")"
      ],
      "metadata": {
        "colab": {
          "base_uri": "https://localhost:8080/",
          "height": 324
        },
        "id": "eXD4IJ3nApQ-",
        "outputId": "c62e6d54-8415-482b-d3bb-c56c75491ea4"
      },
      "id": "eXD4IJ3nApQ-",
      "execution_count": 229,
      "outputs": [
        {
          "output_type": "execute_result",
          "data": {
            "text/plain": [
              "<matplotlib.axes._subplots.AxesSubplot at 0x7fa4a6efbd50>"
            ]
          },
          "metadata": {},
          "execution_count": 229
        },
        {
          "output_type": "display_data",
          "data": {
            "image/png": "[encoded data removed]",
            "text/plain": [
              "<Figure size 432x288 with 2 Axes>"
            ]
          },
          "metadata": {
            "needs_background": "light"
          }
        }
      ]
    },
    {
      "cell_type": "code",
      "source": [
        ""
      ],
      "metadata": {
        "id": "QumjqzahCQDN"
      },
      "id": "QumjqzahCQDN",
      "execution_count": 229,
      "outputs": []
    },
    {
      "cell_type": "markdown",
      "metadata": {
        "id": "cdfd2e0a"
      },
      "source": [
        "### Data type formating of the required features "
      ],
      "id": "cdfd2e0a"
    },
    {
      "cell_type": "code",
      "metadata": {
        "id": "066aa0f1"
      },
      "source": [
        "VI_db['Date']= pd.to_datetime(VI_db['Date'])"
      ],
      "id": "066aa0f1",
      "execution_count": 230,
      "outputs": []
    },
    {
      "cell_type": "markdown",
      "metadata": {
        "id": "10e16074"
      },
      "source": [
        "### Features preparations"
      ],
      "id": "10e16074"
    },
    {
      "cell_type": "code",
      "metadata": {
        "id": "96be3745"
      },
      "source": [
        "VI_db['log_price'] = np.log(VI_db['Close'])"
      ],
      "id": "96be3745",
      "execution_count": 231,
      "outputs": []
    },
    {
      "cell_type": "code",
      "metadata": {
        "id": "6a103f4d"
      },
      "source": [
        "VI_db['pct_change'] = VI_db['log_price'].diff()"
      ],
      "id": "6a103f4d",
      "execution_count": 232,
      "outputs": []
    },
    {
      "cell_type": "code",
      "metadata": {
        "id": "3bb132f7"
      },
      "source": [
        "VI_db['stdev'] = VI_db['pct_change'].rolling(window=30, center=False).std()"
      ],
      "id": "3bb132f7",
      "execution_count": 233,
      "outputs": []
    },
    {
      "cell_type": "code",
      "metadata": {
        "id": "e30fc6b9"
      },
      "source": [
        "VI_db['Volatility'] = VI_db['stdev']*(252**0.5)"
      ],
      "id": "e30fc6b9",
      "execution_count": 234,
      "outputs": []
    },
    {
      "cell_type": "markdown",
      "metadata": {
        "id": "5a361a7c"
      },
      "source": [
        "### Display top 100 records"
      ],
      "id": "5a361a7c"
    },
    {
      "cell_type": "code",
      "metadata": {
        "colab": {
          "base_uri": "https://localhost:8080/",
          "height": 467
        },
        "id": "2c532ac4",
        "outputId": "9705fcda-5351-437c-bf2c-710bc77100bb"
      },
      "source": [
        "VI_db.head(100)"
      ],
      "id": "2c532ac4",
      "execution_count": 235,
      "outputs": [
        {
          "output_type": "execute_result",
          "data": {
            "text/html": [
              "\n",
              "  <div id=\"df-fa9332d6-cf0c-42a9-84c8-a9493f1e7e47\">\n",
              "    <div class=\"colab-df-container\">\n",
              "      <div>\n",
              "<style scoped>\n",
              "    .dataframe tbody tr th:only-of-type {\n",
              "        vertical-align: middle;\n",
              "    }\n",
              "\n",
              "    .dataframe tbody tr th {\n",
              "        vertical-align: top;\n",
              "    }\n",
              "\n",
              "    .dataframe thead th {\n",
              "        text-align: right;\n",
              "    }\n",
              "</style>\n",
              "<table border=\"1\" class=\"dataframe\">\n",
              "  <thead>\n",
              "    <tr style=\"text-align: right;\">\n",
              "      <th></th>\n",
              "      <th>Date</th>\n",
              "      <th>Open</th>\n",
              "      <th>High</th>\n",
              "      <th>Low</th>\n",
              "      <th>Close</th>\n",
              "      <th>Adj Close</th>\n",
              "      <th>Volume</th>\n",
              "      <th>log_price</th>\n",
              "      <th>pct_change</th>\n",
              "      <th>stdev</th>\n",
              "      <th>Volatility</th>\n",
              "    </tr>\n",
              "  </thead>\n",
              "  <tbody>\n",
              "    <tr>\n",
              "      <th>0</th>\n",
              "      <td>1990-02-01</td>\n",
              "      <td>17.240000</td>\n",
              "      <td>17.240000</td>\n",
              "      <td>17.240000</td>\n",
              "      <td>17.240000</td>\n",
              "      <td>17.240000</td>\n",
              "      <td>0</td>\n",
              "      <td>2.847232</td>\n",
              "      <td>NaN</td>\n",
              "      <td>NaN</td>\n",
              "      <td>NaN</td>\n",
              "    </tr>\n",
              "    <tr>\n",
              "      <th>1</th>\n",
              "      <td>1990-03-01</td>\n",
              "      <td>18.190001</td>\n",
              "      <td>18.190001</td>\n",
              "      <td>18.190001</td>\n",
              "      <td>18.190001</td>\n",
              "      <td>18.190001</td>\n",
              "      <td>0</td>\n",
              "      <td>2.900872</td>\n",
              "      <td>0.053640</td>\n",
              "      <td>NaN</td>\n",
              "      <td>NaN</td>\n",
              "    </tr>\n",
              "    <tr>\n",
              "      <th>2</th>\n",
              "      <td>1990-04-01</td>\n",
              "      <td>19.219999</td>\n",
              "      <td>19.219999</td>\n",
              "      <td>19.219999</td>\n",
              "      <td>19.219999</td>\n",
              "      <td>19.219999</td>\n",
              "      <td>0</td>\n",
              "      <td>2.955951</td>\n",
              "      <td>0.055079</td>\n",
              "      <td>NaN</td>\n",
              "      <td>NaN</td>\n",
              "    </tr>\n",
              "    <tr>\n",
              "      <th>3</th>\n",
              "      <td>1990-05-01</td>\n",
              "      <td>20.110001</td>\n",
              "      <td>20.110001</td>\n",
              "      <td>20.110001</td>\n",
              "      <td>20.110001</td>\n",
              "      <td>20.110001</td>\n",
              "      <td>0</td>\n",
              "      <td>3.001217</td>\n",
              "      <td>0.045266</td>\n",
              "      <td>NaN</td>\n",
              "      <td>NaN</td>\n",
              "    </tr>\n",
              "    <tr>\n",
              "      <th>4</th>\n",
              "      <td>1990-08-01</td>\n",
              "      <td>20.260000</td>\n",
              "      <td>20.260000</td>\n",
              "      <td>20.260000</td>\n",
              "      <td>20.260000</td>\n",
              "      <td>20.260000</td>\n",
              "      <td>0</td>\n",
              "      <td>3.008648</td>\n",
              "      <td>0.007431</td>\n",
              "      <td>NaN</td>\n",
              "      <td>NaN</td>\n",
              "    </tr>\n",
              "    <tr>\n",
              "      <th>...</th>\n",
              "      <td>...</td>\n",
              "      <td>...</td>\n",
              "      <td>...</td>\n",
              "      <td>...</td>\n",
              "      <td>...</td>\n",
              "      <td>...</td>\n",
              "      <td>...</td>\n",
              "      <td>...</td>\n",
              "      <td>...</td>\n",
              "      <td>...</td>\n",
              "      <td>...</td>\n",
              "    </tr>\n",
              "    <tr>\n",
              "      <th>95</th>\n",
              "      <td>1990-05-17</td>\n",
              "      <td>17.270000</td>\n",
              "      <td>17.270000</td>\n",
              "      <td>17.270000</td>\n",
              "      <td>17.270000</td>\n",
              "      <td>17.270000</td>\n",
              "      <td>0</td>\n",
              "      <td>2.848971</td>\n",
              "      <td>-0.025159</td>\n",
              "      <td>0.069642</td>\n",
              "      <td>1.105535</td>\n",
              "    </tr>\n",
              "    <tr>\n",
              "      <th>96</th>\n",
              "      <td>1990-05-18</td>\n",
              "      <td>17.200001</td>\n",
              "      <td>17.200001</td>\n",
              "      <td>17.200001</td>\n",
              "      <td>17.200001</td>\n",
              "      <td>17.200001</td>\n",
              "      <td>0</td>\n",
              "      <td>2.844909</td>\n",
              "      <td>-0.004061</td>\n",
              "      <td>0.069416</td>\n",
              "      <td>1.101950</td>\n",
              "    </tr>\n",
              "    <tr>\n",
              "      <th>97</th>\n",
              "      <td>1990-05-21</td>\n",
              "      <td>16.719999</td>\n",
              "      <td>16.719999</td>\n",
              "      <td>16.719999</td>\n",
              "      <td>16.719999</td>\n",
              "      <td>16.719999</td>\n",
              "      <td>0</td>\n",
              "      <td>2.816606</td>\n",
              "      <td>-0.028304</td>\n",
              "      <td>0.069241</td>\n",
              "      <td>1.099169</td>\n",
              "    </tr>\n",
              "    <tr>\n",
              "      <th>98</th>\n",
              "      <td>1990-05-22</td>\n",
              "      <td>17.840000</td>\n",
              "      <td>17.840000</td>\n",
              "      <td>17.840000</td>\n",
              "      <td>17.840000</td>\n",
              "      <td>17.840000</td>\n",
              "      <td>0</td>\n",
              "      <td>2.881443</td>\n",
              "      <td>0.064838</td>\n",
              "      <td>0.070293</td>\n",
              "      <td>1.115870</td>\n",
              "    </tr>\n",
              "    <tr>\n",
              "      <th>99</th>\n",
              "      <td>1990-05-23</td>\n",
              "      <td>17.180000</td>\n",
              "      <td>17.180000</td>\n",
              "      <td>17.180000</td>\n",
              "      <td>17.180000</td>\n",
              "      <td>17.180000</td>\n",
              "      <td>0</td>\n",
              "      <td>2.843746</td>\n",
              "      <td>-0.037697</td>\n",
              "      <td>0.070416</td>\n",
              "      <td>1.117817</td>\n",
              "    </tr>\n",
              "  </tbody>\n",
              "</table>\n",
              "<p>100 rows × 11 columns</p>\n",
              "</div>\n",
              "      <button class=\"colab-df-convert\" onclick=\"convertToInteractive('df-fa9332d6-cf0c-42a9-84c8-a9493f1e7e47')\"\n",
              "              title=\"Convert this dataframe to an interactive table.\"\n",
              "              style=\"display:none;\">\n",
              "        \n",
              "  <svg xmlns=\"http://www.w3.org/2000/svg\" height=\"24px\"viewBox=\"0 0 24 24\"\n",
              "       width=\"24px\">\n",
              "    <path d=\"M0 0h24v24H0V0z\" fill=\"none\"/>\n",
              "    <path d=\"M18.56 5.44l.94 2.06.94-2.06 2.06-.94-2.06-.94-.94-2.06-.94 2.06-2.06.94zm-11 1L8.5 8.5l.94-2.06 2.06-.94-2.06-.94L8.5 2.5l-.94 2.06-2.06.94zm10 10l.94 2.06.94-2.06 2.06-.94-2.06-.94-.94-2.06-.94 2.06-2.06.94z\"/><path d=\"M17.41 7.96l-1.37-1.37c-.4-.4-.92-.59-1.43-.59-.52 0-1.04.2-1.43.59L10.3 9.45l-7.72 7.72c-.78.78-.78 2.05 0 2.83L4 21.41c.39.39.9.59 1.41.59.51 0 1.02-.2 1.41-.59l7.78-7.78 2.81-2.81c.8-.78.8-2.07 0-2.86zM5.41 20L4 18.59l7.72-7.72 1.47 1.35L5.41 20z\"/>\n",
              "  </svg>\n",
              "      </button>\n",
              "      \n",
              "  <style>\n",
              "    .colab-df-container {\n",
              "      display:flex;\n",
              "      flex-wrap:wrap;\n",
              "      gap: 12px;\n",
              "    }\n",
              "\n",
              "    .colab-df-convert {\n",
              "      background-color: #E8F0FE;\n",
              "      border: none;\n",
              "      border-radius: 50%;\n",
              "      cursor: pointer;\n",
              "      display: none;\n",
              "      fill: #1967D2;\n",
              "      height: 32px;\n",
              "      padding: 0 0 0 0;\n",
              "      width: 32px;\n",
              "    }\n",
              "\n",
              "    .colab-df-convert:hover {\n",
              "      background-color: #E2EBFA;\n",
              "      box-shadow: 0px 1px 2px rgba(60, 64, 67, 0.3), 0px 1px 3px 1px rgba(60, 64, 67, 0.15);\n",
              "      fill: #174EA6;\n",
              "    }\n",
              "\n",
              "    [theme=dark] .colab-df-convert {\n",
              "      background-color: #3B4455;\n",
              "      fill: #D2E3FC;\n",
              "    }\n",
              "\n",
              "    [theme=dark] .colab-df-convert:hover {\n",
              "      background-color: #434B5C;\n",
              "      box-shadow: 0px 1px 3px 1px rgba(0, 0, 0, 0.15);\n",
              "      filter: drop-shadow(0px 1px 2px rgba(0, 0, 0, 0.3));\n",
              "      fill: #FFFFFF;\n",
              "    }\n",
              "  </style>\n",
              "\n",
              "      <script>\n",
              "        const buttonEl =\n",
              "          document.querySelector('#df-fa9332d6-cf0c-42a9-84c8-a9493f1e7e47 button.colab-df-convert');\n",
              "        buttonEl.style.display =\n",
              "          google.colab.kernel.accessAllowed ? 'block' : 'none';\n",
              "\n",
              "        async function convertToInteractive(key) {\n",
              "          const element = document.querySelector('#df-fa9332d6-cf0c-42a9-84c8-a9493f1e7e47');\n",
              "          const dataTable =\n",
              "            await google.colab.kernel.invokeFunction('convertToInteractive',\n",
              "                                                     [key], {});\n",
              "          if (!dataTable) return;\n",
              "\n",
              "          const docLinkHtml = 'Like what you see? Visit the ' +\n",
              "            '<a target=\"_blank\" href=https://colab.research.google.com/notebooks/data_table.ipynb>data table notebook</a>'\n",
              "            + ' to learn more about interactive tables.';\n",
              "          element.innerHTML = '';\n",
              "          dataTable['output_type'] = 'display_data';\n",
              "          await google.colab.output.renderOutput(dataTable, element);\n",
              "          const docLink = document.createElement('div');\n",
              "          docLink.innerHTML = docLinkHtml;\n",
              "          element.appendChild(docLink);\n",
              "        }\n",
              "      </script>\n",
              "    </div>\n",
              "  </div>\n",
              "  "
            ],
            "text/plain": [
              "         Date       Open       High  ...  pct_change     stdev  Volatility\n",
              "0  1990-02-01  17.240000  17.240000  ...         NaN       NaN         NaN\n",
              "1  1990-03-01  18.190001  18.190001  ...    0.053640       NaN         NaN\n",
              "2  1990-04-01  19.219999  19.219999  ...    0.055079       NaN         NaN\n",
              "3  1990-05-01  20.110001  20.110001  ...    0.045266       NaN         NaN\n",
              "4  1990-08-01  20.260000  20.260000  ...    0.007431       NaN         NaN\n",
              "..        ...        ...        ...  ...         ...       ...         ...\n",
              "95 1990-05-17  17.270000  17.270000  ...   -0.025159  0.069642    1.105535\n",
              "96 1990-05-18  17.200001  17.200001  ...   -0.004061  0.069416    1.101950\n",
              "97 1990-05-21  16.719999  16.719999  ...   -0.028304  0.069241    1.099169\n",
              "98 1990-05-22  17.840000  17.840000  ...    0.064838  0.070293    1.115870\n",
              "99 1990-05-23  17.180000  17.180000  ...   -0.037697  0.070416    1.117817\n",
              "\n",
              "[100 rows x 11 columns]"
            ]
          },
          "metadata": {},
          "execution_count": 235
        }
      ]
    },
    {
      "cell_type": "code",
      "metadata": {
        "id": "Jc-DY2NK_Nr6"
      },
      "source": [
        ""
      ],
      "id": "Jc-DY2NK_Nr6",
      "execution_count": 235,
      "outputs": []
    },
    {
      "cell_type": "markdown",
      "metadata": {
        "id": "de56f142"
      },
      "source": [
        "### Set 'Date' as index"
      ],
      "id": "de56f142"
    },
    {
      "cell_type": "code",
      "metadata": {
        "id": "7bbc376a"
      },
      "source": [
        "to_plt = VI_db.sort_values(by = 'Date').set_index('Date')"
      ],
      "id": "7bbc376a",
      "execution_count": 236,
      "outputs": []
    },
    {
      "cell_type": "markdown",
      "metadata": {
        "id": "cf0e41ee"
      },
      "source": [
        "### Plot Volatility feature from the DataFrame"
      ],
      "id": "cf0e41ee"
    },
    {
      "cell_type": "code",
      "metadata": {
        "colab": {
          "base_uri": "https://localhost:8080/",
          "height": 403
        },
        "id": "6680e954",
        "outputId": "457f769f-d0ef-4762-dbfe-12c099aefe35"
      },
      "source": [
        "plt.figure(figsize=(16,6))\n",
        "plt.plot(to_plt['Volatility'])\n",
        "plt.ylabel('Pct Return', fontsize=16)\n",
        "plt.title('VIX Rolling Volatility considering 30 Time Periods with Standard Deviation Annualized', fontsize=20)"
      ],
      "id": "6680e954",
      "execution_count": 237,
      "outputs": [
        {
          "output_type": "execute_result",
          "data": {
            "text/plain": [
              "Text(0.5, 1.0, 'VIX Rolling Volatility considering 30 Time Periods with Standard Deviation Annualized')"
            ]
          },
          "metadata": {},
          "execution_count": 237
        },
        {
          "output_type": "display_data",
          "data": {
            "image/png": "[encoded data removed]",
            "text/plain": [
              "<Figure size 1152x432 with 1 Axes>"
            ]
          },
          "metadata": {
            "needs_background": "light"
          }
        }
      ]
    },
    {
      "cell_type": "code",
      "metadata": {
        "id": "788da488"
      },
      "source": [
        "df=to_plt.dropna()"
      ],
      "id": "788da488",
      "execution_count": 238,
      "outputs": []
    },
    {
      "cell_type": "code",
      "metadata": {
        "id": "351dade2"
      },
      "source": [
        "vol = df['Volatility'] * 100"
      ],
      "id": "351dade2",
      "execution_count": 239,
      "outputs": []
    },
    {
      "cell_type": "code",
      "metadata": {
        "colab": {
          "base_uri": "https://localhost:8080/"
        },
        "id": "blWCK_BdPF2j",
        "outputId": "5e90ad95-bb82-43ea-e7fb-04f9759225bc"
      },
      "source": [
        "df.info()"
      ],
      "id": "blWCK_BdPF2j",
      "execution_count": 240,
      "outputs": [
        {
          "output_type": "stream",
          "name": "stdout",
          "text": [
            "<class 'pandas.core.frame.DataFrame'>\n",
            "DatetimeIndex: 7904 entries, 1990-01-03 to 2021-12-05\n",
            "Data columns (total 10 columns):\n",
            " #   Column      Non-Null Count  Dtype  \n",
            "---  ------      --------------  -----  \n",
            " 0   Open        7904 non-null   float64\n",
            " 1   High        7904 non-null   float64\n",
            " 2   Low         7904 non-null   float64\n",
            " 3   Close       7904 non-null   float64\n",
            " 4   Adj Close   7904 non-null   float64\n",
            " 5   Volume      7904 non-null   int64  \n",
            " 6   log_price   7904 non-null   float64\n",
            " 7   pct_change  7904 non-null   float64\n",
            " 8   stdev       7904 non-null   float64\n",
            " 9   Volatility  7904 non-null   float64\n",
            "dtypes: float64(9), int64(1)\n",
            "memory usage: 679.2 KB\n"
          ]
        }
      ]
    },
    {
      "cell_type": "markdown",
      "metadata": {
        "id": "7ca40c8d"
      },
      "source": [
        "### To Check if there is null value in any of the column"
      ],
      "id": "7ca40c8d"
    },
    {
      "cell_type": "code",
      "metadata": {
        "colab": {
          "base_uri": "https://localhost:8080/"
        },
        "id": "90fa999c",
        "outputId": "ea8c67c7-e13c-463f-c781-e5b656a221f6"
      },
      "source": [
        "df.isnull().any() "
      ],
      "id": "90fa999c",
      "execution_count": 241,
      "outputs": [
        {
          "output_type": "execute_result",
          "data": {
            "text/plain": [
              "Open          False\n",
              "High          False\n",
              "Low           False\n",
              "Close         False\n",
              "Adj Close     False\n",
              "Volume        False\n",
              "log_price     False\n",
              "pct_change    False\n",
              "stdev         False\n",
              "Volatility    False\n",
              "dtype: bool"
            ]
          },
          "metadata": {},
          "execution_count": 241
        }
      ]
    },
    {
      "cell_type": "code",
      "source": [
        "## Replacing the missing values with df.mean()\n",
        "VI_db.replace([np.inf, -np.inf], np.nan, inplace=True)\n",
        "VI_db.fillna(df.mean(), inplace=True)"
      ],
      "metadata": {
        "id": "ljDBQr5GDBp1"
      },
      "id": "ljDBQr5GDBp1",
      "execution_count": 242,
      "outputs": []
    },
    {
      "cell_type": "markdown",
      "metadata": {
        "id": "22396a74"
      },
      "source": [
        "### Performing the ADF test to identify if the return series is stationary or non-stationary"
      ],
      "id": "22396a74"
    },
    {
      "cell_type": "code",
      "metadata": {
        "colab": {
          "base_uri": "https://localhost:8080/"
        },
        "id": "dbfd65ad",
        "outputId": "b3c09a94-3b1f-44da-c345-2eeab81c9db8"
      },
      "source": [
        "result = adfuller(df.Volatility)\n",
        "print('ADF Statistic: %f' % result[0])\n",
        "print('p-value: %f' % result[1])\n",
        "print('Critical Values:')\n",
        "for key, value in result[4].items():\n",
        "    print('\\t%s: %.3f' % (key, value))"
      ],
      "id": "dbfd65ad",
      "execution_count": 243,
      "outputs": [
        {
          "output_type": "stream",
          "name": "stdout",
          "text": [
            "ADF Statistic: -8.631603\n",
            "p-value: 0.000000\n",
            "Critical Values:\n",
            "\t1%: -3.431\n",
            "\t5%: -2.862\n",
            "\t10%: -2.567\n"
          ]
        }
      ]
    },
    {
      "cell_type": "markdown",
      "metadata": {
        "id": "8de048e6"
      },
      "source": [
        "## Volatility Prediction using GARCH(3,1)"
      ],
      "id": "8de048e6"
    },
    {
      "cell_type": "code",
      "metadata": {
        "id": "01041496"
      },
      "source": [
        "GARCH_Mod = arch_model(vol, vol='Garch', p=3, o=0, q=1, dist='Normal')"
      ],
      "id": "01041496",
      "execution_count": 244,
      "outputs": []
    },
    {
      "cell_type": "markdown",
      "metadata": {
        "id": "95120b06"
      },
      "source": [
        "### GARCH Summary"
      ],
      "id": "95120b06"
    },
    {
      "cell_type": "code",
      "metadata": {
        "colab": {
          "base_uri": "https://localhost:8080/",
          "height": 451
        },
        "id": "5ccc6c81",
        "outputId": "09d340ec-a5f9-4662-e4bf-349188ee476a"
      },
      "source": [
        "res = GARCH_Mod.fit(disp='off')\n",
        "display(res.summary())"
      ],
      "id": "5ccc6c81",
      "execution_count": 245,
      "outputs": [
        {
          "output_type": "display_data",
          "data": {
            "text/html": [
              "<table class=\"simpletable\">\n",
              "<caption>Constant Mean - GARCH Model Results</caption>\n",
              "<tr>\n",
              "  <th>Dep. Variable:</th>     <td>Volatility</td>     <th>  R-squared:         </th>  <td>   0.000</td> \n",
              "</tr>\n",
              "<tr>\n",
              "  <th>Mean Model:</th>       <td>Constant Mean</td>   <th>  Adj. R-squared:    </th>  <td>   0.000</td> \n",
              "</tr>\n",
              "<tr>\n",
              "  <th>Vol Model:</th>            <td>GARCH</td>       <th>  Log-Likelihood:    </th> <td>  -38027.9</td>\n",
              "</tr>\n",
              "<tr>\n",
              "  <th>Distribution:</th>        <td>Normal</td>       <th>  AIC:               </th> <td>   76067.8</td>\n",
              "</tr>\n",
              "<tr>\n",
              "  <th>Method:</th>        <td>Maximum Likelihood</td> <th>  BIC:               </th> <td>   76109.7</td>\n",
              "</tr>\n",
              "<tr>\n",
              "  <th></th>                        <td></td>          <th>  No. Observations:  </th>    <td>7904</td>   \n",
              "</tr>\n",
              "<tr>\n",
              "  <th>Date:</th>           <td>Fri, Jan 07 2022</td>  <th>  Df Residuals:      </th>    <td>7903</td>   \n",
              "</tr>\n",
              "<tr>\n",
              "  <th>Time:</th>               <td>15:15:21</td>      <th>  Df Model:          </th>      <td>1</td>    \n",
              "</tr>\n",
              "</table>\n",
              "<table class=\"simpletable\">\n",
              "<caption>Mean Model</caption>\n",
              "<tr>\n",
              "   <td></td>     <th>coef</th>     <th>std err</th>      <th>t</th>     <th>P>|t|</th> <th>95.0% Conf. Int.</th> \n",
              "</tr>\n",
              "<tr>\n",
              "  <th>mu</th> <td>   88.8885</td> <td>    0.975</td> <td>   91.129</td> <td>0.000</td> <td>[ 86.977, 90.800]</td>\n",
              "</tr>\n",
              "</table>\n",
              "<table class=\"simpletable\">\n",
              "<caption>Volatility Model</caption>\n",
              "<tr>\n",
              "      <td></td>        <th>coef</th>     <th>std err</th>      <th>t</th>       <th>P>|t|</th>    <th>95.0% Conf. Int.</th>  \n",
              "</tr>\n",
              "<tr>\n",
              "  <th>omega</th>    <td>  110.8320</td> <td>   42.483</td> <td>    2.609</td> <td>9.084e-03</td> <td>[ 27.567,1.941e+02]</td>\n",
              "</tr>\n",
              "<tr>\n",
              "  <th>alpha[1]</th> <td>    0.4793</td> <td>5.057e-02</td> <td>    9.476</td> <td>2.638e-21</td>  <td>[  0.380,  0.578]</td> \n",
              "</tr>\n",
              "<tr>\n",
              "  <th>alpha[2]</th> <td>1.0561e-09</td> <td>    0.101</td> <td>1.049e-08</td> <td>    1.000</td>  <td>[ -0.197,  0.197]</td> \n",
              "</tr>\n",
              "<tr>\n",
              "  <th>alpha[3]</th> <td>2.7648e-10</td> <td>8.964e-02</td> <td>3.084e-09</td> <td>    1.000</td>  <td>[ -0.176,  0.176]</td> \n",
              "</tr>\n",
              "<tr>\n",
              "  <th>beta[1]</th>  <td>    0.5048</td> <td>    0.175</td> <td>    2.890</td> <td>3.856e-03</td>  <td>[  0.162,  0.847]</td> \n",
              "</tr>\n",
              "</table><br/><br/>Covariance estimator: robust"
            ],
            "text/plain": [
              "<class 'statsmodels.iolib.summary.Summary'>\n",
              "\"\"\"\n",
              "                     Constant Mean - GARCH Model Results                      \n",
              "==============================================================================\n",
              "Dep. Variable:             Volatility   R-squared:                       0.000\n",
              "Mean Model:             Constant Mean   Adj. R-squared:                  0.000\n",
              "Vol Model:                      GARCH   Log-Likelihood:               -38027.9\n",
              "Distribution:                  Normal   AIC:                           76067.8\n",
              "Method:            Maximum Likelihood   BIC:                           76109.7\n",
              "                                        No. Observations:                 7904\n",
              "Date:                Fri, Jan 07 2022   Df Residuals:                     7903\n",
              "Time:                        15:15:21   Df Model:                            1\n",
              "                               Mean Model                               \n",
              "========================================================================\n",
              "                 coef    std err          t      P>|t|  95.0% Conf. Int.\n",
              "------------------------------------------------------------------------\n",
              "mu            88.8885      0.975     91.129      0.000 [ 86.977, 90.800]\n",
              "                             Volatility Model                             \n",
              "==========================================================================\n",
              "                 coef    std err          t      P>|t|    95.0% Conf. Int.\n",
              "--------------------------------------------------------------------------\n",
              "omega        110.8320     42.483      2.609  9.084e-03 [ 27.567,1.941e+02]\n",
              "alpha[1]       0.4793  5.057e-02      9.476  2.638e-21   [  0.380,  0.578]\n",
              "alpha[2]   1.0561e-09      0.101  1.049e-08      1.000   [ -0.197,  0.197]\n",
              "alpha[3]   2.7648e-10  8.964e-02  3.084e-09      1.000   [ -0.176,  0.176]\n",
              "beta[1]        0.5048      0.175      2.890  3.856e-03   [  0.162,  0.847]\n",
              "==========================================================================\n",
              "\n",
              "Covariance estimator: robust\n",
              "\"\"\""
            ]
          },
          "metadata": {}
        }
      ]
    },
    {
      "cell_type": "markdown",
      "metadata": {
        "id": "0f2b287b"
      },
      "source": [
        "### Creating Forecasted Volatility feature"
      ],
      "id": "0f2b287b"
    },
    {
      "cell_type": "code",
      "metadata": {
        "id": "c901ae25"
      },
      "source": [
        "df['forecast_vol'] = 0.1 * np.sqrt(res.params['omega'] + res.params['alpha[1]'] * res.resid**2 + res.conditional_volatility**2 * res.params['beta[1]'])"
      ],
      "id": "c901ae25",
      "execution_count": 246,
      "outputs": []
    },
    {
      "cell_type": "code",
      "metadata": {
        "colab": {
          "base_uri": "https://localhost:8080/"
        },
        "id": "j-dPMkKWpCKo",
        "outputId": "db41c86e-3b4a-42e9-ce60-7b35688a28e8"
      },
      "source": [
        "df['Volatility'].head(20)"
      ],
      "id": "j-dPMkKWpCKo",
      "execution_count": 247,
      "outputs": [
        {
          "output_type": "execute_result",
          "data": {
            "text/plain": [
              "Date\n",
              "1990-01-03    0.893589\n",
              "1990-01-05    1.334283\n",
              "1990-01-06    0.881965\n",
              "1990-01-08    1.712147\n",
              "1990-01-10    0.947622\n",
              "1990-01-11    0.618401\n",
              "1990-02-03    0.895341\n",
              "1990-02-04    1.017414\n",
              "1990-02-05    1.335973\n",
              "1990-02-07    1.268275\n",
              "1990-02-08    1.723761\n",
              "1990-02-10    0.943967\n",
              "1990-02-11    0.603746\n",
              "1990-02-13    1.072026\n",
              "1990-02-14    1.091692\n",
              "1990-02-15    1.133728\n",
              "1990-02-16    1.136526\n",
              "1990-02-20    1.166584\n",
              "1990-02-21    1.144704\n",
              "1990-02-22    1.157712\n",
              "Name: Volatility, dtype: float64"
            ]
          },
          "metadata": {},
          "execution_count": 247
        }
      ]
    },
    {
      "cell_type": "code",
      "metadata": {
        "colab": {
          "base_uri": "https://localhost:8080/"
        },
        "id": "bBcPCNFGpFnI",
        "outputId": "7ce28da5-11ed-48f7-ac11-c95f60206582"
      },
      "source": [
        "pip install openpyxl"
      ],
      "id": "bBcPCNFGpFnI",
      "execution_count": 248,
      "outputs": [
        {
          "output_type": "stream",
          "name": "stdout",
          "text": [
            "Requirement already satisfied: openpyxl in /usr/local/lib/python3.7/dist-packages (2.5.9)\n",
            "Requirement already satisfied: et-xmlfile in /usr/local/lib/python3.7/dist-packages (from openpyxl) (1.1.0)\n",
            "Requirement already satisfied: jdcal in /usr/local/lib/python3.7/dist-packages (from openpyxl) (1.4.1)\n"
          ]
        }
      ]
    },
    {
      "cell_type": "code",
      "metadata": {
        "id": "AMoQy-BPpI7o"
      },
      "source": [
        "df['Volatility'].to_excel('g_a.xlsx')# to export actual value of GARCH MODEL"
      ],
      "id": "AMoQy-BPpI7o",
      "execution_count": 249,
      "outputs": []
    },
    {
      "cell_type": "code",
      "metadata": {
        "id": "sjMSxQ7dpLpg"
      },
      "source": [
        "df['forecast_vol'].to_excel('g_p.xlsx')# to export predicted value of GARCH MODEL"
      ],
      "id": "sjMSxQ7dpLpg",
      "execution_count": 250,
      "outputs": []
    },
    {
      "cell_type": "markdown",
      "metadata": {
        "id": "4c405ee4"
      },
      "source": [
        "### Ploting Actual Volatility Vs Forecasted Volatility"
      ],
      "id": "4c405ee4"
    },
    {
      "cell_type": "code",
      "metadata": {
        "colab": {
          "base_uri": "https://localhost:8080/",
          "height": 377
        },
        "id": "eb45e486",
        "outputId": "299ab975-699c-4064-c995-9e90069f3f85"
      },
      "source": [
        "plt.figure(figsize=(16,6))\n",
        "df[\"Volatility\"].plot()\n",
        "df[\"forecast_vol\"].plot()\n",
        "plt.title(\"Real Rolling Volatility vs Forecast by GARCH(3,1)\")\n",
        "plt.legend()\n",
        "plt.show()"
      ],
      "id": "eb45e486",
      "execution_count": 251,
      "outputs": [
        {
          "output_type": "display_data",
          "data": {
            "image/png": "[encoded data removed]",
            "text/plain": [
              "<Figure size 1152x432 with 1 Axes>"
            ]
          },
          "metadata": {
            "needs_background": "light"
          }
        }
      ]
    },
    {
      "cell_type": "markdown",
      "metadata": {
        "id": "0513c766"
      },
      "source": [
        "### Calculating RMSE value for GARCH Model"
      ],
      "id": "0513c766"
    },
    {
      "cell_type": "code",
      "metadata": {
        "colab": {
          "base_uri": "https://localhost:8080/"
        },
        "id": "b313993a",
        "outputId": "774e6f2e-a898-459d-e423-01f5d833385c"
      },
      "source": [
        "print('RMSE calculated for GARCH(3,1) model:', np.sqrt(metrics.mean_squared_error(df.loc[df.index[1000:], 'Volatility'], df.loc[df.index[1000:], 'forecast_vol'])))"
      ],
      "id": "b313993a",
      "execution_count": 252,
      "outputs": [
        {
          "output_type": "stream",
          "name": "stdout",
          "text": [
            "RMSE calculated for GARCH(3,1) model: 3.235846319536613\n"
          ]
        }
      ]
    },
    {
      "cell_type": "code",
      "metadata": {
        "id": "W2vQRGp4EvI6",
        "colab": {
          "base_uri": "https://localhost:8080/"
        },
        "outputId": "4b7fc7ad-16dc-4f29-af7e-dd08e545705c"
      },
      "source": [
        "print('MAE calculated for GARCH(3,1) model:', MAE(df.loc[df.index[1000:], 'Volatility'], df.loc[df.index[1000:], 'forecast_vol']))"
      ],
      "id": "W2vQRGp4EvI6",
      "execution_count": 253,
      "outputs": [
        {
          "output_type": "stream",
          "name": "stdout",
          "text": [
            "MAE calculated for GARCH(3,1) model: 2.4903838837070387\n"
          ]
        }
      ]
    },
    {
      "cell_type": "code",
      "source": [
        "print('MAPE calculated for GARCH:',mean_absolute_percentage_error(df.loc[df.index[1000:], 'Volatility'], df.loc[df.index[1000:], 'forecast_vol']))"
      ],
      "metadata": {
        "colab": {
          "base_uri": "https://localhost:8080/"
        },
        "id": "MvsscQ14Dcm0",
        "outputId": "f48887a4-ba85-498d-ed5a-8cdb044b4111"
      },
      "id": "MvsscQ14Dcm0",
      "execution_count": 254,
      "outputs": [
        {
          "output_type": "stream",
          "name": "stdout",
          "text": [
            "MAPE calculated for GARCH: 2.4254284138806548\n"
          ]
        }
      ]
    },
    {
      "cell_type": "markdown",
      "metadata": {
        "id": "87acefcc"
      },
      "source": [
        "## Volatility Prediction using LSTM"
      ],
      "id": "87acefcc"
    },
    {
      "cell_type": "code",
      "metadata": {
        "id": "b95b6636"
      },
      "source": [
        "training_set = df.iloc[:, 9:10].values\n",
        "X_train = []\n",
        "y_train = []\n",
        "for i in range(100, df.shape[0]):\n",
        "    X_train.append(training_set[i-100:i,0])\n",
        "    y_train.append(training_set[i,0])\n",
        "X_train, y_train = np.array(X_train), np.array(y_train)"
      ],
      "id": "b95b6636",
      "execution_count": 255,
      "outputs": []
    },
    {
      "cell_type": "code",
      "source": [
        "df.shape"
      ],
      "metadata": {
        "colab": {
          "base_uri": "https://localhost:8080/"
        },
        "id": "qXIm2m25YANK",
        "outputId": "11ca5178-9124-4e5c-f0fc-41d98889a257"
      },
      "id": "qXIm2m25YANK",
      "execution_count": 256,
      "outputs": [
        {
          "output_type": "execute_result",
          "data": {
            "text/plain": [
              "(7904, 11)"
            ]
          },
          "metadata": {},
          "execution_count": 256
        }
      ]
    },
    {
      "cell_type": "markdown",
      "metadata": {
        "id": "923354ab"
      },
      "source": [
        "### Preparing X_train for RNN using LSTM"
      ],
      "id": "923354ab"
    },
    {
      "cell_type": "code",
      "metadata": {
        "id": "6a944264"
      },
      "source": [
        "X_train = np.reshape(X_train, (X_train.shape[0], X_train.shape[1], 1))"
      ],
      "id": "6a944264",
      "execution_count": 257,
      "outputs": []
    },
    {
      "cell_type": "markdown",
      "metadata": {
        "id": "17313479"
      },
      "source": [
        "### Creating RNN with LSTM"
      ],
      "id": "17313479"
    },
    {
      "cell_type": "code",
      "metadata": {
        "scrolled": true,
        "colab": {
          "base_uri": "https://localhost:8080/"
        },
        "id": "a6430276",
        "outputId": "5fb32b89-46cc-4e73-b9c6-9442275618bc"
      },
      "source": [
        "from keras.wrappers.scikit_learn import KerasRegressor\n",
        "#Initialising the RNN\n",
        "def lstm_model():\n",
        "    regressor = Sequential()\n",
        "    regressor.add(LSTM(units=10, return_sequences=True, input_shape=(X_train.shape[1], 1)))\n",
        "    regressor.add(Dropout(0.1))\n",
        "    regressor.add(LSTM(units=10, return_sequences=True))\n",
        "    regressor.add(Dropout(0.1))\n",
        "    regressor.add(LSTM(units=10))\n",
        "    regressor.add(Dropout(0.1))\n",
        "    regressor.add(Dense(units=1))\n",
        "    regressor.compile(optimizer='adam', loss='mean_squared_error')\n",
        "    return regressor\n",
        "\n",
        "regressor = KerasRegressor(build_fn=lstm_model, epochs=50, batch_size=32, verbose=0)\n",
        "\n",
        "regressor.fit(X_train, y_train, epochs = 50, batch_size = 32)\n",
        "\n",
        "# Initialising the RNN\n",
        "#def lstm_model():\n",
        " # regressor = Sequential()\n",
        "#regressor = KerasRegressor(build_fn=lstm_model, epochs=50, batch_size=32, verbose=0)\n",
        "# Adding the first LSTM layer and some Dropout regularisation\n",
        "#regressor.add(LSTM(units = 10, return_sequences = True, input_shape = (X_train.shape[1], 1)))\n",
        "#regressor.add(Dropout(0.1))\n",
        "\n",
        "# Adding a second LSTM layer and some Dropout regularisation\n",
        "#regressor.add(LSTM(units = 10, return_sequences = True))\n",
        "#regressor.add(Dropout(0.1))\n",
        "\n",
        "# Adding a third LSTM layer and some Dropout regularisation\n",
        "#regressor.add(LSTM(units = 10, return_sequences = True))\n",
        "#regressor.add(Dropout(0.1))\n",
        "\n",
        "# Adding a fourth LSTM layer and some Dropout regularisation\n",
        "#regressor.add(LSTM(units = 10))\n",
        "#regressor.add(Dropout(0.1))\n",
        "\n",
        "# Adding the output layer\n",
        "#regressor.add(Dense(units = 1))\n",
        "\n",
        "# Compiling the RNN\n",
        "#opt = df.keras.optimizers.Adam(lr=0.01, decay=1e-6)\n",
        "\n",
        "#regressor.compile(optimizer = 'adam', loss = 'mean_squared_error')\n",
        "#return regressor\n",
        "\n",
        "\n",
        "\n",
        "# Fitting the RNN to the Training set\n",
        "#regressor.fit(X_train, y_train, epochs = 50, batch_size = 32)"
      ],
      "id": "a6430276",
      "execution_count": 258,
      "outputs": [
        {
          "output_type": "execute_result",
          "data": {
            "text/plain": [
              "<keras.callbacks.History at 0x7fa4af8f2710>"
            ]
          },
          "metadata": {},
          "execution_count": 258
        }
      ]
    },
    {
      "cell_type": "code",
      "source": [
        "regressor.summary()"
      ],
      "metadata": {
        "colab": {
          "base_uri": "https://localhost:8080/",
          "height": 172
        },
        "id": "AWREVBiSGsbH",
        "outputId": "ac7aceb0-d7a7-4d52-d771-049dfbdbc043"
      },
      "id": "AWREVBiSGsbH",
      "execution_count": 265,
      "outputs": [
        {
          "output_type": "error",
          "ename": "AttributeError",
          "evalue": "ignored",
          "traceback": [
            "\u001b[0;31m---------------------------------------------------------------------------\u001b[0m",
            "\u001b[0;31mAttributeError\u001b[0m                            Traceback (most recent call last)",
            "\u001b[0;32m<ipython-input-265-b5a1643c7262>\u001b[0m in \u001b[0;36m<module>\u001b[0;34m()\u001b[0m\n\u001b[0;32m----> 1\u001b[0;31m \u001b[0mregressor\u001b[0m\u001b[0;34m.\u001b[0m\u001b[0msummary\u001b[0m\u001b[0;34m(\u001b[0m\u001b[0;34m)\u001b[0m\u001b[0;34m\u001b[0m\u001b[0;34m\u001b[0m\u001b[0m\n\u001b[0m",
            "\u001b[0;31mAttributeError\u001b[0m: 'KerasRegressor' object has no attribute 'summary'"
          ]
        }
      ]
    },
    {
      "cell_type": "code",
      "source": [
        "#Grid Search\n",
        "from sklearn.model_selection import GridSearchCV\n",
        "batch_size = [8, 16, 32, 48]\n",
        "epochs = [1]\n",
        "param_grid = dict(\n",
        "                  batch_size=batch_size,  epochs=epochs)"
      ],
      "metadata": {
        "id": "q8po21JBtXSL"
      },
      "id": "q8po21JBtXSL",
      "execution_count": 267,
      "outputs": []
    },
    {
      "cell_type": "code",
      "source": [
        "clf1 = GridSearchCV(regressor, param_grid)"
      ],
      "metadata": {
        "id": "XLRvWlj5tdna"
      },
      "id": "XLRvWlj5tdna",
      "execution_count": 268,
      "outputs": []
    },
    {
      "cell_type": "code",
      "source": [
        "gs = clf1.fit(X_train, y_train)"
      ],
      "metadata": {
        "id": "2nlyV84btgwZ"
      },
      "id": "2nlyV84btgwZ",
      "execution_count": 263,
      "outputs": []
    },
    {
      "cell_type": "code",
      "source": [
        "gs.get_params()"
      ],
      "metadata": {
        "id": "eYjkpe3Dtkqp",
        "colab": {
          "base_uri": "https://localhost:8080/"
        },
        "outputId": "782ea38d-447b-4daf-e6fd-f8f5e91eb510"
      },
      "id": "eYjkpe3Dtkqp",
      "execution_count": 269,
      "outputs": [
        {
          "output_type": "execute_result",
          "data": {
            "text/plain": [
              "{'cv': None,\n",
              " 'error_score': nan,\n",
              " 'estimator': <keras.wrappers.scikit_learn.KerasRegressor at 0x7fa4aa7004d0>,\n",
              " 'estimator__batch_size': 32,\n",
              " 'estimator__build_fn': <function __main__.lstm_model>,\n",
              " 'estimator__epochs': 50,\n",
              " 'estimator__verbose': 0,\n",
              " 'n_jobs': None,\n",
              " 'param_grid': {'batch_size': [8, 16, 32, 48], 'epochs': [1]},\n",
              " 'pre_dispatch': '2*n_jobs',\n",
              " 'refit': True,\n",
              " 'return_train_score': False,\n",
              " 'scoring': None,\n",
              " 'verbose': 0}"
            ]
          },
          "metadata": {},
          "execution_count": 269
        }
      ]
    },
    {
      "cell_type": "code",
      "source": [
        ""
      ],
      "metadata": {
        "id": "xp1phStOw7L0"
      },
      "id": "xp1phStOw7L0",
      "execution_count": 271,
      "outputs": []
    },
    {
      "cell_type": "code",
      "source": [
        ""
      ],
      "metadata": {
        "id": "hQxJcN_jtgsC"
      },
      "id": "hQxJcN_jtgsC",
      "execution_count": 271,
      "outputs": []
    },
    {
      "cell_type": "code",
      "source": [
        ""
      ],
      "metadata": {
        "id": "sVKSGLqpFojo"
      },
      "execution_count": null,
      "outputs": [],
      "id": "sVKSGLqpFojo"
    },
    {
      "cell_type": "code",
      "source": [
        "#regressor.evaluate(X_train, y_train, verbose=0, batch_size = 32)\n",
        "regressor.score(X_train, y_train, verbose=0, batch_size = 32)"
      ],
      "metadata": {
        "colab": {
          "base_uri": "https://localhost:8080/"
        },
        "id": "9osoF7LsL8b0",
        "outputId": "8227af13-5ec9-4c6e-e984-805809d23b4a"
      },
      "id": "9osoF7LsL8b0",
      "execution_count": 271,
      "outputs": [
        {
          "output_type": "execute_result",
          "data": {
            "text/plain": [
              "-0.05928606167435646"
            ]
          },
          "metadata": {},
          "execution_count": 271
        }
      ]
    },
    {
      "cell_type": "code",
      "source": [
        ""
      ],
      "metadata": {
        "id": "m7VtMV5xOdFk"
      },
      "id": "m7VtMV5xOdFk",
      "execution_count": 271,
      "outputs": []
    },
    {
      "cell_type": "code",
      "source": [
        "#Initialising the RNN\n",
        "#def lstm_model(): regressor = Sequential() regressor.add(LSTM(units=50, return_sequences=True, input_shape=(X_train.shape[1], 1))) regressor.add(Dropout(0.2)) regressor.add(LSTM(units=50, return_sequences=True)) regressor.add(Dropout(0.2)) regressor.add(LSTM(units=50)) regressor.add(Dropout(0.2)) regressor.add(Dense(units=1)) regressor.compile(optimizer='adam', loss='mean_squared_error') return regressor\n",
        "\n",
        "#regressor = KerasRegressor(build_fn=lstm_model, epochs=100, batch_size=16, verbose=0)\n",
        "\n",
        "#regressor.fit(X_train, y_train)"
      ],
      "metadata": {
        "id": "Yr-oniusOf0M"
      },
      "id": "Yr-oniusOf0M",
      "execution_count": 272,
      "outputs": []
    },
    {
      "cell_type": "code",
      "source": [
        "#Grid Search\n",
        "#from sklearn.model_selection import GridSearchCV units = [30, 50, 70, 90] dropout_rate = [0.0, 0.1, 0.2, 0.3, 0.4, 0.5] activation = ['relu', 'tanh', 'sigmoid', 'hard_sigmoid'] batch_size = [8, 16, 32, 48] epochs = [50, 100, 150, 200, 250] optimizer = ['Adagrad', 'Adadelta', 'Adam', 'Adamax', 'Nadam'] param_grid = dict(units=units, dropout_rate=dropout_rate, activation=activation, batch_size=batch_size, optimizer=optimizer, epochs=epochs)"
      ],
      "metadata": {
        "id": "pVfGSsd_OluM"
      },
      "id": "pVfGSsd_OluM",
      "execution_count": 273,
      "outputs": []
    },
    {
      "cell_type": "markdown",
      "metadata": {
        "id": "c6158a00"
      },
      "source": [
        "### Store the result of LSTM"
      ],
      "id": "c6158a00"
    },
    {
      "cell_type": "code",
      "metadata": {
        "id": "fbe4abe1"
      },
      "source": [
        "#regressor.save('Volatility_VI.h5')"
      ],
      "id": "fbe4abe1",
      "execution_count": null,
      "outputs": []
    },
    {
      "cell_type": "code",
      "metadata": {
        "id": "bc2788be"
      },
      "source": [
        "#regressor = load_model('Volatility_VI.h5')"
      ],
      "id": "bc2788be",
      "execution_count": null,
      "outputs": []
    },
    {
      "cell_type": "code",
      "metadata": {
        "id": "-md2GFwEq2h0"
      },
      "source": [
        ""
      ],
      "id": "-md2GFwEq2h0",
      "execution_count": 273,
      "outputs": []
    },
    {
      "cell_type": "markdown",
      "metadata": {
        "id": "e834732a"
      },
      "source": [
        "### Creating Predicted Volatility feature"
      ],
      "id": "e834732a"
    },
    {
      "cell_type": "code",
      "metadata": {
        "id": "146da11b"
      },
      "source": [
        "#predicted_vol = regressor.predict(X_train)\n",
        "predicted_vol = gs.predict(X_train)"
      ],
      "id": "146da11b",
      "execution_count": 274,
      "outputs": []
    },
    {
      "cell_type": "code",
      "metadata": {
        "id": "_BPRUnChq-ZM"
      },
      "source": [
        "p_d = pd.DataFrame(df.iloc[100:, 9:10].values)"
      ],
      "id": "_BPRUnChq-ZM",
      "execution_count": 275,
      "outputs": []
    },
    {
      "cell_type": "code",
      "source": [
        ""
      ],
      "metadata": {
        "id": "gIfBT1HbtvQ7"
      },
      "id": "gIfBT1HbtvQ7",
      "execution_count": null,
      "outputs": []
    },
    {
      "cell_type": "code",
      "metadata": {
        "colab": {
          "base_uri": "https://localhost:8080/",
          "height": 676
        },
        "id": "OATZrOk1q_pk",
        "outputId": "940570c4-77c0-433a-eeb4-8e927221b213"
      },
      "source": [
        "p_d.head(20)"
      ],
      "id": "OATZrOk1q_pk",
      "execution_count": 276,
      "outputs": [
        {
          "output_type": "execute_result",
          "data": {
            "text/html": [
              "\n",
              "  <div id=\"df-789d0e4e-d20b-4af9-a5ef-b6b90b015b5d\">\n",
              "    <div class=\"colab-df-container\">\n",
              "      <div>\n",
              "<style scoped>\n",
              "    .dataframe tbody tr th:only-of-type {\n",
              "        vertical-align: middle;\n",
              "    }\n",
              "\n",
              "    .dataframe tbody tr th {\n",
              "        vertical-align: top;\n",
              "    }\n",
              "\n",
              "    .dataframe thead th {\n",
              "        text-align: right;\n",
              "    }\n",
              "</style>\n",
              "<table border=\"1\" class=\"dataframe\">\n",
              "  <thead>\n",
              "    <tr style=\"text-align: right;\">\n",
              "      <th></th>\n",
              "      <th>0</th>\n",
              "    </tr>\n",
              "  </thead>\n",
              "  <tbody>\n",
              "    <tr>\n",
              "      <th>0</th>\n",
              "      <td>1.283156</td>\n",
              "    </tr>\n",
              "    <tr>\n",
              "      <th>1</th>\n",
              "      <td>1.255701</td>\n",
              "    </tr>\n",
              "    <tr>\n",
              "      <th>2</th>\n",
              "      <td>1.259477</td>\n",
              "    </tr>\n",
              "    <tr>\n",
              "      <th>3</th>\n",
              "      <td>0.724509</td>\n",
              "    </tr>\n",
              "    <tr>\n",
              "      <th>4</th>\n",
              "      <td>1.262567</td>\n",
              "    </tr>\n",
              "    <tr>\n",
              "      <th>5</th>\n",
              "      <td>0.881149</td>\n",
              "    </tr>\n",
              "    <tr>\n",
              "      <th>6</th>\n",
              "      <td>1.893820</td>\n",
              "    </tr>\n",
              "    <tr>\n",
              "      <th>7</th>\n",
              "      <td>1.712935</td>\n",
              "    </tr>\n",
              "    <tr>\n",
              "      <th>8</th>\n",
              "      <td>0.600804</td>\n",
              "    </tr>\n",
              "    <tr>\n",
              "      <th>9</th>\n",
              "      <td>0.751765</td>\n",
              "    </tr>\n",
              "    <tr>\n",
              "      <th>10</th>\n",
              "      <td>1.230687</td>\n",
              "    </tr>\n",
              "    <tr>\n",
              "      <th>11</th>\n",
              "      <td>1.231164</td>\n",
              "    </tr>\n",
              "    <tr>\n",
              "      <th>12</th>\n",
              "      <td>1.211033</td>\n",
              "    </tr>\n",
              "    <tr>\n",
              "      <th>13</th>\n",
              "      <td>1.264648</td>\n",
              "    </tr>\n",
              "    <tr>\n",
              "      <th>14</th>\n",
              "      <td>1.240121</td>\n",
              "    </tr>\n",
              "    <tr>\n",
              "      <th>15</th>\n",
              "      <td>1.336136</td>\n",
              "    </tr>\n",
              "    <tr>\n",
              "      <th>16</th>\n",
              "      <td>1.801851</td>\n",
              "    </tr>\n",
              "    <tr>\n",
              "      <th>17</th>\n",
              "      <td>1.806101</td>\n",
              "    </tr>\n",
              "    <tr>\n",
              "      <th>18</th>\n",
              "      <td>1.822984</td>\n",
              "    </tr>\n",
              "    <tr>\n",
              "      <th>19</th>\n",
              "      <td>1.819161</td>\n",
              "    </tr>\n",
              "  </tbody>\n",
              "</table>\n",
              "</div>\n",
              "      <button class=\"colab-df-convert\" onclick=\"convertToInteractive('df-789d0e4e-d20b-4af9-a5ef-b6b90b015b5d')\"\n",
              "              title=\"Convert this dataframe to an interactive table.\"\n",
              "              style=\"display:none;\">\n",
              "        \n",
              "  <svg xmlns=\"http://www.w3.org/2000/svg\" height=\"24px\"viewBox=\"0 0 24 24\"\n",
              "       width=\"24px\">\n",
              "    <path d=\"M0 0h24v24H0V0z\" fill=\"none\"/>\n",
              "    <path d=\"M18.56 5.44l.94 2.06.94-2.06 2.06-.94-2.06-.94-.94-2.06-.94 2.06-2.06.94zm-11 1L8.5 8.5l.94-2.06 2.06-.94-2.06-.94L8.5 2.5l-.94 2.06-2.06.94zm10 10l.94 2.06.94-2.06 2.06-.94-2.06-.94-.94-2.06-.94 2.06-2.06.94z\"/><path d=\"M17.41 7.96l-1.37-1.37c-.4-.4-.92-.59-1.43-.59-.52 0-1.04.2-1.43.59L10.3 9.45l-7.72 7.72c-.78.78-.78 2.05 0 2.83L4 21.41c.39.39.9.59 1.41.59.51 0 1.02-.2 1.41-.59l7.78-7.78 2.81-2.81c.8-.78.8-2.07 0-2.86zM5.41 20L4 18.59l7.72-7.72 1.47 1.35L5.41 20z\"/>\n",
              "  </svg>\n",
              "      </button>\n",
              "      \n",
              "  <style>\n",
              "    .colab-df-container {\n",
              "      display:flex;\n",
              "      flex-wrap:wrap;\n",
              "      gap: 12px;\n",
              "    }\n",
              "\n",
              "    .colab-df-convert {\n",
              "      background-color: #E8F0FE;\n",
              "      border: none;\n",
              "      border-radius: 50%;\n",
              "      cursor: pointer;\n",
              "      display: none;\n",
              "      fill: #1967D2;\n",
              "      height: 32px;\n",
              "      padding: 0 0 0 0;\n",
              "      width: 32px;\n",
              "    }\n",
              "\n",
              "    .colab-df-convert:hover {\n",
              "      background-color: #E2EBFA;\n",
              "      box-shadow: 0px 1px 2px rgba(60, 64, 67, 0.3), 0px 1px 3px 1px rgba(60, 64, 67, 0.15);\n",
              "      fill: #174EA6;\n",
              "    }\n",
              "\n",
              "    [theme=dark] .colab-df-convert {\n",
              "      background-color: #3B4455;\n",
              "      fill: #D2E3FC;\n",
              "    }\n",
              "\n",
              "    [theme=dark] .colab-df-convert:hover {\n",
              "      background-color: #434B5C;\n",
              "      box-shadow: 0px 1px 3px 1px rgba(0, 0, 0, 0.15);\n",
              "      filter: drop-shadow(0px 1px 2px rgba(0, 0, 0, 0.3));\n",
              "      fill: #FFFFFF;\n",
              "    }\n",
              "  </style>\n",
              "\n",
              "      <script>\n",
              "        const buttonEl =\n",
              "          document.querySelector('#df-789d0e4e-d20b-4af9-a5ef-b6b90b015b5d button.colab-df-convert');\n",
              "        buttonEl.style.display =\n",
              "          google.colab.kernel.accessAllowed ? 'block' : 'none';\n",
              "\n",
              "        async function convertToInteractive(key) {\n",
              "          const element = document.querySelector('#df-789d0e4e-d20b-4af9-a5ef-b6b90b015b5d');\n",
              "          const dataTable =\n",
              "            await google.colab.kernel.invokeFunction('convertToInteractive',\n",
              "                                                     [key], {});\n",
              "          if (!dataTable) return;\n",
              "\n",
              "          const docLinkHtml = 'Like what you see? Visit the ' +\n",
              "            '<a target=\"_blank\" href=https://colab.research.google.com/notebooks/data_table.ipynb>data table notebook</a>'\n",
              "            + ' to learn more about interactive tables.';\n",
              "          element.innerHTML = '';\n",
              "          dataTable['output_type'] = 'display_data';\n",
              "          await google.colab.output.renderOutput(dataTable, element);\n",
              "          const docLink = document.createElement('div');\n",
              "          docLink.innerHTML = docLinkHtml;\n",
              "          element.appendChild(docLink);\n",
              "        }\n",
              "      </script>\n",
              "    </div>\n",
              "  </div>\n",
              "  "
            ],
            "text/plain": [
              "           0\n",
              "0   1.283156\n",
              "1   1.255701\n",
              "2   1.259477\n",
              "3   0.724509\n",
              "4   1.262567\n",
              "5   0.881149\n",
              "6   1.893820\n",
              "7   1.712935\n",
              "8   0.600804\n",
              "9   0.751765\n",
              "10  1.230687\n",
              "11  1.231164\n",
              "12  1.211033\n",
              "13  1.264648\n",
              "14  1.240121\n",
              "15  1.336136\n",
              "16  1.801851\n",
              "17  1.806101\n",
              "18  1.822984\n",
              "19  1.819161"
            ]
          },
          "metadata": {},
          "execution_count": 276
        }
      ]
    },
    {
      "cell_type": "code",
      "metadata": {
        "id": "TrjHhy-ArIYN"
      },
      "source": [
        "p_d.to_excel('lst_a.xlsx') #PRINT ACTUAL VALUE"
      ],
      "id": "TrjHhy-ArIYN",
      "execution_count": 277,
      "outputs": []
    },
    {
      "cell_type": "code",
      "metadata": {
        "id": "xXVzfbiwrJes"
      },
      "source": [
        "p_d_2=pd.DataFrame(predicted_vol)"
      ],
      "id": "xXVzfbiwrJes",
      "execution_count": 278,
      "outputs": []
    },
    {
      "cell_type": "code",
      "metadata": {
        "id": "rsNjF8jqrJF8"
      },
      "source": [
        "p_d_2.to_excel('lst_p.xlsx') #PRINT PREDICTED VALUE"
      ],
      "id": "rsNjF8jqrJF8",
      "execution_count": 279,
      "outputs": []
    },
    {
      "cell_type": "code",
      "metadata": {
        "id": "QQkd3tqDrH0O"
      },
      "source": [
        "#p_d_2.head(20)"
      ],
      "id": "QQkd3tqDrH0O",
      "execution_count": 280,
      "outputs": []
    },
    {
      "cell_type": "code",
      "metadata": {
        "colab": {
          "base_uri": "https://localhost:8080/",
          "height": 264
        },
        "id": "nwg_0UQBrSN-",
        "outputId": "9413acc9-5d80-4488-b782-b5d9826c1143"
      },
      "source": [
        "plt.scatter(p_d, p_d_2)\n",
        "plt.show()"
      ],
      "id": "nwg_0UQBrSN-",
      "execution_count": 281,
      "outputs": [
        {
          "output_type": "display_data",
          "data": {
            "image/png": "[encoded data removed]",
            "text/plain": [
              "<Figure size 432x288 with 1 Axes>"
            ]
          },
          "metadata": {
            "needs_background": "light"
          }
        }
      ]
    },
    {
      "cell_type": "markdown",
      "metadata": {
        "id": "ea435b9e"
      },
      "source": [
        "### Ploting Volatility Real Rolling  vs LSTM Forecasted"
      ],
      "id": "ea435b9e"
    },
    {
      "cell_type": "code",
      "metadata": {
        "colab": {
          "base_uri": "https://localhost:8080/",
          "height": 395
        },
        "id": "c17ce731",
        "outputId": "a55bfe42-37f0-4f70-be2c-0dbf70bd40ed"
      },
      "source": [
        "# Visualising the results\n",
        "plt.figure(figsize=(16,6))\n",
        "plt.plot(df.iloc[100:, 9:10].values, color = 'red', label = 'Volatility Observed')\n",
        "plt.plot(predicted_vol, color = 'green', label = 'LSTM Predicted Volatility')\n",
        "plt.title('Volatility Real Rolling  vs LSTM Forecast ')\n",
        "plt.xlabel('Time')\n",
        "plt.ylabel('Volatility')\n",
        "plt.legend()\n",
        "plt.show()"
      ],
      "id": "c17ce731",
      "execution_count": 282,
      "outputs": [
        {
          "output_type": "display_data",
          "data": {
            "image/png": "[encoded data removed]",
            "text/plain": [
              "<Figure size 1152x432 with 1 Axes>"
            ]
          },
          "metadata": {
            "needs_background": "light"
          }
        }
      ]
    },
    {
      "cell_type": "markdown",
      "metadata": {
        "id": "1e6f2422"
      },
      "source": [
        "### Calculating RMSE value for LSTM Model"
      ],
      "id": "1e6f2422"
    },
    {
      "cell_type": "code",
      "metadata": {
        "colab": {
          "base_uri": "https://localhost:8080/"
        },
        "id": "c3996c6b",
        "outputId": "9c9d5035-dfa3-4cd3-bb99-75e8ddb07bcf"
      },
      "source": [
        " print('RMSE calculated for LSTM model:', np.sqrt(metrics.mean_squared_error(df.iloc[100:, 9:10].values, predicted_vol)))\n"
      ],
      "id": "c3996c6b",
      "execution_count": 283,
      "outputs": [
        {
          "output_type": "stream",
          "name": "stdout",
          "text": [
            "RMSE calculated for LSTM model: 0.30162499858772446\n"
          ]
        }
      ]
    },
    {
      "cell_type": "code",
      "source": [
        "print('MAE calculated for LSTM model:', MAE(df.iloc[100:, 9:10].values, predicted_vol))"
      ],
      "metadata": {
        "id": "ZiBDGqvhae-q",
        "colab": {
          "base_uri": "https://localhost:8080/"
        },
        "outputId": "62d74191-2925-47cd-aa8a-f79a4693f73f"
      },
      "id": "ZiBDGqvhae-q",
      "execution_count": 284,
      "outputs": [
        {
          "output_type": "stream",
          "name": "stdout",
          "text": [
            "MAE calculated for LSTM model: 0.2026199817818749\n"
          ]
        }
      ]
    },
    {
      "cell_type": "code",
      "source": [
        "print('MAPE calculated for LSTM model:',mean_absolute_percentage_error(df.iloc[100:, 9:10], predicted_vol))"
      ],
      "metadata": {
        "colab": {
          "base_uri": "https://localhost:8080/"
        },
        "id": "Uzb7sHTvF8Kp",
        "outputId": "7cdd2ee4-9c7b-48a5-ac4d-5b8eac7c393e"
      },
      "id": "Uzb7sHTvF8Kp",
      "execution_count": 285,
      "outputs": [
        {
          "output_type": "stream",
          "name": "stdout",
          "text": [
            "MAPE calculated for LSTM model: 0.19199199744898054\n"
          ]
        }
      ]
    },
    {
      "cell_type": "markdown",
      "metadata": {
        "id": "dbaf1d39"
      },
      "source": [
        "## Volatility Prediction using Monte Carlo Simulation"
      ],
      "id": "dbaf1d39"
    },
    {
      "cell_type": "code",
      "metadata": {
        "id": "1c69687b"
      },
      "source": [
        "returns_M = df['Volatility']"
      ],
      "id": "1c69687b",
      "execution_count": 286,
      "outputs": []
    },
    {
      "cell_type": "code",
      "metadata": {
        "id": "cd1285d0"
      },
      "source": [
        "last_Close = df.Volatility[-1]"
      ],
      "id": "cd1285d0",
      "execution_count": 287,
      "outputs": []
    },
    {
      "cell_type": "markdown",
      "metadata": {
        "id": "19f6168f"
      },
      "source": [
        "### Number of Simulations"
      ],
      "id": "19f6168f"
    },
    {
      "cell_type": "code",
      "metadata": {
        "id": "d13f2afe"
      },
      "source": [
        "num_simulations = 10\n",
        "num_days = 252"
      ],
      "id": "d13f2afe",
      "execution_count": 288,
      "outputs": []
    },
    {
      "cell_type": "code",
      "metadata": {
        "id": "1d97a5ee"
      },
      "source": [
        "simulation_df = pd.DataFrame()\n",
        "for x in range(num_simulations):\n",
        "    count = 0\n",
        "    daily_vol = returns_M.std()\n",
        "    \n",
        "    price_series = []\n",
        "    \n",
        "    price = last_Close * (1 + np.random.normal(0, daily_vol))\n",
        "    price_series.append(price)\n",
        "    \n",
        "    for y in range(num_days):\n",
        "        if count == 251:\n",
        "            break\n",
        "        price = price_series[count] * (1 + np.random.normal(0, daily_vol))\n",
        "        price_series.append(price)\n",
        "        count += 1\n",
        "    \n",
        "    simulation_df[x] = price_series"
      ],
      "id": "1d97a5ee",
      "execution_count": 289,
      "outputs": []
    },
    {
      "cell_type": "code",
      "metadata": {
        "id": "clNAf-8orweQ"
      },
      "source": [
        "MC_a=df['Volatility'].head(252)"
      ],
      "id": "clNAf-8orweQ",
      "execution_count": 290,
      "outputs": []
    },
    {
      "cell_type": "code",
      "metadata": {
        "id": "kxuwlo7YrwS1"
      },
      "source": [
        "MC_a.to_excel('MC_a.xlsx') # to export actual values of MC MODEL"
      ],
      "id": "kxuwlo7YrwS1",
      "execution_count": 291,
      "outputs": []
    },
    {
      "cell_type": "code",
      "metadata": {
        "id": "h9kl-nD4rv_2"
      },
      "source": [
        "simulation_df.to_excel('MC.xlsx') # FOR TOP 252 DAYS PREDICTED VALUE USING MC"
      ],
      "id": "h9kl-nD4rv_2",
      "execution_count": 292,
      "outputs": []
    },
    {
      "cell_type": "markdown",
      "metadata": {
        "id": "63b5f280"
      },
      "source": [
        "### Ploting Monte Carlo Volatility"
      ],
      "id": "63b5f280"
    },
    {
      "cell_type": "code",
      "metadata": {
        "colab": {
          "base_uri": "https://localhost:8080/",
          "height": 338
        },
        "id": "b8388f1b",
        "outputId": "5ab72313-fff4-457f-c835-3fc84726018e"
      },
      "source": [
        "fig = plt.figure(figsize=(30,9))\n",
        "fig.suptitle('Monte Carlo Simulation')\n",
        "plt.plot(simulation_df)\n",
        "plt.axhline(y = last_Close, color = 'r', linestyle = '-')\n",
        "plt.xlabel('Day')\n",
        "plt.ylabel('Price')\n",
        "plt.show()"
      ],
      "id": "b8388f1b",
      "execution_count": 293,
      "outputs": [
        {
          "output_type": "display_data",
          "data": {
            "image/png": "[encoded data removed]",
            "text/plain": [
              "<Figure size 2160x648 with 1 Axes>"
            ]
          },
          "metadata": {
            "needs_background": "light"
          }
        }
      ]
    },
    {
      "cell_type": "code",
      "metadata": {
        "colab": {
          "base_uri": "https://localhost:8080/"
        },
        "id": "F9Jc0ZFiWNRR",
        "outputId": "54d638bb-10d6-44b0-fb19-38e598acbaff"
      },
      "source": [
        "print('RMSE calculated for MC model:', np.sqrt(metrics.mean_squared_error(df.iloc[0:252:, 9:10].values,  simulation_df[0])))"
      ],
      "id": "F9Jc0ZFiWNRR",
      "execution_count": 294,
      "outputs": [
        {
          "output_type": "stream",
          "name": "stdout",
          "text": [
            "RMSE calculated for MC model: 1.1488324738489215\n"
          ]
        }
      ]
    },
    {
      "cell_type": "code",
      "source": [
        "print('MAE calculated for MC model:',MAE(df.iloc[0:252, 9:10].values, simulation_df[0]))"
      ],
      "metadata": {
        "id": "GM1GVojdbCoy",
        "colab": {
          "base_uri": "https://localhost:8080/"
        },
        "outputId": "525222bb-4760-46ba-dc1a-980b4d36ea0c"
      },
      "id": "GM1GVojdbCoy",
      "execution_count": 295,
      "outputs": [
        {
          "output_type": "stream",
          "name": "stdout",
          "text": [
            "MAE calculated for MC model: 1.0653154087415464\n"
          ]
        }
      ]
    },
    {
      "cell_type": "code",
      "source": [
        "print('MAPE calculated for MC model:',mean_absolute_percentage_error(df.iloc[0:252, 9:10].values, simulation_df[0]))"
      ],
      "metadata": {
        "colab": {
          "base_uri": "https://localhost:8080/"
        },
        "id": "mzvpbx8nF4EL",
        "outputId": "f89e98f5-ee44-4c9c-d2ea-a3b0cfd8be0e"
      },
      "id": "mzvpbx8nF4EL",
      "execution_count": 296,
      "outputs": [
        {
          "output_type": "stream",
          "name": "stdout",
          "text": [
            "MAPE calculated for SVM model: 0.9744414676340805\n"
          ]
        }
      ]
    },
    {
      "cell_type": "markdown",
      "metadata": {
        "id": "077fae72"
      },
      "source": [
        "## Volatility Prediction Using SVM"
      ],
      "id": "077fae72"
    },
    {
      "cell_type": "code",
      "metadata": {
        "id": "hbFcE6wIbtAI"
      },
      "source": [
        ""
      ],
      "id": "hbFcE6wIbtAI",
      "execution_count": 296,
      "outputs": []
    },
    {
      "cell_type": "markdown",
      "metadata": {
        "id": "8be554ed"
      },
      "source": [
        "### Preparing testing and training dataset"
      ],
      "id": "8be554ed"
    },
    {
      "cell_type": "code",
      "metadata": {
        "id": "b2afa0e6"
      },
      "source": [
        "training_set = df.iloc[:, 9:10].values\n",
        "X_tr = []\n",
        "y_tr = []\n",
        "for i in range(10, df.shape[0]):\n",
        "    X_tr.append(training_set[i-10:i,0])\n",
        "    y_tr.append(training_set[i,0])\n",
        "X_tr, y_tr = np.array(X_tr), np.array(y_tr)"
      ],
      "id": "b2afa0e6",
      "execution_count": 297,
      "outputs": []
    },
    {
      "cell_type": "markdown",
      "metadata": {
        "id": "a7a69091"
      },
      "source": [
        "#### RBF model"
      ],
      "id": "a7a69091"
    },
    {
      "cell_type": "code",
      "metadata": {
        "id": "ea8abccb"
      },
      "source": [
        "svr_rbf = SVR(kernel='rbf',C=0.5,gamma=5, epsilon=0.01)\n",
        "#svr_rbf = SVR(kernel='rbf', C=1000, gamma=8)"
      ],
      "id": "ea8abccb",
      "execution_count": 298,
      "outputs": []
    },
    {
      "cell_type": "code",
      "source": [
        "parameters = {'kernel':('linear', 'rbf'), 'C':[1, 10]}\n",
        "clf = GridSearchCV(svr_rbf, parameters)"
      ],
      "metadata": {
        "id": "cfpSksssGMhI"
      },
      "id": "cfpSksssGMhI",
      "execution_count": 299,
      "outputs": []
    },
    {
      "cell_type": "code",
      "source": [
        "y_rbf = clf.fit(X_tr,y_tr).predict(X_tr)"
      ],
      "metadata": {
        "id": "6XWQKyG3GPFJ"
      },
      "id": "6XWQKyG3GPFJ",
      "execution_count": 312,
      "outputs": []
    },
    {
      "cell_type": "code",
      "metadata": {
        "id": "7f70e93b"
      },
      "source": [
        "#y_rbf = svr_rbf.fit(X_tr,y_tr).predict(X_tr)"
      ],
      "id": "7f70e93b",
      "execution_count": 301,
      "outputs": []
    },
    {
      "cell_type": "code",
      "source": [
        "clf.get_params()"
      ],
      "metadata": {
        "colab": {
          "base_uri": "https://localhost:8080/"
        },
        "id": "i88whfmzGUo4",
        "outputId": "91d93742-ad35-4382-f74c-9e72932dda36"
      },
      "id": "i88whfmzGUo4",
      "execution_count": 302,
      "outputs": [
        {
          "output_type": "execute_result",
          "data": {
            "text/plain": [
              "{'cv': None,\n",
              " 'error_score': nan,\n",
              " 'estimator': SVR(C=0.5, epsilon=0.01, gamma=5),\n",
              " 'estimator__C': 0.5,\n",
              " 'estimator__cache_size': 200,\n",
              " 'estimator__coef0': 0.0,\n",
              " 'estimator__degree': 3,\n",
              " 'estimator__epsilon': 0.01,\n",
              " 'estimator__gamma': 5,\n",
              " 'estimator__kernel': 'rbf',\n",
              " 'estimator__max_iter': -1,\n",
              " 'estimator__shrinking': True,\n",
              " 'estimator__tol': 0.001,\n",
              " 'estimator__verbose': False,\n",
              " 'n_jobs': None,\n",
              " 'param_grid': {'C': [1, 10], 'kernel': ('linear', 'rbf')},\n",
              " 'pre_dispatch': '2*n_jobs',\n",
              " 'refit': True,\n",
              " 'return_train_score': False,\n",
              " 'scoring': None,\n",
              " 'verbose': 0}"
            ]
          },
          "metadata": {},
          "execution_count": 302
        }
      ]
    },
    {
      "cell_type": "code",
      "metadata": {
        "id": "d29b097e"
      },
      "source": [
        "predicted_vol_rbf = np.exp(y_rbf)"
      ],
      "id": "d29b097e",
      "execution_count": 303,
      "outputs": []
    },
    {
      "cell_type": "code",
      "source": [
        "print(metrics.r2_score(y_tr, y_rbf))"
      ],
      "metadata": {
        "colab": {
          "base_uri": "https://localhost:8080/"
        },
        "id": "tLyhRYDARRns",
        "outputId": "adc81812-201c-4c4d-9f4e-b2c5bba7c373"
      },
      "id": "tLyhRYDARRns",
      "execution_count": 307,
      "outputs": [
        {
          "output_type": "stream",
          "name": "stdout",
          "text": [
            "0.5125068597200597\n"
          ]
        }
      ]
    },
    {
      "cell_type": "markdown",
      "metadata": {
        "id": "5b678b06"
      },
      "source": [
        "#### Linear model"
      ],
      "id": "5b678b06"
    },
    {
      "cell_type": "code",
      "metadata": {
        "id": "06210f94"
      },
      "source": [
        "svr_linear = SVR(kernel='linear',C=0.5, gamma=5, epsilon=0.01)"
      ],
      "id": "06210f94",
      "execution_count": 305,
      "outputs": []
    },
    {
      "cell_type": "code",
      "source": [
        "parameters = {'kernel':('linear', 'rbf'), 'C':[1, 10]}\n",
        "clf1 = GridSearchCV(svr_linear, parameters)"
      ],
      "metadata": {
        "id": "zzQ6tJspGY_d"
      },
      "id": "zzQ6tJspGY_d",
      "execution_count": 306,
      "outputs": []
    },
    {
      "cell_type": "code",
      "source": [
        "clf1.get_params()"
      ],
      "metadata": {
        "colab": {
          "base_uri": "https://localhost:8080/"
        },
        "id": "dX1j4qKzGbLk",
        "outputId": "00a709b2-f9bf-4fdc-80e7-91bda8d2e48e"
      },
      "id": "dX1j4qKzGbLk",
      "execution_count": 313,
      "outputs": [
        {
          "output_type": "execute_result",
          "data": {
            "text/plain": [
              "{'cv': None,\n",
              " 'error_score': nan,\n",
              " 'estimator': SVR(C=0.5, epsilon=0.01, gamma=5, kernel='linear'),\n",
              " 'estimator__C': 0.5,\n",
              " 'estimator__cache_size': 200,\n",
              " 'estimator__coef0': 0.0,\n",
              " 'estimator__degree': 3,\n",
              " 'estimator__epsilon': 0.01,\n",
              " 'estimator__gamma': 5,\n",
              " 'estimator__kernel': 'linear',\n",
              " 'estimator__max_iter': -1,\n",
              " 'estimator__shrinking': True,\n",
              " 'estimator__tol': 0.001,\n",
              " 'estimator__verbose': False,\n",
              " 'n_jobs': None,\n",
              " 'param_grid': {'C': [1, 10], 'kernel': ('linear', 'rbf')},\n",
              " 'pre_dispatch': '2*n_jobs',\n",
              " 'refit': True,\n",
              " 'return_train_score': False,\n",
              " 'scoring': None,\n",
              " 'verbose': 0}"
            ]
          },
          "metadata": {},
          "execution_count": 313
        }
      ]
    },
    {
      "cell_type": "code",
      "metadata": {
        "id": "0a91ce59"
      },
      "source": [
        "#y_linear = svr_linear.fit(X_tr,y_tr).predict(X_tr)\n",
        "y_linear = clf1.fit(X_tr, y_tr).predict(X_tr)"
      ],
      "id": "0a91ce59",
      "execution_count": 314,
      "outputs": []
    },
    {
      "cell_type": "code",
      "source": [
        "clf1.score(X_tr, y_tr)"
      ],
      "metadata": {
        "colab": {
          "base_uri": "https://localhost:8080/"
        },
        "id": "5swlcfnWGm7Q",
        "outputId": "09771f8c-00b9-4565-eeb9-943e7a4c922d"
      },
      "id": "5swlcfnWGm7Q",
      "execution_count": 315,
      "outputs": [
        {
          "output_type": "execute_result",
          "data": {
            "text/plain": [
              "0.5125068597200597"
            ]
          },
          "metadata": {},
          "execution_count": 315
        }
      ]
    },
    {
      "cell_type": "code",
      "metadata": {
        "id": "741d8555"
      },
      "source": [
        "predicted_vol_linear = np.exp(y_linear)"
      ],
      "id": "741d8555",
      "execution_count": 316,
      "outputs": []
    },
    {
      "cell_type": "code",
      "metadata": {
        "id": "zxpPU4mosKXn"
      },
      "source": [
        "p_d_s_o = pd.DataFrame(df.iloc[10:, 9:10].values)"
      ],
      "id": "zxpPU4mosKXn",
      "execution_count": 317,
      "outputs": []
    },
    {
      "cell_type": "code",
      "metadata": {
        "id": "Ofd8-DpKsOJm"
      },
      "source": [
        "p_d_s_R = pd.DataFrame(predicted_vol_rbf)"
      ],
      "id": "Ofd8-DpKsOJm",
      "execution_count": 318,
      "outputs": []
    },
    {
      "cell_type": "code",
      "metadata": {
        "id": "-6aIY0CEsN9y"
      },
      "source": [
        "p_d_s_l = pd.DataFrame(predicted_vol_linear)"
      ],
      "id": "-6aIY0CEsN9y",
      "execution_count": 319,
      "outputs": []
    },
    {
      "cell_type": "code",
      "metadata": {
        "id": "UfOq3A0lsNfD"
      },
      "source": [
        "p_d_s_o = pd.DataFrame(df.iloc[10:, 9:10].values) # ACTUAL VALUES"
      ],
      "id": "UfOq3A0lsNfD",
      "execution_count": 320,
      "outputs": []
    },
    {
      "cell_type": "code",
      "metadata": {
        "id": "_JMe3yyqsXmG"
      },
      "source": [
        "p_d_s_o.to_excel('SVR_A.xlsx') # prints actual values"
      ],
      "id": "_JMe3yyqsXmG",
      "execution_count": 321,
      "outputs": []
    },
    {
      "cell_type": "code",
      "metadata": {
        "id": "y6b9ZpGOsZg2"
      },
      "source": [
        "p_d_s_R.to_excel('SVR_r_p.xlsx') #PRINT RBF SVR VALUE FORECAST"
      ],
      "id": "y6b9ZpGOsZg2",
      "execution_count": 322,
      "outputs": []
    },
    {
      "cell_type": "code",
      "metadata": {
        "id": "BPh5dXIjscQl"
      },
      "source": [
        "p_d_s_l.to_excel('SVR_l_p.xlsx')#pRINT LINEAR SVR VALUE FORECAST"
      ],
      "id": "BPh5dXIjscQl",
      "execution_count": 323,
      "outputs": []
    },
    {
      "cell_type": "code",
      "metadata": {
        "colab": {
          "base_uri": "https://localhost:8080/",
          "height": 676
        },
        "id": "h_wmklzesecW",
        "outputId": "431d86f4-38fe-465b-f273-99a2225ee49f"
      },
      "source": [
        "p_d_s_l.head(20)"
      ],
      "id": "h_wmklzesecW",
      "execution_count": 324,
      "outputs": [
        {
          "output_type": "execute_result",
          "data": {
            "text/html": [
              "\n",
              "  <div id=\"df-e1313e3e-4f8e-4b72-a14d-29a5db0e3745\">\n",
              "    <div class=\"colab-df-container\">\n",
              "      <div>\n",
              "<style scoped>\n",
              "    .dataframe tbody tr th:only-of-type {\n",
              "        vertical-align: middle;\n",
              "    }\n",
              "\n",
              "    .dataframe tbody tr th {\n",
              "        vertical-align: top;\n",
              "    }\n",
              "\n",
              "    .dataframe thead th {\n",
              "        text-align: right;\n",
              "    }\n",
              "</style>\n",
              "<table border=\"1\" class=\"dataframe\">\n",
              "  <thead>\n",
              "    <tr style=\"text-align: right;\">\n",
              "      <th></th>\n",
              "      <th>0</th>\n",
              "    </tr>\n",
              "  </thead>\n",
              "  <tbody>\n",
              "    <tr>\n",
              "      <th>0</th>\n",
              "      <td>3.448034</td>\n",
              "    </tr>\n",
              "    <tr>\n",
              "      <th>1</th>\n",
              "      <td>4.962158</td>\n",
              "    </tr>\n",
              "    <tr>\n",
              "      <th>2</th>\n",
              "      <td>2.886322</td>\n",
              "    </tr>\n",
              "    <tr>\n",
              "      <th>3</th>\n",
              "      <td>2.087080</td>\n",
              "    </tr>\n",
              "    <tr>\n",
              "      <th>4</th>\n",
              "      <td>2.786824</td>\n",
              "    </tr>\n",
              "    <tr>\n",
              "      <th>5</th>\n",
              "      <td>2.915699</td>\n",
              "    </tr>\n",
              "    <tr>\n",
              "      <th>6</th>\n",
              "      <td>3.028009</td>\n",
              "    </tr>\n",
              "    <tr>\n",
              "      <th>7</th>\n",
              "      <td>3.057767</td>\n",
              "    </tr>\n",
              "    <tr>\n",
              "      <th>8</th>\n",
              "      <td>3.158767</td>\n",
              "    </tr>\n",
              "    <tr>\n",
              "      <th>9</th>\n",
              "      <td>3.136201</td>\n",
              "    </tr>\n",
              "    <tr>\n",
              "      <th>10</th>\n",
              "      <td>3.176751</td>\n",
              "    </tr>\n",
              "    <tr>\n",
              "      <th>11</th>\n",
              "      <td>3.059698</td>\n",
              "    </tr>\n",
              "    <tr>\n",
              "      <th>12</th>\n",
              "      <td>2.655395</td>\n",
              "    </tr>\n",
              "    <tr>\n",
              "      <th>13</th>\n",
              "      <td>2.565940</td>\n",
              "    </tr>\n",
              "    <tr>\n",
              "      <th>14</th>\n",
              "      <td>2.482914</td>\n",
              "    </tr>\n",
              "    <tr>\n",
              "      <th>15</th>\n",
              "      <td>2.743803</td>\n",
              "    </tr>\n",
              "    <tr>\n",
              "      <th>16</th>\n",
              "      <td>3.537709</td>\n",
              "    </tr>\n",
              "    <tr>\n",
              "      <th>17</th>\n",
              "      <td>3.466806</td>\n",
              "    </tr>\n",
              "    <tr>\n",
              "      <th>18</th>\n",
              "      <td>6.008738</td>\n",
              "    </tr>\n",
              "    <tr>\n",
              "      <th>19</th>\n",
              "      <td>2.896522</td>\n",
              "    </tr>\n",
              "  </tbody>\n",
              "</table>\n",
              "</div>\n",
              "      <button class=\"colab-df-convert\" onclick=\"convertToInteractive('df-e1313e3e-4f8e-4b72-a14d-29a5db0e3745')\"\n",
              "              title=\"Convert this dataframe to an interactive table.\"\n",
              "              style=\"display:none;\">\n",
              "        \n",
              "  <svg xmlns=\"http://www.w3.org/2000/svg\" height=\"24px\"viewBox=\"0 0 24 24\"\n",
              "       width=\"24px\">\n",
              "    <path d=\"M0 0h24v24H0V0z\" fill=\"none\"/>\n",
              "    <path d=\"M18.56 5.44l.94 2.06.94-2.06 2.06-.94-2.06-.94-.94-2.06-.94 2.06-2.06.94zm-11 1L8.5 8.5l.94-2.06 2.06-.94-2.06-.94L8.5 2.5l-.94 2.06-2.06.94zm10 10l.94 2.06.94-2.06 2.06-.94-2.06-.94-.94-2.06-.94 2.06-2.06.94z\"/><path d=\"M17.41 7.96l-1.37-1.37c-.4-.4-.92-.59-1.43-.59-.52 0-1.04.2-1.43.59L10.3 9.45l-7.72 7.72c-.78.78-.78 2.05 0 2.83L4 21.41c.39.39.9.59 1.41.59.51 0 1.02-.2 1.41-.59l7.78-7.78 2.81-2.81c.8-.78.8-2.07 0-2.86zM5.41 20L4 18.59l7.72-7.72 1.47 1.35L5.41 20z\"/>\n",
              "  </svg>\n",
              "      </button>\n",
              "      \n",
              "  <style>\n",
              "    .colab-df-container {\n",
              "      display:flex;\n",
              "      flex-wrap:wrap;\n",
              "      gap: 12px;\n",
              "    }\n",
              "\n",
              "    .colab-df-convert {\n",
              "      background-color: #E8F0FE;\n",
              "      border: none;\n",
              "      border-radius: 50%;\n",
              "      cursor: pointer;\n",
              "      display: none;\n",
              "      fill: #1967D2;\n",
              "      height: 32px;\n",
              "      padding: 0 0 0 0;\n",
              "      width: 32px;\n",
              "    }\n",
              "\n",
              "    .colab-df-convert:hover {\n",
              "      background-color: #E2EBFA;\n",
              "      box-shadow: 0px 1px 2px rgba(60, 64, 67, 0.3), 0px 1px 3px 1px rgba(60, 64, 67, 0.15);\n",
              "      fill: #174EA6;\n",
              "    }\n",
              "\n",
              "    [theme=dark] .colab-df-convert {\n",
              "      background-color: #3B4455;\n",
              "      fill: #D2E3FC;\n",
              "    }\n",
              "\n",
              "    [theme=dark] .colab-df-convert:hover {\n",
              "      background-color: #434B5C;\n",
              "      box-shadow: 0px 1px 3px 1px rgba(0, 0, 0, 0.15);\n",
              "      filter: drop-shadow(0px 1px 2px rgba(0, 0, 0, 0.3));\n",
              "      fill: #FFFFFF;\n",
              "    }\n",
              "  </style>\n",
              "\n",
              "      <script>\n",
              "        const buttonEl =\n",
              "          document.querySelector('#df-e1313e3e-4f8e-4b72-a14d-29a5db0e3745 button.colab-df-convert');\n",
              "        buttonEl.style.display =\n",
              "          google.colab.kernel.accessAllowed ? 'block' : 'none';\n",
              "\n",
              "        async function convertToInteractive(key) {\n",
              "          const element = document.querySelector('#df-e1313e3e-4f8e-4b72-a14d-29a5db0e3745');\n",
              "          const dataTable =\n",
              "            await google.colab.kernel.invokeFunction('convertToInteractive',\n",
              "                                                     [key], {});\n",
              "          if (!dataTable) return;\n",
              "\n",
              "          const docLinkHtml = 'Like what you see? Visit the ' +\n",
              "            '<a target=\"_blank\" href=https://colab.research.google.com/notebooks/data_table.ipynb>data table notebook</a>'\n",
              "            + ' to learn more about interactive tables.';\n",
              "          element.innerHTML = '';\n",
              "          dataTable['output_type'] = 'display_data';\n",
              "          await google.colab.output.renderOutput(dataTable, element);\n",
              "          const docLink = document.createElement('div');\n",
              "          docLink.innerHTML = docLinkHtml;\n",
              "          element.appendChild(docLink);\n",
              "        }\n",
              "      </script>\n",
              "    </div>\n",
              "  </div>\n",
              "  "
            ],
            "text/plain": [
              "           0\n",
              "0   3.448034\n",
              "1   4.962158\n",
              "2   2.886322\n",
              "3   2.087080\n",
              "4   2.786824\n",
              "5   2.915699\n",
              "6   3.028009\n",
              "7   3.057767\n",
              "8   3.158767\n",
              "9   3.136201\n",
              "10  3.176751\n",
              "11  3.059698\n",
              "12  2.655395\n",
              "13  2.565940\n",
              "14  2.482914\n",
              "15  2.743803\n",
              "16  3.537709\n",
              "17  3.466806\n",
              "18  6.008738\n",
              "19  2.896522"
            ]
          },
          "metadata": {},
          "execution_count": 324
        }
      ]
    },
    {
      "cell_type": "markdown",
      "metadata": {
        "id": "4c355e63"
      },
      "source": [
        "#### Polynomial Model"
      ],
      "id": "4c355e63"
    },
    {
      "cell_type": "code",
      "metadata": {
        "id": "d73bf279"
      },
      "source": [
        "#svr_poly = SVR(kernel = 'poly',C=10)"
      ],
      "id": "d73bf279",
      "execution_count": null,
      "outputs": []
    },
    {
      "cell_type": "code",
      "metadata": {
        "id": "0a1c2a98"
      },
      "source": [
        "#y_poly = svr_poly.fit(X_tr,y_tr).predict(X_tr)"
      ],
      "id": "0a1c2a98",
      "execution_count": null,
      "outputs": []
    },
    {
      "cell_type": "code",
      "metadata": {
        "id": "1bd3c3c6"
      },
      "source": [
        "#predicted_vol_poly = np.exp(y_poly)"
      ],
      "id": "1bd3c3c6",
      "execution_count": null,
      "outputs": []
    },
    {
      "cell_type": "markdown",
      "metadata": {
        "id": "cc33d756"
      },
      "source": [
        "### Ploting Volatility Observed, predicted Volatility using RBF,predicted Volatility using Linear SVR"
      ],
      "id": "cc33d756"
    },
    {
      "cell_type": "code",
      "metadata": {
        "colab": {
          "base_uri": "https://localhost:8080/",
          "height": 393
        },
        "id": "49b36129",
        "outputId": "8d3129fb-af0e-4819-a27c-f6d38bd0b206"
      },
      "source": [
        "# Visualising the results\n",
        "plt.figure(figsize=(16,6))\n",
        "plt.plot(df.iloc[10:, 9:10].values, color = 'red', label = 'Volatility Observed')\n",
        "plt.plot(predicted_vol_rbf, color = 'green', label = 'Predicted Volatility using RBF')\n",
        "plt.plot(predicted_vol_linear, color = 'yellow', label = 'Predicted Volatility using Linear SVR')\n",
        "#plt.plot(predicted_vol, color = 'green', label = 'LSTM Predicted Volatility')\n",
        "plt.title('Actual Volatility vs predicted Volatility')\n",
        "plt.xlabel('Duration')\n",
        "plt.ylabel('Volatility')\n",
        "plt.legend()\n",
        "plt.show()"
      ],
      "id": "49b36129",
      "execution_count": 325,
      "outputs": [
        {
          "output_type": "display_data",
          "data": {
            "image/png": "[encoded data removed]",
            "text/plain": [
              "<Figure size 1152x432 with 1 Axes>"
            ]
          },
          "metadata": {
            "needs_background": "light"
          }
        }
      ]
    },
    {
      "cell_type": "markdown",
      "metadata": {
        "id": "cb33a681"
      },
      "source": [
        "### Calculating RMSE value for SVM Model"
      ],
      "id": "cb33a681"
    },
    {
      "cell_type": "code",
      "metadata": {
        "colab": {
          "base_uri": "https://localhost:8080/"
        },
        "id": "ca50d79f",
        "outputId": "acd6ca63-22ed-42ea-ed63-b01d14baae04"
      },
      "source": [
        "print('RMSE calculated for SVM:', np.sqrt(metrics.mean_squared_error(df.iloc[10:, 9:10].values, predicted_vol_linear)))"
      ],
      "id": "ca50d79f",
      "execution_count": 326,
      "outputs": [
        {
          "output_type": "stream",
          "name": "stdout",
          "text": [
            "RMSE calculated for SVM: 2.2672755289997966\n"
          ]
        }
      ]
    },
    {
      "cell_type": "code",
      "source": [
        "print('RMSE calculated for SVM:', np.sqrt(metrics.mean_squared_error(df.iloc[10:, 9:10].values, y_rbf)))"
      ],
      "metadata": {
        "colab": {
          "base_uri": "https://localhost:8080/"
        },
        "id": "xnnVJAjTk2t1",
        "outputId": "f8a94643-4bbf-460a-d8b8-06b433e9a69f"
      },
      "id": "xnnVJAjTk2t1",
      "execution_count": 327,
      "outputs": [
        {
          "output_type": "stream",
          "name": "stdout",
          "text": [
            "RMSE calculated for SVM: 0.26141590921390484\n"
          ]
        }
      ]
    },
    {
      "cell_type": "code",
      "source": [
        "print('MAE calculated for SVM model:', MAE(df.iloc[10:, 9:10].values, predicted_vol_linear))"
      ],
      "metadata": {
        "colab": {
          "base_uri": "https://localhost:8080/"
        },
        "id": "hhEB1vAkk8-c",
        "outputId": "61a4ab1d-7485-4e77-dc09-346b88d9aab4"
      },
      "id": "hhEB1vAkk8-c",
      "execution_count": 328,
      "outputs": [
        {
          "output_type": "stream",
          "name": "stdout",
          "text": [
            "MAE calculated for SVM model: 1.921990522338133\n"
          ]
        }
      ]
    },
    {
      "cell_type": "code",
      "source": [
        "print('MAE calculated for SVM model:',MAE(df.iloc[10:, 9:10].values, y_rbf))"
      ],
      "metadata": {
        "id": "dR6eB6UAb-AD",
        "colab": {
          "base_uri": "https://localhost:8080/"
        },
        "outputId": "cccebdea-1e58-433a-b168-e08c611ccd8f"
      },
      "id": "dR6eB6UAb-AD",
      "execution_count": 329,
      "outputs": [
        {
          "output_type": "stream",
          "name": "stdout",
          "text": [
            "MAE calculated for SVM model: 0.1411609940960886\n"
          ]
        }
      ]
    },
    {
      "cell_type": "code",
      "source": [
        "print('MAPE calculated for SVM model:',mean_absolute_percentage_error(df.iloc[10:, 9:10].values, predicted_vol_linear))"
      ],
      "metadata": {
        "colab": {
          "base_uri": "https://localhost:8080/"
        },
        "id": "m_h6gvegJe4T",
        "outputId": "9812b262-cf4b-4e20-f404-1c4b13cd5c4f"
      },
      "id": "m_h6gvegJe4T",
      "execution_count": 330,
      "outputs": [
        {
          "output_type": "stream",
          "name": "stdout",
          "text": [
            "MAPE calculated for SVM model: 1.979317432589008\n"
          ]
        }
      ]
    },
    {
      "cell_type": "code",
      "source": [
        "print('MAPE calculated for SVM model:',mean_absolute_percentage_error(df.iloc[10:, 9:10].values,y_rbf))"
      ],
      "metadata": {
        "colab": {
          "base_uri": "https://localhost:8080/"
        },
        "id": "Hc7c4WfyJhAB",
        "outputId": "9b667e14-0bf3-40b0-a727-6875b4833cc4"
      },
      "id": "Hc7c4WfyJhAB",
      "execution_count": 331,
      "outputs": [
        {
          "output_type": "stream",
          "name": "stdout",
          "text": [
            "MAPE calculated for SVM model: 0.1420415745779379\n"
          ]
        }
      ]
    },
    {
      "cell_type": "markdown",
      "metadata": {
        "id": "18c111e9"
      },
      "source": [
        "## Volatility Prediction using Random Forest"
      ],
      "id": "18c111e9"
    },
    {
      "cell_type": "markdown",
      "metadata": {
        "id": "904c5230"
      },
      "source": [
        "#### Create Random Forest Regressor Model"
      ],
      "id": "904c5230"
    },
    {
      "cell_type": "code",
      "metadata": {
        "id": "211de7d8"
      },
      "source": [
        "ran_mod = RandomForestRegressor(n_estimators=30, verbose=2, random_state=42, n_jobs = -1)"
      ],
      "id": "211de7d8",
      "execution_count": 332,
      "outputs": []
    },
    {
      "cell_type": "code",
      "source": [
        ""
      ],
      "metadata": {
        "id": "87YO0R63K75d"
      },
      "id": "87YO0R63K75d",
      "execution_count": null,
      "outputs": []
    },
    {
      "cell_type": "code",
      "metadata": {
        "id": "2d8b71e1",
        "colab": {
          "base_uri": "https://localhost:8080/"
        },
        "outputId": "ce1dbb5a-29c2-42b7-e927-65b73a563e74"
      },
      "source": [
        "rand_mod = ran_mod.fit(X_tr, y_tr)"
      ],
      "id": "2d8b71e1",
      "execution_count": 333,
      "outputs": [
        {
          "output_type": "stream",
          "name": "stderr",
          "text": [
            "[Parallel(n_jobs=-1)]: Using backend ThreadingBackend with 2 concurrent workers.\n"
          ]
        },
        {
          "output_type": "stream",
          "name": "stdout",
          "text": [
            "building tree 1 of 30\n",
            "building tree 2 of 30\n",
            "building tree 3 of 30\n",
            "building tree 4 of 30\n",
            "building tree 5 of 30\n",
            "building tree 6 of 30\n",
            "building tree 7 of 30\n",
            "building tree 8 of 30\n",
            "building tree 9 of 30\n",
            "building tree 10 of 30\n",
            "building tree 11 of 30\n",
            "building tree 12 of 30\n",
            "building tree 13 of 30\n",
            "building tree 14 of 30\n",
            "building tree 15 of 30\n",
            "building tree 16 of 30\n",
            "building tree 17 of 30\n",
            "building tree 18 of 30\n",
            "building tree 19 of 30\n",
            "building tree 20 of 30\n",
            "building tree 21 of 30\n",
            "building tree 22 of 30\n",
            "building tree 23 of 30\n",
            "building tree 24 of 30\n",
            "building tree 25 of 30\n",
            "building tree 26 of 30\n",
            "building tree 27 of 30\n",
            "building tree 28 of 30\n",
            "building tree 29 of 30\n",
            "building tree 30 of 30\n"
          ]
        },
        {
          "output_type": "stream",
          "name": "stderr",
          "text": [
            "[Parallel(n_jobs=-1)]: Done  30 out of  30 | elapsed:    1.9s finished\n"
          ]
        }
      ]
    },
    {
      "cell_type": "code",
      "source": [
        "rand_mod.get_params()"
      ],
      "metadata": {
        "colab": {
          "base_uri": "https://localhost:8080/"
        },
        "id": "Aau-wbweU4xD",
        "outputId": "171c4df3-22d4-4aac-c44a-ebbd3d00a55b"
      },
      "id": "Aau-wbweU4xD",
      "execution_count": 334,
      "outputs": [
        {
          "output_type": "execute_result",
          "data": {
            "text/plain": [
              "{'bootstrap': True,\n",
              " 'ccp_alpha': 0.0,\n",
              " 'criterion': 'squared_error',\n",
              " 'max_depth': None,\n",
              " 'max_features': 'auto',\n",
              " 'max_leaf_nodes': None,\n",
              " 'max_samples': None,\n",
              " 'min_impurity_decrease': 0.0,\n",
              " 'min_samples_leaf': 1,\n",
              " 'min_samples_split': 2,\n",
              " 'min_weight_fraction_leaf': 0.0,\n",
              " 'n_estimators': 30,\n",
              " 'n_jobs': -1,\n",
              " 'oob_score': False,\n",
              " 'random_state': 42,\n",
              " 'verbose': 2,\n",
              " 'warm_start': False}"
            ]
          },
          "metadata": {},
          "execution_count": 334
        }
      ]
    },
    {
      "cell_type": "code",
      "source": [
        "rand_mod.score(X_tr, y_tr)"
      ],
      "metadata": {
        "colab": {
          "base_uri": "https://localhost:8080/"
        },
        "id": "AJ0gCD2QLE7b",
        "outputId": "0d30815b-763e-4226-89d6-eb6e62eccc35"
      },
      "id": "AJ0gCD2QLE7b",
      "execution_count": 335,
      "outputs": [
        {
          "output_type": "stream",
          "name": "stderr",
          "text": [
            "[Parallel(n_jobs=2)]: Using backend ThreadingBackend with 2 concurrent workers.\n",
            "[Parallel(n_jobs=2)]: Done  30 out of  30 | elapsed:    0.1s finished\n"
          ]
        },
        {
          "output_type": "execute_result",
          "data": {
            "text/plain": [
              "0.9365544551795635"
            ]
          },
          "metadata": {},
          "execution_count": 335
        }
      ]
    },
    {
      "cell_type": "markdown",
      "metadata": {
        "id": "c17ce171"
      },
      "source": [
        "### Predicted Volatility"
      ],
      "id": "c17ce171"
    },
    {
      "cell_type": "code",
      "metadata": {
        "id": "2d598de3",
        "colab": {
          "base_uri": "https://localhost:8080/"
        },
        "outputId": "34405f1a-5de4-423c-975a-619a4d753e81"
      },
      "source": [
        "predicted_vol_rand = rand_mod.predict(X_tr)\n",
        "predicted_vol_rand"
      ],
      "id": "2d598de3",
      "execution_count": 336,
      "outputs": [
        {
          "output_type": "stream",
          "name": "stderr",
          "text": [
            "[Parallel(n_jobs=2)]: Using backend ThreadingBackend with 2 concurrent workers.\n",
            "[Parallel(n_jobs=2)]: Done  30 out of  30 | elapsed:    0.0s finished\n"
          ]
        },
        {
          "output_type": "execute_result",
          "data": {
            "text/plain": [
              "array([1.59919833, 1.02159806, 0.71887465, ..., 1.58082544, 1.25429872,\n",
              "       1.13257875])"
            ]
          },
          "metadata": {},
          "execution_count": 336
        }
      ]
    },
    {
      "cell_type": "code",
      "source": [
        ""
      ],
      "metadata": {
        "id": "8aiFjR7VLMyK"
      },
      "id": "8aiFjR7VLMyK",
      "execution_count": null,
      "outputs": []
    },
    {
      "cell_type": "code",
      "metadata": {
        "id": "ec50gXi1suLl"
      },
      "source": [
        "p_d_For = pd.DataFrame(predicted_vol_rand)"
      ],
      "id": "ec50gXi1suLl",
      "execution_count": 337,
      "outputs": []
    },
    {
      "cell_type": "code",
      "metadata": {
        "id": "uc5vSoQ5st2F"
      },
      "source": [
        "p_d_For.to_excel('rand_For_p.xlsx')#PRINT PREDICTED VALUE"
      ],
      "id": "uc5vSoQ5st2F",
      "execution_count": 338,
      "outputs": []
    },
    {
      "cell_type": "code",
      "metadata": {
        "id": "Az_dNVcFsti2"
      },
      "source": [
        "p_d_s_o.to_excel('rand_For_a.xlsx')#PRINT ACTUAL VALUE"
      ],
      "id": "Az_dNVcFsti2",
      "execution_count": 339,
      "outputs": []
    },
    {
      "cell_type": "code",
      "metadata": {
        "colab": {
          "base_uri": "https://localhost:8080/",
          "height": 423
        },
        "id": "9zymx6SWstVe",
        "outputId": "9ea333a8-7208-4cad-a36b-e89e8a85f84c"
      },
      "source": [
        "p_d_For"
      ],
      "id": "9zymx6SWstVe",
      "execution_count": 340,
      "outputs": [
        {
          "output_type": "execute_result",
          "data": {
            "text/html": [
              "\n",
              "  <div id=\"df-f8198ef3-2b99-4a54-918f-0ffae7700e11\">\n",
              "    <div class=\"colab-df-container\">\n",
              "      <div>\n",
              "<style scoped>\n",
              "    .dataframe tbody tr th:only-of-type {\n",
              "        vertical-align: middle;\n",
              "    }\n",
              "\n",
              "    .dataframe tbody tr th {\n",
              "        vertical-align: top;\n",
              "    }\n",
              "\n",
              "    .dataframe thead th {\n",
              "        text-align: right;\n",
              "    }\n",
              "</style>\n",
              "<table border=\"1\" class=\"dataframe\">\n",
              "  <thead>\n",
              "    <tr style=\"text-align: right;\">\n",
              "      <th></th>\n",
              "      <th>0</th>\n",
              "    </tr>\n",
              "  </thead>\n",
              "  <tbody>\n",
              "    <tr>\n",
              "      <th>0</th>\n",
              "      <td>1.599198</td>\n",
              "    </tr>\n",
              "    <tr>\n",
              "      <th>1</th>\n",
              "      <td>1.021598</td>\n",
              "    </tr>\n",
              "    <tr>\n",
              "      <th>2</th>\n",
              "      <td>0.718875</td>\n",
              "    </tr>\n",
              "    <tr>\n",
              "      <th>3</th>\n",
              "      <td>1.012547</td>\n",
              "    </tr>\n",
              "    <tr>\n",
              "      <th>4</th>\n",
              "      <td>1.006295</td>\n",
              "    </tr>\n",
              "    <tr>\n",
              "      <th>...</th>\n",
              "      <td>...</td>\n",
              "    </tr>\n",
              "    <tr>\n",
              "      <th>7889</th>\n",
              "      <td>1.140511</td>\n",
              "    </tr>\n",
              "    <tr>\n",
              "      <th>7890</th>\n",
              "      <td>1.638066</td>\n",
              "    </tr>\n",
              "    <tr>\n",
              "      <th>7891</th>\n",
              "      <td>1.580825</td>\n",
              "    </tr>\n",
              "    <tr>\n",
              "      <th>7892</th>\n",
              "      <td>1.254299</td>\n",
              "    </tr>\n",
              "    <tr>\n",
              "      <th>7893</th>\n",
              "      <td>1.132579</td>\n",
              "    </tr>\n",
              "  </tbody>\n",
              "</table>\n",
              "<p>7894 rows × 1 columns</p>\n",
              "</div>\n",
              "      <button class=\"colab-df-convert\" onclick=\"convertToInteractive('df-f8198ef3-2b99-4a54-918f-0ffae7700e11')\"\n",
              "              title=\"Convert this dataframe to an interactive table.\"\n",
              "              style=\"display:none;\">\n",
              "        \n",
              "  <svg xmlns=\"http://www.w3.org/2000/svg\" height=\"24px\"viewBox=\"0 0 24 24\"\n",
              "       width=\"24px\">\n",
              "    <path d=\"M0 0h24v24H0V0z\" fill=\"none\"/>\n",
              "    <path d=\"M18.56 5.44l.94 2.06.94-2.06 2.06-.94-2.06-.94-.94-2.06-.94 2.06-2.06.94zm-11 1L8.5 8.5l.94-2.06 2.06-.94-2.06-.94L8.5 2.5l-.94 2.06-2.06.94zm10 10l.94 2.06.94-2.06 2.06-.94-2.06-.94-.94-2.06-.94 2.06-2.06.94z\"/><path d=\"M17.41 7.96l-1.37-1.37c-.4-.4-.92-.59-1.43-.59-.52 0-1.04.2-1.43.59L10.3 9.45l-7.72 7.72c-.78.78-.78 2.05 0 2.83L4 21.41c.39.39.9.59 1.41.59.51 0 1.02-.2 1.41-.59l7.78-7.78 2.81-2.81c.8-.78.8-2.07 0-2.86zM5.41 20L4 18.59l7.72-7.72 1.47 1.35L5.41 20z\"/>\n",
              "  </svg>\n",
              "      </button>\n",
              "      \n",
              "  <style>\n",
              "    .colab-df-container {\n",
              "      display:flex;\n",
              "      flex-wrap:wrap;\n",
              "      gap: 12px;\n",
              "    }\n",
              "\n",
              "    .colab-df-convert {\n",
              "      background-color: #E8F0FE;\n",
              "      border: none;\n",
              "      border-radius: 50%;\n",
              "      cursor: pointer;\n",
              "      display: none;\n",
              "      fill: #1967D2;\n",
              "      height: 32px;\n",
              "      padding: 0 0 0 0;\n",
              "      width: 32px;\n",
              "    }\n",
              "\n",
              "    .colab-df-convert:hover {\n",
              "      background-color: #E2EBFA;\n",
              "      box-shadow: 0px 1px 2px rgba(60, 64, 67, 0.3), 0px 1px 3px 1px rgba(60, 64, 67, 0.15);\n",
              "      fill: #174EA6;\n",
              "    }\n",
              "\n",
              "    [theme=dark] .colab-df-convert {\n",
              "      background-color: #3B4455;\n",
              "      fill: #D2E3FC;\n",
              "    }\n",
              "\n",
              "    [theme=dark] .colab-df-convert:hover {\n",
              "      background-color: #434B5C;\n",
              "      box-shadow: 0px 1px 3px 1px rgba(0, 0, 0, 0.15);\n",
              "      filter: drop-shadow(0px 1px 2px rgba(0, 0, 0, 0.3));\n",
              "      fill: #FFFFFF;\n",
              "    }\n",
              "  </style>\n",
              "\n",
              "      <script>\n",
              "        const buttonEl =\n",
              "          document.querySelector('#df-f8198ef3-2b99-4a54-918f-0ffae7700e11 button.colab-df-convert');\n",
              "        buttonEl.style.display =\n",
              "          google.colab.kernel.accessAllowed ? 'block' : 'none';\n",
              "\n",
              "        async function convertToInteractive(key) {\n",
              "          const element = document.querySelector('#df-f8198ef3-2b99-4a54-918f-0ffae7700e11');\n",
              "          const dataTable =\n",
              "            await google.colab.kernel.invokeFunction('convertToInteractive',\n",
              "                                                     [key], {});\n",
              "          if (!dataTable) return;\n",
              "\n",
              "          const docLinkHtml = 'Like what you see? Visit the ' +\n",
              "            '<a target=\"_blank\" href=https://colab.research.google.com/notebooks/data_table.ipynb>data table notebook</a>'\n",
              "            + ' to learn more about interactive tables.';\n",
              "          element.innerHTML = '';\n",
              "          dataTable['output_type'] = 'display_data';\n",
              "          await google.colab.output.renderOutput(dataTable, element);\n",
              "          const docLink = document.createElement('div');\n",
              "          docLink.innerHTML = docLinkHtml;\n",
              "          element.appendChild(docLink);\n",
              "        }\n",
              "      </script>\n",
              "    </div>\n",
              "  </div>\n",
              "  "
            ],
            "text/plain": [
              "             0\n",
              "0     1.599198\n",
              "1     1.021598\n",
              "2     0.718875\n",
              "3     1.012547\n",
              "4     1.006295\n",
              "...        ...\n",
              "7889  1.140511\n",
              "7890  1.638066\n",
              "7891  1.580825\n",
              "7892  1.254299\n",
              "7893  1.132579\n",
              "\n",
              "[7894 rows x 1 columns]"
            ]
          },
          "metadata": {},
          "execution_count": 340
        }
      ]
    },
    {
      "cell_type": "markdown",
      "metadata": {
        "id": "da302b50"
      },
      "source": [
        "### Ploting Volatility Observed, predicted Volatility using Random Forest"
      ],
      "id": "da302b50"
    },
    {
      "cell_type": "code",
      "metadata": {
        "colab": {
          "base_uri": "https://localhost:8080/",
          "height": 395
        },
        "id": "df7c21ad",
        "outputId": "f9f85700-ae41-49be-f425-36070009fa94"
      },
      "source": [
        "# Visualising the results\n",
        "plt.figure(figsize=(16,6))\n",
        "plt.plot(df.iloc[10:, 9:10].values, color = 'red', label = 'Volatility Observed')\n",
        "plt.plot(predicted_vol_rand, color = 'green', label = 'predicted Volatility')\n",
        "plt.title('Volatility  vs predicted Volatility using Random Forest ')\n",
        "plt.xlabel('Duration')\n",
        "plt.ylabel('Volatility')\n",
        "plt.legend()\n",
        "plt.show()"
      ],
      "id": "df7c21ad",
      "execution_count": 341,
      "outputs": [
        {
          "output_type": "display_data",
          "data": {
            "image/png": "[encoded data removed]",
            "text/plain": [
              "<Figure size 1152x432 with 1 Axes>"
            ]
          },
          "metadata": {
            "needs_background": "light"
          }
        }
      ]
    },
    {
      "cell_type": "markdown",
      "metadata": {
        "id": "01ce6315"
      },
      "source": [
        "### Calculating RMSE value for Random Forest Model"
      ],
      "id": "01ce6315"
    },
    {
      "cell_type": "code",
      "metadata": {
        "colab": {
          "base_uri": "https://localhost:8080/"
        },
        "id": "31fa21ce",
        "outputId": "bb97c80a-7774-4faf-fa3f-3549e899ead3"
      },
      "source": [
        "print('RMSE calculated for Random Forest:', np.sqrt(metrics.mean_squared_error(df.iloc[10:, 9:10].values, predicted_vol_rand)))"
      ],
      "id": "31fa21ce",
      "execution_count": 342,
      "outputs": [
        {
          "output_type": "stream",
          "name": "stdout",
          "text": [
            "RMSE calculated for Random Forest: 0.09430795451758997\n"
          ]
        }
      ]
    },
    {
      "cell_type": "code",
      "source": [
        "print('MAE calculated for  Random Forest:',MAE(df.iloc[10:, 9:10].values, predicted_vol_rand))"
      ],
      "metadata": {
        "colab": {
          "base_uri": "https://localhost:8080/"
        },
        "id": "eE7rQrJncez0",
        "outputId": "a028d906-a3dc-429a-8517-f50c9311e884"
      },
      "id": "eE7rQrJncez0",
      "execution_count": 343,
      "outputs": [
        {
          "output_type": "stream",
          "name": "stdout",
          "text": [
            "MAE calculated for  Random Forest: 0.05673429506632632\n"
          ]
        }
      ]
    },
    {
      "cell_type": "code",
      "source": [
        "print('MAPE calculated for Random Forest:',mean_absolute_percentage_error(y_rbf,  predicted_vol_rand))"
      ],
      "metadata": {
        "colab": {
          "base_uri": "https://localhost:8080/"
        },
        "id": "Beq8D7IvLWcE",
        "outputId": "ac91a7b1-9529-4bb9-d3fc-245fbee21dd7"
      },
      "id": "Beq8D7IvLWcE",
      "execution_count": 344,
      "outputs": [
        {
          "output_type": "stream",
          "name": "stdout",
          "text": [
            "MAPE calculated for Random Forest: 0.10553549849857646\n"
          ]
        }
      ]
    }
  ]
}