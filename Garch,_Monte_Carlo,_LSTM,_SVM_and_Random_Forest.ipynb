{
  "nbformat": 4,
  "nbformat_minor": 0,
  "metadata": {
    "colab": {
      "name": "Garch,_Monte_Carlo,_LSTM,_SVM_and_Random_Forest_(1)[1].ipynb",
      "provenance": [],
      "collapsed_sections": [],
      "include_colab_link": true
    },
    "kernelspec": {
      "name": "python3",
      "display_name": "Python 3"
    },
    "language_info": {
      "name": "python"
    }
  },
  "cells": [
    {
      "cell_type": "markdown",
      "metadata": {
        "id": "view-in-github",
        "colab_type": "text"
      },
      "source": [
        "<a href=\"https://colab.research.google.com/github/w1767/MSc-project/blob/main/Garch%2C_Monte_Carlo%2C_LSTM%2C_SVM_and_Random_Forest.ipynb\" target=\"_parent\"><img src=\"https://colab.research.google.com/assets/colab-badge.svg\" alt=\"Open In Colab\"/></a>"
      ]
    },
    {
      "cell_type": "code",
      "execution_count": 1,
      "metadata": {
        "colab": {
          "base_uri": "https://localhost:8080/",
          "height": 440
        },
        "id": "BG-d69Kxah8W",
        "outputId": "c5761fb1-f6c5-47c6-8bb6-17200f4b387e"
      },
      "outputs": [
        {
          "output_type": "stream",
          "name": "stdout",
          "text": [
            "Collecting matplotlib==3.1.3\n",
            "  Downloading matplotlib-3.1.3-cp37-cp37m-manylinux1_x86_64.whl (13.1 MB)\n",
            "\u001b[K     |████████████████████████████████| 13.1 MB 4.6 MB/s \n",
            "\u001b[?25hRequirement already satisfied: pyparsing!=2.0.4,!=2.1.2,!=2.1.6,>=2.0.1 in /usr/local/lib/python3.7/dist-packages (from matplotlib==3.1.3) (3.0.7)\n",
            "Requirement already satisfied: cycler>=0.10 in /usr/local/lib/python3.7/dist-packages (from matplotlib==3.1.3) (0.11.0)\n",
            "Requirement already satisfied: kiwisolver>=1.0.1 in /usr/local/lib/python3.7/dist-packages (from matplotlib==3.1.3) (1.3.2)\n",
            "Requirement already satisfied: python-dateutil>=2.1 in /usr/local/lib/python3.7/dist-packages (from matplotlib==3.1.3) (2.8.2)\n",
            "Requirement already satisfied: numpy>=1.11 in /usr/local/lib/python3.7/dist-packages (from matplotlib==3.1.3) (1.19.5)\n",
            "Requirement already satisfied: six>=1.5 in /usr/local/lib/python3.7/dist-packages (from python-dateutil>=2.1->matplotlib==3.1.3) (1.15.0)\n",
            "Installing collected packages: matplotlib\n",
            "  Attempting uninstall: matplotlib\n",
            "    Found existing installation: matplotlib 3.2.2\n",
            "    Uninstalling matplotlib-3.2.2:\n",
            "      Successfully uninstalled matplotlib-3.2.2\n",
            "\u001b[31mERROR: pip's dependency resolver does not currently take into account all the packages that are installed. This behaviour is the source of the following dependency conflicts.\n",
            "albumentations 0.1.12 requires imgaug<0.2.7,>=0.2.5, but you have imgaug 0.2.9 which is incompatible.\u001b[0m\n",
            "Successfully installed matplotlib-3.1.3\n"
          ]
        },
        {
          "output_type": "display_data",
          "data": {
            "application/vnd.colab-display-data+json": {
              "pip_warning": {
                "packages": [
                  "matplotlib",
                  "mpl_toolkits"
                ]
              }
            }
          },
          "metadata": {}
        }
      ],
      "source": [
        "!pip install matplotlib==3.1.3"
      ]
    },
    {
      "cell_type": "code",
      "source": [
        "%%HTML\n",
        "<style type=\"text/css\">\n",
        "table.dataframe td, table.dataframe th {\n",
        "    border: 1px black solid !important;\n",
        "    color: black !important;\n",
        "}\n",
        "</style>"
      ],
      "metadata": {
        "colab": {
          "base_uri": "https://localhost:8080/",
          "height": 16
        },
        "id": "j577KjJPh7OS",
        "outputId": "bb8657d3-b951-429b-821e-f9f6b4d811ec"
      },
      "execution_count": 2,
      "outputs": [
        {
          "output_type": "display_data",
          "data": {
            "text/html": [
              "<style type=\"text/css\">\n",
              "table.dataframe td, table.dataframe th {\n",
              "    border: 1px black solid !important;\n",
              "    color: black !important;\n",
              "}\n",
              "</style>"
            ],
            "text/plain": [
              "<IPython.core.display.HTML object>"
            ]
          },
          "metadata": {}
        }
      ]
    },
    {
      "cell_type": "code",
      "source": [
        "!pip install arch\n",
        "!pip install tensor\n",
        "!pip install tensorflow\n",
        "!pip install statsmodels\n",
        "!pip install keras\n",
        "!pip install sklearn\n",
        "import tensorflow\n",
        "import keras\n",
        "import sklearn\n",
        "from pathlib import Path\n",
        "from datetime import datetime, timedelta\n",
        "import datetime as dt\n",
        "import pandas as pd\n",
        "import matplotlib.pyplot as plt\n",
        "%matplotlib inline\n",
        "from matplotlib import style\n",
        "from arch import arch_model\n",
        "from sklearn.svm import SVR\n",
        "from sklearn.model_selection import GridSearchCV\n",
        "from sklearn import metrics\n",
        "from statsmodels.graphics.tsaplots import plot_acf, plot_pacf\n",
        "import numpy as np\n",
        "import os\n",
        "import glob\n",
        "import csv\n",
        "from statsmodels.tsa.stattools import adfuller\n",
        "import warnings\n",
        "warnings.filterwarnings(\"ignore\")\n",
        "from keras.models import Sequential\n",
        "from keras.layers import Dense\n",
        "from keras.layers import LSTM\n",
        "from keras.layers import Dropout\n",
        "from sklearn.ensemble import RandomForestRegressor\n",
        "from keras.wrappers.scikit_learn import KerasRegressor\n",
        "from keras.models import load_model\n",
        "from sklearn import metrics\n",
        "from sklearn.metrics import mean_absolute_error as MAE\n",
        "from sklearn.metrics import mean_absolute_percentage_error"
      ],
      "metadata": {
        "colab": {
          "base_uri": "https://localhost:8080/"
        },
        "id": "VDydbYYvl2E8",
        "outputId": "1e99728a-603b-4a01-822d-f00d5acdb567"
      },
      "execution_count": 3,
      "outputs": [
        {
          "output_type": "stream",
          "name": "stdout",
          "text": [
            "Collecting arch\n",
            "  Downloading arch-5.1.0-cp37-cp37m-manylinux_2_17_x86_64.manylinux2014_x86_64.whl (902 kB)\n",
            "\u001b[?25l\r\u001b[K     |▍                               | 10 kB 17.6 MB/s eta 0:00:01\r\u001b[K     |▊                               | 20 kB 20.7 MB/s eta 0:00:01\r\u001b[K     |█                               | 30 kB 23.6 MB/s eta 0:00:01\r\u001b[K     |█▌                              | 40 kB 25.3 MB/s eta 0:00:01\r\u001b[K     |█▉                              | 51 kB 10.7 MB/s eta 0:00:01\r\u001b[K     |██▏                             | 61 kB 7.7 MB/s eta 0:00:01\r\u001b[K     |██▌                             | 71 kB 5.8 MB/s eta 0:00:01\r\u001b[K     |███                             | 81 kB 6.5 MB/s eta 0:00:01\r\u001b[K     |███▎                            | 92 kB 6.5 MB/s eta 0:00:01\r\u001b[K     |███▋                            | 102 kB 6.9 MB/s eta 0:00:01\r\u001b[K     |████                            | 112 kB 6.9 MB/s eta 0:00:01\r\u001b[K     |████▍                           | 122 kB 6.9 MB/s eta 0:00:01\r\u001b[K     |████▊                           | 133 kB 6.9 MB/s eta 0:00:01\r\u001b[K     |█████                           | 143 kB 6.9 MB/s eta 0:00:01\r\u001b[K     |█████▌                          | 153 kB 6.9 MB/s eta 0:00:01\r\u001b[K     |█████▉                          | 163 kB 6.9 MB/s eta 0:00:01\r\u001b[K     |██████▏                         | 174 kB 6.9 MB/s eta 0:00:01\r\u001b[K     |██████▌                         | 184 kB 6.9 MB/s eta 0:00:01\r\u001b[K     |███████                         | 194 kB 6.9 MB/s eta 0:00:01\r\u001b[K     |███████▎                        | 204 kB 6.9 MB/s eta 0:00:01\r\u001b[K     |███████▋                        | 215 kB 6.9 MB/s eta 0:00:01\r\u001b[K     |████████                        | 225 kB 6.9 MB/s eta 0:00:01\r\u001b[K     |████████▍                       | 235 kB 6.9 MB/s eta 0:00:01\r\u001b[K     |████████▊                       | 245 kB 6.9 MB/s eta 0:00:01\r\u001b[K     |█████████                       | 256 kB 6.9 MB/s eta 0:00:01\r\u001b[K     |█████████▍                      | 266 kB 6.9 MB/s eta 0:00:01\r\u001b[K     |█████████▉                      | 276 kB 6.9 MB/s eta 0:00:01\r\u001b[K     |██████████▏                     | 286 kB 6.9 MB/s eta 0:00:01\r\u001b[K     |██████████▌                     | 296 kB 6.9 MB/s eta 0:00:01\r\u001b[K     |███████████                     | 307 kB 6.9 MB/s eta 0:00:01\r\u001b[K     |███████████▎                    | 317 kB 6.9 MB/s eta 0:00:01\r\u001b[K     |███████████▋                    | 327 kB 6.9 MB/s eta 0:00:01\r\u001b[K     |████████████                    | 337 kB 6.9 MB/s eta 0:00:01\r\u001b[K     |████████████▍                   | 348 kB 6.9 MB/s eta 0:00:01\r\u001b[K     |████████████▊                   | 358 kB 6.9 MB/s eta 0:00:01\r\u001b[K     |█████████████                   | 368 kB 6.9 MB/s eta 0:00:01\r\u001b[K     |█████████████▍                  | 378 kB 6.9 MB/s eta 0:00:01\r\u001b[K     |█████████████▉                  | 389 kB 6.9 MB/s eta 0:00:01\r\u001b[K     |██████████████▏                 | 399 kB 6.9 MB/s eta 0:00:01\r\u001b[K     |██████████████▌                 | 409 kB 6.9 MB/s eta 0:00:01\r\u001b[K     |██████████████▉                 | 419 kB 6.9 MB/s eta 0:00:01\r\u001b[K     |███████████████▎                | 430 kB 6.9 MB/s eta 0:00:01\r\u001b[K     |███████████████▋                | 440 kB 6.9 MB/s eta 0:00:01\r\u001b[K     |████████████████                | 450 kB 6.9 MB/s eta 0:00:01\r\u001b[K     |████████████████▍               | 460 kB 6.9 MB/s eta 0:00:01\r\u001b[K     |████████████████▊               | 471 kB 6.9 MB/s eta 0:00:01\r\u001b[K     |█████████████████               | 481 kB 6.9 MB/s eta 0:00:01\r\u001b[K     |█████████████████▍              | 491 kB 6.9 MB/s eta 0:00:01\r\u001b[K     |█████████████████▉              | 501 kB 6.9 MB/s eta 0:00:01\r\u001b[K     |██████████████████▏             | 512 kB 6.9 MB/s eta 0:00:01\r\u001b[K     |██████████████████▌             | 522 kB 6.9 MB/s eta 0:00:01\r\u001b[K     |██████████████████▉             | 532 kB 6.9 MB/s eta 0:00:01\r\u001b[K     |███████████████████▎            | 542 kB 6.9 MB/s eta 0:00:01\r\u001b[K     |███████████████████▋            | 552 kB 6.9 MB/s eta 0:00:01\r\u001b[K     |████████████████████            | 563 kB 6.9 MB/s eta 0:00:01\r\u001b[K     |████████████████████▎           | 573 kB 6.9 MB/s eta 0:00:01\r\u001b[K     |████████████████████▊           | 583 kB 6.9 MB/s eta 0:00:01\r\u001b[K     |█████████████████████           | 593 kB 6.9 MB/s eta 0:00:01\r\u001b[K     |█████████████████████▍          | 604 kB 6.9 MB/s eta 0:00:01\r\u001b[K     |█████████████████████▉          | 614 kB 6.9 MB/s eta 0:00:01\r\u001b[K     |██████████████████████▏         | 624 kB 6.9 MB/s eta 0:00:01\r\u001b[K     |██████████████████████▌         | 634 kB 6.9 MB/s eta 0:00:01\r\u001b[K     |██████████████████████▉         | 645 kB 6.9 MB/s eta 0:00:01\r\u001b[K     |███████████████████████▎        | 655 kB 6.9 MB/s eta 0:00:01\r\u001b[K     |███████████████████████▋        | 665 kB 6.9 MB/s eta 0:00:01\r\u001b[K     |████████████████████████        | 675 kB 6.9 MB/s eta 0:00:01\r\u001b[K     |████████████████████████▎       | 686 kB 6.9 MB/s eta 0:00:01\r\u001b[K     |████████████████████████▊       | 696 kB 6.9 MB/s eta 0:00:01\r\u001b[K     |█████████████████████████       | 706 kB 6.9 MB/s eta 0:00:01\r\u001b[K     |█████████████████████████▍      | 716 kB 6.9 MB/s eta 0:00:01\r\u001b[K     |█████████████████████████▉      | 727 kB 6.9 MB/s eta 0:00:01\r\u001b[K     |██████████████████████████▏     | 737 kB 6.9 MB/s eta 0:00:01\r\u001b[K     |██████████████████████████▌     | 747 kB 6.9 MB/s eta 0:00:01\r\u001b[K     |██████████████████████████▉     | 757 kB 6.9 MB/s eta 0:00:01\r\u001b[K     |███████████████████████████▎    | 768 kB 6.9 MB/s eta 0:00:01\r\u001b[K     |███████████████████████████▋    | 778 kB 6.9 MB/s eta 0:00:01\r\u001b[K     |████████████████████████████    | 788 kB 6.9 MB/s eta 0:00:01\r\u001b[K     |████████████████████████████▎   | 798 kB 6.9 MB/s eta 0:00:01\r\u001b[K     |████████████████████████████▊   | 808 kB 6.9 MB/s eta 0:00:01\r\u001b[K     |█████████████████████████████   | 819 kB 6.9 MB/s eta 0:00:01\r\u001b[K     |█████████████████████████████▍  | 829 kB 6.9 MB/s eta 0:00:01\r\u001b[K     |█████████████████████████████▊  | 839 kB 6.9 MB/s eta 0:00:01\r\u001b[K     |██████████████████████████████▏ | 849 kB 6.9 MB/s eta 0:00:01\r\u001b[K     |██████████████████████████████▌ | 860 kB 6.9 MB/s eta 0:00:01\r\u001b[K     |██████████████████████████████▉ | 870 kB 6.9 MB/s eta 0:00:01\r\u001b[K     |███████████████████████████████▎| 880 kB 6.9 MB/s eta 0:00:01\r\u001b[K     |███████████████████████████████▋| 890 kB 6.9 MB/s eta 0:00:01\r\u001b[K     |████████████████████████████████| 901 kB 6.9 MB/s eta 0:00:01\r\u001b[K     |████████████████████████████████| 902 kB 6.9 MB/s \n",
            "\u001b[?25hRequirement already satisfied: scipy>=1.3 in /usr/local/lib/python3.7/dist-packages (from arch) (1.4.1)\n",
            "Collecting statsmodels>=0.11\n",
            "  Downloading statsmodels-0.13.1-cp37-cp37m-manylinux_2_17_x86_64.manylinux2014_x86_64.whl (9.8 MB)\n",
            "\u001b[K     |████████████████████████████████| 9.8 MB 42.4 MB/s \n",
            "\u001b[?25hCollecting property-cached>=1.6.4\n",
            "  Downloading property_cached-1.6.4-py2.py3-none-any.whl (7.8 kB)\n",
            "Requirement already satisfied: pandas>=1.0 in /usr/local/lib/python3.7/dist-packages (from arch) (1.3.5)\n",
            "Requirement already satisfied: numpy>=1.17 in /usr/local/lib/python3.7/dist-packages (from arch) (1.19.5)\n",
            "Requirement already satisfied: pytz>=2017.3 in /usr/local/lib/python3.7/dist-packages (from pandas>=1.0->arch) (2018.9)\n",
            "Requirement already satisfied: python-dateutil>=2.7.3 in /usr/local/lib/python3.7/dist-packages (from pandas>=1.0->arch) (2.8.2)\n",
            "Requirement already satisfied: six>=1.5 in /usr/local/lib/python3.7/dist-packages (from python-dateutil>=2.7.3->pandas>=1.0->arch) (1.15.0)\n",
            "Requirement already satisfied: patsy>=0.5.2 in /usr/local/lib/python3.7/dist-packages (from statsmodels>=0.11->arch) (0.5.2)\n",
            "Installing collected packages: statsmodels, property-cached, arch\n",
            "  Attempting uninstall: statsmodels\n",
            "    Found existing installation: statsmodels 0.10.2\n",
            "    Uninstalling statsmodels-0.10.2:\n",
            "      Successfully uninstalled statsmodels-0.10.2\n",
            "Successfully installed arch-5.1.0 property-cached-1.6.4 statsmodels-0.13.1\n",
            "Collecting tensor\n",
            "  Downloading tensor-0.3.6.tar.gz (50 kB)\n",
            "\u001b[K     |████████████████████████████████| 50 kB 2.6 MB/s \n",
            "\u001b[?25hCollecting Twisted\n",
            "  Downloading Twisted-22.1.0-py3-none-any.whl (3.1 MB)\n",
            "\u001b[K     |████████████████████████████████| 3.1 MB 10.8 MB/s \n",
            "\u001b[?25hRequirement already satisfied: PyYaml in /usr/local/lib/python3.7/dist-packages (from tensor) (3.13)\n",
            "Requirement already satisfied: protobuf in /usr/local/lib/python3.7/dist-packages (from tensor) (3.17.3)\n",
            "Collecting construct\n",
            "  Downloading construct-2.10.67.tar.gz (57 kB)\n",
            "\u001b[K     |████████████████████████████████| 57 kB 4.4 MB/s \n",
            "\u001b[?25hCollecting pysnmp\n",
            "  Downloading pysnmp-4.4.12-py2.py3-none-any.whl (296 kB)\n",
            "\u001b[K     |████████████████████████████████| 296 kB 35.6 MB/s \n",
            "\u001b[?25hRequirement already satisfied: six>=1.9 in /usr/local/lib/python3.7/dist-packages (from protobuf->tensor) (1.15.0)\n",
            "Collecting pycryptodomex\n",
            "  Downloading pycryptodomex-3.14.1-cp35-abi3-manylinux2010_x86_64.whl (2.0 MB)\n",
            "\u001b[K     |████████████████████████████████| 2.0 MB 36.1 MB/s \n",
            "\u001b[?25hRequirement already satisfied: pyasn1>=0.2.3 in /usr/local/lib/python3.7/dist-packages (from pysnmp->tensor) (0.4.8)\n",
            "Collecting pysmi\n",
            "  Downloading pysmi-0.3.4-py2.py3-none-any.whl (80 kB)\n",
            "\u001b[K     |████████████████████████████████| 80 kB 7.3 MB/s \n",
            "\u001b[?25hCollecting ply\n",
            "  Downloading ply-3.11-py2.py3-none-any.whl (49 kB)\n",
            "\u001b[K     |████████████████████████████████| 49 kB 5.0 MB/s \n",
            "\u001b[?25hCollecting constantly>=15.1\n",
            "  Downloading constantly-15.1.0-py2.py3-none-any.whl (7.9 kB)\n",
            "Collecting hyperlink>=17.1.1\n",
            "  Downloading hyperlink-21.0.0-py2.py3-none-any.whl (74 kB)\n",
            "\u001b[K     |████████████████████████████████| 74 kB 3.0 MB/s \n",
            "\u001b[?25hCollecting incremental>=21.3.0\n",
            "  Downloading incremental-21.3.0-py2.py3-none-any.whl (15 kB)\n",
            "Collecting Automat>=0.8.0\n",
            "  Downloading Automat-20.2.0-py2.py3-none-any.whl (31 kB)\n",
            "Requirement already satisfied: attrs>=19.2.0 in /usr/local/lib/python3.7/dist-packages (from Twisted->tensor) (21.4.0)\n",
            "Requirement already satisfied: typing-extensions>=3.6.5 in /usr/local/lib/python3.7/dist-packages (from Twisted->tensor) (3.10.0.2)\n",
            "Collecting zope.interface>=4.4.2\n",
            "  Downloading zope.interface-5.4.0-cp37-cp37m-manylinux2010_x86_64.whl (251 kB)\n",
            "\u001b[K     |████████████████████████████████| 251 kB 35.1 MB/s \n",
            "\u001b[?25hRequirement already satisfied: idna>=2.5 in /usr/local/lib/python3.7/dist-packages (from hyperlink>=17.1.1->Twisted->tensor) (2.10)\n",
            "Requirement already satisfied: setuptools in /usr/local/lib/python3.7/dist-packages (from zope.interface>=4.4.2->Twisted->tensor) (57.4.0)\n",
            "Building wheels for collected packages: tensor, construct\n",
            "  Building wheel for tensor (setup.py) ... \u001b[?25l\u001b[?25hdone\n",
            "  Created wheel for tensor: filename=tensor-0.3.6-py3-none-any.whl size=71568 sha256=dba3ec0c9f9d7b78d61391267734ee3ecfbc701129ecd79d94eac95c821b4123\n",
            "  Stored in directory: /root/.cache/pip/wheels/66/49/9d/4c43e89065768fec7ab631d87d9ac21d619b6b0b3d45de1714\n",
            "  Building wheel for construct (setup.py) ... \u001b[?25l\u001b[?25hdone\n",
            "  Created wheel for construct: filename=construct-2.10.67-py3-none-any.whl size=59053 sha256=f8c2403e99f13eb6f7b3477c6ee49e0d810a49dca661a2de9786770805c2db9f\n",
            "  Stored in directory: /root/.cache/pip/wheels/d1/06/5d/727e9a49d1f306661bbaa5b1b9aa91a8207e53e4c5e5b7f361\n",
            "Successfully built tensor construct\n",
            "Installing collected packages: ply, zope.interface, pysmi, pycryptodomex, incremental, hyperlink, constantly, Automat, Twisted, pysnmp, construct, tensor\n",
            "Successfully installed Automat-20.2.0 Twisted-22.1.0 constantly-15.1.0 construct-2.10.67 hyperlink-21.0.0 incremental-21.3.0 ply-3.11 pycryptodomex-3.14.1 pysmi-0.3.4 pysnmp-4.4.12 tensor-0.3.6 zope.interface-5.4.0\n",
            "Requirement already satisfied: tensorflow in /usr/local/lib/python3.7/dist-packages (2.7.0)\n",
            "Requirement already satisfied: protobuf>=3.9.2 in /usr/local/lib/python3.7/dist-packages (from tensorflow) (3.17.3)\n",
            "Requirement already satisfied: wheel<1.0,>=0.32.0 in /usr/local/lib/python3.7/dist-packages (from tensorflow) (0.37.1)\n",
            "Requirement already satisfied: keras<2.8,>=2.7.0rc0 in /usr/local/lib/python3.7/dist-packages (from tensorflow) (2.7.0)\n",
            "Requirement already satisfied: libclang>=9.0.1 in /usr/local/lib/python3.7/dist-packages (from tensorflow) (13.0.0)\n",
            "Requirement already satisfied: opt-einsum>=2.3.2 in /usr/local/lib/python3.7/dist-packages (from tensorflow) (3.3.0)\n",
            "Requirement already satisfied: keras-preprocessing>=1.1.1 in /usr/local/lib/python3.7/dist-packages (from tensorflow) (1.1.2)\n",
            "Requirement already satisfied: absl-py>=0.4.0 in /usr/local/lib/python3.7/dist-packages (from tensorflow) (1.0.0)\n",
            "Requirement already satisfied: gast<0.5.0,>=0.2.1 in /usr/local/lib/python3.7/dist-packages (from tensorflow) (0.4.0)\n",
            "Requirement already satisfied: flatbuffers<3.0,>=1.12 in /usr/local/lib/python3.7/dist-packages (from tensorflow) (2.0)\n",
            "Requirement already satisfied: tensorflow-io-gcs-filesystem>=0.21.0 in /usr/local/lib/python3.7/dist-packages (from tensorflow) (0.23.1)\n",
            "Requirement already satisfied: tensorflow-estimator<2.8,~=2.7.0rc0 in /usr/local/lib/python3.7/dist-packages (from tensorflow) (2.7.0)\n",
            "Requirement already satisfied: typing-extensions>=3.6.6 in /usr/local/lib/python3.7/dist-packages (from tensorflow) (3.10.0.2)\n",
            "Requirement already satisfied: tensorboard~=2.6 in /usr/local/lib/python3.7/dist-packages (from tensorflow) (2.7.0)\n",
            "Requirement already satisfied: numpy>=1.14.5 in /usr/local/lib/python3.7/dist-packages (from tensorflow) (1.19.5)\n",
            "Requirement already satisfied: google-pasta>=0.1.1 in /usr/local/lib/python3.7/dist-packages (from tensorflow) (0.2.0)\n",
            "Requirement already satisfied: six>=1.12.0 in /usr/local/lib/python3.7/dist-packages (from tensorflow) (1.15.0)\n",
            "Requirement already satisfied: termcolor>=1.1.0 in /usr/local/lib/python3.7/dist-packages (from tensorflow) (1.1.0)\n",
            "Requirement already satisfied: h5py>=2.9.0 in /usr/local/lib/python3.7/dist-packages (from tensorflow) (3.1.0)\n",
            "Requirement already satisfied: astunparse>=1.6.0 in /usr/local/lib/python3.7/dist-packages (from tensorflow) (1.6.3)\n",
            "Requirement already satisfied: wrapt>=1.11.0 in /usr/local/lib/python3.7/dist-packages (from tensorflow) (1.13.3)\n",
            "Requirement already satisfied: grpcio<2.0,>=1.24.3 in /usr/local/lib/python3.7/dist-packages (from tensorflow) (1.43.0)\n",
            "Requirement already satisfied: cached-property in /usr/local/lib/python3.7/dist-packages (from h5py>=2.9.0->tensorflow) (1.5.2)\n",
            "Requirement already satisfied: google-auth<3,>=1.6.3 in /usr/local/lib/python3.7/dist-packages (from tensorboard~=2.6->tensorflow) (1.35.0)\n",
            "Requirement already satisfied: google-auth-oauthlib<0.5,>=0.4.1 in /usr/local/lib/python3.7/dist-packages (from tensorboard~=2.6->tensorflow) (0.4.6)\n",
            "Requirement already satisfied: requests<3,>=2.21.0 in /usr/local/lib/python3.7/dist-packages (from tensorboard~=2.6->tensorflow) (2.23.0)\n",
            "Requirement already satisfied: markdown>=2.6.8 in /usr/local/lib/python3.7/dist-packages (from tensorboard~=2.6->tensorflow) (3.3.6)\n",
            "Requirement already satisfied: tensorboard-data-server<0.7.0,>=0.6.0 in /usr/local/lib/python3.7/dist-packages (from tensorboard~=2.6->tensorflow) (0.6.1)\n",
            "Requirement already satisfied: tensorboard-plugin-wit>=1.6.0 in /usr/local/lib/python3.7/dist-packages (from tensorboard~=2.6->tensorflow) (1.8.1)\n",
            "Requirement already satisfied: werkzeug>=0.11.15 in /usr/local/lib/python3.7/dist-packages (from tensorboard~=2.6->tensorflow) (1.0.1)\n",
            "Requirement already satisfied: setuptools>=41.0.0 in /usr/local/lib/python3.7/dist-packages (from tensorboard~=2.6->tensorflow) (57.4.0)\n",
            "Requirement already satisfied: pyasn1-modules>=0.2.1 in /usr/local/lib/python3.7/dist-packages (from google-auth<3,>=1.6.3->tensorboard~=2.6->tensorflow) (0.2.8)\n",
            "Requirement already satisfied: rsa<5,>=3.1.4 in /usr/local/lib/python3.7/dist-packages (from google-auth<3,>=1.6.3->tensorboard~=2.6->tensorflow) (4.8)\n",
            "Requirement already satisfied: cachetools<5.0,>=2.0.0 in /usr/local/lib/python3.7/dist-packages (from google-auth<3,>=1.6.3->tensorboard~=2.6->tensorflow) (4.2.4)\n",
            "Requirement already satisfied: requests-oauthlib>=0.7.0 in /usr/local/lib/python3.7/dist-packages (from google-auth-oauthlib<0.5,>=0.4.1->tensorboard~=2.6->tensorflow) (1.3.1)\n",
            "Requirement already satisfied: importlib-metadata>=4.4 in /usr/local/lib/python3.7/dist-packages (from markdown>=2.6.8->tensorboard~=2.6->tensorflow) (4.10.1)\n",
            "Requirement already satisfied: zipp>=0.5 in /usr/local/lib/python3.7/dist-packages (from importlib-metadata>=4.4->markdown>=2.6.8->tensorboard~=2.6->tensorflow) (3.7.0)\n",
            "Requirement already satisfied: pyasn1<0.5.0,>=0.4.6 in /usr/local/lib/python3.7/dist-packages (from pyasn1-modules>=0.2.1->google-auth<3,>=1.6.3->tensorboard~=2.6->tensorflow) (0.4.8)\n",
            "Requirement already satisfied: certifi>=2017.4.17 in /usr/local/lib/python3.7/dist-packages (from requests<3,>=2.21.0->tensorboard~=2.6->tensorflow) (2021.10.8)\n",
            "Requirement already satisfied: urllib3!=1.25.0,!=1.25.1,<1.26,>=1.21.1 in /usr/local/lib/python3.7/dist-packages (from requests<3,>=2.21.0->tensorboard~=2.6->tensorflow) (1.24.3)\n",
            "Requirement already satisfied: idna<3,>=2.5 in /usr/local/lib/python3.7/dist-packages (from requests<3,>=2.21.0->tensorboard~=2.6->tensorflow) (2.10)\n",
            "Requirement already satisfied: chardet<4,>=3.0.2 in /usr/local/lib/python3.7/dist-packages (from requests<3,>=2.21.0->tensorboard~=2.6->tensorflow) (3.0.4)\n",
            "Requirement already satisfied: oauthlib>=3.0.0 in /usr/local/lib/python3.7/dist-packages (from requests-oauthlib>=0.7.0->google-auth-oauthlib<0.5,>=0.4.1->tensorboard~=2.6->tensorflow) (3.2.0)\n",
            "Requirement already satisfied: statsmodels in /usr/local/lib/python3.7/dist-packages (0.13.1)\n",
            "Requirement already satisfied: scipy>=1.3 in /usr/local/lib/python3.7/dist-packages (from statsmodels) (1.4.1)\n",
            "Requirement already satisfied: numpy>=1.17 in /usr/local/lib/python3.7/dist-packages (from statsmodels) (1.19.5)\n",
            "Requirement already satisfied: pandas>=0.25 in /usr/local/lib/python3.7/dist-packages (from statsmodels) (1.3.5)\n",
            "Requirement already satisfied: patsy>=0.5.2 in /usr/local/lib/python3.7/dist-packages (from statsmodels) (0.5.2)\n",
            "Requirement already satisfied: python-dateutil>=2.7.3 in /usr/local/lib/python3.7/dist-packages (from pandas>=0.25->statsmodels) (2.8.2)\n",
            "Requirement already satisfied: pytz>=2017.3 in /usr/local/lib/python3.7/dist-packages (from pandas>=0.25->statsmodels) (2018.9)\n",
            "Requirement already satisfied: six in /usr/local/lib/python3.7/dist-packages (from patsy>=0.5.2->statsmodels) (1.15.0)\n",
            "Requirement already satisfied: keras in /usr/local/lib/python3.7/dist-packages (2.7.0)\n",
            "Requirement already satisfied: sklearn in /usr/local/lib/python3.7/dist-packages (0.0)\n",
            "Requirement already satisfied: scikit-learn in /usr/local/lib/python3.7/dist-packages (from sklearn) (1.0.2)\n",
            "Requirement already satisfied: joblib>=0.11 in /usr/local/lib/python3.7/dist-packages (from scikit-learn->sklearn) (1.1.0)\n",
            "Requirement already satisfied: numpy>=1.14.6 in /usr/local/lib/python3.7/dist-packages (from scikit-learn->sklearn) (1.19.5)\n",
            "Requirement already satisfied: scipy>=1.1.0 in /usr/local/lib/python3.7/dist-packages (from scikit-learn->sklearn) (1.4.1)\n",
            "Requirement already satisfied: threadpoolctl>=2.0.0 in /usr/local/lib/python3.7/dist-packages (from scikit-learn->sklearn) (3.1.0)\n"
          ]
        }
      ]
    },
    {
      "cell_type": "code",
      "source": [
        "from google.colab import drive\n",
        "drive.mount('/content/drive')"
      ],
      "metadata": {
        "colab": {
          "base_uri": "https://localhost:8080/"
        },
        "id": "1Y9a6sJjrc6N",
        "outputId": "a00b1be8-c2d1-402c-e23d-a391c4f0cf3d"
      },
      "execution_count": 4,
      "outputs": [
        {
          "output_type": "stream",
          "name": "stdout",
          "text": [
            "Mounted at /content/drive\n"
          ]
        }
      ]
    },
    {
      "cell_type": "code",
      "source": [
        "path = \"/content/drive/MyDrive/Master thesis/Vix.csv\""
      ],
      "metadata": {
        "id": "FqsKm1kJr-_0"
      },
      "execution_count": 5,
      "outputs": []
    },
    {
      "cell_type": "code",
      "source": [
        "VI_db=pd.read_csv(\"/content/drive/MyDrive/Master thesis/VIX.csv\")"
      ],
      "metadata": {
        "id": "Cl-DtmR_sJ0c"
      },
      "execution_count": 6,
      "outputs": []
    },
    {
      "cell_type": "code",
      "source": [
        "VI_db"
      ],
      "metadata": {
        "colab": {
          "base_uri": "https://localhost:8080/",
          "height": 423
        },
        "id": "qg5aGjRisXcW",
        "outputId": "0f62f2de-dacf-483a-a751-e5ff070f96ef"
      },
      "execution_count": 7,
      "outputs": [
        {
          "output_type": "execute_result",
          "data": {
            "text/html": [
              "\n",
              "  <div id=\"df-9d3923ca-485b-4db2-b266-43383436bb4d\">\n",
              "    <div class=\"colab-df-container\">\n",
              "      <div>\n",
              "<style scoped>\n",
              "    .dataframe tbody tr th:only-of-type {\n",
              "        vertical-align: middle;\n",
              "    }\n",
              "\n",
              "    .dataframe tbody tr th {\n",
              "        vertical-align: top;\n",
              "    }\n",
              "\n",
              "    .dataframe thead th {\n",
              "        text-align: right;\n",
              "    }\n",
              "</style>\n",
              "<table border=\"1\" class=\"dataframe\">\n",
              "  <thead>\n",
              "    <tr style=\"text-align: right;\">\n",
              "      <th></th>\n",
              "      <th>Date</th>\n",
              "      <th>Open</th>\n",
              "      <th>High</th>\n",
              "      <th>Low</th>\n",
              "      <th>Close</th>\n",
              "      <th>Adj Close</th>\n",
              "      <th>Volume</th>\n",
              "    </tr>\n",
              "  </thead>\n",
              "  <tbody>\n",
              "    <tr>\n",
              "      <th>0</th>\n",
              "      <td>02/01/1990</td>\n",
              "      <td>17.240000</td>\n",
              "      <td>17.240000</td>\n",
              "      <td>17.240000</td>\n",
              "      <td>17.240000</td>\n",
              "      <td>17.240000</td>\n",
              "      <td>0</td>\n",
              "    </tr>\n",
              "    <tr>\n",
              "      <th>1</th>\n",
              "      <td>03/01/1990</td>\n",
              "      <td>18.190001</td>\n",
              "      <td>18.190001</td>\n",
              "      <td>18.190001</td>\n",
              "      <td>18.190001</td>\n",
              "      <td>18.190001</td>\n",
              "      <td>0</td>\n",
              "    </tr>\n",
              "    <tr>\n",
              "      <th>2</th>\n",
              "      <td>04/01/1990</td>\n",
              "      <td>19.219999</td>\n",
              "      <td>19.219999</td>\n",
              "      <td>19.219999</td>\n",
              "      <td>19.219999</td>\n",
              "      <td>19.219999</td>\n",
              "      <td>0</td>\n",
              "    </tr>\n",
              "    <tr>\n",
              "      <th>3</th>\n",
              "      <td>05/01/1990</td>\n",
              "      <td>20.110001</td>\n",
              "      <td>20.110001</td>\n",
              "      <td>20.110001</td>\n",
              "      <td>20.110001</td>\n",
              "      <td>20.110001</td>\n",
              "      <td>0</td>\n",
              "    </tr>\n",
              "    <tr>\n",
              "      <th>4</th>\n",
              "      <td>08/01/1990</td>\n",
              "      <td>20.260000</td>\n",
              "      <td>20.260000</td>\n",
              "      <td>20.260000</td>\n",
              "      <td>20.260000</td>\n",
              "      <td>20.260000</td>\n",
              "      <td>0</td>\n",
              "    </tr>\n",
              "    <tr>\n",
              "      <th>...</th>\n",
              "      <td>...</td>\n",
              "      <td>...</td>\n",
              "      <td>...</td>\n",
              "      <td>...</td>\n",
              "      <td>...</td>\n",
              "      <td>...</td>\n",
              "      <td>...</td>\n",
              "    </tr>\n",
              "    <tr>\n",
              "      <th>7929</th>\n",
              "      <td>22/06/2021</td>\n",
              "      <td>17.910000</td>\n",
              "      <td>18.320000</td>\n",
              "      <td>15.760000</td>\n",
              "      <td>16.660000</td>\n",
              "      <td>16.660000</td>\n",
              "      <td>0</td>\n",
              "    </tr>\n",
              "    <tr>\n",
              "      <th>7930</th>\n",
              "      <td>23/06/2021</td>\n",
              "      <td>16.250000</td>\n",
              "      <td>16.840000</td>\n",
              "      <td>14.860000</td>\n",
              "      <td>16.320000</td>\n",
              "      <td>16.320000</td>\n",
              "      <td>0</td>\n",
              "    </tr>\n",
              "    <tr>\n",
              "      <th>7931</th>\n",
              "      <td>24/06/2021</td>\n",
              "      <td>15.990000</td>\n",
              "      <td>16.049999</td>\n",
              "      <td>14.190000</td>\n",
              "      <td>15.970000</td>\n",
              "      <td>15.970000</td>\n",
              "      <td>0</td>\n",
              "    </tr>\n",
              "    <tr>\n",
              "      <th>7932</th>\n",
              "      <td>25/06/2021</td>\n",
              "      <td>16.040001</td>\n",
              "      <td>16.170000</td>\n",
              "      <td>15.210000</td>\n",
              "      <td>15.620000</td>\n",
              "      <td>15.620000</td>\n",
              "      <td>0</td>\n",
              "    </tr>\n",
              "    <tr>\n",
              "      <th>7933</th>\n",
              "      <td>28/06/2021</td>\n",
              "      <td>16.070000</td>\n",
              "      <td>16.459999</td>\n",
              "      <td>15.390000</td>\n",
              "      <td>15.760000</td>\n",
              "      <td>15.760000</td>\n",
              "      <td>0</td>\n",
              "    </tr>\n",
              "  </tbody>\n",
              "</table>\n",
              "<p>7934 rows × 7 columns</p>\n",
              "</div>\n",
              "      <button class=\"colab-df-convert\" onclick=\"convertToInteractive('df-9d3923ca-485b-4db2-b266-43383436bb4d')\"\n",
              "              title=\"Convert this dataframe to an interactive table.\"\n",
              "              style=\"display:none;\">\n",
              "        \n",
              "  <svg xmlns=\"http://www.w3.org/2000/svg\" height=\"24px\"viewBox=\"0 0 24 24\"\n",
              "       width=\"24px\">\n",
              "    <path d=\"M0 0h24v24H0V0z\" fill=\"none\"/>\n",
              "    <path d=\"M18.56 5.44l.94 2.06.94-2.06 2.06-.94-2.06-.94-.94-2.06-.94 2.06-2.06.94zm-11 1L8.5 8.5l.94-2.06 2.06-.94-2.06-.94L8.5 2.5l-.94 2.06-2.06.94zm10 10l.94 2.06.94-2.06 2.06-.94-2.06-.94-.94-2.06-.94 2.06-2.06.94z\"/><path d=\"M17.41 7.96l-1.37-1.37c-.4-.4-.92-.59-1.43-.59-.52 0-1.04.2-1.43.59L10.3 9.45l-7.72 7.72c-.78.78-.78 2.05 0 2.83L4 21.41c.39.39.9.59 1.41.59.51 0 1.02-.2 1.41-.59l7.78-7.78 2.81-2.81c.8-.78.8-2.07 0-2.86zM5.41 20L4 18.59l7.72-7.72 1.47 1.35L5.41 20z\"/>\n",
              "  </svg>\n",
              "      </button>\n",
              "      \n",
              "  <style>\n",
              "    .colab-df-container {\n",
              "      display:flex;\n",
              "      flex-wrap:wrap;\n",
              "      gap: 12px;\n",
              "    }\n",
              "\n",
              "    .colab-df-convert {\n",
              "      background-color: #E8F0FE;\n",
              "      border: none;\n",
              "      border-radius: 50%;\n",
              "      cursor: pointer;\n",
              "      display: none;\n",
              "      fill: #1967D2;\n",
              "      height: 32px;\n",
              "      padding: 0 0 0 0;\n",
              "      width: 32px;\n",
              "    }\n",
              "\n",
              "    .colab-df-convert:hover {\n",
              "      background-color: #E2EBFA;\n",
              "      box-shadow: 0px 1px 2px rgba(60, 64, 67, 0.3), 0px 1px 3px 1px rgba(60, 64, 67, 0.15);\n",
              "      fill: #174EA6;\n",
              "    }\n",
              "\n",
              "    [theme=dark] .colab-df-convert {\n",
              "      background-color: #3B4455;\n",
              "      fill: #D2E3FC;\n",
              "    }\n",
              "\n",
              "    [theme=dark] .colab-df-convert:hover {\n",
              "      background-color: #434B5C;\n",
              "      box-shadow: 0px 1px 3px 1px rgba(0, 0, 0, 0.15);\n",
              "      filter: drop-shadow(0px 1px 2px rgba(0, 0, 0, 0.3));\n",
              "      fill: #FFFFFF;\n",
              "    }\n",
              "  </style>\n",
              "\n",
              "      <script>\n",
              "        const buttonEl =\n",
              "          document.querySelector('#df-9d3923ca-485b-4db2-b266-43383436bb4d button.colab-df-convert');\n",
              "        buttonEl.style.display =\n",
              "          google.colab.kernel.accessAllowed ? 'block' : 'none';\n",
              "\n",
              "        async function convertToInteractive(key) {\n",
              "          const element = document.querySelector('#df-9d3923ca-485b-4db2-b266-43383436bb4d');\n",
              "          const dataTable =\n",
              "            await google.colab.kernel.invokeFunction('convertToInteractive',\n",
              "                                                     [key], {});\n",
              "          if (!dataTable) return;\n",
              "\n",
              "          const docLinkHtml = 'Like what you see? Visit the ' +\n",
              "            '<a target=\"_blank\" href=https://colab.research.google.com/notebooks/data_table.ipynb>data table notebook</a>'\n",
              "            + ' to learn more about interactive tables.';\n",
              "          element.innerHTML = '';\n",
              "          dataTable['output_type'] = 'display_data';\n",
              "          await google.colab.output.renderOutput(dataTable, element);\n",
              "          const docLink = document.createElement('div');\n",
              "          docLink.innerHTML = docLinkHtml;\n",
              "          element.appendChild(docLink);\n",
              "        }\n",
              "      </script>\n",
              "    </div>\n",
              "  </div>\n",
              "  "
            ],
            "text/plain": [
              "            Date       Open       High        Low      Close  Adj Close  Volume\n",
              "0     02/01/1990  17.240000  17.240000  17.240000  17.240000  17.240000       0\n",
              "1     03/01/1990  18.190001  18.190001  18.190001  18.190001  18.190001       0\n",
              "2     04/01/1990  19.219999  19.219999  19.219999  19.219999  19.219999       0\n",
              "3     05/01/1990  20.110001  20.110001  20.110001  20.110001  20.110001       0\n",
              "4     08/01/1990  20.260000  20.260000  20.260000  20.260000  20.260000       0\n",
              "...          ...        ...        ...        ...        ...        ...     ...\n",
              "7929  22/06/2021  17.910000  18.320000  15.760000  16.660000  16.660000       0\n",
              "7930  23/06/2021  16.250000  16.840000  14.860000  16.320000  16.320000       0\n",
              "7931  24/06/2021  15.990000  16.049999  14.190000  15.970000  15.970000       0\n",
              "7932  25/06/2021  16.040001  16.170000  15.210000  15.620000  15.620000       0\n",
              "7933  28/06/2021  16.070000  16.459999  15.390000  15.760000  15.760000       0\n",
              "\n",
              "[7934 rows x 7 columns]"
            ]
          },
          "metadata": {},
          "execution_count": 7
        }
      ]
    },
    {
      "cell_type": "code",
      "source": [
        "import seaborn as sns\n",
        "sns.heatmap(VI_db.isnull(), yticklabels=False, cmap=\"viridis\")"
      ],
      "metadata": {
        "colab": {
          "base_uri": "https://localhost:8080/",
          "height": 324
        },
        "id": "nXf2oMPmsbwD",
        "outputId": "52be5e13-0c10-4a6b-b5a1-b805d980b236"
      },
      "execution_count": 8,
      "outputs": [
        {
          "output_type": "execute_result",
          "data": {
            "text/plain": [
              "<matplotlib.axes._subplots.AxesSubplot at 0x7f34cb720250>"
            ]
          },
          "metadata": {},
          "execution_count": 8
        },
        {
          "output_type": "display_data",
          "data": {
            "image/png": "[encoded data removed]",
            "text/plain": [
              "<Figure size 432x288 with 2 Axes>"
            ]
          },
          "metadata": {
            "needs_background": "light"
          }
        }
      ]
    },
    {
      "cell_type": "code",
      "source": [
        "import numpy as np"
      ],
      "metadata": {
        "id": "n2zFes_eyMYx"
      },
      "execution_count": 9,
      "outputs": []
    },
    {
      "cell_type": "code",
      "source": [
        "#DATA TYPE FORMATTING OF THE REQUIRED FEATURES\n",
        "VI_db['Date'] = pd.to_datetime(VI_db['Date'])\n",
        "VI_db['log_price'] = np.log(VI_db['Close'])\n",
        "VI_db['pct_change'] = VI_db['log_price'].diff()\n",
        "VI_db['st_dev'] = VI_db['pct_change'].rolling(window=30, center=False).std()\n"
      ],
      "metadata": {
        "id": "j4pq0NOxsyoL"
      },
      "execution_count": 10,
      "outputs": []
    },
    {
      "cell_type": "code",
      "source": [
        "VI_db['Volatility'] = VI_db['st_dev']*(252**0.5)"
      ],
      "metadata": {
        "id": "f6uVQhQgyah6"
      },
      "execution_count": 11,
      "outputs": []
    },
    {
      "cell_type": "code",
      "source": [
        "VI_db.head(100)"
      ],
      "metadata": {
        "colab": {
          "base_uri": "https://localhost:8080/",
          "height": 467
        },
        "id": "I1p3oozRAdQX",
        "outputId": "5e4bcab6-932a-4d97-c07e-4d5c9a89af85"
      },
      "execution_count": 12,
      "outputs": [
        {
          "output_type": "execute_result",
          "data": {
            "text/html": [
              "\n",
              "  <div id=\"df-d1286bad-ca00-4b99-961e-e23ca6ae7db0\">\n",
              "    <div class=\"colab-df-container\">\n",
              "      <div>\n",
              "<style scoped>\n",
              "    .dataframe tbody tr th:only-of-type {\n",
              "        vertical-align: middle;\n",
              "    }\n",
              "\n",
              "    .dataframe tbody tr th {\n",
              "        vertical-align: top;\n",
              "    }\n",
              "\n",
              "    .dataframe thead th {\n",
              "        text-align: right;\n",
              "    }\n",
              "</style>\n",
              "<table border=\"1\" class=\"dataframe\">\n",
              "  <thead>\n",
              "    <tr style=\"text-align: right;\">\n",
              "      <th></th>\n",
              "      <th>Date</th>\n",
              "      <th>Open</th>\n",
              "      <th>High</th>\n",
              "      <th>Low</th>\n",
              "      <th>Close</th>\n",
              "      <th>Adj Close</th>\n",
              "      <th>Volume</th>\n",
              "      <th>log_price</th>\n",
              "      <th>pct_change</th>\n",
              "      <th>st_dev</th>\n",
              "      <th>Volatility</th>\n",
              "    </tr>\n",
              "  </thead>\n",
              "  <tbody>\n",
              "    <tr>\n",
              "      <th>0</th>\n",
              "      <td>1990-02-01</td>\n",
              "      <td>17.240000</td>\n",
              "      <td>17.240000</td>\n",
              "      <td>17.240000</td>\n",
              "      <td>17.240000</td>\n",
              "      <td>17.240000</td>\n",
              "      <td>0</td>\n",
              "      <td>2.847232</td>\n",
              "      <td>NaN</td>\n",
              "      <td>NaN</td>\n",
              "      <td>NaN</td>\n",
              "    </tr>\n",
              "    <tr>\n",
              "      <th>1</th>\n",
              "      <td>1990-03-01</td>\n",
              "      <td>18.190001</td>\n",
              "      <td>18.190001</td>\n",
              "      <td>18.190001</td>\n",
              "      <td>18.190001</td>\n",
              "      <td>18.190001</td>\n",
              "      <td>0</td>\n",
              "      <td>2.900872</td>\n",
              "      <td>0.053640</td>\n",
              "      <td>NaN</td>\n",
              "      <td>NaN</td>\n",
              "    </tr>\n",
              "    <tr>\n",
              "      <th>2</th>\n",
              "      <td>1990-04-01</td>\n",
              "      <td>19.219999</td>\n",
              "      <td>19.219999</td>\n",
              "      <td>19.219999</td>\n",
              "      <td>19.219999</td>\n",
              "      <td>19.219999</td>\n",
              "      <td>0</td>\n",
              "      <td>2.955951</td>\n",
              "      <td>0.055079</td>\n",
              "      <td>NaN</td>\n",
              "      <td>NaN</td>\n",
              "    </tr>\n",
              "    <tr>\n",
              "      <th>3</th>\n",
              "      <td>1990-05-01</td>\n",
              "      <td>20.110001</td>\n",
              "      <td>20.110001</td>\n",
              "      <td>20.110001</td>\n",
              "      <td>20.110001</td>\n",
              "      <td>20.110001</td>\n",
              "      <td>0</td>\n",
              "      <td>3.001217</td>\n",
              "      <td>0.045266</td>\n",
              "      <td>NaN</td>\n",
              "      <td>NaN</td>\n",
              "    </tr>\n",
              "    <tr>\n",
              "      <th>4</th>\n",
              "      <td>1990-08-01</td>\n",
              "      <td>20.260000</td>\n",
              "      <td>20.260000</td>\n",
              "      <td>20.260000</td>\n",
              "      <td>20.260000</td>\n",
              "      <td>20.260000</td>\n",
              "      <td>0</td>\n",
              "      <td>3.008648</td>\n",
              "      <td>0.007431</td>\n",
              "      <td>NaN</td>\n",
              "      <td>NaN</td>\n",
              "    </tr>\n",
              "    <tr>\n",
              "      <th>...</th>\n",
              "      <td>...</td>\n",
              "      <td>...</td>\n",
              "      <td>...</td>\n",
              "      <td>...</td>\n",
              "      <td>...</td>\n",
              "      <td>...</td>\n",
              "      <td>...</td>\n",
              "      <td>...</td>\n",
              "      <td>...</td>\n",
              "      <td>...</td>\n",
              "      <td>...</td>\n",
              "    </tr>\n",
              "    <tr>\n",
              "      <th>95</th>\n",
              "      <td>1990-05-17</td>\n",
              "      <td>17.270000</td>\n",
              "      <td>17.270000</td>\n",
              "      <td>17.270000</td>\n",
              "      <td>17.270000</td>\n",
              "      <td>17.270000</td>\n",
              "      <td>0</td>\n",
              "      <td>2.848971</td>\n",
              "      <td>-0.025159</td>\n",
              "      <td>0.069642</td>\n",
              "      <td>1.105535</td>\n",
              "    </tr>\n",
              "    <tr>\n",
              "      <th>96</th>\n",
              "      <td>1990-05-18</td>\n",
              "      <td>17.200001</td>\n",
              "      <td>17.200001</td>\n",
              "      <td>17.200001</td>\n",
              "      <td>17.200001</td>\n",
              "      <td>17.200001</td>\n",
              "      <td>0</td>\n",
              "      <td>2.844909</td>\n",
              "      <td>-0.004061</td>\n",
              "      <td>0.069416</td>\n",
              "      <td>1.101950</td>\n",
              "    </tr>\n",
              "    <tr>\n",
              "      <th>97</th>\n",
              "      <td>1990-05-21</td>\n",
              "      <td>16.719999</td>\n",
              "      <td>16.719999</td>\n",
              "      <td>16.719999</td>\n",
              "      <td>16.719999</td>\n",
              "      <td>16.719999</td>\n",
              "      <td>0</td>\n",
              "      <td>2.816606</td>\n",
              "      <td>-0.028304</td>\n",
              "      <td>0.069241</td>\n",
              "      <td>1.099169</td>\n",
              "    </tr>\n",
              "    <tr>\n",
              "      <th>98</th>\n",
              "      <td>1990-05-22</td>\n",
              "      <td>17.840000</td>\n",
              "      <td>17.840000</td>\n",
              "      <td>17.840000</td>\n",
              "      <td>17.840000</td>\n",
              "      <td>17.840000</td>\n",
              "      <td>0</td>\n",
              "      <td>2.881443</td>\n",
              "      <td>0.064838</td>\n",
              "      <td>0.070293</td>\n",
              "      <td>1.115870</td>\n",
              "    </tr>\n",
              "    <tr>\n",
              "      <th>99</th>\n",
              "      <td>1990-05-23</td>\n",
              "      <td>17.180000</td>\n",
              "      <td>17.180000</td>\n",
              "      <td>17.180000</td>\n",
              "      <td>17.180000</td>\n",
              "      <td>17.180000</td>\n",
              "      <td>0</td>\n",
              "      <td>2.843746</td>\n",
              "      <td>-0.037697</td>\n",
              "      <td>0.070416</td>\n",
              "      <td>1.117817</td>\n",
              "    </tr>\n",
              "  </tbody>\n",
              "</table>\n",
              "<p>100 rows × 11 columns</p>\n",
              "</div>\n",
              "      <button class=\"colab-df-convert\" onclick=\"convertToInteractive('df-d1286bad-ca00-4b99-961e-e23ca6ae7db0')\"\n",
              "              title=\"Convert this dataframe to an interactive table.\"\n",
              "              style=\"display:none;\">\n",
              "        \n",
              "  <svg xmlns=\"http://www.w3.org/2000/svg\" height=\"24px\"viewBox=\"0 0 24 24\"\n",
              "       width=\"24px\">\n",
              "    <path d=\"M0 0h24v24H0V0z\" fill=\"none\"/>\n",
              "    <path d=\"M18.56 5.44l.94 2.06.94-2.06 2.06-.94-2.06-.94-.94-2.06-.94 2.06-2.06.94zm-11 1L8.5 8.5l.94-2.06 2.06-.94-2.06-.94L8.5 2.5l-.94 2.06-2.06.94zm10 10l.94 2.06.94-2.06 2.06-.94-2.06-.94-.94-2.06-.94 2.06-2.06.94z\"/><path d=\"M17.41 7.96l-1.37-1.37c-.4-.4-.92-.59-1.43-.59-.52 0-1.04.2-1.43.59L10.3 9.45l-7.72 7.72c-.78.78-.78 2.05 0 2.83L4 21.41c.39.39.9.59 1.41.59.51 0 1.02-.2 1.41-.59l7.78-7.78 2.81-2.81c.8-.78.8-2.07 0-2.86zM5.41 20L4 18.59l7.72-7.72 1.47 1.35L5.41 20z\"/>\n",
              "  </svg>\n",
              "      </button>\n",
              "      \n",
              "  <style>\n",
              "    .colab-df-container {\n",
              "      display:flex;\n",
              "      flex-wrap:wrap;\n",
              "      gap: 12px;\n",
              "    }\n",
              "\n",
              "    .colab-df-convert {\n",
              "      background-color: #E8F0FE;\n",
              "      border: none;\n",
              "      border-radius: 50%;\n",
              "      cursor: pointer;\n",
              "      display: none;\n",
              "      fill: #1967D2;\n",
              "      height: 32px;\n",
              "      padding: 0 0 0 0;\n",
              "      width: 32px;\n",
              "    }\n",
              "\n",
              "    .colab-df-convert:hover {\n",
              "      background-color: #E2EBFA;\n",
              "      box-shadow: 0px 1px 2px rgba(60, 64, 67, 0.3), 0px 1px 3px 1px rgba(60, 64, 67, 0.15);\n",
              "      fill: #174EA6;\n",
              "    }\n",
              "\n",
              "    [theme=dark] .colab-df-convert {\n",
              "      background-color: #3B4455;\n",
              "      fill: #D2E3FC;\n",
              "    }\n",
              "\n",
              "    [theme=dark] .colab-df-convert:hover {\n",
              "      background-color: #434B5C;\n",
              "      box-shadow: 0px 1px 3px 1px rgba(0, 0, 0, 0.15);\n",
              "      filter: drop-shadow(0px 1px 2px rgba(0, 0, 0, 0.3));\n",
              "      fill: #FFFFFF;\n",
              "    }\n",
              "  </style>\n",
              "\n",
              "      <script>\n",
              "        const buttonEl =\n",
              "          document.querySelector('#df-d1286bad-ca00-4b99-961e-e23ca6ae7db0 button.colab-df-convert');\n",
              "        buttonEl.style.display =\n",
              "          google.colab.kernel.accessAllowed ? 'block' : 'none';\n",
              "\n",
              "        async function convertToInteractive(key) {\n",
              "          const element = document.querySelector('#df-d1286bad-ca00-4b99-961e-e23ca6ae7db0');\n",
              "          const dataTable =\n",
              "            await google.colab.kernel.invokeFunction('convertToInteractive',\n",
              "                                                     [key], {});\n",
              "          if (!dataTable) return;\n",
              "\n",
              "          const docLinkHtml = 'Like what you see? Visit the ' +\n",
              "            '<a target=\"_blank\" href=https://colab.research.google.com/notebooks/data_table.ipynb>data table notebook</a>'\n",
              "            + ' to learn more about interactive tables.';\n",
              "          element.innerHTML = '';\n",
              "          dataTable['output_type'] = 'display_data';\n",
              "          await google.colab.output.renderOutput(dataTable, element);\n",
              "          const docLink = document.createElement('div');\n",
              "          docLink.innerHTML = docLinkHtml;\n",
              "          element.appendChild(docLink);\n",
              "        }\n",
              "      </script>\n",
              "    </div>\n",
              "  </div>\n",
              "  "
            ],
            "text/plain": [
              "         Date       Open       High  ...  pct_change    st_dev  Volatility\n",
              "0  1990-02-01  17.240000  17.240000  ...         NaN       NaN         NaN\n",
              "1  1990-03-01  18.190001  18.190001  ...    0.053640       NaN         NaN\n",
              "2  1990-04-01  19.219999  19.219999  ...    0.055079       NaN         NaN\n",
              "3  1990-05-01  20.110001  20.110001  ...    0.045266       NaN         NaN\n",
              "4  1990-08-01  20.260000  20.260000  ...    0.007431       NaN         NaN\n",
              "..        ...        ...        ...  ...         ...       ...         ...\n",
              "95 1990-05-17  17.270000  17.270000  ...   -0.025159  0.069642    1.105535\n",
              "96 1990-05-18  17.200001  17.200001  ...   -0.004061  0.069416    1.101950\n",
              "97 1990-05-21  16.719999  16.719999  ...   -0.028304  0.069241    1.099169\n",
              "98 1990-05-22  17.840000  17.840000  ...    0.064838  0.070293    1.115870\n",
              "99 1990-05-23  17.180000  17.180000  ...   -0.037697  0.070416    1.117817\n",
              "\n",
              "[100 rows x 11 columns]"
            ]
          },
          "metadata": {},
          "execution_count": 12
        }
      ]
    },
    {
      "cell_type": "code",
      "source": [
        "df.iloc[:, 9:10].values\n"
      ],
      "metadata": {
        "colab": {
          "base_uri": "https://localhost:8080/"
        },
        "id": "OZZm1J5eRmJa",
        "outputId": "8cacbdbe-1712-4760-ce01-2d606a75d34d"
      },
      "execution_count": 27,
      "outputs": [
        {
          "output_type": "execute_result",
          "data": {
            "text/plain": [
              "array([[0.89358872],\n",
              "       [1.33428262],\n",
              "       [0.88196488],\n",
              "       ...,\n",
              "       [1.49021561],\n",
              "       [1.12274356],\n",
              "       [1.14826017]])"
            ]
          },
          "metadata": {},
          "execution_count": 27
        }
      ]
    },
    {
      "cell_type": "code",
      "source": [
        "df['Volatility'].head(20)"
      ],
      "metadata": {
        "colab": {
          "base_uri": "https://localhost:8080/"
        },
        "id": "SkmZMX0qStme",
        "outputId": "11a29de3-76f7-47b4-e03b-0c82b7ae807b"
      },
      "execution_count": 28,
      "outputs": [
        {
          "output_type": "execute_result",
          "data": {
            "text/plain": [
              "Date\n",
              "1990-01-03    0.893589\n",
              "1990-01-05    1.334283\n",
              "1990-01-06    0.881965\n",
              "1990-01-08    1.712147\n",
              "1990-01-10    0.947622\n",
              "1990-01-11    0.618401\n",
              "1990-02-03    0.895341\n",
              "1990-02-04    1.017414\n",
              "1990-02-05    1.335973\n",
              "1990-02-07    1.268275\n",
              "1990-02-08    1.723761\n",
              "1990-02-10    0.943967\n",
              "1990-02-11    0.603746\n",
              "1990-02-13    1.072026\n",
              "1990-02-14    1.091692\n",
              "1990-02-15    1.133728\n",
              "1990-02-16    1.136526\n",
              "1990-02-20    1.166584\n",
              "1990-02-21    1.144704\n",
              "1990-02-22    1.157712\n",
              "Name: Volatility, dtype: float64"
            ]
          },
          "metadata": {},
          "execution_count": 28
        }
      ]
    },
    {
      "cell_type": "code",
      "source": [
        "# Set 'Date' as index\n"
      ],
      "metadata": {
        "id": "nk5ckMzYKHK2"
      },
      "execution_count": null,
      "outputs": []
    },
    {
      "cell_type": "code",
      "source": [
        "to_plt = VI_db.sort_values(by = 'Date').set_index('Date')"
      ],
      "metadata": {
        "id": "3XmO6WWXKNK1"
      },
      "execution_count": 18,
      "outputs": []
    },
    {
      "cell_type": "code",
      "source": [
        "plt.figure(figsize=(16,6))\n",
        "plt.plot(to_plt['Volatility'])\n",
        "plt.ylabel('Pct Return', fontsize=16)\n",
        "plt.title('Vix Rolling Volatility considering 30 Time Periods with Standard Deviation Annualized', fontsize=20)"
      ],
      "metadata": {
        "colab": {
          "base_uri": "https://localhost:8080/",
          "height": 401
        },
        "id": "Suwr9zVmN9R_",
        "outputId": "be603534-0c32-42f5-d582-d74690c0eb81"
      },
      "execution_count": 19,
      "outputs": [
        {
          "output_type": "execute_result",
          "data": {
            "text/plain": [
              "Text(0.5, 1.0, 'Vix Rolling Volatility considering 30 Time Periods with Standard Deviation Annualized')"
            ]
          },
          "metadata": {},
          "execution_count": 19
        },
        {
          "output_type": "display_data",
          "data": {
            "image/png": "[encoded data removed]",
            "text/plain": [
              "<Figure size 1152x432 with 1 Axes>"
            ]
          },
          "metadata": {
            "needs_background": "light"
          }
        }
      ]
    },
    {
      "cell_type": "code",
      "source": [
        "df=to_plt.dropna()"
      ],
      "metadata": {
        "id": "xQ1dax4kd0SI"
      },
      "execution_count": 20,
      "outputs": []
    },
    {
      "cell_type": "code",
      "source": [
        "vol = df['Volatility'] * 100"
      ],
      "metadata": {
        "id": "GUH4Scq5d5xn"
      },
      "execution_count": 21,
      "outputs": []
    },
    {
      "cell_type": "code",
      "source": [
        "df.info()"
      ],
      "metadata": {
        "colab": {
          "base_uri": "https://localhost:8080/"
        },
        "id": "aFPaLHQtehIc",
        "outputId": "b5422083-4c2e-4941-fe33-f3b8120e788a"
      },
      "execution_count": 22,
      "outputs": [
        {
          "output_type": "stream",
          "name": "stdout",
          "text": [
            "<class 'pandas.core.frame.DataFrame'>\n",
            "DatetimeIndex: 7904 entries, 1990-01-03 to 2021-12-05\n",
            "Data columns (total 10 columns):\n",
            " #   Column      Non-Null Count  Dtype  \n",
            "---  ------      --------------  -----  \n",
            " 0   Open        7904 non-null   float64\n",
            " 1   High        7904 non-null   float64\n",
            " 2   Low         7904 non-null   float64\n",
            " 3   Close       7904 non-null   float64\n",
            " 4   Adj Close   7904 non-null   float64\n",
            " 5   Volume      7904 non-null   int64  \n",
            " 6   log_price   7904 non-null   float64\n",
            " 7   pct_change  7904 non-null   float64\n",
            " 8   st_dev      7904 non-null   float64\n",
            " 9   Volatility  7904 non-null   float64\n",
            "dtypes: float64(9), int64(1)\n",
            "memory usage: 679.2 KB\n"
          ]
        }
      ]
    },
    {
      "cell_type": "code",
      "source": [
        "# To check if there is null value in any of the column\n",
        "df.isnull().any()"
      ],
      "metadata": {
        "colab": {
          "base_uri": "https://localhost:8080/"
        },
        "id": "zEOex1Ajermx",
        "outputId": "c626854c-7682-44b9-bc18-8d301a50f300"
      },
      "execution_count": 23,
      "outputs": [
        {
          "output_type": "execute_result",
          "data": {
            "text/plain": [
              "Open          False\n",
              "High          False\n",
              "Low           False\n",
              "Close         False\n",
              "Adj Close     False\n",
              "Volume        False\n",
              "log_price     False\n",
              "pct_change    False\n",
              "st_dev        False\n",
              "Volatility    False\n",
              "dtype: bool"
            ]
          },
          "metadata": {},
          "execution_count": 23
        }
      ]
    },
    {
      "cell_type": "code",
      "source": [
        "# Replacing the missing values with df.mean()\n",
        "VI_db.replace([np.inf, -np.inf], np.nan, inplace=True)\n",
        "VI_db.fillna(df.mean(), inplace=True)"
      ],
      "metadata": {
        "id": "HXF8Hi-xiNfD"
      },
      "execution_count": 24,
      "outputs": []
    },
    {
      "cell_type": "code",
      "source": [
        "#Performing the ADF test to identify if the return series is stationary or non-stationary"
      ],
      "metadata": {
        "id": "WLwPrwaEkoah"
      },
      "execution_count": 25,
      "outputs": []
    },
    {
      "cell_type": "code",
      "source": [
        "result = adfuller(df.Volatility)\n",
        "print('ADF Statistic: %f' % result[0])\n",
        "print('p-value: %f' % result[1])\n",
        "print('Critical Values:')\n",
        "for key, value in result[4].items():\n",
        "  print('\\t%s: %.3f' % (key, value))"
      ],
      "metadata": {
        "colab": {
          "base_uri": "https://localhost:8080/"
        },
        "id": "4Ajtkfi8lBzM",
        "outputId": "772d2cb9-6dc1-4a4c-c1b0-690b55b1146e"
      },
      "execution_count": 26,
      "outputs": [
        {
          "output_type": "stream",
          "name": "stdout",
          "text": [
            "ADF Statistic: -8.631603\n",
            "p-value: 0.000000\n",
            "Critical Values:\n",
            "\t1%: -3.431\n",
            "\t5%: -2.862\n",
            "\t10%: -2.567\n"
          ]
        }
      ]
    },
    {
      "cell_type": "code",
      "source": [
        "#Volatility Prediction using Garch(3,1)"
      ],
      "metadata": {
        "id": "uAWjmNMfn_AJ"
      },
      "execution_count": 29,
      "outputs": []
    },
    {
      "cell_type": "code",
      "source": [
        "GARCH_Mod = arch_model(vol, vol='Garch', p=3, o=0, q=1, dist='Normal')"
      ],
      "metadata": {
        "id": "Cho5DuYjoLMl"
      },
      "execution_count": 30,
      "outputs": []
    },
    {
      "cell_type": "code",
      "source": [
        "#GARCH SUMMARY"
      ],
      "metadata": {
        "id": "9_KL6FDyok_v"
      },
      "execution_count": 31,
      "outputs": []
    },
    {
      "cell_type": "code",
      "source": [
        "re = GARCH_Mod = arch_model(vol, vol='Garch', p=3, o=0, q=1, dist='Normal')"
      ],
      "metadata": {
        "id": "QvrCG2DfonPD"
      },
      "execution_count": 32,
      "outputs": []
    },
    {
      "cell_type": "code",
      "source": [
        "#GARCH SUMMARY"
      ],
      "metadata": {
        "id": "4wn4iS1Kp9yK"
      },
      "execution_count": 33,
      "outputs": []
    },
    {
      "cell_type": "code",
      "source": [
        "res = GARCH_Mod.fit(disp='off')\n",
        "display(res.summary())"
      ],
      "metadata": {
        "id": "lt-hqCmoqGK2"
      },
      "execution_count": null,
      "outputs": []
    },
    {
      "cell_type": "code",
      "source": [
        "#CREATING FORECASTED VOLATILITY FEATURE\n",
        "# The below is straightforward. i will use the garch function provided by the arch python module to get omega, beta and alpha.\n",
        "#following the formula σ2t=ω+α1a2t−1+β1σ2t−1, i execute the following code. th ecorrect formula for forecast_vol should be:\n",
        "#0.01 * np.sqrt(res.params['omega'] + res.params['alpha[1]'] * res.resid2 + res.conditional_volatility2 * res.params['beta[1]'])"
      ],
      "metadata": {
        "id": "EH84IdN1rceK"
      },
      "execution_count": null,
      "outputs": []
    },
    {
      "cell_type": "code",
      "source": [
        "df['forecast_vol'] = 0.01 * np.sqrt(res.params['omega'] + res.params['alpha[1]']* res.resid**2 + res.conditional_volatility**2 * res.params['beta[1]'])"
      ],
      "metadata": {
        "id": "J1ohzrOLsTTa"
      },
      "execution_count": 35,
      "outputs": []
    },
    {
      "cell_type": "code",
      "source": [
        "df['Volatility'].head(20)"
      ],
      "metadata": {
        "id": "MltHG3SevDGO"
      },
      "execution_count": null,
      "outputs": []
    },
    {
      "cell_type": "code",
      "source": [
        "df['forecast_vol'].head(20)"
      ],
      "metadata": {
        "colab": {
          "base_uri": "https://localhost:8080/"
        },
        "id": "W-NzRbbxvJGg",
        "outputId": "a98bb128-fe63-4c76-d6b2-8575f8de7d7f"
      },
      "execution_count": 37,
      "outputs": [
        {
          "output_type": "execute_result",
          "data": {
            "text/plain": [
              "Date\n",
              "1990-01-03    0.251570\n",
              "1990-01-05    0.371623\n",
              "1990-01-06    0.284285\n",
              "1990-01-08    0.613758\n",
              "1990-01-10    0.450428\n",
              "1990-01-11    0.385432\n",
              "1990-02-03    0.293414\n",
              "1990-02-04    0.249915\n",
              "1990-02-05    0.372032\n",
              "1990-02-07    0.387209\n",
              "1990-02-08    0.648702\n",
              "1990-02-10    0.474294\n",
              "1990-02-11    0.404476\n",
              "1990-02-13    0.331270\n",
              "1990-02-14    0.293580\n",
              "1990-02-15    0.288653\n",
              "1990-02-16    0.287285\n",
              "1990-02-20    0.299504\n",
              "1990-02-21    0.296188\n",
              "1990-02-22    0.300002\n",
              "Name: forecast_vol, dtype: float64"
            ]
          },
          "metadata": {},
          "execution_count": 37
        }
      ]
    },
    {
      "cell_type": "code",
      "source": [
        "pip install openpyxl"
      ],
      "metadata": {
        "colab": {
          "base_uri": "https://localhost:8080/"
        },
        "id": "mfAwtIVAvdth",
        "outputId": "1a9f272c-60a6-49df-af32-7720cc885811"
      },
      "execution_count": 38,
      "outputs": [
        {
          "output_type": "stream",
          "name": "stdout",
          "text": [
            "Requirement already satisfied: openpyxl in /usr/local/lib/python3.7/dist-packages (3.0.9)\n",
            "Requirement already satisfied: et-xmlfile in /usr/local/lib/python3.7/dist-packages (from openpyxl) (1.1.0)\n"
          ]
        }
      ]
    },
    {
      "cell_type": "code",
      "source": [
        "df['Volatility'].to_excel('g_a.xlsx') #to export actual value of Garch Model"
      ],
      "metadata": {
        "id": "XlWwHOUKvjAv"
      },
      "execution_count": 39,
      "outputs": []
    },
    {
      "cell_type": "code",
      "source": [
        "df['forecast_vol'].to_excel('g_p.xlsx')#to export predicted value of Garch Model"
      ],
      "metadata": {
        "id": "ufJczyGFwJ39"
      },
      "execution_count": 40,
      "outputs": []
    },
    {
      "cell_type": "code",
      "source": [
        "#PLOTTING ACTUAL VOLATILITY VS FORECASTED VOLATILITY"
      ],
      "metadata": {
        "id": "f8-l2Z_OxyfN"
      },
      "execution_count": 41,
      "outputs": []
    },
    {
      "cell_type": "code",
      "source": [
        "plt.figure(figsize=(16,6))\n",
        "df[\"Volatility\"].plot()\n",
        "df[\"forecast_vol\"].plot()\n",
        "plt.title(\"Real Rolling Volatility vs Forecast by GARCH(3,1)\")\n",
        "plt.legend()\n",
        "plt.show()"
      ],
      "metadata": {
        "colab": {
          "base_uri": "https://localhost:8080/",
          "height": 378
        },
        "id": "1ByrFIB8x3Zh",
        "outputId": "5472262e-912b-4717-ce11-a96c633ae11f"
      },
      "execution_count": 42,
      "outputs": [
        {
          "output_type": "display_data",
          "data": {
            "image/png": "[encoded data removed]",
            "text/plain": [
              "<Figure size 1152x432 with 1 Axes>"
            ]
          },
          "metadata": {
            "needs_background": "light"
          }
        }
      ]
    },
    {
      "cell_type": "code",
      "source": [
        "#Calculating RMSE value for GARCH Model\n",
        "print('RMSE calculated for GARCH(3,1) model:', np.sqrt(metrics.mean_squared_error(df.loc[df.index[1000:], 'Volatility'], df.loc[df.index[1000:], 'forecast_vol'])))"
      ],
      "metadata": {
        "colab": {
          "base_uri": "https://localhost:8080/"
        },
        "id": "G5JTnOnd2yHH",
        "outputId": "4911ca19-47fb-4194-e03a-1d2302849890"
      },
      "execution_count": 43,
      "outputs": [
        {
          "output_type": "stream",
          "name": "stdout",
          "text": [
            "RMSE calculated for GARCH(3,1) model: 0.7096122252850938\n"
          ]
        }
      ]
    },
    {
      "cell_type": "code",
      "source": [
        "print('MAE calculated for GARCH(3,1) model:', MAE(df.loc[df.index[1000:], 'Volatility'], df.loc[df.index[1000:], 'forecast_vol']))"
      ],
      "metadata": {
        "colab": {
          "base_uri": "https://localhost:8080/"
        },
        "id": "pdhI_pB2-Gw8",
        "outputId": "ab9bd8e5-a835-4ee7-9db1-50b1c8facc90"
      },
      "execution_count": 44,
      "outputs": [
        {
          "output_type": "stream",
          "name": "stdout",
          "text": [
            "MAE calculated for GARCH(3,1) model: 0.6689068286747392\n"
          ]
        }
      ]
    },
    {
      "cell_type": "code",
      "source": [
        "print('MAPE calculated for GARCH:', mean_absolute_percentage_error(df.loc[df.index[1000:], 'Volatility'], df.loc[df.index[1000:], 'forecast_vol' ]))"
      ],
      "metadata": {
        "colab": {
          "base_uri": "https://localhost:8080/"
        },
        "id": "NROC-3DFA_f2",
        "outputId": "9aa90fe5-5abe-47ad-bf16-9ec5ec368ca3"
      },
      "execution_count": 45,
      "outputs": [
        {
          "output_type": "stream",
          "name": "stdout",
          "text": [
            "MAPE calculated for GARCH: 0.6595012286192034\n"
          ]
        }
      ]
    },
    {
      "cell_type": "code",
      "source": [
        "#Volatility Prediction using LSTM"
      ],
      "metadata": {
        "id": "PFCPwZx4EvCZ"
      },
      "execution_count": 46,
      "outputs": []
    },
    {
      "cell_type": "code",
      "source": [
        "training_set = df.iloc[:, 9:10].values\n",
        "X_train = []\n",
        "y_train = []\n",
        "for i in range(100, df.shape[0]):\n",
        "    X_train.append(training_set[i-100:i,0])\n",
        "    y_train.append(training_set[i,0])\n",
        "X_train, y_train = np.array(X_train), np.array(y_train)"
      ],
      "metadata": {
        "id": "SBvOb9IIEzoZ"
      },
      "execution_count": 47,
      "outputs": []
    },
    {
      "cell_type": "code",
      "source": [
        "df.shape"
      ],
      "metadata": {
        "colab": {
          "base_uri": "https://localhost:8080/"
        },
        "id": "oxIx6i73Q7g2",
        "outputId": "21504064-f920-4f16-f01c-0ebc9bfebc0d"
      },
      "execution_count": 48,
      "outputs": [
        {
          "output_type": "execute_result",
          "data": {
            "text/plain": [
              "(7904, 11)"
            ]
          },
          "metadata": {},
          "execution_count": 48
        }
      ]
    },
    {
      "cell_type": "code",
      "source": [
        "#Preparing X_train for RNN using LSTM"
      ],
      "metadata": {
        "id": "6sdBw2OqRBbk"
      },
      "execution_count": 49,
      "outputs": []
    },
    {
      "cell_type": "code",
      "source": [
        "X_train = np.reshape(X_train, (X_train.shape[0], X_train.shape[1], 1))"
      ],
      "metadata": {
        "id": "17c0AvX6Tkgn"
      },
      "execution_count": 50,
      "outputs": []
    },
    {
      "cell_type": "code",
      "source": [
        "#Creating RNN with LSTM"
      ],
      "metadata": {
        "id": "A_UxHhrcT78q"
      },
      "execution_count": 51,
      "outputs": []
    },
    {
      "cell_type": "code",
      "source": [
        "from keras.wrappers.scikit_learn import KerasRegressor\n",
        "from sklearn.datasets import make_classification\n",
        "from sklearn.preprocessing import LabelBinarizer\n",
        "from sklearn.base import BaseEstimator, ClassifierMixin\n",
        "#Initiliasing the RNN\n",
        "def model():\n",
        "  regressor = Sequential()\n",
        "  regressor.add(LSTM(units=200, return_sequences=True, input_shape=(X_train.shape[1],1)))\n",
        "  regressor.add(Dropout(0.2))\n",
        "  regressor.add(LSTM(units=100, activation = \"selu\", kernel_initializer=\"lecun_normal\", kernel_constraint=keras.constraints.max_norm(1.), return_sequences=True))\n",
        "  regressor.add(Dropout(0.2))\n",
        "  regressor.add(LSTM(units=50,  activation = \"selu\", kernel_initializer=\"lecun_normal\", kernel_constraint=keras.constraints.max_norm(1.)))\n",
        "  regressor.add(Dropout(0.2))\n",
        "  regressor.add(Dense(units=1))\n",
        "  regressor.compile(optimizer='nadam', loss='mean_squared_error', metrics= ['accuracy'])\n",
        "  return regressor\n",
        "\n",
        "  estimator = KerasRegressor(build_fn=model, epochs=50, batch_size=32)\n",
        "  estimator.fit(X_train, y_train, epochs = 50, batch_size = 32)\n",
        "  #regressor = KerasRegressor(build_fn=lstm_model, epochs=50, batch_size=32, verbose=0)\n",
        "  #regressor.fit(X_train, y_train, epochs = 50, batch_size =32)\n",
        "\n",
        "  # Initiliasing the RNN\n",
        " \n"
      ],
      "metadata": {
        "id": "W6xHMxVBVFBX"
      },
      "execution_count": 94,
      "outputs": []
    },
    {
      "cell_type": "code",
      "source": [
        "len(model.get_weights())"
      ],
      "metadata": {
        "colab": {
          "base_uri": "https://localhost:8080/",
          "height": 172
        },
        "id": "XwEdC5UXeBeY",
        "outputId": "05e26fd3-b7d2-41ce-d8b2-f3fbc900e459"
      },
      "execution_count": 89,
      "outputs": [
        {
          "output_type": "error",
          "ename": "AttributeError",
          "evalue": "ignored",
          "traceback": [
            "\u001b[0;31m---------------------------------------------------------------------------\u001b[0m",
            "\u001b[0;31mAttributeError\u001b[0m                            Traceback (most recent call last)",
            "\u001b[0;32m<ipython-input-89-12bbd88df854>\u001b[0m in \u001b[0;36m<module>\u001b[0;34m()\u001b[0m\n\u001b[0;32m----> 1\u001b[0;31m \u001b[0mlen\u001b[0m\u001b[0;34m(\u001b[0m\u001b[0mmodel\u001b[0m\u001b[0;34m.\u001b[0m\u001b[0mget_weights\u001b[0m\u001b[0;34m(\u001b[0m\u001b[0;34m)\u001b[0m\u001b[0;34m)\u001b[0m\u001b[0;34m\u001b[0m\u001b[0;34m\u001b[0m\u001b[0m\n\u001b[0m",
            "\u001b[0;31mAttributeError\u001b[0m: 'function' object has no attribute 'get_weights'"
          ]
        }
      ]
    },
    {
      "cell_type": "code",
      "source": [
        "#Grid Search\n",
        "from sklearn.model_selection import GridSearchCV\n",
        "batch_size = [8,16, 32, 48]\n",
        "epochs = [1, 5]\n",
        "param_grid = dict(batch_size=batch_size, epochs=epochs)"
      ],
      "metadata": {
        "id": "ETjsWskReKrA"
      },
      "execution_count": 95,
      "outputs": []
    },
    {
      "cell_type": "code",
      "source": [
        " estimator = KerasRegressor(build_fn=model, epochs=50, batch_size=32)"
      ],
      "metadata": {
        "id": "_VBAYTdcknld"
      },
      "execution_count": 96,
      "outputs": []
    },
    {
      "cell_type": "code",
      "source": [
        "clf1 = GridSearchCV(estimator, param_grid)"
      ],
      "metadata": {
        "id": "J0fVsYbKeuBR"
      },
      "execution_count": 97,
      "outputs": []
    },
    {
      "cell_type": "code",
      "source": [
        "gs = clf1.fit(X_train, y_train)"
      ],
      "metadata": {
        "colab": {
          "base_uri": "https://localhost:8080/"
        },
        "id": "vvqsZ-BYkqrV",
        "outputId": "9bea561d-65df-4ec4-bdb4-f3a9c0f9bf8f"
      },
      "execution_count": 98,
      "outputs": [
        {
          "output_type": "stream",
          "name": "stdout",
          "text": [
            "781/781 [==============================] - 215s 268ms/step - loss: 0.1274\n",
            "196/196 [==============================] - 13s 63ms/step - loss: 0.0452\n",
            "781/781 [==============================] - 212s 264ms/step - loss: 0.1419\n",
            "196/196 [==============================] - 13s 63ms/step - loss: 0.0329\n",
            "781/781 [==============================] - 210s 263ms/step - loss: 0.1163\n",
            "196/196 [==============================] - 13s 63ms/step - loss: 0.0995\n",
            "781/781 [==============================] - 212s 264ms/step - loss: 1512565248.0000\n",
            "196/196 [==============================] - 13s 63ms/step - loss: 1.1686\n",
            "781/781 [==============================] - 211s 264ms/step - loss: 0.0933\n",
            "195/195 [==============================] - 13s 62ms/step - loss: 0.1825\n",
            "Epoch 1/5\n",
            "781/781 [==============================] - 213s 265ms/step - loss: 0.1155\n",
            "Epoch 2/5\n",
            "781/781 [==============================] - 207s 265ms/step - loss: 0.0886\n",
            "Epoch 3/5\n",
            "781/781 [==============================] - 206s 264ms/step - loss: 0.0848\n",
            "Epoch 4/5\n",
            "781/781 [==============================] - 206s 264ms/step - loss: 0.3151\n",
            "Epoch 5/5\n",
            "781/781 [==============================] - 206s 264ms/step - loss: 0.0829\n",
            "196/196 [==============================] - 13s 64ms/step - loss: 0.0381\n",
            "Epoch 1/5\n",
            "781/781 [==============================] - 212s 264ms/step - loss: 10519521.0000\n",
            "Epoch 2/5\n",
            "781/781 [==============================] - 206s 264ms/step - loss: 0.1728\n",
            "Epoch 3/5\n",
            "781/781 [==============================] - 206s 264ms/step - loss: 0.1611\n",
            "Epoch 4/5\n",
            "781/781 [==============================] - 206s 264ms/step - loss: 0.1651\n",
            "Epoch 5/5\n",
            "781/781 [==============================] - 206s 264ms/step - loss: 0.1615\n",
            "196/196 [==============================] - 13s 63ms/step - loss: 0.0438\n",
            "Epoch 1/5\n",
            "781/781 [==============================] - 212s 265ms/step - loss: 132132210999296.0000\n",
            "Epoch 2/5\n",
            "781/781 [==============================] - 207s 265ms/step - loss: nan\n",
            "Epoch 3/5\n",
            "781/781 [==============================] - 208s 266ms/step - loss: nan\n",
            "Epoch 4/5\n",
            "781/781 [==============================] - 207s 265ms/step - loss: nan\n",
            "Epoch 5/5\n",
            "781/781 [==============================] - 208s 266ms/step - loss: nan\n",
            "196/196 [==============================] - 13s 64ms/step - loss: nan\n",
            "Epoch 1/5\n",
            "781/781 [==============================] - 213s 266ms/step - loss: nan\n",
            "Epoch 2/5\n",
            "781/781 [==============================] - 208s 266ms/step - loss: nan\n",
            "Epoch 3/5\n",
            "781/781 [==============================] - 226s 289ms/step - loss: nan\n",
            "Epoch 4/5\n",
            "781/781 [==============================] - 208s 267ms/step - loss: nan\n",
            "Epoch 5/5\n",
            "781/781 [==============================] - 208s 267ms/step - loss: nan\n",
            "196/196 [==============================] - 13s 64ms/step - loss: nan\n",
            "Epoch 1/5\n",
            "781/781 [==============================] - 214s 266ms/step - loss: 0.0913\n",
            "Epoch 2/5\n",
            "781/781 [==============================] - 207s 265ms/step - loss: 0.0661\n",
            "Epoch 3/5\n",
            "781/781 [==============================] - 207s 266ms/step - loss: 0.0619\n",
            "Epoch 4/5\n",
            "781/781 [==============================] - 208s 266ms/step - loss: 0.0576\n",
            "Epoch 5/5\n",
            "781/781 [==============================] - 207s 265ms/step - loss: 0.0555\n",
            "195/195 [==============================] - 13s 63ms/step - loss: 0.1161\n",
            "391/391 [==============================] - 131s 323ms/step - loss: 0.1380\n",
            "98/98 [==============================] - 9s 79ms/step - loss: 0.0533\n",
            "391/391 [==============================] - 132s 323ms/step - loss: nan\n",
            "98/98 [==============================] - 8s 78ms/step - loss: nan\n",
            "391/391 [==============================] - 131s 323ms/step - loss: 0.1791\n",
            "98/98 [==============================] - 8s 78ms/step - loss: 0.0790\n",
            "391/391 [==============================] - 132s 323ms/step - loss: 1129.6974\n",
            "98/98 [==============================] - 8s 78ms/step - loss: 0.1096\n",
            "391/391 [==============================] - 132s 324ms/step - loss: nan\n",
            "98/98 [==============================] - 8s 79ms/step - loss: nan\n",
            "Epoch 1/5\n",
            "391/391 [==============================] - 130s 320ms/step - loss: 206616.4062\n",
            "Epoch 2/5\n",
            "391/391 [==============================] - 124s 318ms/step - loss: 0.4257\n",
            "Epoch 3/5\n",
            "391/391 [==============================] - 125s 319ms/step - loss: 0.3308\n",
            "Epoch 4/5\n",
            "391/391 [==============================] - 124s 317ms/step - loss: 0.2627\n",
            "Epoch 5/5\n",
            "391/391 [==============================] - 125s 319ms/step - loss: 0.2119\n",
            "98/98 [==============================] - 9s 78ms/step - loss: 0.1378\n",
            "Epoch 1/5\n",
            "391/391 [==============================] - 132s 325ms/step - loss: nan\n",
            "Epoch 2/5\n",
            "391/391 [==============================] - 127s 325ms/step - loss: nan\n",
            "Epoch 3/5\n",
            "391/391 [==============================] - 127s 324ms/step - loss: nan\n",
            "Epoch 4/5\n",
            "391/391 [==============================] - 126s 323ms/step - loss: nan\n",
            "Epoch 5/5\n",
            "391/391 [==============================] - 126s 323ms/step - loss: nan\n",
            "98/98 [==============================] - 8s 76ms/step - loss: nan\n",
            "Epoch 1/5\n",
            "391/391 [==============================] - 130s 321ms/step - loss: 72285968.0000\n",
            "Epoch 2/5\n",
            "391/391 [==============================] - 126s 321ms/step - loss: 0.1426\n",
            "Epoch 3/5\n",
            "391/391 [==============================] - 158s 403ms/step - loss: 0.1330\n",
            "Epoch 4/5\n",
            "391/391 [==============================] - 131s 336ms/step - loss: 0.1254\n",
            "Epoch 5/5\n",
            "391/391 [==============================] - 139s 357ms/step - loss: 0.1215\n",
            "98/98 [==============================] - 9s 78ms/step - loss: 0.0813\n",
            "Epoch 1/5\n",
            "391/391 [==============================] - 132s 325ms/step - loss: 1036119616.0000\n",
            "Epoch 2/5\n",
            "391/391 [==============================] - 126s 323ms/step - loss: 0.3910\n",
            "Epoch 3/5\n",
            "391/391 [==============================] - 126s 323ms/step - loss: 0.2856\n",
            "Epoch 4/5\n",
            "391/391 [==============================] - 126s 323ms/step - loss: 0.2075\n",
            "Epoch 5/5\n",
            "391/391 [==============================] - 126s 323ms/step - loss: 0.1276\n",
            "98/98 [==============================] - 8s 78ms/step - loss: 0.1123\n",
            "Epoch 1/5\n",
            "391/391 [==============================] - 131s 322ms/step - loss: 0.1127\n",
            "Epoch 2/5\n",
            "391/391 [==============================] - 126s 321ms/step - loss: 0.0748\n",
            "Epoch 3/5\n",
            "391/391 [==============================] - 126s 323ms/step - loss: 0.0684\n",
            "Epoch 4/5\n",
            "391/391 [==============================] - 126s 322ms/step - loss: 0.0640\n",
            "Epoch 5/5\n",
            "391/391 [==============================] - 125s 321ms/step - loss: 0.0627\n",
            "98/98 [==============================] - 8s 76ms/step - loss: 0.1340\n",
            "196/196 [==============================] - 83s 396ms/step - loss: 3322.5442\n",
            "49/49 [==============================] - 6s 106ms/step - loss: 0.3984\n",
            "196/196 [==============================] - 83s 397ms/step - loss: 433.6649\n",
            "49/49 [==============================] - 7s 109ms/step - loss: 0.7640\n",
            "196/196 [==============================] - 84s 399ms/step - loss: nan\n",
            "49/49 [==============================] - 6s 106ms/step - loss: nan\n",
            "196/196 [==============================] - 83s 396ms/step - loss: nan\n",
            "49/49 [==============================] - 6s 106ms/step - loss: nan\n",
            "196/196 [==============================] - 84s 397ms/step - loss: 0.1030\n",
            "49/49 [==============================] - 6s 107ms/step - loss: 0.2442\n",
            "Epoch 1/5\n",
            "196/196 [==============================] - 82s 394ms/step - loss: 942.0243\n",
            "Epoch 2/5\n",
            "196/196 [==============================] - 77s 395ms/step - loss: 0.1361\n",
            "Epoch 3/5\n",
            "196/196 [==============================] - 83s 426ms/step - loss: 0.1251\n",
            "Epoch 4/5\n",
            "196/196 [==============================] - 85s 433ms/step - loss: 0.1227\n",
            "Epoch 5/5\n",
            "196/196 [==============================] - 78s 398ms/step - loss: 0.1167\n",
            "49/49 [==============================] - 7s 109ms/step - loss: 0.0548\n",
            "Epoch 1/5\n",
            "196/196 [==============================] - 83s 398ms/step - loss: 6124141543424.0000\n",
            "Epoch 2/5\n",
            "196/196 [==============================] - 78s 398ms/step - loss: 0.9906\n",
            "Epoch 3/5\n",
            "196/196 [==============================] - 78s 397ms/step - loss: 1.7981\n",
            "Epoch 4/5\n",
            "196/196 [==============================] - 78s 398ms/step - loss: 0.9007\n",
            "Epoch 5/5\n",
            "196/196 [==============================] - 78s 397ms/step - loss: 0.8825\n",
            "49/49 [==============================] - 6s 107ms/step - loss: 0.6395\n",
            "Epoch 1/5\n",
            "196/196 [==============================] - 83s 399ms/step - loss: 89856744.0000\n",
            "Epoch 2/5\n",
            "196/196 [==============================] - 78s 397ms/step - loss: 79683969024.0000\n",
            "Epoch 3/5\n",
            "196/196 [==============================] - 78s 398ms/step - loss: 2719130880.0000\n",
            "Epoch 4/5\n",
            "196/196 [==============================] - 78s 398ms/step - loss: 1.1826\n",
            "Epoch 5/5\n",
            "196/196 [==============================] - 78s 398ms/step - loss: 1.1838\n",
            "49/49 [==============================] - 7s 107ms/step - loss: 0.9979\n",
            "Epoch 1/5\n",
            "196/196 [==============================] - 83s 398ms/step - loss: 0.2411\n",
            "Epoch 2/5\n",
            "196/196 [==============================] - 78s 399ms/step - loss: 0.1048\n",
            "Epoch 3/5\n",
            "196/196 [==============================] - 78s 397ms/step - loss: 0.0980\n",
            "Epoch 4/5\n",
            "196/196 [==============================] - 78s 397ms/step - loss: 0.0904\n",
            "Epoch 5/5\n",
            "196/196 [==============================] - 77s 394ms/step - loss: 0.0888\n",
            "49/49 [==============================] - 6s 106ms/step - loss: 0.0903\n",
            "Epoch 1/5\n",
            "196/196 [==============================] - 82s 395ms/step - loss: nan\n",
            "Epoch 2/5\n",
            "196/196 [==============================] - 77s 395ms/step - loss: nan\n",
            "Epoch 3/5\n",
            "196/196 [==============================] - 78s 397ms/step - loss: nan\n",
            "Epoch 4/5\n",
            "196/196 [==============================] - 78s 396ms/step - loss: nan\n",
            "Epoch 5/5\n",
            "196/196 [==============================] - 78s 396ms/step - loss: nan\n",
            "49/49 [==============================] - 6s 108ms/step - loss: nan\n",
            "131/131 [==============================] - 71s 501ms/step - loss: nan\n",
            "33/33 [==============================] - 6s 155ms/step - loss: nan\n",
            "131/131 [==============================] - 70s 495ms/step - loss: 43266387968.0000\n",
            "33/33 [==============================] - 6s 154ms/step - loss: 0.5693\n",
            "131/131 [==============================] - 77s 546ms/step - loss: 0.1655\n",
            "33/33 [==============================] - 6s 156ms/step - loss: 0.0941\n",
            "131/131 [==============================] - 70s 496ms/step - loss: nan\n",
            "33/33 [==============================] - 6s 156ms/step - loss: nan\n",
            "131/131 [==============================] - 70s 495ms/step - loss: 0.6075\n",
            "33/33 [==============================] - 6s 153ms/step - loss: 0.1894\n",
            "Epoch 1/5\n",
            "131/131 [==============================] - 70s 496ms/step - loss: nan\n",
            "Epoch 2/5\n",
            "131/131 [==============================] - 65s 497ms/step - loss: nan\n",
            "Epoch 3/5\n",
            "131/131 [==============================] - 65s 496ms/step - loss: nan\n",
            "Epoch 4/5\n",
            "131/131 [==============================] - 65s 495ms/step - loss: nan\n",
            "Epoch 5/5\n",
            "131/131 [==============================] - 65s 494ms/step - loss: nan\n",
            "33/33 [==============================] - 6s 152ms/step - loss: nan\n",
            "Epoch 1/5\n",
            "131/131 [==============================] - 71s 494ms/step - loss: nan\n",
            "Epoch 2/5\n",
            "131/131 [==============================] - 65s 495ms/step - loss: nan\n",
            "Epoch 3/5\n",
            "131/131 [==============================] - 65s 495ms/step - loss: nan\n",
            "Epoch 4/5\n",
            "131/131 [==============================] - 65s 494ms/step - loss: nan\n",
            "Epoch 5/5\n",
            "131/131 [==============================] - 65s 494ms/step - loss: nan\n",
            "33/33 [==============================] - 6s 152ms/step - loss: nan\n",
            "Epoch 1/5\n",
            "131/131 [==============================] - 70s 495ms/step - loss: 5460450304.0000\n",
            "Epoch 2/5\n",
            "131/131 [==============================] - 65s 495ms/step - loss: 0.2804\n",
            "Epoch 3/5\n",
            "131/131 [==============================] - 65s 494ms/step - loss: 0.1656\n",
            "Epoch 4/5\n",
            "131/131 [==============================] - 65s 493ms/step - loss: 0.1359\n",
            "Epoch 5/5\n",
            "131/131 [==============================] - 65s 493ms/step - loss: 0.1219\n",
            "33/33 [==============================] - 6s 152ms/step - loss: 0.0781\n",
            "Epoch 1/5\n",
            "131/131 [==============================] - 70s 492ms/step - loss: 0.1856\n",
            "Epoch 2/5\n",
            "131/131 [==============================] - 65s 494ms/step - loss: 0.1005\n",
            "Epoch 3/5\n",
            "131/131 [==============================] - 65s 493ms/step - loss: 0.0950\n",
            "Epoch 4/5\n",
            "131/131 [==============================] - 65s 493ms/step - loss: 0.0880\n",
            "Epoch 5/5\n",
            "131/131 [==============================] - 65s 492ms/step - loss: 0.0837\n",
            "33/33 [==============================] - 6s 152ms/step - loss: 0.0955\n",
            "Epoch 1/5\n",
            "131/131 [==============================] - 70s 495ms/step - loss: nan\n",
            "Epoch 2/5\n",
            "131/131 [==============================] - 64s 491ms/step - loss: nan\n",
            "Epoch 3/5\n",
            "131/131 [==============================] - 64s 489ms/step - loss: nan\n",
            "Epoch 4/5\n",
            "131/131 [==============================] - 64s 492ms/step - loss: nan\n",
            "Epoch 5/5\n",
            "131/131 [==============================] - 64s 491ms/step - loss: nan\n",
            "33/33 [==============================] - 6s 155ms/step - loss: nan\n",
            "976/976 [==============================] - 263s 264ms/step - loss: 1058.0367\n"
          ]
        }
      ]
    },
    {
      "cell_type": "code",
      "source": [
        "gs.get_params()"
      ],
      "metadata": {
        "colab": {
          "base_uri": "https://localhost:8080/"
        },
        "id": "V4RnxVqK2-bC",
        "outputId": "5694c4b2-21e1-4495-d727-dd97038c4fe8"
      },
      "execution_count": 99,
      "outputs": [
        {
          "output_type": "execute_result",
          "data": {
            "text/plain": [
              "{'cv': None,\n",
              " 'error_score': nan,\n",
              " 'estimator': <keras.wrappers.scikit_learn.KerasRegressor at 0x7f34bb19c850>,\n",
              " 'estimator__batch_size': 32,\n",
              " 'estimator__build_fn': <function __main__.model>,\n",
              " 'estimator__epochs': 50,\n",
              " 'n_jobs': None,\n",
              " 'param_grid': {'batch_size': [8, 16, 32, 48], 'epochs': [1, 5]},\n",
              " 'pre_dispatch': '2*n_jobs',\n",
              " 'refit': True,\n",
              " 'return_train_score': False,\n",
              " 'scoring': None,\n",
              " 'verbose': 0}"
            ]
          },
          "metadata": {},
          "execution_count": 99
        }
      ]
    },
    {
      "cell_type": "code",
      "source": [
        " estimator = KerasRegressor(build_fn=model, epochs=50, batch_size=32)"
      ],
      "metadata": {
        "id": "dL4aIJHZ-LY4"
      },
      "execution_count": 100,
      "outputs": []
    },
    {
      "cell_type": "code",
      "source": [
        "#regressor.evaluate(X_train, y_train, verbose=0, batch_size = 32)\n",
        "gs.score(X_train, y_train)"
      ],
      "metadata": {
        "colab": {
          "base_uri": "https://localhost:8080/"
        },
        "id": "dJ39YYJm6YMR",
        "outputId": "d0d3e2be-ffc7-474d-e4db-5f6267974057"
      },
      "execution_count": 101,
      "outputs": [
        {
          "output_type": "stream",
          "name": "stdout",
          "text": [
            "976/976 [==============================] - 63s 64ms/step - loss: 0.0899\n"
          ]
        },
        {
          "output_type": "execute_result",
          "data": {
            "text/plain": [
              "-0.08993670344352722"
            ]
          },
          "metadata": {},
          "execution_count": 101
        }
      ]
    },
    {
      "cell_type": "code",
      "source": [
        "from sklearn.model_selection import GridSearchCV"
      ],
      "metadata": {
        "id": "hbq9LUP5Mt5T"
      },
      "execution_count": 102,
      "outputs": []
    },
    {
      "cell_type": "code",
      "source": [
        "gs.save('Volatility_VI.h5')"
      ],
      "metadata": {
        "colab": {
          "base_uri": "https://localhost:8080/",
          "height": 172
        },
        "id": "SU5hQOsV-GKo",
        "outputId": "9eb443ff-00a6-4979-b543-3544f8214d85"
      },
      "execution_count": 103,
      "outputs": [
        {
          "output_type": "error",
          "ename": "AttributeError",
          "evalue": "ignored",
          "traceback": [
            "\u001b[0;31m---------------------------------------------------------------------------\u001b[0m",
            "\u001b[0;31mAttributeError\u001b[0m                            Traceback (most recent call last)",
            "\u001b[0;32m<ipython-input-103-5f625edd7535>\u001b[0m in \u001b[0;36m<module>\u001b[0;34m()\u001b[0m\n\u001b[0;32m----> 1\u001b[0;31m \u001b[0mgs\u001b[0m\u001b[0;34m.\u001b[0m\u001b[0msave\u001b[0m\u001b[0;34m(\u001b[0m\u001b[0;34m'Volatility_VI.h5'\u001b[0m\u001b[0;34m)\u001b[0m\u001b[0;34m\u001b[0m\u001b[0;34m\u001b[0m\u001b[0m\n\u001b[0m",
            "\u001b[0;31mAttributeError\u001b[0m: 'GridSearchCV' object has no attribute 'save'"
          ]
        }
      ]
    },
    {
      "cell_type": "code",
      "source": [
        ""
      ],
      "metadata": {
        "id": "PThu8gO4NNGq"
      },
      "execution_count": null,
      "outputs": []
    },
    {
      "cell_type": "code",
      "source": [
        "predicted_vol = gs.predict(X_train)"
      ],
      "metadata": {
        "id": "Sm4aQkV88XBg"
      },
      "execution_count": 104,
      "outputs": []
    },
    {
      "cell_type": "code",
      "source": [
        "p_d = pd.DataFrame(df.iloc[100:, 9:10].values)"
      ],
      "metadata": {
        "id": "ZyYuzIgWOhL6"
      },
      "execution_count": 105,
      "outputs": []
    },
    {
      "cell_type": "code",
      "source": [
        "p_d.head(20)"
      ],
      "metadata": {
        "colab": {
          "base_uri": "https://localhost:8080/",
          "height": 676
        },
        "id": "LnK7zx23OqG-",
        "outputId": "0b19769f-b766-433a-b461-396e07c78ccd"
      },
      "execution_count": 106,
      "outputs": [
        {
          "output_type": "execute_result",
          "data": {
            "text/html": [
              "\n",
              "  <div id=\"df-8b029a33-375e-4cc4-9eaa-76f6b4fdf047\">\n",
              "    <div class=\"colab-df-container\">\n",
              "      <div>\n",
              "<style scoped>\n",
              "    .dataframe tbody tr th:only-of-type {\n",
              "        vertical-align: middle;\n",
              "    }\n",
              "\n",
              "    .dataframe tbody tr th {\n",
              "        vertical-align: top;\n",
              "    }\n",
              "\n",
              "    .dataframe thead th {\n",
              "        text-align: right;\n",
              "    }\n",
              "</style>\n",
              "<table border=\"1\" class=\"dataframe\">\n",
              "  <thead>\n",
              "    <tr style=\"text-align: right;\">\n",
              "      <th></th>\n",
              "      <th>0</th>\n",
              "    </tr>\n",
              "  </thead>\n",
              "  <tbody>\n",
              "    <tr>\n",
              "      <th>0</th>\n",
              "      <td>1.283156</td>\n",
              "    </tr>\n",
              "    <tr>\n",
              "      <th>1</th>\n",
              "      <td>1.255701</td>\n",
              "    </tr>\n",
              "    <tr>\n",
              "      <th>2</th>\n",
              "      <td>1.259477</td>\n",
              "    </tr>\n",
              "    <tr>\n",
              "      <th>3</th>\n",
              "      <td>0.724509</td>\n",
              "    </tr>\n",
              "    <tr>\n",
              "      <th>4</th>\n",
              "      <td>1.262567</td>\n",
              "    </tr>\n",
              "    <tr>\n",
              "      <th>5</th>\n",
              "      <td>0.881149</td>\n",
              "    </tr>\n",
              "    <tr>\n",
              "      <th>6</th>\n",
              "      <td>1.893820</td>\n",
              "    </tr>\n",
              "    <tr>\n",
              "      <th>7</th>\n",
              "      <td>1.712935</td>\n",
              "    </tr>\n",
              "    <tr>\n",
              "      <th>8</th>\n",
              "      <td>0.600804</td>\n",
              "    </tr>\n",
              "    <tr>\n",
              "      <th>9</th>\n",
              "      <td>0.751765</td>\n",
              "    </tr>\n",
              "    <tr>\n",
              "      <th>10</th>\n",
              "      <td>1.230687</td>\n",
              "    </tr>\n",
              "    <tr>\n",
              "      <th>11</th>\n",
              "      <td>1.231164</td>\n",
              "    </tr>\n",
              "    <tr>\n",
              "      <th>12</th>\n",
              "      <td>1.211033</td>\n",
              "    </tr>\n",
              "    <tr>\n",
              "      <th>13</th>\n",
              "      <td>1.264648</td>\n",
              "    </tr>\n",
              "    <tr>\n",
              "      <th>14</th>\n",
              "      <td>1.240121</td>\n",
              "    </tr>\n",
              "    <tr>\n",
              "      <th>15</th>\n",
              "      <td>1.336136</td>\n",
              "    </tr>\n",
              "    <tr>\n",
              "      <th>16</th>\n",
              "      <td>1.801851</td>\n",
              "    </tr>\n",
              "    <tr>\n",
              "      <th>17</th>\n",
              "      <td>1.806101</td>\n",
              "    </tr>\n",
              "    <tr>\n",
              "      <th>18</th>\n",
              "      <td>1.822984</td>\n",
              "    </tr>\n",
              "    <tr>\n",
              "      <th>19</th>\n",
              "      <td>1.819161</td>\n",
              "    </tr>\n",
              "  </tbody>\n",
              "</table>\n",
              "</div>\n",
              "      <button class=\"colab-df-convert\" onclick=\"convertToInteractive('df-8b029a33-375e-4cc4-9eaa-76f6b4fdf047')\"\n",
              "              title=\"Convert this dataframe to an interactive table.\"\n",
              "              style=\"display:none;\">\n",
              "        \n",
              "  <svg xmlns=\"http://www.w3.org/2000/svg\" height=\"24px\"viewBox=\"0 0 24 24\"\n",
              "       width=\"24px\">\n",
              "    <path d=\"M0 0h24v24H0V0z\" fill=\"none\"/>\n",
              "    <path d=\"M18.56 5.44l.94 2.06.94-2.06 2.06-.94-2.06-.94-.94-2.06-.94 2.06-2.06.94zm-11 1L8.5 8.5l.94-2.06 2.06-.94-2.06-.94L8.5 2.5l-.94 2.06-2.06.94zm10 10l.94 2.06.94-2.06 2.06-.94-2.06-.94-.94-2.06-.94 2.06-2.06.94z\"/><path d=\"M17.41 7.96l-1.37-1.37c-.4-.4-.92-.59-1.43-.59-.52 0-1.04.2-1.43.59L10.3 9.45l-7.72 7.72c-.78.78-.78 2.05 0 2.83L4 21.41c.39.39.9.59 1.41.59.51 0 1.02-.2 1.41-.59l7.78-7.78 2.81-2.81c.8-.78.8-2.07 0-2.86zM5.41 20L4 18.59l7.72-7.72 1.47 1.35L5.41 20z\"/>\n",
              "  </svg>\n",
              "      </button>\n",
              "      \n",
              "  <style>\n",
              "    .colab-df-container {\n",
              "      display:flex;\n",
              "      flex-wrap:wrap;\n",
              "      gap: 12px;\n",
              "    }\n",
              "\n",
              "    .colab-df-convert {\n",
              "      background-color: #E8F0FE;\n",
              "      border: none;\n",
              "      border-radius: 50%;\n",
              "      cursor: pointer;\n",
              "      display: none;\n",
              "      fill: #1967D2;\n",
              "      height: 32px;\n",
              "      padding: 0 0 0 0;\n",
              "      width: 32px;\n",
              "    }\n",
              "\n",
              "    .colab-df-convert:hover {\n",
              "      background-color: #E2EBFA;\n",
              "      box-shadow: 0px 1px 2px rgba(60, 64, 67, 0.3), 0px 1px 3px 1px rgba(60, 64, 67, 0.15);\n",
              "      fill: #174EA6;\n",
              "    }\n",
              "\n",
              "    [theme=dark] .colab-df-convert {\n",
              "      background-color: #3B4455;\n",
              "      fill: #D2E3FC;\n",
              "    }\n",
              "\n",
              "    [theme=dark] .colab-df-convert:hover {\n",
              "      background-color: #434B5C;\n",
              "      box-shadow: 0px 1px 3px 1px rgba(0, 0, 0, 0.15);\n",
              "      filter: drop-shadow(0px 1px 2px rgba(0, 0, 0, 0.3));\n",
              "      fill: #FFFFFF;\n",
              "    }\n",
              "  </style>\n",
              "\n",
              "      <script>\n",
              "        const buttonEl =\n",
              "          document.querySelector('#df-8b029a33-375e-4cc4-9eaa-76f6b4fdf047 button.colab-df-convert');\n",
              "        buttonEl.style.display =\n",
              "          google.colab.kernel.accessAllowed ? 'block' : 'none';\n",
              "\n",
              "        async function convertToInteractive(key) {\n",
              "          const element = document.querySelector('#df-8b029a33-375e-4cc4-9eaa-76f6b4fdf047');\n",
              "          const dataTable =\n",
              "            await google.colab.kernel.invokeFunction('convertToInteractive',\n",
              "                                                     [key], {});\n",
              "          if (!dataTable) return;\n",
              "\n",
              "          const docLinkHtml = 'Like what you see? Visit the ' +\n",
              "            '<a target=\"_blank\" href=https://colab.research.google.com/notebooks/data_table.ipynb>data table notebook</a>'\n",
              "            + ' to learn more about interactive tables.';\n",
              "          element.innerHTML = '';\n",
              "          dataTable['output_type'] = 'display_data';\n",
              "          await google.colab.output.renderOutput(dataTable, element);\n",
              "          const docLink = document.createElement('div');\n",
              "          docLink.innerHTML = docLinkHtml;\n",
              "          element.appendChild(docLink);\n",
              "        }\n",
              "      </script>\n",
              "    </div>\n",
              "  </div>\n",
              "  "
            ],
            "text/plain": [
              "           0\n",
              "0   1.283156\n",
              "1   1.255701\n",
              "2   1.259477\n",
              "3   0.724509\n",
              "4   1.262567\n",
              "5   0.881149\n",
              "6   1.893820\n",
              "7   1.712935\n",
              "8   0.600804\n",
              "9   0.751765\n",
              "10  1.230687\n",
              "11  1.231164\n",
              "12  1.211033\n",
              "13  1.264648\n",
              "14  1.240121\n",
              "15  1.336136\n",
              "16  1.801851\n",
              "17  1.806101\n",
              "18  1.822984\n",
              "19  1.819161"
            ]
          },
          "metadata": {},
          "execution_count": 106
        }
      ]
    },
    {
      "cell_type": "code",
      "source": [
        "p_d.to_excel('lst_a.xlsx') #print actual value"
      ],
      "metadata": {
        "id": "OKqKF1s3O0sd"
      },
      "execution_count": 107,
      "outputs": []
    },
    {
      "cell_type": "code",
      "source": [
        "p_d_2=pd.DataFrame(predicted_vol)"
      ],
      "metadata": {
        "id": "TXOp4x75O9ES"
      },
      "execution_count": 108,
      "outputs": []
    },
    {
      "cell_type": "code",
      "source": [
        "p_d_2.to_excel('lst_p.xlsx') # print predicted value"
      ],
      "metadata": {
        "id": "Wm1lD-7YPD7Y"
      },
      "execution_count": 109,
      "outputs": []
    },
    {
      "cell_type": "code",
      "source": [
        "plt.scatter(p_d, p_d_2)"
      ],
      "metadata": {
        "colab": {
          "base_uri": "https://localhost:8080/",
          "height": 283
        },
        "id": "2tU2rOkzPNr0",
        "outputId": "85d32be8-2265-45f3-85b6-193884f1ed18"
      },
      "execution_count": 110,
      "outputs": [
        {
          "output_type": "execute_result",
          "data": {
            "text/plain": [
              "<matplotlib.collections.PathCollection at 0x7f34b8354b50>"
            ]
          },
          "metadata": {},
          "execution_count": 110
        },
        {
          "output_type": "display_data",
          "data": {
            "image/png": "[encoded data removed]",
            "text/plain": [
              "<Figure size 432x288 with 1 Axes>"
            ]
          },
          "metadata": {
            "needs_background": "light"
          }
        }
      ]
    },
    {
      "cell_type": "code",
      "source": [
        "#Visualising the results\n",
        "plt.figure(figsize=(16,6))\n",
        "plt.plot(df.iloc[100:, 9:10].values, color = 'red', label = 'Volatility Observed')\n",
        "plt.plot(predicted_vol, color = 'green', label = 'LSTM Predicted Volatility')\n",
        "plt.title('Volatility Real Rolling vs LSTM Forecast')\n",
        "plt.xlabel('Time')\n",
        "plt.ylabel('Volatility')\n",
        "plt.legend()\n",
        "plt.show()"
      ],
      "metadata": {
        "colab": {
          "base_uri": "https://localhost:8080/",
          "height": 393
        },
        "id": "WzxcRmsMPTh9",
        "outputId": "0747df96-578e-4d50-f70c-4e669b581793"
      },
      "execution_count": 111,
      "outputs": [
        {
          "output_type": "display_data",
          "data": {
            "image/png": "[encoded data removed]",
            "text/plain": [
              "<Figure size 1152x432 with 1 Axes>"
            ]
          },
          "metadata": {
            "needs_background": "light"
          }
        }
      ]
    },
    {
      "cell_type": "code",
      "source": [
        "gs.score(X_train, y_train)"
      ],
      "metadata": {
        "colab": {
          "base_uri": "https://localhost:8080/"
        },
        "id": "I-tSqSQvSDAU",
        "outputId": "984190fe-556d-4312-e997-18e4a6cbf663"
      },
      "execution_count": 112,
      "outputs": [
        {
          "output_type": "stream",
          "name": "stdout",
          "text": [
            "976/976 [==============================] - 66s 67ms/step - loss: 0.0899\n"
          ]
        },
        {
          "output_type": "execute_result",
          "data": {
            "text/plain": [
              "-0.08993670344352722"
            ]
          },
          "metadata": {},
          "execution_count": 112
        }
      ]
    },
    {
      "cell_type": "code",
      "source": [
        "gs.score(df.iloc[100:, 9:10], predicted_vol)\n"
      ],
      "metadata": {
        "colab": {
          "base_uri": "https://localhost:8080/"
        },
        "id": "OFvKpSrfSSYy",
        "outputId": "57904cbd-4268-48ad-b72a-270880d197d4"
      },
      "execution_count": 113,
      "outputs": [
        {
          "output_type": "stream",
          "name": "stdout",
          "text": [
            "WARNING:tensorflow:Model was constructed with shape (None, 100, 1) for input KerasTensor(type_spec=TensorSpec(shape=(None, 100, 1), dtype=tf.float32, name='lstm_593_input'), name='lstm_593_input', description=\"created by layer 'lstm_593_input'\"), but it was called on an input with incompatible shape (None, 1, 1).\n",
            "976/976 [==============================] - 4s 3ms/step - loss: 1.0880\n"
          ]
        },
        {
          "output_type": "execute_result",
          "data": {
            "text/plain": [
              "-1.0879936218261719"
            ]
          },
          "metadata": {},
          "execution_count": 113
        }
      ]
    },
    {
      "cell_type": "code",
      "source": [
        "print('RMSE calculated for LSTM model:', np.sqrt(metrics.mean_squared_error(df.iloc[100:, 9:10].values, predicted_vol)))"
      ],
      "metadata": {
        "colab": {
          "base_uri": "https://localhost:8080/"
        },
        "id": "H7V0HfLgS7Ug",
        "outputId": "088e45c7-c074-435e-c2af-1ab3675bd292"
      },
      "execution_count": 114,
      "outputs": [
        {
          "output_type": "stream",
          "name": "stdout",
          "text": [
            "RMSE calculated for LSTM model: 0.29989446396821595\n"
          ]
        }
      ]
    },
    {
      "cell_type": "code",
      "source": [
        "print('MAE calculated for LSTM model:', MAE(df.iloc[100:,9:10].values, predicted_vol))"
      ],
      "metadata": {
        "colab": {
          "base_uri": "https://localhost:8080/"
        },
        "id": "534C1tTTUGDK",
        "outputId": "4c64c2cc-d856-4902-b623-a2fc7cf249fc"
      },
      "execution_count": 115,
      "outputs": [
        {
          "output_type": "stream",
          "name": "stdout",
          "text": [
            "MAE calculated for LSTM model: 0.21927192304598564\n"
          ]
        }
      ]
    },
    {
      "cell_type": "code",
      "source": [
        "print('MAPE calculated for LSTM model:', mean_absolute_percentage_error(df.iloc[100:, 9:10], predicted_vol))"
      ],
      "metadata": {
        "colab": {
          "base_uri": "https://localhost:8080/"
        },
        "id": "BHkZXqyoUUJh",
        "outputId": "cfe9c329-e1d3-473d-cf0c-2da67cce0ab9"
      },
      "execution_count": 116,
      "outputs": [
        {
          "output_type": "stream",
          "name": "stdout",
          "text": [
            "MAPE calculated for LSTM model: 0.23348955608823735\n"
          ]
        }
      ]
    }
  ]
}